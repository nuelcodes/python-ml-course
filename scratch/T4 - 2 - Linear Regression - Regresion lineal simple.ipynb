{
 "cells": [
  {
   "cell_type": "markdown",
   "metadata": {},
   "source": [
    "# Regresión lineal simple en Python\n",
    "\n",
    "## El paquete statsmodel para regresión lineal"
   ]
  },
  {
   "cell_type": "code",
   "execution_count": 1,
   "metadata": {},
   "outputs": [],
   "source": [
    "import pandas as pd\n",
    "import numpy as np"
   ]
  },
  {
   "cell_type": "code",
   "execution_count": 2,
   "metadata": {},
   "outputs": [],
   "source": [
    "data = pd.read_csv(\"/Users/nuelcodes/Data-Science-Python/datasets/ads/Advertising.csv\")"
   ]
  },
  {
   "cell_type": "code",
   "execution_count": 3,
   "metadata": {},
   "outputs": [
    {
     "output_type": "execute_result",
     "data": {
      "text/plain": "      TV  Radio  Newspaper  Sales\n0  230.1   37.8       69.2   22.1\n1   44.5   39.3       45.1   10.4\n2   17.2   45.9       69.3    9.3\n3  151.5   41.3       58.5   18.5\n4  180.8   10.8       58.4   12.9",
      "text/html": "<div>\n<style scoped>\n    .dataframe tbody tr th:only-of-type {\n        vertical-align: middle;\n    }\n\n    .dataframe tbody tr th {\n        vertical-align: top;\n    }\n\n    .dataframe thead th {\n        text-align: right;\n    }\n</style>\n<table border=\"1\" class=\"dataframe\">\n  <thead>\n    <tr style=\"text-align: right;\">\n      <th></th>\n      <th>TV</th>\n      <th>Radio</th>\n      <th>Newspaper</th>\n      <th>Sales</th>\n    </tr>\n  </thead>\n  <tbody>\n    <tr>\n      <td>0</td>\n      <td>230.1</td>\n      <td>37.8</td>\n      <td>69.2</td>\n      <td>22.1</td>\n    </tr>\n    <tr>\n      <td>1</td>\n      <td>44.5</td>\n      <td>39.3</td>\n      <td>45.1</td>\n      <td>10.4</td>\n    </tr>\n    <tr>\n      <td>2</td>\n      <td>17.2</td>\n      <td>45.9</td>\n      <td>69.3</td>\n      <td>9.3</td>\n    </tr>\n    <tr>\n      <td>3</td>\n      <td>151.5</td>\n      <td>41.3</td>\n      <td>58.5</td>\n      <td>18.5</td>\n    </tr>\n    <tr>\n      <td>4</td>\n      <td>180.8</td>\n      <td>10.8</td>\n      <td>58.4</td>\n      <td>12.9</td>\n    </tr>\n  </tbody>\n</table>\n</div>"
     },
     "metadata": {},
     "execution_count": 3
    }
   ],
   "source": [
    "data.head()"
   ]
  },
  {
   "cell_type": "code",
   "execution_count": 4,
   "metadata": {},
   "outputs": [],
   "source": [
    "import statsmodels.formula.api as smf"
   ]
  },
  {
   "cell_type": "code",
   "execution_count": 5,
   "metadata": {},
   "outputs": [],
   "source": [
    "  lm = smf.ols(formula = \"Sales~TV\", data = data).fit()"
   ]
  },
  {
   "cell_type": "code",
   "execution_count": 6,
   "metadata": {},
   "outputs": [
    {
     "output_type": "execute_result",
     "data": {
      "text/plain": "Intercept    7.032594\nTV           0.047537\ndtype: float64"
     },
     "metadata": {},
     "execution_count": 6
    }
   ],
   "source": [
    "lm.params"
   ]
  },
  {
   "cell_type": "markdown",
   "metadata": {},
   "source": [
    "El modelo lineal predictivo sería Sales = 7.032594 + 0.047537 * TV"
   ]
  },
  {
   "cell_type": "code",
   "execution_count": 7,
   "metadata": {},
   "outputs": [
    {
     "output_type": "execute_result",
     "data": {
      "text/plain": "Intercept    1.406300e-35\nTV           1.467390e-42\ndtype: float64"
     },
     "metadata": {},
     "execution_count": 7
    }
   ],
   "source": [
    "lm.pvalues"
   ]
  },
  {
   "cell_type": "code",
   "execution_count": 8,
   "metadata": {},
   "outputs": [
    {
     "output_type": "execute_result",
     "data": {
      "text/plain": "0.611875050850071"
     },
     "metadata": {},
     "execution_count": 8
    }
   ],
   "source": [
    "lm.rsquared"
   ]
  },
  {
   "cell_type": "code",
   "execution_count": 9,
   "metadata": {},
   "outputs": [
    {
     "output_type": "execute_result",
     "data": {
      "text/plain": "0.6099148238341623"
     },
     "metadata": {},
     "execution_count": 9
    }
   ],
   "source": [
    "lm.rsquared_adj"
   ]
  },
  {
   "cell_type": "code",
   "execution_count": 10,
   "metadata": {},
   "outputs": [
    {
     "output_type": "execute_result",
     "data": {
      "text/plain": "<class 'statsmodels.iolib.summary.Summary'>\n\"\"\"\n                            OLS Regression Results                            \n==============================================================================\nDep. Variable:                  Sales   R-squared:                       0.612\nModel:                            OLS   Adj. R-squared:                  0.610\nMethod:                 Least Squares   F-statistic:                     312.1\nDate:                Sat, 20 Jun 2020   Prob (F-statistic):           1.47e-42\nTime:                        05:23:44   Log-Likelihood:                -519.05\nNo. Observations:                 200   AIC:                             1042.\nDf Residuals:                     198   BIC:                             1049.\nDf Model:                           1                                         \nCovariance Type:            nonrobust                                         \n==============================================================================\n                 coef    std err          t      P>|t|      [0.025      0.975]\n------------------------------------------------------------------------------\nIntercept      7.0326      0.458     15.360      0.000       6.130       7.935\nTV             0.0475      0.003     17.668      0.000       0.042       0.053\n==============================================================================\nOmnibus:                        0.531   Durbin-Watson:                   1.935\nProb(Omnibus):                  0.767   Jarque-Bera (JB):                0.669\nSkew:                          -0.089   Prob(JB):                        0.716\nKurtosis:                       2.779   Cond. No.                         338.\n==============================================================================\n\nWarnings:\n[1] Standard Errors assume that the covariance matrix of the errors is correctly specified.\n\"\"\"",
      "text/html": "<table class=\"simpletable\">\n<caption>OLS Regression Results</caption>\n<tr>\n  <th>Dep. Variable:</th>          <td>Sales</td>      <th>  R-squared:         </th> <td>   0.612</td>\n</tr>\n<tr>\n  <th>Model:</th>                   <td>OLS</td>       <th>  Adj. R-squared:    </th> <td>   0.610</td>\n</tr>\n<tr>\n  <th>Method:</th>             <td>Least Squares</td>  <th>  F-statistic:       </th> <td>   312.1</td>\n</tr>\n<tr>\n  <th>Date:</th>             <td>Sat, 20 Jun 2020</td> <th>  Prob (F-statistic):</th> <td>1.47e-42</td>\n</tr>\n<tr>\n  <th>Time:</th>                 <td>05:23:44</td>     <th>  Log-Likelihood:    </th> <td> -519.05</td>\n</tr>\n<tr>\n  <th>No. Observations:</th>      <td>   200</td>      <th>  AIC:               </th> <td>   1042.</td>\n</tr>\n<tr>\n  <th>Df Residuals:</th>          <td>   198</td>      <th>  BIC:               </th> <td>   1049.</td>\n</tr>\n<tr>\n  <th>Df Model:</th>              <td>     1</td>      <th>                     </th>     <td> </td>   \n</tr>\n<tr>\n  <th>Covariance Type:</th>      <td>nonrobust</td>    <th>                     </th>     <td> </td>   \n</tr>\n</table>\n<table class=\"simpletable\">\n<tr>\n      <td></td>         <th>coef</th>     <th>std err</th>      <th>t</th>      <th>P>|t|</th>  <th>[0.025</th>    <th>0.975]</th>  \n</tr>\n<tr>\n  <th>Intercept</th> <td>    7.0326</td> <td>    0.458</td> <td>   15.360</td> <td> 0.000</td> <td>    6.130</td> <td>    7.935</td>\n</tr>\n<tr>\n  <th>TV</th>        <td>    0.0475</td> <td>    0.003</td> <td>   17.668</td> <td> 0.000</td> <td>    0.042</td> <td>    0.053</td>\n</tr>\n</table>\n<table class=\"simpletable\">\n<tr>\n  <th>Omnibus:</th>       <td> 0.531</td> <th>  Durbin-Watson:     </th> <td>   1.935</td>\n</tr>\n<tr>\n  <th>Prob(Omnibus):</th> <td> 0.767</td> <th>  Jarque-Bera (JB):  </th> <td>   0.669</td>\n</tr>\n<tr>\n  <th>Skew:</th>          <td>-0.089</td> <th>  Prob(JB):          </th> <td>   0.716</td>\n</tr>\n<tr>\n  <th>Kurtosis:</th>      <td> 2.779</td> <th>  Cond. No.          </th> <td>    338.</td>\n</tr>\n</table><br/><br/>Warnings:<br/>[1] Standard Errors assume that the covariance matrix of the errors is correctly specified."
     },
     "metadata": {},
     "execution_count": 10
    }
   ],
   "source": [
    "lm.summary()"
   ]
  },
  {
   "cell_type": "code",
   "execution_count": 11,
   "metadata": {},
   "outputs": [
    {
     "output_type": "execute_result",
     "data": {
      "text/plain": "0      17.970775\n1       9.147974\n2       7.850224\n3      14.234395\n4      15.627218\n         ...    \n195     8.848493\n196    11.510545\n197    15.446579\n198    20.513985\n199    18.065848\nLength: 200, dtype: float64"
     },
     "metadata": {},
     "execution_count": 11
    }
   ],
   "source": [
    "sales_pred = lm.predict(pd.DataFrame(data[\"TV\"]))\n",
    "sales_pred"
   ]
  },
  {
   "cell_type": "code",
   "execution_count": 12,
   "metadata": {},
   "outputs": [],
   "source": [
    "import matplotlib.pyplot as plt"
   ]
  },
  {
   "cell_type": "code",
   "execution_count": 13,
   "metadata": {},
   "outputs": [
    {
     "output_type": "execute_result",
     "data": {
      "text/plain": "[<matplotlib.lines.Line2D at 0x2965ebe8808>]"
     },
     "metadata": {},
     "execution_count": 13
    },
    {
     "output_type": "display_data",
     "data": {
      "text/plain": "<Figure size 432x288 with 1 Axes>",
      "image/svg+xml": "<?xml version=\"1.0\" encoding=\"utf-8\" standalone=\"no\"?>\r\n<!DOCTYPE svg PUBLIC \"-//W3C//DTD SVG 1.1//EN\"\r\n  \"http://www.w3.org/Graphics/SVG/1.1/DTD/svg11.dtd\">\r\n<!-- Created with matplotlib (https://matplotlib.org/) -->\r\n<svg height=\"262.19625pt\" version=\"1.1\" viewBox=\"0 0 382.603125 262.19625\" width=\"382.603125pt\" xmlns=\"http://www.w3.org/2000/svg\" xmlns:xlink=\"http://www.w3.org/1999/xlink\">\r\n <defs>\r\n  <style type=\"text/css\">\r\n*{stroke-linecap:butt;stroke-linejoin:round;}\r\n  </style>\r\n </defs>\r\n <g id=\"figure_1\">\r\n  <g id=\"patch_1\">\r\n   <path d=\"M 0 262.19625 \r\nL 382.603125 262.19625 \r\nL 382.603125 0 \r\nL 0 0 \r\nz\r\n\" style=\"fill:none;\"/>\r\n  </g>\r\n  <g id=\"axes_1\">\r\n   <g id=\"patch_2\">\r\n    <path d=\"M 40.603125 224.64 \r\nL 375.403125 224.64 \r\nL 375.403125 7.2 \r\nL 40.603125 7.2 \r\nz\r\n\" style=\"fill:#ffffff;\"/>\r\n   </g>\r\n   <g id=\"PathCollection_1\">\r\n    <defs>\r\n     <path d=\"M 0 2.236068 \r\nC 0.593012 2.236068 1.161816 2.000462 1.581139 1.581139 \r\nC 2.000462 1.161816 2.236068 0.593012 2.236068 0 \r\nC 2.236068 -0.593012 2.000462 -1.161816 1.581139 -1.581139 \r\nC 1.161816 -2.000462 0.593012 -2.236068 0 -2.236068 \r\nC -0.593012 -2.236068 -1.161816 -2.000462 -1.581139 -1.581139 \r\nC -2.000462 -1.161816 -2.236068 -0.593012 -2.236068 0 \r\nC -2.236068 0.593012 -2.000462 1.161816 -1.581139 1.581139 \r\nC -1.161816 2.000462 -0.593012 2.236068 0 2.236068 \r\nz\r\n\" id=\"m12a8000ffa\" style=\"stroke:#1f77b4;\"/>\r\n    </defs>\r\n    <g clip-path=\"url(#pa191b2eacb)\">\r\n     <use style=\"fill:#1f77b4;stroke:#1f77b4;\" x=\"291.938645\" xlink:href=\"#m12a8000ffa\" y=\"55.266465\"/>\r\n     <use style=\"fill:#1f77b4;stroke:#1f77b4;\" x=\"100.909429\" xlink:href=\"#m12a8000ffa\" y=\"146.246768\"/>\r\n     <use style=\"fill:#1f77b4;stroke:#1f77b4;\" x=\"72.810843\" xlink:href=\"#m12a8000ffa\" y=\"154.800471\"/>\r\n     <use style=\"fill:#1f77b4;stroke:#1f77b4;\" x=\"211.039419\" xlink:href=\"#m12a8000ffa\" y=\"83.260404\"/>\r\n     <use style=\"fill:#1f77b4;stroke:#1f77b4;\" x=\"241.19651\" xlink:href=\"#m12a8000ffa\" y=\"126.806532\"/>\r\n     <use style=\"fill:#1f77b4;stroke:#1f77b4;\" x=\"64.062199\" xlink:href=\"#m12a8000ffa\" y=\"171.130269\"/>\r\n     <use style=\"fill:#1f77b4;stroke:#1f77b4;\" x=\"114.289708\" xlink:href=\"#m12a8000ffa\" y=\"135.360236\"/>\r\n     <use style=\"fill:#1f77b4;stroke:#1f77b4;\" x=\"178.823824\" xlink:href=\"#m12a8000ffa\" y=\"124.473704\"/>\r\n     <use style=\"fill:#1f77b4;stroke:#1f77b4;\" x=\"63.959274\" xlink:href=\"#m12a8000ffa\" y=\"189.792896\"/>\r\n     <use style=\"fill:#1f77b4;stroke:#1f77b4;\" x=\"260.752302\" xlink:href=\"#m12a8000ffa\" y=\"144.691549\"/>\r\n     <use style=\"fill:#1f77b4;stroke:#1f77b4;\" x=\"123.141278\" xlink:href=\"#m12a8000ffa\" y=\"160.243737\"/>\r\n     <use style=\"fill:#1f77b4;stroke:#1f77b4;\" x=\"276.088161\" xlink:href=\"#m12a8000ffa\" y=\"91.814108\"/>\r\n     <use style=\"fill:#1f77b4;stroke:#1f77b4;\" x=\"79.603908\" xlink:href=\"#m12a8000ffa\" y=\"155.578081\"/>\r\n     <use style=\"fill:#1f77b4;stroke:#1f77b4;\" x=\"155.459798\" xlink:href=\"#m12a8000ffa\" y=\"151.690034\"/>\r\n     <use style=\"fill:#1f77b4;stroke:#1f77b4;\" x=\"265.178087\" xlink:href=\"#m12a8000ffa\" y=\"79.372357\"/>\r\n     <use style=\"fill:#1f77b4;stroke:#1f77b4;\" x=\"256.223593\" xlink:href=\"#m12a8000ffa\" y=\"52.933636\"/>\r\n     <use style=\"fill:#1f77b4;stroke:#1f77b4;\" x=\"124.891006\" xlink:href=\"#m12a8000ffa\" y=\"129.91697\"/>\r\n     <use style=\"fill:#1f77b4;stroke:#1f77b4;\" x=\"344.739285\" xlink:href=\"#m12a8000ffa\" y=\"37.381448\"/>\r\n     <use style=\"fill:#1f77b4;stroke:#1f77b4;\" x=\"126.33196\" xlink:href=\"#m12a8000ffa\" y=\"139.248283\"/>\r\n     <use style=\"fill:#1f77b4;stroke:#1f77b4;\" x=\"206.71656\" xlink:href=\"#m12a8000ffa\" y=\"113.587172\"/>\r\n     <use style=\"fill:#1f77b4;stroke:#1f77b4;\" x=\"279.896394\" xlink:href=\"#m12a8000ffa\" y=\"87.148451\"/>\r\n     <use style=\"fill:#1f77b4;stroke:#1f77b4;\" x=\"299.452187\" xlink:href=\"#m12a8000ffa\" y=\"129.91697\"/>\r\n     <use style=\"fill:#1f77b4;stroke:#1f77b4;\" x=\"68.693834\" xlink:href=\"#m12a8000ffa\" y=\"183.57202\"/>\r\n     <use style=\"fill:#1f77b4;stroke:#1f77b4;\" x=\"290.085991\" xlink:href=\"#m12a8000ffa\" y=\"106.588687\"/>\r\n     <use style=\"fill:#1f77b4;stroke:#1f77b4;\" x=\"119.230119\" xlink:href=\"#m12a8000ffa\" y=\"151.690034\"/>\r\n     <use style=\"fill:#1f77b4;stroke:#1f77b4;\" x=\"325.698119\" xlink:href=\"#m12a8000ffa\" y=\"133.805017\"/>\r\n     <use style=\"fill:#1f77b4;stroke:#1f77b4;\" x=\"202.18785\" xlink:href=\"#m12a8000ffa\" y=\"110.476734\"/>\r\n     <use style=\"fill:#1f77b4;stroke:#1f77b4;\" x=\"302.231168\" xlink:href=\"#m12a8000ffa\" y=\"103.478249\"/>\r\n     <use style=\"fill:#1f77b4;stroke:#1f77b4;\" x=\"311.185662\" xlink:href=\"#m12a8000ffa\" y=\"80.149966\"/>\r\n     <use style=\"fill:#1f77b4;stroke:#1f77b4;\" x=\"127.772913\" xlink:href=\"#m12a8000ffa\" y=\"145.469158\"/>\r\n     <use style=\"fill:#1f77b4;stroke:#1f77b4;\" x=\"356.575686\" xlink:href=\"#m12a8000ffa\" y=\"60.709731\"/>\r\n     <use style=\"fill:#1f77b4;stroke:#1f77b4;\" x=\"171.310283\" xlink:href=\"#m12a8000ffa\" y=\"134.582626\"/>\r\n     <use style=\"fill:#1f77b4;stroke:#1f77b4;\" x=\"155.151022\" xlink:href=\"#m12a8000ffa\" y=\"152.467643\"/>\r\n     <use style=\"fill:#1f77b4;stroke:#1f77b4;\" x=\"328.4771\" xlink:href=\"#m12a8000ffa\" y=\"91.814108\"/>\r\n     <use style=\"fill:#1f77b4;stroke:#1f77b4;\" x=\"153.607144\" xlink:href=\"#m12a8000ffa\" y=\"153.245253\"/>\r\n     <use style=\"fill:#1f77b4;stroke:#1f77b4;\" x=\"354.311331\" xlink:href=\"#m12a8000ffa\" y=\"127.584141\"/>\r\n     <use style=\"fill:#1f77b4;stroke:#1f77b4;\" x=\"329.815128\" xlink:href=\"#m12a8000ffa\" y=\"29.605354\"/>\r\n     <use style=\"fill:#1f77b4;stroke:#1f77b4;\" x=\"131.992847\" xlink:href=\"#m12a8000ffa\" y=\"112.809562\"/>\r\n     <use style=\"fill:#1f77b4;stroke:#1f77b4;\" x=\"99.468476\" xlink:href=\"#m12a8000ffa\" y=\"148.579596\"/>\r\n     <use style=\"fill:#1f77b4;stroke:#1f77b4;\" x=\"289.777216\" xlink:href=\"#m12a8000ffa\" y=\"59.932121\"/>\r\n     <use style=\"fill:#1f77b4;stroke:#1f77b4;\" x=\"263.531283\" xlink:href=\"#m12a8000ffa\" y=\"98.034983\"/>\r\n     <use style=\"fill:#1f77b4;stroke:#1f77b4;\" x=\"237.285351\" xlink:href=\"#m12a8000ffa\" y=\"94.146936\"/>\r\n     <use style=\"fill:#1f77b4;stroke:#1f77b4;\" x=\"357.296163\" xlink:href=\"#m12a8000ffa\" y=\"66.152997\"/>\r\n     <use style=\"fill:#1f77b4;stroke:#1f77b4;\" x=\"268.059993\" xlink:href=\"#m12a8000ffa\" y=\"126.806532\"/>\r\n     <use style=\"fill:#1f77b4;stroke:#1f77b4;\" x=\"80.941936\" xlink:href=\"#m12a8000ffa\" y=\"161.021347\"/>\r\n     <use style=\"fill:#1f77b4;stroke:#1f77b4;\" x=\"235.329772\" xlink:href=\"#m12a8000ffa\" y=\"111.254343\"/>\r\n     <use style=\"fill:#1f77b4;stroke:#1f77b4;\" x=\"147.431631\" xlink:href=\"#m12a8000ffa\" y=\"144.691549\"/>\r\n     <use style=\"fill:#1f77b4;stroke:#1f77b4;\" x=\"302.025317\" xlink:href=\"#m12a8000ffa\" y=\"46.712761\"/>\r\n     <use style=\"fill:#1f77b4;stroke:#1f77b4;\" x=\"288.953814\" xlink:href=\"#m12a8000ffa\" y=\"112.031953\"/>\r\n     <use style=\"fill:#1f77b4;stroke:#1f77b4;\" x=\"123.964679\" xlink:href=\"#m12a8000ffa\" y=\"151.690034\"/>\r\n     <use style=\"fill:#1f77b4;stroke:#1f77b4;\" x=\"260.752302\" xlink:href=\"#m12a8000ffa\" y=\"138.470673\"/>\r\n     <use style=\"fill:#1f77b4;stroke:#1f77b4;\" x=\"158.44463\" xlink:href=\"#m12a8000ffa\" y=\"143.913939\"/>\r\n     <use style=\"fill:#1f77b4;stroke:#1f77b4;\" x=\"277.83789\" xlink:href=\"#m12a8000ffa\" y=\"51.378417\"/>\r\n     <use style=\"fill:#1f77b4;stroke:#1f77b4;\" x=\"243.049164\" xlink:href=\"#m12a8000ffa\" y=\"62.264949\"/>\r\n     <use style=\"fill:#1f77b4;stroke:#1f77b4;\" x=\"325.492268\" xlink:href=\"#m12a8000ffa\" y=\"70.041044\"/>\r\n     <use style=\"fill:#1f77b4;stroke:#1f77b4;\" x=\"259.825975\" xlink:href=\"#m12a8000ffa\" y=\"42.824714\"/>\r\n     <use style=\"fill:#1f77b4;stroke:#1f77b4;\" x=\"62.621246\" xlink:href=\"#m12a8000ffa\" y=\"184.34963\"/>\r\n     <use style=\"fill:#1f77b4;stroke:#1f77b4;\" x=\"195.29186\" xlink:href=\"#m12a8000ffa\" y=\"124.473704\"/>\r\n     <use style=\"fill:#1f77b4;stroke:#1f77b4;\" x=\"272.074077\" xlink:href=\"#m12a8000ffa\" y=\"42.047104\"/>\r\n     <use style=\"fill:#1f77b4;stroke:#1f77b4;\" x=\"271.971152\" xlink:href=\"#m12a8000ffa\" y=\"84.038013\"/>\r\n     <use style=\"fill:#1f77b4;stroke:#1f77b4;\" x=\"110.172699\" xlink:href=\"#m12a8000ffa\" y=\"164.131785\"/>\r\n     <use style=\"fill:#1f77b4;stroke:#1f77b4;\" x=\"324.051315\" xlink:href=\"#m12a8000ffa\" y=\"38.936667\"/>\r\n     <use style=\"fill:#1f77b4;stroke:#1f77b4;\" x=\"301.407766\" xlink:href=\"#m12a8000ffa\" y=\"105.033468\"/>\r\n     <use style=\"fill:#1f77b4;stroke:#1f77b4;\" x=\"160.81191\" xlink:href=\"#m12a8000ffa\" y=\"118.252828\"/>\r\n     <use style=\"fill:#1f77b4;stroke:#1f77b4;\" x=\"190.042673\" xlink:href=\"#m12a8000ffa\" y=\"87.148451\"/>\r\n     <use style=\"fill:#1f77b4;stroke:#1f77b4;\" x=\"126.126109\" xlink:href=\"#m12a8000ffa\" y=\"154.800471\"/>\r\n     <use style=\"fill:#1f77b4;stroke:#1f77b4;\" x=\"87.52915\" xlink:href=\"#m12a8000ffa\" y=\"153.245253\"/>\r\n     <use style=\"fill:#1f77b4;stroke:#1f77b4;\" x=\"198.482542\" xlink:href=\"#m12a8000ffa\" y=\"122.918485\"/>\r\n     <use style=\"fill:#1f77b4;stroke:#1f77b4;\" x=\"299.452187\" xlink:href=\"#m12a8000ffa\" y=\"80.149966\"/>\r\n     <use style=\"fill:#1f77b4;stroke:#1f77b4;\" x=\"278.249591\" xlink:href=\"#m12a8000ffa\" y=\"53.711246\"/>\r\n     <use style=\"fill:#1f77b4;stroke:#1f77b4;\" x=\"260.031826\" xlink:href=\"#m12a8000ffa\" y=\"84.815623\"/>\r\n     <use style=\"fill:#1f77b4;stroke:#1f77b4;\" x=\"168.119601\" xlink:href=\"#m12a8000ffa\" y=\"130.694579\"/>\r\n     <use style=\"fill:#1f77b4;stroke:#1f77b4;\" x=\"82.691665\" xlink:href=\"#m12a8000ffa\" y=\"158.688519\"/>\r\n     <use style=\"fill:#1f77b4;stroke:#1f77b4;\" x=\"188.292945\" xlink:href=\"#m12a8000ffa\" y=\"141.581111\"/>\r\n     <use style=\"fill:#1f77b4;stroke:#1f77b4;\" x=\"274.750133\" xlink:href=\"#m12a8000ffa\" y=\"94.924545\"/>\r\n     <use style=\"fill:#1f77b4;stroke:#1f77b4;\" x=\"72.502067\" xlink:href=\"#m12a8000ffa\" y=\"159.466128\"/>\r\n     <use style=\"fill:#1f77b4;stroke:#1f77b4;\" x=\"83.412141\" xlink:href=\"#m12a8000ffa\" y=\"173.463098\"/>\r\n     <use style=\"fill:#1f77b4;stroke:#1f77b4;\" x=\"179.1326\" xlink:href=\"#m12a8000ffa\" y=\"116.697609\"/>\r\n     <use style=\"fill:#1f77b4;stroke:#1f77b4;\" x=\"60.665667\" xlink:href=\"#m12a8000ffa\" y=\"185.904848\"/>\r\n     <use style=\"fill:#1f77b4;stroke:#1f77b4;\" x=\"174.500965\" xlink:href=\"#m12a8000ffa\" y=\"141.581111\"/>\r\n     <use style=\"fill:#1f77b4;stroke:#1f77b4;\" x=\"133.742576\" xlink:href=\"#m12a8000ffa\" y=\"135.360236\"/>\r\n     <use style=\"fill:#1f77b4;stroke:#1f77b4;\" x=\"301.922392\" xlink:href=\"#m12a8000ffa\" y=\"131.472189\"/>\r\n     <use style=\"fill:#1f77b4;stroke:#1f77b4;\" x=\"132.610398\" xlink:href=\"#m12a8000ffa\" y=\"139.248283\"/>\r\n     <use style=\"fill:#1f77b4;stroke:#1f77b4;\" x=\"125.508558\" xlink:href=\"#m12a8000ffa\" y=\"121.363266\"/>\r\n     <use style=\"fill:#1f77b4;stroke:#1f77b4;\" x=\"274.853058\" xlink:href=\"#m12a8000ffa\" y=\"58.376902\"/>\r\n     <use style=\"fill:#1f77b4;stroke:#1f77b4;\" x=\"253.959238\" xlink:href=\"#m12a8000ffa\" y=\"108.921515\"/>\r\n     <use style=\"fill:#1f77b4;stroke:#1f77b4;\" x=\"133.639651\" xlink:href=\"#m12a8000ffa\" y=\"133.805017\"/>\r\n     <use style=\"fill:#1f77b4;stroke:#1f77b4;\" x=\"169.045928\" xlink:href=\"#m12a8000ffa\" y=\"102.70064\"/>\r\n     <use style=\"fill:#1f77b4;stroke:#1f77b4;\" x=\"145.990677\" xlink:href=\"#m12a8000ffa\" y=\"126.806532\"/>\r\n     <use style=\"fill:#1f77b4;stroke:#1f77b4;\" x=\"168.119601\" xlink:href=\"#m12a8000ffa\" y=\"97.257374\"/>\r\n     <use style=\"fill:#1f77b4;stroke:#1f77b4;\" x=\"193.336281\" xlink:href=\"#m12a8000ffa\" y=\"140.025892\"/>\r\n     <use style=\"fill:#1f77b4;stroke:#1f77b4;\" x=\"84.544319\" xlink:href=\"#m12a8000ffa\" y=\"170.35266\"/>\r\n     <use style=\"fill:#1f77b4;stroke:#1f77b4;\" x=\"279.175918\" xlink:href=\"#m12a8000ffa\" y=\"76.261919\"/>\r\n     <use style=\"fill:#1f77b4;stroke:#1f77b4;\" x=\"313.347092\" xlink:href=\"#m12a8000ffa\" y=\"54.488855\"/>\r\n     <use style=\"fill:#1f77b4;stroke:#1f77b4;\" x=\"165.649395\" xlink:href=\"#m12a8000ffa\" y=\"137.693064\"/>\r\n     <use style=\"fill:#1f77b4;stroke:#1f77b4;\" x=\"223.184596\" xlink:href=\"#m12a8000ffa\" y=\"95.702155\"/>\r\n     <use style=\"fill:#1f77b4;stroke:#1f77b4;\" x=\"258.487947\" xlink:href=\"#m12a8000ffa\" y=\"136.137845\"/>\r\n     <use style=\"fill:#1f77b4;stroke:#1f77b4;\" x=\"245.416444\" xlink:href=\"#m12a8000ffa\" y=\"106.588687\"/>\r\n     <use style=\"fill:#1f77b4;stroke:#1f77b4;\" x=\"353.282079\" xlink:href=\"#m12a8000ffa\" y=\"29.605354\"/>\r\n     <use style=\"fill:#1f77b4;stroke:#1f77b4;\" x=\"194.262608\" xlink:href=\"#m12a8000ffa\" y=\"93.369327\"/>\r\n     <use style=\"fill:#1f77b4;stroke:#1f77b4;\" x=\"284.013403\" xlink:href=\"#m12a8000ffa\" y=\"136.137845\"/>\r\n     <use style=\"fill:#1f77b4;stroke:#1f77b4;\" x=\"360.178069\" xlink:href=\"#m12a8000ffa\" y=\"42.047104\"/>\r\n     <use style=\"fill:#1f77b4;stroke:#1f77b4;\" x=\"343.504183\" xlink:href=\"#m12a8000ffa\" y=\"112.031953\"/>\r\n     <use style=\"fill:#1f77b4;stroke:#1f77b4;\" x=\"248.504201\" xlink:href=\"#m12a8000ffa\" y=\"112.809562\"/>\r\n     <use style=\"fill:#1f77b4;stroke:#1f77b4;\" x=\"300.275589\" xlink:href=\"#m12a8000ffa\" y=\"66.152997\"/>\r\n     <use style=\"fill:#1f77b4;stroke:#1f77b4;\" x=\"197.041589\" xlink:href=\"#m12a8000ffa\" y=\"77.817138\"/>\r\n     <use style=\"fill:#1f77b4;stroke:#1f77b4;\" x=\"80.83901\" xlink:href=\"#m12a8000ffa\" y=\"171.130269\"/>\r\n     <use style=\"fill:#1f77b4;stroke:#1f77b4;\" x=\"148.152107\" xlink:href=\"#m12a8000ffa\" y=\"159.466128\"/>\r\n     <use style=\"fill:#1f77b4;stroke:#1f77b4;\" x=\"68.590909\" xlink:href=\"#m12a8000ffa\" y=\"185.904848\"/>\r\n     <use style=\"fill:#1f77b4;stroke:#1f77b4;\" x=\"317.978727\" xlink:href=\"#m12a8000ffa\" y=\"73.151481\"/>\r\n     <use style=\"fill:#1f77b4;stroke:#1f77b4;\" x=\"287.512861\" xlink:href=\"#m12a8000ffa\" y=\"122.918485\"/>\r\n     <use style=\"fill:#1f77b4;stroke:#1f77b4;\" x=\"303.877971\" xlink:href=\"#m12a8000ffa\" y=\"57.599293\"/>\r\n     <use style=\"fill:#1f77b4;stroke:#1f77b4;\" x=\"235.947323\" xlink:href=\"#m12a8000ffa\" y=\"117.475219\"/>\r\n     <use style=\"fill:#1f77b4;stroke:#1f77b4;\" x=\"270.838974\" xlink:href=\"#m12a8000ffa\" y=\"103.478249\"/>\r\n     <use style=\"fill:#1f77b4;stroke:#1f77b4;\" x=\"135.59523\" xlink:href=\"#m12a8000ffa\" y=\"113.587172\"/>\r\n     <use style=\"fill:#1f77b4;stroke:#1f77b4;\" x=\"132.404548\" xlink:href=\"#m12a8000ffa\" y=\"129.13936\"/>\r\n     <use style=\"fill:#1f77b4;stroke:#1f77b4;\" x=\"198.379617\" xlink:href=\"#m12a8000ffa\" y=\"132.249798\"/>\r\n     <use style=\"fill:#1f77b4;stroke:#1f77b4;\" x=\"133.742576\" xlink:href=\"#m12a8000ffa\" y=\"154.022862\"/>\r\n     <use style=\"fill:#1f77b4;stroke:#1f77b4;\" x=\"184.484711\" xlink:href=\"#m12a8000ffa\" y=\"103.478249\"/>\r\n     <use style=\"fill:#1f77b4;stroke:#1f77b4;\" x=\"75.075198\" xlink:href=\"#m12a8000ffa\" y=\"175.795926\"/>\r\n     <use style=\"fill:#1f77b4;stroke:#1f77b4;\" x=\"200.541046\" xlink:href=\"#m12a8000ffa\" y=\"106.588687\"/>\r\n     <use style=\"fill:#1f77b4;stroke:#1f77b4;\" x=\"74.457647\" xlink:href=\"#m12a8000ffa\" y=\"172.685488\"/>\r\n     <use style=\"fill:#1f77b4;stroke:#1f77b4;\" x=\"285.660207\" xlink:href=\"#m12a8000ffa\" y=\"136.915455\"/>\r\n     <use style=\"fill:#1f77b4;stroke:#1f77b4;\" x=\"181.808655\" xlink:href=\"#m12a8000ffa\" y=\"108.921515\"/>\r\n     <use style=\"fill:#1f77b4;stroke:#1f77b4;\" x=\"291.321094\" xlink:href=\"#m12a8000ffa\" y=\"73.929091\"/>\r\n     <use style=\"fill:#1f77b4;stroke:#1f77b4;\" x=\"144.8585\" xlink:href=\"#m12a8000ffa\" y=\"144.691549\"/>\r\n     <use style=\"fill:#1f77b4;stroke:#1f77b4;\" x=\"63.135872\" xlink:href=\"#m12a8000ffa\" y=\"175.795926\"/>\r\n     <use style=\"fill:#1f77b4;stroke:#1f77b4;\" x=\"137.653734\" xlink:href=\"#m12a8000ffa\" y=\"158.688519\"/>\r\n     <use style=\"fill:#1f77b4;stroke:#1f77b4;\" x=\"281.851973\" xlink:href=\"#m12a8000ffa\" y=\"35.04862\"/>\r\n     <use style=\"fill:#1f77b4;stroke:#1f77b4;\" x=\"116.451138\" xlink:href=\"#m12a8000ffa\" y=\"151.690034\"/>\r\n     <use style=\"fill:#1f77b4;stroke:#1f77b4;\" x=\"55.828181\" xlink:href=\"#m12a8000ffa\" y=\"214.676397\"/>\r\n     <use style=\"fill:#1f77b4;stroke:#1f77b4;\" x=\"328.065399\" xlink:href=\"#m12a8000ffa\" y=\"128.361751\"/>\r\n     <use style=\"fill:#1f77b4;stroke:#1f77b4;\" x=\"63.753423\" xlink:href=\"#m12a8000ffa\" y=\"182.794411\"/>\r\n     <use style=\"fill:#1f77b4;stroke:#1f77b4;\" x=\"281.337347\" xlink:href=\"#m12a8000ffa\" y=\"74.7067\"/>\r\n     <use style=\"fill:#1f77b4;stroke:#1f77b4;\" x=\"93.087112\" xlink:href=\"#m12a8000ffa\" y=\"143.13633\"/>\r\n     <use style=\"fill:#1f77b4;stroke:#1f77b4;\" x=\"104.820588\" xlink:href=\"#m12a8000ffa\" y=\"136.915455\"/>\r\n     <use style=\"fill:#1f77b4;stroke:#1f77b4;\" x=\"81.456562\" xlink:href=\"#m12a8000ffa\" y=\"153.245253\"/>\r\n     <use style=\"fill:#1f77b4;stroke:#1f77b4;\" x=\"336.814043\" xlink:href=\"#m12a8000ffa\" y=\"65.375387\"/>\r\n     <use style=\"fill:#1f77b4;stroke:#1f77b4;\" x=\"99.365551\" xlink:href=\"#m12a8000ffa\" y=\"152.467643\"/>\r\n     <use style=\"fill:#1f77b4;stroke:#1f77b4;\" x=\"245.416444\" xlink:href=\"#m12a8000ffa\" y=\"66.152997\"/>\r\n     <use style=\"fill:#1f77b4;stroke:#1f77b4;\" x=\"130.654819\" xlink:href=\"#m12a8000ffa\" y=\"142.358721\"/>\r\n     <use style=\"fill:#1f77b4;stroke:#1f77b4;\" x=\"254.473864\" xlink:href=\"#m12a8000ffa\" y=\"77.817138\"/>\r\n     <use style=\"fill:#1f77b4;stroke:#1f77b4;\" x=\"282.057824\" xlink:href=\"#m12a8000ffa\" y=\"70.818653\"/>\r\n     <use style=\"fill:#1f77b4;stroke:#1f77b4;\" x=\"162.767489\" xlink:href=\"#m12a8000ffa\" y=\"146.246768\"/>\r\n     <use style=\"fill:#1f77b4;stroke:#1f77b4;\" x=\"154.12177\" xlink:href=\"#m12a8000ffa\" y=\"138.470673\"/>\r\n     <use style=\"fill:#1f77b4;stroke:#1f77b4;\" x=\"199.511794\" xlink:href=\"#m12a8000ffa\" y=\"147.024377\"/>\r\n     <use style=\"fill:#1f77b4;stroke:#1f77b4;\" x=\"302.231168\" xlink:href=\"#m12a8000ffa\" y=\"124.473704\"/>\r\n     <use style=\"fill:#1f77b4;stroke:#1f77b4;\" x=\"305.42185\" xlink:href=\"#m12a8000ffa\" y=\"29.605354\"/>\r\n     <use style=\"fill:#1f77b4;stroke:#1f77b4;\" x=\"94.21929\" xlink:href=\"#m12a8000ffa\" y=\"142.358721\"/>\r\n     <use style=\"fill:#1f77b4;stroke:#1f77b4;\" x=\"101.11528\" xlink:href=\"#m12a8000ffa\" y=\"148.579596\"/>\r\n     <use style=\"fill:#1f77b4;stroke:#1f77b4;\" x=\"344.018809\" xlink:href=\"#m12a8000ffa\" y=\"101.92303\"/>\r\n     <use style=\"fill:#1f77b4;stroke:#1f77b4;\" x=\"179.647226\" xlink:href=\"#m12a8000ffa\" y=\"136.915455\"/>\r\n     <use style=\"fill:#1f77b4;stroke:#1f77b4;\" x=\"258.487947\" xlink:href=\"#m12a8000ffa\" y=\"98.034983\"/>\r\n     <use style=\"fill:#1f77b4;stroke:#1f77b4;\" x=\"231.418614\" xlink:href=\"#m12a8000ffa\" y=\"79.372357\"/>\r\n     <use style=\"fill:#1f77b4;stroke:#1f77b4;\" x=\"248.401276\" xlink:href=\"#m12a8000ffa\" y=\"105.811077\"/>\r\n     <use style=\"fill:#1f77b4;stroke:#1f77b4;\" x=\"59.327639\" xlink:href=\"#m12a8000ffa\" y=\"202.234646\"/>\r\n     <use style=\"fill:#1f77b4;stroke:#1f77b4;\" x=\"151.75449\" xlink:href=\"#m12a8000ffa\" y=\"108.143906\"/>\r\n     <use style=\"fill:#1f77b4;stroke:#1f77b4;\" x=\"209.28969\" xlink:href=\"#m12a8000ffa\" y=\"148.579596\"/>\r\n     <use style=\"fill:#1f77b4;stroke:#1f77b4;\" x=\"67.149956\" xlink:href=\"#m12a8000ffa\" y=\"170.35266\"/>\r\n     <use style=\"fill:#1f77b4;stroke:#1f77b4;\" x=\"190.660225\" xlink:href=\"#m12a8000ffa\" y=\"126.806532\"/>\r\n     <use style=\"fill:#1f77b4;stroke:#1f77b4;\" x=\"232.653716\" xlink:href=\"#m12a8000ffa\" y=\"115.142391\"/>\r\n     <use style=\"fill:#1f77b4;stroke:#1f77b4;\" x=\"143.314622\" xlink:href=\"#m12a8000ffa\" y=\"123.696094\"/>\r\n     <use style=\"fill:#1f77b4;stroke:#1f77b4;\" x=\"249.018827\" xlink:href=\"#m12a8000ffa\" y=\"111.254343\"/>\r\n     <use style=\"fill:#1f77b4;stroke:#1f77b4;\" x=\"223.390446\" xlink:href=\"#m12a8000ffa\" y=\"87.148451\"/>\r\n     <use style=\"fill:#1f77b4;stroke:#1f77b4;\" x=\"175.736067\" xlink:href=\"#m12a8000ffa\" y=\"134.582626\"/>\r\n     <use style=\"fill:#1f77b4;stroke:#1f77b4;\" x=\"296.467355\" xlink:href=\"#m12a8000ffa\" y=\"134.582626\"/>\r\n     <use style=\"fill:#1f77b4;stroke:#1f77b4;\" x=\"73.53132\" xlink:href=\"#m12a8000ffa\" y=\"164.909394\"/>\r\n     <use style=\"fill:#1f77b4;stroke:#1f77b4;\" x=\"267.957068\" xlink:href=\"#m12a8000ffa\" y=\"132.249798\"/>\r\n     <use style=\"fill:#1f77b4;stroke:#1f77b4;\" x=\"276.808637\" xlink:href=\"#m12a8000ffa\" y=\"94.146936\"/>\r\n     <use style=\"fill:#1f77b4;stroke:#1f77b4;\" x=\"347.724117\" xlink:href=\"#m12a8000ffa\" y=\"110.476734\"/>\r\n     <use style=\"fill:#1f77b4;stroke:#1f77b4;\" x=\"106.570317\" xlink:href=\"#m12a8000ffa\" y=\"161.798956\"/>\r\n     <use style=\"fill:#1f77b4;stroke:#1f77b4;\" x=\"224.419698\" xlink:href=\"#m12a8000ffa\" y=\"114.364781\"/>\r\n     <use style=\"fill:#1f77b4;stroke:#1f77b4;\" x=\"75.281048\" xlink:href=\"#m12a8000ffa\" y=\"168.019832\"/>\r\n     <use style=\"fill:#1f77b4;stroke:#1f77b4;\" x=\"228.433782\" xlink:href=\"#m12a8000ffa\" y=\"136.137845\"/>\r\n     <use style=\"fill:#1f77b4;stroke:#1f77b4;\" x=\"284.013403\" xlink:href=\"#m12a8000ffa\" y=\"137.693064\"/>\r\n     <use style=\"fill:#1f77b4;stroke:#1f77b4;\" x=\"340.10765\" xlink:href=\"#m12a8000ffa\" y=\"17.163603\"/>\r\n     <use style=\"fill:#1f77b4;stroke:#1f77b4;\" x=\"310.773961\" xlink:href=\"#m12a8000ffa\" y=\"70.041044\"/>\r\n     <use style=\"fill:#1f77b4;stroke:#1f77b4;\" x=\"230.286436\" xlink:href=\"#m12a8000ffa\" y=\"136.137845\"/>\r\n     <use style=\"fill:#1f77b4;stroke:#1f77b4;\" x=\"339.9018\" xlink:href=\"#m12a8000ffa\" y=\"135.360236\"/>\r\n     <use style=\"fill:#1f77b4;stroke:#1f77b4;\" x=\"225.551876\" xlink:href=\"#m12a8000ffa\" y=\"129.13936\"/>\r\n     <use style=\"fill:#1f77b4;stroke:#1f77b4;\" x=\"216.288606\" xlink:href=\"#m12a8000ffa\" y=\"145.469158\"/>\r\n     <use style=\"fill:#1f77b4;stroke:#1f77b4;\" x=\"279.999319\" xlink:href=\"#m12a8000ffa\" y=\"132.249798\"/>\r\n     <use style=\"fill:#1f77b4;stroke:#1f77b4;\" x=\"112.95168\" xlink:href=\"#m12a8000ffa\" y=\"159.466128\"/>\r\n     <use style=\"fill:#1f77b4;stroke:#1f77b4;\" x=\"351.120649\" xlink:href=\"#m12a8000ffa\" y=\"23.384478\"/>\r\n     <use style=\"fill:#1f77b4;stroke:#1f77b4;\" x=\"316.331923\" xlink:href=\"#m12a8000ffa\" y=\"90.258889\"/>\r\n     <use style=\"fill:#1f77b4;stroke:#1f77b4;\" x=\"266.104414\" xlink:href=\"#m12a8000ffa\" y=\"51.378417\"/>\r\n     <use style=\"fill:#1f77b4;stroke:#1f77b4;\" x=\"198.688392\" xlink:href=\"#m12a8000ffa\" y=\"147.024377\"/>\r\n     <use style=\"fill:#1f77b4;stroke:#1f77b4;\" x=\"251.797808\" xlink:href=\"#m12a8000ffa\" y=\"92.591717\"/>\r\n     <use style=\"fill:#1f77b4;stroke:#1f77b4;\" x=\"349.473846\" xlink:href=\"#m12a8000ffa\" y=\"103.478249\"/>\r\n     <use style=\"fill:#1f77b4;stroke:#1f77b4;\" x=\"74.354721\" xlink:href=\"#m12a8000ffa\" y=\"175.018317\"/>\r\n     <use style=\"fill:#1f77b4;stroke:#1f77b4;\" x=\"95.763168\" xlink:href=\"#m12a8000ffa\" y=\"143.13633\"/>\r\n     <use style=\"fill:#1f77b4;stroke:#1f77b4;\" x=\"132.816249\" xlink:href=\"#m12a8000ffa\" y=\"150.134815\"/>\r\n     <use style=\"fill:#1f77b4;stroke:#1f77b4;\" x=\"72.810843\" xlink:href=\"#m12a8000ffa\" y=\"181.239192\"/>\r\n     <use style=\"fill:#1f77b4;stroke:#1f77b4;\" x=\"226.786978\" xlink:href=\"#m12a8000ffa\" y=\"74.7067\"/>\r\n     <use style=\"fill:#1f77b4;stroke:#1f77b4;\" x=\"209.186765\" xlink:href=\"#m12a8000ffa\" y=\"92.591717\"/>\r\n     <use style=\"fill:#1f77b4;stroke:#1f77b4;\" x=\"94.42514\" xlink:href=\"#m12a8000ffa\" y=\"168.019832\"/>\r\n     <use style=\"fill:#1f77b4;stroke:#1f77b4;\" x=\"152.063266\" xlink:href=\"#m12a8000ffa\" y=\"151.690034\"/>\r\n     <use style=\"fill:#1f77b4;stroke:#1f77b4;\" x=\"237.285351\" xlink:href=\"#m12a8000ffa\" y=\"127.584141\"/>\r\n     <use style=\"fill:#1f77b4;stroke:#1f77b4;\" x=\"347.00364\" xlink:href=\"#m12a8000ffa\" y=\"28.827744\"/>\r\n     <use style=\"fill:#1f77b4;stroke:#1f77b4;\" x=\"293.99715\" xlink:href=\"#m12a8000ffa\" y=\"122.918485\"/>\r\n    </g>\r\n   </g>\r\n   <g id=\"matplotlib.axis_1\">\r\n    <g id=\"xtick_1\">\r\n     <g id=\"line2d_1\">\r\n      <defs>\r\n       <path d=\"M 0 0 \r\nL 0 3.5 \r\n\" id=\"mbfd98b8235\" style=\"stroke:#000000;stroke-width:0.8;\"/>\r\n      </defs>\r\n      <g>\r\n       <use style=\"stroke:#000000;stroke-width:0.8;\" x=\"55.107704\" xlink:href=\"#mbfd98b8235\" y=\"224.64\"/>\r\n      </g>\r\n     </g>\r\n     <g id=\"text_1\">\r\n      <!-- 0 -->\r\n      <defs>\r\n       <path d=\"M 31.78125 66.40625 \r\nQ 24.171875 66.40625 20.328125 58.90625 \r\nQ 16.5 51.421875 16.5 36.375 \r\nQ 16.5 21.390625 20.328125 13.890625 \r\nQ 24.171875 6.390625 31.78125 6.390625 \r\nQ 39.453125 6.390625 43.28125 13.890625 \r\nQ 47.125 21.390625 47.125 36.375 \r\nQ 47.125 51.421875 43.28125 58.90625 \r\nQ 39.453125 66.40625 31.78125 66.40625 \r\nz\r\nM 31.78125 74.21875 \r\nQ 44.046875 74.21875 50.515625 64.515625 \r\nQ 56.984375 54.828125 56.984375 36.375 \r\nQ 56.984375 17.96875 50.515625 8.265625 \r\nQ 44.046875 -1.421875 31.78125 -1.421875 \r\nQ 19.53125 -1.421875 13.0625 8.265625 \r\nQ 6.59375 17.96875 6.59375 36.375 \r\nQ 6.59375 54.828125 13.0625 64.515625 \r\nQ 19.53125 74.21875 31.78125 74.21875 \r\nz\r\n\" id=\"DejaVuSans-48\"/>\r\n      </defs>\r\n      <g transform=\"translate(51.926454 239.238437)scale(0.1 -0.1)\">\r\n       <use xlink:href=\"#DejaVuSans-48\"/>\r\n      </g>\r\n     </g>\r\n    </g>\r\n    <g id=\"xtick_2\">\r\n     <g id=\"line2d_2\">\r\n      <g>\r\n       <use style=\"stroke:#000000;stroke-width:0.8;\" x=\"106.570317\" xlink:href=\"#mbfd98b8235\" y=\"224.64\"/>\r\n      </g>\r\n     </g>\r\n     <g id=\"text_2\">\r\n      <!-- 50 -->\r\n      <defs>\r\n       <path d=\"M 10.796875 72.90625 \r\nL 49.515625 72.90625 \r\nL 49.515625 64.59375 \r\nL 19.828125 64.59375 \r\nL 19.828125 46.734375 \r\nQ 21.96875 47.46875 24.109375 47.828125 \r\nQ 26.265625 48.1875 28.421875 48.1875 \r\nQ 40.625 48.1875 47.75 41.5 \r\nQ 54.890625 34.8125 54.890625 23.390625 \r\nQ 54.890625 11.625 47.5625 5.09375 \r\nQ 40.234375 -1.421875 26.90625 -1.421875 \r\nQ 22.3125 -1.421875 17.546875 -0.640625 \r\nQ 12.796875 0.140625 7.71875 1.703125 \r\nL 7.71875 11.625 \r\nQ 12.109375 9.234375 16.796875 8.0625 \r\nQ 21.484375 6.890625 26.703125 6.890625 \r\nQ 35.15625 6.890625 40.078125 11.328125 \r\nQ 45.015625 15.765625 45.015625 23.390625 \r\nQ 45.015625 31 40.078125 35.4375 \r\nQ 35.15625 39.890625 26.703125 39.890625 \r\nQ 22.75 39.890625 18.8125 39.015625 \r\nQ 14.890625 38.140625 10.796875 36.28125 \r\nz\r\n\" id=\"DejaVuSans-53\"/>\r\n      </defs>\r\n      <g transform=\"translate(100.207817 239.238437)scale(0.1 -0.1)\">\r\n       <use xlink:href=\"#DejaVuSans-53\"/>\r\n       <use x=\"63.623047\" xlink:href=\"#DejaVuSans-48\"/>\r\n      </g>\r\n     </g>\r\n    </g>\r\n    <g id=\"xtick_3\">\r\n     <g id=\"line2d_3\">\r\n      <g>\r\n       <use style=\"stroke:#000000;stroke-width:0.8;\" x=\"158.032929\" xlink:href=\"#mbfd98b8235\" y=\"224.64\"/>\r\n      </g>\r\n     </g>\r\n     <g id=\"text_3\">\r\n      <!-- 100 -->\r\n      <defs>\r\n       <path d=\"M 12.40625 8.296875 \r\nL 28.515625 8.296875 \r\nL 28.515625 63.921875 \r\nL 10.984375 60.40625 \r\nL 10.984375 69.390625 \r\nL 28.421875 72.90625 \r\nL 38.28125 72.90625 \r\nL 38.28125 8.296875 \r\nL 54.390625 8.296875 \r\nL 54.390625 0 \r\nL 12.40625 0 \r\nz\r\n\" id=\"DejaVuSans-49\"/>\r\n      </defs>\r\n      <g transform=\"translate(148.489179 239.238437)scale(0.1 -0.1)\">\r\n       <use xlink:href=\"#DejaVuSans-49\"/>\r\n       <use x=\"63.623047\" xlink:href=\"#DejaVuSans-48\"/>\r\n       <use x=\"127.246094\" xlink:href=\"#DejaVuSans-48\"/>\r\n      </g>\r\n     </g>\r\n    </g>\r\n    <g id=\"xtick_4\">\r\n     <g id=\"line2d_4\">\r\n      <g>\r\n       <use style=\"stroke:#000000;stroke-width:0.8;\" x=\"209.495541\" xlink:href=\"#mbfd98b8235\" y=\"224.64\"/>\r\n      </g>\r\n     </g>\r\n     <g id=\"text_4\">\r\n      <!-- 150 -->\r\n      <g transform=\"translate(199.951791 239.238437)scale(0.1 -0.1)\">\r\n       <use xlink:href=\"#DejaVuSans-49\"/>\r\n       <use x=\"63.623047\" xlink:href=\"#DejaVuSans-53\"/>\r\n       <use x=\"127.246094\" xlink:href=\"#DejaVuSans-48\"/>\r\n      </g>\r\n     </g>\r\n    </g>\r\n    <g id=\"xtick_5\">\r\n     <g id=\"line2d_5\">\r\n      <g>\r\n       <use style=\"stroke:#000000;stroke-width:0.8;\" x=\"260.958153\" xlink:href=\"#mbfd98b8235\" y=\"224.64\"/>\r\n      </g>\r\n     </g>\r\n     <g id=\"text_5\">\r\n      <!-- 200 -->\r\n      <defs>\r\n       <path d=\"M 19.1875 8.296875 \r\nL 53.609375 8.296875 \r\nL 53.609375 0 \r\nL 7.328125 0 \r\nL 7.328125 8.296875 \r\nQ 12.9375 14.109375 22.625 23.890625 \r\nQ 32.328125 33.6875 34.8125 36.53125 \r\nQ 39.546875 41.84375 41.421875 45.53125 \r\nQ 43.3125 49.21875 43.3125 52.78125 \r\nQ 43.3125 58.59375 39.234375 62.25 \r\nQ 35.15625 65.921875 28.609375 65.921875 \r\nQ 23.96875 65.921875 18.8125 64.3125 \r\nQ 13.671875 62.703125 7.8125 59.421875 \r\nL 7.8125 69.390625 \r\nQ 13.765625 71.78125 18.9375 73 \r\nQ 24.125 74.21875 28.421875 74.21875 \r\nQ 39.75 74.21875 46.484375 68.546875 \r\nQ 53.21875 62.890625 53.21875 53.421875 \r\nQ 53.21875 48.921875 51.53125 44.890625 \r\nQ 49.859375 40.875 45.40625 35.40625 \r\nQ 44.1875 33.984375 37.640625 27.21875 \r\nQ 31.109375 20.453125 19.1875 8.296875 \r\nz\r\n\" id=\"DejaVuSans-50\"/>\r\n      </defs>\r\n      <g transform=\"translate(251.414403 239.238437)scale(0.1 -0.1)\">\r\n       <use xlink:href=\"#DejaVuSans-50\"/>\r\n       <use x=\"63.623047\" xlink:href=\"#DejaVuSans-48\"/>\r\n       <use x=\"127.246094\" xlink:href=\"#DejaVuSans-48\"/>\r\n      </g>\r\n     </g>\r\n    </g>\r\n    <g id=\"xtick_6\">\r\n     <g id=\"line2d_6\">\r\n      <g>\r\n       <use style=\"stroke:#000000;stroke-width:0.8;\" x=\"312.420765\" xlink:href=\"#mbfd98b8235\" y=\"224.64\"/>\r\n      </g>\r\n     </g>\r\n     <g id=\"text_6\">\r\n      <!-- 250 -->\r\n      <g transform=\"translate(302.877015 239.238437)scale(0.1 -0.1)\">\r\n       <use xlink:href=\"#DejaVuSans-50\"/>\r\n       <use x=\"63.623047\" xlink:href=\"#DejaVuSans-53\"/>\r\n       <use x=\"127.246094\" xlink:href=\"#DejaVuSans-48\"/>\r\n      </g>\r\n     </g>\r\n    </g>\r\n    <g id=\"xtick_7\">\r\n     <g id=\"line2d_7\">\r\n      <g>\r\n       <use style=\"stroke:#000000;stroke-width:0.8;\" x=\"363.883377\" xlink:href=\"#mbfd98b8235\" y=\"224.64\"/>\r\n      </g>\r\n     </g>\r\n     <g id=\"text_7\">\r\n      <!-- 300 -->\r\n      <defs>\r\n       <path d=\"M 40.578125 39.3125 \r\nQ 47.65625 37.796875 51.625 33 \r\nQ 55.609375 28.21875 55.609375 21.1875 \r\nQ 55.609375 10.40625 48.1875 4.484375 \r\nQ 40.765625 -1.421875 27.09375 -1.421875 \r\nQ 22.515625 -1.421875 17.65625 -0.515625 \r\nQ 12.796875 0.390625 7.625 2.203125 \r\nL 7.625 11.71875 \r\nQ 11.71875 9.328125 16.59375 8.109375 \r\nQ 21.484375 6.890625 26.8125 6.890625 \r\nQ 36.078125 6.890625 40.9375 10.546875 \r\nQ 45.796875 14.203125 45.796875 21.1875 \r\nQ 45.796875 27.640625 41.28125 31.265625 \r\nQ 36.765625 34.90625 28.71875 34.90625 \r\nL 20.21875 34.90625 \r\nL 20.21875 43.015625 \r\nL 29.109375 43.015625 \r\nQ 36.375 43.015625 40.234375 45.921875 \r\nQ 44.09375 48.828125 44.09375 54.296875 \r\nQ 44.09375 59.90625 40.109375 62.90625 \r\nQ 36.140625 65.921875 28.71875 65.921875 \r\nQ 24.65625 65.921875 20.015625 65.03125 \r\nQ 15.375 64.15625 9.8125 62.3125 \r\nL 9.8125 71.09375 \r\nQ 15.4375 72.65625 20.34375 73.4375 \r\nQ 25.25 74.21875 29.59375 74.21875 \r\nQ 40.828125 74.21875 47.359375 69.109375 \r\nQ 53.90625 64.015625 53.90625 55.328125 \r\nQ 53.90625 49.265625 50.4375 45.09375 \r\nQ 46.96875 40.921875 40.578125 39.3125 \r\nz\r\n\" id=\"DejaVuSans-51\"/>\r\n      </defs>\r\n      <g transform=\"translate(354.339627 239.238437)scale(0.1 -0.1)\">\r\n       <use xlink:href=\"#DejaVuSans-51\"/>\r\n       <use x=\"63.623047\" xlink:href=\"#DejaVuSans-48\"/>\r\n       <use x=\"127.246094\" xlink:href=\"#DejaVuSans-48\"/>\r\n      </g>\r\n     </g>\r\n    </g>\r\n    <g id=\"text_8\">\r\n     <!-- TV -->\r\n     <defs>\r\n      <path d=\"M -0.296875 72.90625 \r\nL 61.375 72.90625 \r\nL 61.375 64.59375 \r\nL 35.5 64.59375 \r\nL 35.5 0 \r\nL 25.59375 0 \r\nL 25.59375 64.59375 \r\nL -0.296875 64.59375 \r\nz\r\n\" id=\"DejaVuSans-84\"/>\r\n      <path d=\"M 28.609375 0 \r\nL 0.78125 72.90625 \r\nL 11.078125 72.90625 \r\nL 34.1875 11.53125 \r\nL 57.328125 72.90625 \r\nL 67.578125 72.90625 \r\nL 39.796875 0 \r\nz\r\n\" id=\"DejaVuSans-86\"/>\r\n     </defs>\r\n     <g transform=\"translate(201.528906 252.916562)scale(0.1 -0.1)\">\r\n      <use xlink:href=\"#DejaVuSans-84\"/>\r\n      <use x=\"61.083984\" xlink:href=\"#DejaVuSans-86\"/>\r\n     </g>\r\n    </g>\r\n   </g>\r\n   <g id=\"matplotlib.axis_2\">\r\n    <g id=\"ytick_1\">\r\n     <g id=\"line2d_8\">\r\n      <defs>\r\n       <path d=\"M 0 0 \r\nL -3.5 0 \r\n\" id=\"mb485943f71\" style=\"stroke:#000000;stroke-width:0.8;\"/>\r\n      </defs>\r\n      <g>\r\n       <use style=\"stroke:#000000;stroke-width:0.8;\" x=\"40.603125\" xlink:href=\"#mb485943f71\" y=\"188.237677\"/>\r\n      </g>\r\n     </g>\r\n     <g id=\"text_9\">\r\n      <!-- 5 -->\r\n      <g transform=\"translate(27.240625 192.036896)scale(0.1 -0.1)\">\r\n       <use xlink:href=\"#DejaVuSans-53\"/>\r\n      </g>\r\n     </g>\r\n    </g>\r\n    <g id=\"ytick_2\">\r\n     <g id=\"line2d_9\">\r\n      <g>\r\n       <use style=\"stroke:#000000;stroke-width:0.8;\" x=\"40.603125\" xlink:href=\"#mb485943f71\" y=\"149.357205\"/>\r\n      </g>\r\n     </g>\r\n     <g id=\"text_10\">\r\n      <!-- 10 -->\r\n      <g transform=\"translate(20.878125 153.156424)scale(0.1 -0.1)\">\r\n       <use xlink:href=\"#DejaVuSans-49\"/>\r\n       <use x=\"63.623047\" xlink:href=\"#DejaVuSans-48\"/>\r\n      </g>\r\n     </g>\r\n    </g>\r\n    <g id=\"ytick_3\">\r\n     <g id=\"line2d_10\">\r\n      <g>\r\n       <use style=\"stroke:#000000;stroke-width:0.8;\" x=\"40.603125\" xlink:href=\"#mb485943f71\" y=\"110.476734\"/>\r\n      </g>\r\n     </g>\r\n     <g id=\"text_11\">\r\n      <!-- 15 -->\r\n      <g transform=\"translate(20.878125 114.275953)scale(0.1 -0.1)\">\r\n       <use xlink:href=\"#DejaVuSans-49\"/>\r\n       <use x=\"63.623047\" xlink:href=\"#DejaVuSans-53\"/>\r\n      </g>\r\n     </g>\r\n    </g>\r\n    <g id=\"ytick_4\">\r\n     <g id=\"line2d_11\">\r\n      <g>\r\n       <use style=\"stroke:#000000;stroke-width:0.8;\" x=\"40.603125\" xlink:href=\"#mb485943f71\" y=\"71.596263\"/>\r\n      </g>\r\n     </g>\r\n     <g id=\"text_12\">\r\n      <!-- 20 -->\r\n      <g transform=\"translate(20.878125 75.395481)scale(0.1 -0.1)\">\r\n       <use xlink:href=\"#DejaVuSans-50\"/>\r\n       <use x=\"63.623047\" xlink:href=\"#DejaVuSans-48\"/>\r\n      </g>\r\n     </g>\r\n    </g>\r\n    <g id=\"ytick_5\">\r\n     <g id=\"line2d_12\">\r\n      <g>\r\n       <use style=\"stroke:#000000;stroke-width:0.8;\" x=\"40.603125\" xlink:href=\"#mb485943f71\" y=\"32.715791\"/>\r\n      </g>\r\n     </g>\r\n     <g id=\"text_13\">\r\n      <!-- 25 -->\r\n      <g transform=\"translate(20.878125 36.51501)scale(0.1 -0.1)\">\r\n       <use xlink:href=\"#DejaVuSans-50\"/>\r\n       <use x=\"63.623047\" xlink:href=\"#DejaVuSans-53\"/>\r\n      </g>\r\n     </g>\r\n    </g>\r\n    <g id=\"text_14\">\r\n     <!-- Sales -->\r\n     <defs>\r\n      <path d=\"M 53.515625 70.515625 \r\nL 53.515625 60.890625 \r\nQ 47.90625 63.578125 42.921875 64.890625 \r\nQ 37.9375 66.21875 33.296875 66.21875 \r\nQ 25.25 66.21875 20.875 63.09375 \r\nQ 16.5 59.96875 16.5 54.203125 \r\nQ 16.5 49.359375 19.40625 46.890625 \r\nQ 22.3125 44.4375 30.421875 42.921875 \r\nL 36.375 41.703125 \r\nQ 47.40625 39.59375 52.65625 34.296875 \r\nQ 57.90625 29 57.90625 20.125 \r\nQ 57.90625 9.515625 50.796875 4.046875 \r\nQ 43.703125 -1.421875 29.984375 -1.421875 \r\nQ 24.8125 -1.421875 18.96875 -0.25 \r\nQ 13.140625 0.921875 6.890625 3.21875 \r\nL 6.890625 13.375 \r\nQ 12.890625 10.015625 18.65625 8.296875 \r\nQ 24.421875 6.59375 29.984375 6.59375 \r\nQ 38.421875 6.59375 43.015625 9.90625 \r\nQ 47.609375 13.234375 47.609375 19.390625 \r\nQ 47.609375 24.75 44.3125 27.78125 \r\nQ 41.015625 30.8125 33.5 32.328125 \r\nL 27.484375 33.5 \r\nQ 16.453125 35.6875 11.515625 40.375 \r\nQ 6.59375 45.0625 6.59375 53.421875 \r\nQ 6.59375 63.09375 13.40625 68.65625 \r\nQ 20.21875 74.21875 32.171875 74.21875 \r\nQ 37.3125 74.21875 42.625 73.28125 \r\nQ 47.953125 72.359375 53.515625 70.515625 \r\nz\r\n\" id=\"DejaVuSans-83\"/>\r\n      <path d=\"M 34.28125 27.484375 \r\nQ 23.390625 27.484375 19.1875 25 \r\nQ 14.984375 22.515625 14.984375 16.5 \r\nQ 14.984375 11.71875 18.140625 8.90625 \r\nQ 21.296875 6.109375 26.703125 6.109375 \r\nQ 34.1875 6.109375 38.703125 11.40625 \r\nQ 43.21875 16.703125 43.21875 25.484375 \r\nL 43.21875 27.484375 \r\nz\r\nM 52.203125 31.203125 \r\nL 52.203125 0 \r\nL 43.21875 0 \r\nL 43.21875 8.296875 \r\nQ 40.140625 3.328125 35.546875 0.953125 \r\nQ 30.953125 -1.421875 24.3125 -1.421875 \r\nQ 15.921875 -1.421875 10.953125 3.296875 \r\nQ 6 8.015625 6 15.921875 \r\nQ 6 25.140625 12.171875 29.828125 \r\nQ 18.359375 34.515625 30.609375 34.515625 \r\nL 43.21875 34.515625 \r\nL 43.21875 35.40625 \r\nQ 43.21875 41.609375 39.140625 45 \r\nQ 35.0625 48.390625 27.6875 48.390625 \r\nQ 23 48.390625 18.546875 47.265625 \r\nQ 14.109375 46.140625 10.015625 43.890625 \r\nL 10.015625 52.203125 \r\nQ 14.9375 54.109375 19.578125 55.046875 \r\nQ 24.21875 56 28.609375 56 \r\nQ 40.484375 56 46.34375 49.84375 \r\nQ 52.203125 43.703125 52.203125 31.203125 \r\nz\r\n\" id=\"DejaVuSans-97\"/>\r\n      <path d=\"M 9.421875 75.984375 \r\nL 18.40625 75.984375 \r\nL 18.40625 0 \r\nL 9.421875 0 \r\nz\r\n\" id=\"DejaVuSans-108\"/>\r\n      <path d=\"M 56.203125 29.59375 \r\nL 56.203125 25.203125 \r\nL 14.890625 25.203125 \r\nQ 15.484375 15.921875 20.484375 11.0625 \r\nQ 25.484375 6.203125 34.421875 6.203125 \r\nQ 39.59375 6.203125 44.453125 7.46875 \r\nQ 49.3125 8.734375 54.109375 11.28125 \r\nL 54.109375 2.78125 \r\nQ 49.265625 0.734375 44.1875 -0.34375 \r\nQ 39.109375 -1.421875 33.890625 -1.421875 \r\nQ 20.796875 -1.421875 13.15625 6.1875 \r\nQ 5.515625 13.8125 5.515625 26.8125 \r\nQ 5.515625 40.234375 12.765625 48.109375 \r\nQ 20.015625 56 32.328125 56 \r\nQ 43.359375 56 49.78125 48.890625 \r\nQ 56.203125 41.796875 56.203125 29.59375 \r\nz\r\nM 47.21875 32.234375 \r\nQ 47.125 39.59375 43.09375 43.984375 \r\nQ 39.0625 48.390625 32.421875 48.390625 \r\nQ 24.90625 48.390625 20.390625 44.140625 \r\nQ 15.875 39.890625 15.1875 32.171875 \r\nz\r\n\" id=\"DejaVuSans-101\"/>\r\n      <path d=\"M 44.28125 53.078125 \r\nL 44.28125 44.578125 \r\nQ 40.484375 46.53125 36.375 47.5 \r\nQ 32.28125 48.484375 27.875 48.484375 \r\nQ 21.1875 48.484375 17.84375 46.4375 \r\nQ 14.5 44.390625 14.5 40.28125 \r\nQ 14.5 37.15625 16.890625 35.375 \r\nQ 19.28125 33.59375 26.515625 31.984375 \r\nL 29.59375 31.296875 \r\nQ 39.15625 29.25 43.1875 25.515625 \r\nQ 47.21875 21.78125 47.21875 15.09375 \r\nQ 47.21875 7.46875 41.1875 3.015625 \r\nQ 35.15625 -1.421875 24.609375 -1.421875 \r\nQ 20.21875 -1.421875 15.453125 -0.5625 \r\nQ 10.6875 0.296875 5.421875 2 \r\nL 5.421875 11.28125 \r\nQ 10.40625 8.6875 15.234375 7.390625 \r\nQ 20.0625 6.109375 24.8125 6.109375 \r\nQ 31.15625 6.109375 34.5625 8.28125 \r\nQ 37.984375 10.453125 37.984375 14.40625 \r\nQ 37.984375 18.0625 35.515625 20.015625 \r\nQ 33.0625 21.96875 24.703125 23.78125 \r\nL 21.578125 24.515625 \r\nQ 13.234375 26.265625 9.515625 29.90625 \r\nQ 5.8125 33.546875 5.8125 39.890625 \r\nQ 5.8125 47.609375 11.28125 51.796875 \r\nQ 16.75 56 26.8125 56 \r\nQ 31.78125 56 36.171875 55.265625 \r\nQ 40.578125 54.546875 44.28125 53.078125 \r\nz\r\n\" id=\"DejaVuSans-115\"/>\r\n     </defs>\r\n     <g transform=\"translate(14.798438 129.228594)rotate(-90)scale(0.1 -0.1)\">\r\n      <use xlink:href=\"#DejaVuSans-83\"/>\r\n      <use x=\"63.476562\" xlink:href=\"#DejaVuSans-97\"/>\r\n      <use x=\"124.755859\" xlink:href=\"#DejaVuSans-108\"/>\r\n      <use x=\"152.539062\" xlink:href=\"#DejaVuSans-101\"/>\r\n      <use x=\"214.0625\" xlink:href=\"#DejaVuSans-115\"/>\r\n     </g>\r\n    </g>\r\n   </g>\r\n   <g id=\"line2d_13\">\r\n    <path clip-path=\"url(#pa191b2eacb)\" d=\"M 291.938645 87.375711 \r\nL 55.828181 172.173283 \r\nL 360.178069 62.867956 \r\nL 293.99715 86.636413 \r\n\" style=\"fill:none;stroke:#ff0000;stroke-linecap:square;stroke-width:2;\"/>\r\n   </g>\r\n   <g id=\"patch_3\">\r\n    <path d=\"M 40.603125 224.64 \r\nL 40.603125 7.2 \r\n\" style=\"fill:none;stroke:#000000;stroke-linecap:square;stroke-linejoin:miter;stroke-width:0.8;\"/>\r\n   </g>\r\n   <g id=\"patch_4\">\r\n    <path d=\"M 375.403125 224.64 \r\nL 375.403125 7.2 \r\n\" style=\"fill:none;stroke:#000000;stroke-linecap:square;stroke-linejoin:miter;stroke-width:0.8;\"/>\r\n   </g>\r\n   <g id=\"patch_5\">\r\n    <path d=\"M 40.603125 224.64 \r\nL 375.403125 224.64 \r\n\" style=\"fill:none;stroke:#000000;stroke-linecap:square;stroke-linejoin:miter;stroke-width:0.8;\"/>\r\n   </g>\r\n   <g id=\"patch_6\">\r\n    <path d=\"M 40.603125 7.2 \r\nL 375.403125 7.2 \r\n\" style=\"fill:none;stroke:#000000;stroke-linecap:square;stroke-linejoin:miter;stroke-width:0.8;\"/>\r\n   </g>\r\n  </g>\r\n </g>\r\n <defs>\r\n  <clipPath id=\"pa191b2eacb\">\r\n   <rect height=\"217.44\" width=\"334.8\" x=\"40.603125\" y=\"7.2\"/>\r\n  </clipPath>\r\n </defs>\r\n</svg>\r\n",
      "image/png": "[encoded data removed]"
     },
     "metadata": {
      "needs_background": "light"
     }
    }
   ],
   "source": [
    "%matplotlib inline\n",
    "data.plot(kind = \"scatter\", x = \"TV\", y = \"Sales\")\n",
    "plt.plot(pd.DataFrame(data[\"TV\"]), sales_pred, c=\"red\", linewidth = 2)"
   ]
  },
  {
   "cell_type": "code",
   "execution_count": 14,
   "metadata": {},
   "outputs": [],
   "source": [
    "data[\"sales_pred\"] = 7.032594 + 0.047537 * data[\"TV\"]"
   ]
  },
  {
   "cell_type": "code",
   "execution_count": 15,
   "metadata": {},
   "outputs": [],
   "source": [
    "data[\"RSE\"] = (data[\"Sales\"] - data[\"sales_pred\"]) ** 2"
   ]
  },
  {
   "cell_type": "code",
   "execution_count": 16,
   "metadata": {},
   "outputs": [
    {
     "output_type": "execute_result",
     "data": {
      "text/plain": "2102.5305838896525"
     },
     "metadata": {},
     "execution_count": 16
    }
   ],
   "source": [
    "SSD = sum(data[\"RSE\"])\n",
    "SSD"
   ]
  },
  {
   "cell_type": "code",
   "execution_count": 17,
   "metadata": {},
   "outputs": [
    {
     "output_type": "execute_result",
     "data": {
      "text/plain": "2.917645098268167"
     },
     "metadata": {},
     "execution_count": 17
    }
   ],
   "source": [
    "RSE = np.sqrt(SSD / len(data) - 2)\n",
    "RSE"
   ]
  },
  {
   "cell_type": "code",
   "execution_count": 18,
   "metadata": {},
   "outputs": [
    {
     "output_type": "execute_result",
     "data": {
      "text/plain": "14.022500000000003"
     },
     "metadata": {},
     "execution_count": 18
    }
   ],
   "source": [
    "sales_m = np.mean(data[\"Sales\"])\n",
    "sales_m"
   ]
  },
  {
   "cell_type": "code",
   "execution_count": 19,
   "metadata": {},
   "outputs": [
    {
     "output_type": "execute_result",
     "data": {
      "text/plain": "0.20806882497900991"
     },
     "metadata": {},
     "execution_count": 19
    }
   ],
   "source": [
    "error = RSE / sales_m\n",
    "error"
   ]
  },
  {
   "cell_type": "code",
   "execution_count": 20,
   "metadata": {},
   "outputs": [
    {
     "output_type": "execute_result",
     "data": {
      "text/plain": "(array([ 4., 10., 13., 17., 40., 42., 33., 16., 17.,  8.]),\n array([-8.3860819 , -6.82624404, -5.26640618, -3.70656832, -2.14673046,\n        -0.5868926 ,  0.97294526,  2.53278312,  4.09262098,  5.65245884,\n         7.2122967 ]),\n <a list of 10 Patch objects>)"
     },
     "metadata": {},
     "execution_count": 20
    },
    {
     "output_type": "display_data",
     "data": {
      "text/plain": "<Figure size 432x288 with 1 Axes>",
      "image/svg+xml": "<?xml version=\"1.0\" encoding=\"utf-8\" standalone=\"no\"?>\r\n<!DOCTYPE svg PUBLIC \"-//W3C//DTD SVG 1.1//EN\"\r\n  \"http://www.w3.org/Graphics/SVG/1.1/DTD/svg11.dtd\">\r\n<!-- Created with matplotlib (https://matplotlib.org/) -->\r\n<svg height=\"248.518125pt\" version=\"1.1\" viewBox=\"0 0 368.925 248.518125\" width=\"368.925pt\" xmlns=\"http://www.w3.org/2000/svg\" xmlns:xlink=\"http://www.w3.org/1999/xlink\">\r\n <defs>\r\n  <style type=\"text/css\">\r\n*{stroke-linecap:butt;stroke-linejoin:round;}\r\n  </style>\r\n </defs>\r\n <g id=\"figure_1\">\r\n  <g id=\"patch_1\">\r\n   <path d=\"M -0 248.518125 \r\nL 368.925 248.518125 \r\nL 368.925 0 \r\nL -0 0 \r\nz\r\n\" style=\"fill:none;\"/>\r\n  </g>\r\n  <g id=\"axes_1\">\r\n   <g id=\"patch_2\">\r\n    <path d=\"M 26.925 224.64 \r\nL 361.725 224.64 \r\nL 361.725 7.2 \r\nL 26.925 7.2 \r\nz\r\n\" style=\"fill:#ffffff;\"/>\r\n   </g>\r\n   <g id=\"patch_3\">\r\n    <path clip-path=\"url(#pee42200327)\" d=\"M 42.143182 224.64 \r\nL 72.579545 224.64 \r\nL 72.579545 204.917551 \r\nL 42.143182 204.917551 \r\nz\r\n\" style=\"fill:#1f77b4;\"/>\r\n   </g>\r\n   <g id=\"patch_4\">\r\n    <path clip-path=\"url(#pee42200327)\" d=\"M 72.579545 224.64 \r\nL 103.015909 224.64 \r\nL 103.015909 175.333878 \r\nL 72.579545 175.333878 \r\nz\r\n\" style=\"fill:#1f77b4;\"/>\r\n   </g>\r\n   <g id=\"patch_5\">\r\n    <path clip-path=\"url(#pee42200327)\" d=\"M 103.015909 224.64 \r\nL 133.452273 224.64 \r\nL 133.452273 160.542041 \r\nL 103.015909 160.542041 \r\nz\r\n\" style=\"fill:#1f77b4;\"/>\r\n   </g>\r\n   <g id=\"patch_6\">\r\n    <path clip-path=\"url(#pee42200327)\" d=\"M 133.452273 224.64 \r\nL 163.888636 224.64 \r\nL 163.888636 140.819592 \r\nL 133.452273 140.819592 \r\nz\r\n\" style=\"fill:#1f77b4;\"/>\r\n   </g>\r\n   <g id=\"patch_7\">\r\n    <path clip-path=\"url(#pee42200327)\" d=\"M 163.888636 224.64 \r\nL 194.325 224.64 \r\nL 194.325 27.41551 \r\nL 163.888636 27.41551 \r\nz\r\n\" style=\"fill:#1f77b4;\"/>\r\n   </g>\r\n   <g id=\"patch_8\">\r\n    <path clip-path=\"url(#pee42200327)\" d=\"M 194.325 224.64 \r\nL 224.761364 224.64 \r\nL 224.761364 17.554286 \r\nL 194.325 17.554286 \r\nz\r\n\" style=\"fill:#1f77b4;\"/>\r\n   </g>\r\n   <g id=\"patch_9\">\r\n    <path clip-path=\"url(#pee42200327)\" d=\"M 224.761364 224.64 \r\nL 255.197727 224.64 \r\nL 255.197727 61.929796 \r\nL 224.761364 61.929796 \r\nz\r\n\" style=\"fill:#1f77b4;\"/>\r\n   </g>\r\n   <g id=\"patch_10\">\r\n    <path clip-path=\"url(#pee42200327)\" d=\"M 255.197727 224.64 \r\nL 285.634091 224.64 \r\nL 285.634091 145.750204 \r\nL 255.197727 145.750204 \r\nz\r\n\" style=\"fill:#1f77b4;\"/>\r\n   </g>\r\n   <g id=\"patch_11\">\r\n    <path clip-path=\"url(#pee42200327)\" d=\"M 285.634091 224.64 \r\nL 316.070455 224.64 \r\nL 316.070455 140.819592 \r\nL 285.634091 140.819592 \r\nz\r\n\" style=\"fill:#1f77b4;\"/>\r\n   </g>\r\n   <g id=\"patch_12\">\r\n    <path clip-path=\"url(#pee42200327)\" d=\"M 316.070455 224.64 \r\nL 346.506818 224.64 \r\nL 346.506818 185.195102 \r\nL 316.070455 185.195102 \r\nz\r\n\" style=\"fill:#1f77b4;\"/>\r\n   </g>\r\n   <g id=\"matplotlib.axis_1\">\r\n    <g id=\"xtick_1\">\r\n     <g id=\"line2d_1\">\r\n      <defs>\r\n       <path d=\"M 0 0 \r\nL 0 3.5 \r\n\" id=\"m5f68888895\" style=\"stroke:#000000;stroke-width:0.8;\"/>\r\n      </defs>\r\n      <g>\r\n       <use style=\"stroke:#000000;stroke-width:0.8;\" x=\"49.676612\" xlink:href=\"#m5f68888895\" y=\"224.64\"/>\r\n      </g>\r\n     </g>\r\n     <g id=\"text_1\">\r\n      <!-- −8 -->\r\n      <defs>\r\n       <path d=\"M 10.59375 35.5 \r\nL 73.1875 35.5 \r\nL 73.1875 27.203125 \r\nL 10.59375 27.203125 \r\nz\r\n\" id=\"DejaVuSans-8722\"/>\r\n       <path d=\"M 31.78125 34.625 \r\nQ 24.75 34.625 20.71875 30.859375 \r\nQ 16.703125 27.09375 16.703125 20.515625 \r\nQ 16.703125 13.921875 20.71875 10.15625 \r\nQ 24.75 6.390625 31.78125 6.390625 \r\nQ 38.8125 6.390625 42.859375 10.171875 \r\nQ 46.921875 13.96875 46.921875 20.515625 \r\nQ 46.921875 27.09375 42.890625 30.859375 \r\nQ 38.875 34.625 31.78125 34.625 \r\nz\r\nM 21.921875 38.8125 \r\nQ 15.578125 40.375 12.03125 44.71875 \r\nQ 8.5 49.078125 8.5 55.328125 \r\nQ 8.5 64.0625 14.71875 69.140625 \r\nQ 20.953125 74.21875 31.78125 74.21875 \r\nQ 42.671875 74.21875 48.875 69.140625 \r\nQ 55.078125 64.0625 55.078125 55.328125 \r\nQ 55.078125 49.078125 51.53125 44.71875 \r\nQ 48 40.375 41.703125 38.8125 \r\nQ 48.828125 37.15625 52.796875 32.3125 \r\nQ 56.78125 27.484375 56.78125 20.515625 \r\nQ 56.78125 9.90625 50.3125 4.234375 \r\nQ 43.84375 -1.421875 31.78125 -1.421875 \r\nQ 19.734375 -1.421875 13.25 4.234375 \r\nQ 6.78125 9.90625 6.78125 20.515625 \r\nQ 6.78125 27.484375 10.78125 32.3125 \r\nQ 14.796875 37.15625 21.921875 38.8125 \r\nz\r\nM 18.3125 54.390625 \r\nQ 18.3125 48.734375 21.84375 45.5625 \r\nQ 25.390625 42.390625 31.78125 42.390625 \r\nQ 38.140625 42.390625 41.71875 45.5625 \r\nQ 45.3125 48.734375 45.3125 54.390625 \r\nQ 45.3125 60.0625 41.71875 63.234375 \r\nQ 38.140625 66.40625 31.78125 66.40625 \r\nQ 25.390625 66.40625 21.84375 63.234375 \r\nQ 18.3125 60.0625 18.3125 54.390625 \r\nz\r\n\" id=\"DejaVuSans-56\"/>\r\n      </defs>\r\n      <g transform=\"translate(42.305518 239.238437)scale(0.1 -0.1)\">\r\n       <use xlink:href=\"#DejaVuSans-8722\"/>\r\n       <use x=\"83.789062\" xlink:href=\"#DejaVuSans-56\"/>\r\n      </g>\r\n     </g>\r\n    </g>\r\n    <g id=\"xtick_2\">\r\n     <g id=\"line2d_2\">\r\n      <g>\r\n       <use style=\"stroke:#000000;stroke-width:0.8;\" x=\"88.701647\" xlink:href=\"#m5f68888895\" y=\"224.64\"/>\r\n      </g>\r\n     </g>\r\n     <g id=\"text_2\">\r\n      <!-- −6 -->\r\n      <defs>\r\n       <path d=\"M 33.015625 40.375 \r\nQ 26.375 40.375 22.484375 35.828125 \r\nQ 18.609375 31.296875 18.609375 23.390625 \r\nQ 18.609375 15.53125 22.484375 10.953125 \r\nQ 26.375 6.390625 33.015625 6.390625 \r\nQ 39.65625 6.390625 43.53125 10.953125 \r\nQ 47.40625 15.53125 47.40625 23.390625 \r\nQ 47.40625 31.296875 43.53125 35.828125 \r\nQ 39.65625 40.375 33.015625 40.375 \r\nz\r\nM 52.59375 71.296875 \r\nL 52.59375 62.3125 \r\nQ 48.875 64.0625 45.09375 64.984375 \r\nQ 41.3125 65.921875 37.59375 65.921875 \r\nQ 27.828125 65.921875 22.671875 59.328125 \r\nQ 17.53125 52.734375 16.796875 39.40625 \r\nQ 19.671875 43.65625 24.015625 45.921875 \r\nQ 28.375 48.1875 33.59375 48.1875 \r\nQ 44.578125 48.1875 50.953125 41.515625 \r\nQ 57.328125 34.859375 57.328125 23.390625 \r\nQ 57.328125 12.15625 50.6875 5.359375 \r\nQ 44.046875 -1.421875 33.015625 -1.421875 \r\nQ 20.359375 -1.421875 13.671875 8.265625 \r\nQ 6.984375 17.96875 6.984375 36.375 \r\nQ 6.984375 53.65625 15.1875 63.9375 \r\nQ 23.390625 74.21875 37.203125 74.21875 \r\nQ 40.921875 74.21875 44.703125 73.484375 \r\nQ 48.484375 72.75 52.59375 71.296875 \r\nz\r\n\" id=\"DejaVuSans-54\"/>\r\n      </defs>\r\n      <g transform=\"translate(81.330553 239.238437)scale(0.1 -0.1)\">\r\n       <use xlink:href=\"#DejaVuSans-8722\"/>\r\n       <use x=\"83.789062\" xlink:href=\"#DejaVuSans-54\"/>\r\n      </g>\r\n     </g>\r\n    </g>\r\n    <g id=\"xtick_3\">\r\n     <g id=\"line2d_3\">\r\n      <g>\r\n       <use style=\"stroke:#000000;stroke-width:0.8;\" x=\"127.726682\" xlink:href=\"#m5f68888895\" y=\"224.64\"/>\r\n      </g>\r\n     </g>\r\n     <g id=\"text_3\">\r\n      <!-- −4 -->\r\n      <defs>\r\n       <path d=\"M 37.796875 64.3125 \r\nL 12.890625 25.390625 \r\nL 37.796875 25.390625 \r\nz\r\nM 35.203125 72.90625 \r\nL 47.609375 72.90625 \r\nL 47.609375 25.390625 \r\nL 58.015625 25.390625 \r\nL 58.015625 17.1875 \r\nL 47.609375 17.1875 \r\nL 47.609375 0 \r\nL 37.796875 0 \r\nL 37.796875 17.1875 \r\nL 4.890625 17.1875 \r\nL 4.890625 26.703125 \r\nz\r\n\" id=\"DejaVuSans-52\"/>\r\n      </defs>\r\n      <g transform=\"translate(120.355588 239.238437)scale(0.1 -0.1)\">\r\n       <use xlink:href=\"#DejaVuSans-8722\"/>\r\n       <use x=\"83.789062\" xlink:href=\"#DejaVuSans-52\"/>\r\n      </g>\r\n     </g>\r\n    </g>\r\n    <g id=\"xtick_4\">\r\n     <g id=\"line2d_4\">\r\n      <g>\r\n       <use style=\"stroke:#000000;stroke-width:0.8;\" x=\"166.751717\" xlink:href=\"#m5f68888895\" y=\"224.64\"/>\r\n      </g>\r\n     </g>\r\n     <g id=\"text_4\">\r\n      <!-- −2 -->\r\n      <defs>\r\n       <path d=\"M 19.1875 8.296875 \r\nL 53.609375 8.296875 \r\nL 53.609375 0 \r\nL 7.328125 0 \r\nL 7.328125 8.296875 \r\nQ 12.9375 14.109375 22.625 23.890625 \r\nQ 32.328125 33.6875 34.8125 36.53125 \r\nQ 39.546875 41.84375 41.421875 45.53125 \r\nQ 43.3125 49.21875 43.3125 52.78125 \r\nQ 43.3125 58.59375 39.234375 62.25 \r\nQ 35.15625 65.921875 28.609375 65.921875 \r\nQ 23.96875 65.921875 18.8125 64.3125 \r\nQ 13.671875 62.703125 7.8125 59.421875 \r\nL 7.8125 69.390625 \r\nQ 13.765625 71.78125 18.9375 73 \r\nQ 24.125 74.21875 28.421875 74.21875 \r\nQ 39.75 74.21875 46.484375 68.546875 \r\nQ 53.21875 62.890625 53.21875 53.421875 \r\nQ 53.21875 48.921875 51.53125 44.890625 \r\nQ 49.859375 40.875 45.40625 35.40625 \r\nQ 44.1875 33.984375 37.640625 27.21875 \r\nQ 31.109375 20.453125 19.1875 8.296875 \r\nz\r\n\" id=\"DejaVuSans-50\"/>\r\n      </defs>\r\n      <g transform=\"translate(159.380623 239.238437)scale(0.1 -0.1)\">\r\n       <use xlink:href=\"#DejaVuSans-8722\"/>\r\n       <use x=\"83.789062\" xlink:href=\"#DejaVuSans-50\"/>\r\n      </g>\r\n     </g>\r\n    </g>\r\n    <g id=\"xtick_5\">\r\n     <g id=\"line2d_5\">\r\n      <g>\r\n       <use style=\"stroke:#000000;stroke-width:0.8;\" x=\"205.776752\" xlink:href=\"#m5f68888895\" y=\"224.64\"/>\r\n      </g>\r\n     </g>\r\n     <g id=\"text_5\">\r\n      <!-- 0 -->\r\n      <defs>\r\n       <path d=\"M 31.78125 66.40625 \r\nQ 24.171875 66.40625 20.328125 58.90625 \r\nQ 16.5 51.421875 16.5 36.375 \r\nQ 16.5 21.390625 20.328125 13.890625 \r\nQ 24.171875 6.390625 31.78125 6.390625 \r\nQ 39.453125 6.390625 43.28125 13.890625 \r\nQ 47.125 21.390625 47.125 36.375 \r\nQ 47.125 51.421875 43.28125 58.90625 \r\nQ 39.453125 66.40625 31.78125 66.40625 \r\nz\r\nM 31.78125 74.21875 \r\nQ 44.046875 74.21875 50.515625 64.515625 \r\nQ 56.984375 54.828125 56.984375 36.375 \r\nQ 56.984375 17.96875 50.515625 8.265625 \r\nQ 44.046875 -1.421875 31.78125 -1.421875 \r\nQ 19.53125 -1.421875 13.0625 8.265625 \r\nQ 6.59375 17.96875 6.59375 36.375 \r\nQ 6.59375 54.828125 13.0625 64.515625 \r\nQ 19.53125 74.21875 31.78125 74.21875 \r\nz\r\n\" id=\"DejaVuSans-48\"/>\r\n      </defs>\r\n      <g transform=\"translate(202.595502 239.238437)scale(0.1 -0.1)\">\r\n       <use xlink:href=\"#DejaVuSans-48\"/>\r\n      </g>\r\n     </g>\r\n    </g>\r\n    <g id=\"xtick_6\">\r\n     <g id=\"line2d_6\">\r\n      <g>\r\n       <use style=\"stroke:#000000;stroke-width:0.8;\" x=\"244.801787\" xlink:href=\"#m5f68888895\" y=\"224.64\"/>\r\n      </g>\r\n     </g>\r\n     <g id=\"text_6\">\r\n      <!-- 2 -->\r\n      <g transform=\"translate(241.620537 239.238437)scale(0.1 -0.1)\">\r\n       <use xlink:href=\"#DejaVuSans-50\"/>\r\n      </g>\r\n     </g>\r\n    </g>\r\n    <g id=\"xtick_7\">\r\n     <g id=\"line2d_7\">\r\n      <g>\r\n       <use style=\"stroke:#000000;stroke-width:0.8;\" x=\"283.826822\" xlink:href=\"#m5f68888895\" y=\"224.64\"/>\r\n      </g>\r\n     </g>\r\n     <g id=\"text_7\">\r\n      <!-- 4 -->\r\n      <g transform=\"translate(280.645572 239.238437)scale(0.1 -0.1)\">\r\n       <use xlink:href=\"#DejaVuSans-52\"/>\r\n      </g>\r\n     </g>\r\n    </g>\r\n    <g id=\"xtick_8\">\r\n     <g id=\"line2d_8\">\r\n      <g>\r\n       <use style=\"stroke:#000000;stroke-width:0.8;\" x=\"322.851858\" xlink:href=\"#m5f68888895\" y=\"224.64\"/>\r\n      </g>\r\n     </g>\r\n     <g id=\"text_8\">\r\n      <!-- 6 -->\r\n      <g transform=\"translate(319.670608 239.238437)scale(0.1 -0.1)\">\r\n       <use xlink:href=\"#DejaVuSans-54\"/>\r\n      </g>\r\n     </g>\r\n    </g>\r\n   </g>\r\n   <g id=\"matplotlib.axis_2\">\r\n    <g id=\"ytick_1\">\r\n     <g id=\"line2d_9\">\r\n      <defs>\r\n       <path d=\"M 0 0 \r\nL -3.5 0 \r\n\" id=\"me758c8e3b7\" style=\"stroke:#000000;stroke-width:0.8;\"/>\r\n      </defs>\r\n      <g>\r\n       <use style=\"stroke:#000000;stroke-width:0.8;\" x=\"26.925\" xlink:href=\"#me758c8e3b7\" y=\"224.64\"/>\r\n      </g>\r\n     </g>\r\n     <g id=\"text_9\">\r\n      <!-- 0 -->\r\n      <g transform=\"translate(13.5625 228.439219)scale(0.1 -0.1)\">\r\n       <use xlink:href=\"#DejaVuSans-48\"/>\r\n      </g>\r\n     </g>\r\n    </g>\r\n    <g id=\"ytick_2\">\r\n     <g id=\"line2d_10\">\r\n      <g>\r\n       <use style=\"stroke:#000000;stroke-width:0.8;\" x=\"26.925\" xlink:href=\"#me758c8e3b7\" y=\"199.986939\"/>\r\n      </g>\r\n     </g>\r\n     <g id=\"text_10\">\r\n      <!-- 5 -->\r\n      <defs>\r\n       <path d=\"M 10.796875 72.90625 \r\nL 49.515625 72.90625 \r\nL 49.515625 64.59375 \r\nL 19.828125 64.59375 \r\nL 19.828125 46.734375 \r\nQ 21.96875 47.46875 24.109375 47.828125 \r\nQ 26.265625 48.1875 28.421875 48.1875 \r\nQ 40.625 48.1875 47.75 41.5 \r\nQ 54.890625 34.8125 54.890625 23.390625 \r\nQ 54.890625 11.625 47.5625 5.09375 \r\nQ 40.234375 -1.421875 26.90625 -1.421875 \r\nQ 22.3125 -1.421875 17.546875 -0.640625 \r\nQ 12.796875 0.140625 7.71875 1.703125 \r\nL 7.71875 11.625 \r\nQ 12.109375 9.234375 16.796875 8.0625 \r\nQ 21.484375 6.890625 26.703125 6.890625 \r\nQ 35.15625 6.890625 40.078125 11.328125 \r\nQ 45.015625 15.765625 45.015625 23.390625 \r\nQ 45.015625 31 40.078125 35.4375 \r\nQ 35.15625 39.890625 26.703125 39.890625 \r\nQ 22.75 39.890625 18.8125 39.015625 \r\nQ 14.890625 38.140625 10.796875 36.28125 \r\nz\r\n\" id=\"DejaVuSans-53\"/>\r\n      </defs>\r\n      <g transform=\"translate(13.5625 203.786158)scale(0.1 -0.1)\">\r\n       <use xlink:href=\"#DejaVuSans-53\"/>\r\n      </g>\r\n     </g>\r\n    </g>\r\n    <g id=\"ytick_3\">\r\n     <g id=\"line2d_11\">\r\n      <g>\r\n       <use style=\"stroke:#000000;stroke-width:0.8;\" x=\"26.925\" xlink:href=\"#me758c8e3b7\" y=\"175.333878\"/>\r\n      </g>\r\n     </g>\r\n     <g id=\"text_11\">\r\n      <!-- 10 -->\r\n      <defs>\r\n       <path d=\"M 12.40625 8.296875 \r\nL 28.515625 8.296875 \r\nL 28.515625 63.921875 \r\nL 10.984375 60.40625 \r\nL 10.984375 69.390625 \r\nL 28.421875 72.90625 \r\nL 38.28125 72.90625 \r\nL 38.28125 8.296875 \r\nL 54.390625 8.296875 \r\nL 54.390625 0 \r\nL 12.40625 0 \r\nz\r\n\" id=\"DejaVuSans-49\"/>\r\n      </defs>\r\n      <g transform=\"translate(7.2 179.133096)scale(0.1 -0.1)\">\r\n       <use xlink:href=\"#DejaVuSans-49\"/>\r\n       <use x=\"63.623047\" xlink:href=\"#DejaVuSans-48\"/>\r\n      </g>\r\n     </g>\r\n    </g>\r\n    <g id=\"ytick_4\">\r\n     <g id=\"line2d_12\">\r\n      <g>\r\n       <use style=\"stroke:#000000;stroke-width:0.8;\" x=\"26.925\" xlink:href=\"#me758c8e3b7\" y=\"150.680816\"/>\r\n      </g>\r\n     </g>\r\n     <g id=\"text_12\">\r\n      <!-- 15 -->\r\n      <g transform=\"translate(7.2 154.480035)scale(0.1 -0.1)\">\r\n       <use xlink:href=\"#DejaVuSans-49\"/>\r\n       <use x=\"63.623047\" xlink:href=\"#DejaVuSans-53\"/>\r\n      </g>\r\n     </g>\r\n    </g>\r\n    <g id=\"ytick_5\">\r\n     <g id=\"line2d_13\">\r\n      <g>\r\n       <use style=\"stroke:#000000;stroke-width:0.8;\" x=\"26.925\" xlink:href=\"#me758c8e3b7\" y=\"126.027755\"/>\r\n      </g>\r\n     </g>\r\n     <g id=\"text_13\">\r\n      <!-- 20 -->\r\n      <g transform=\"translate(7.2 129.826974)scale(0.1 -0.1)\">\r\n       <use xlink:href=\"#DejaVuSans-50\"/>\r\n       <use x=\"63.623047\" xlink:href=\"#DejaVuSans-48\"/>\r\n      </g>\r\n     </g>\r\n    </g>\r\n    <g id=\"ytick_6\">\r\n     <g id=\"line2d_14\">\r\n      <g>\r\n       <use style=\"stroke:#000000;stroke-width:0.8;\" x=\"26.925\" xlink:href=\"#me758c8e3b7\" y=\"101.374694\"/>\r\n      </g>\r\n     </g>\r\n     <g id=\"text_14\">\r\n      <!-- 25 -->\r\n      <g transform=\"translate(7.2 105.173913)scale(0.1 -0.1)\">\r\n       <use xlink:href=\"#DejaVuSans-50\"/>\r\n       <use x=\"63.623047\" xlink:href=\"#DejaVuSans-53\"/>\r\n      </g>\r\n     </g>\r\n    </g>\r\n    <g id=\"ytick_7\">\r\n     <g id=\"line2d_15\">\r\n      <g>\r\n       <use style=\"stroke:#000000;stroke-width:0.8;\" x=\"26.925\" xlink:href=\"#me758c8e3b7\" y=\"76.721633\"/>\r\n      </g>\r\n     </g>\r\n     <g id=\"text_15\">\r\n      <!-- 30 -->\r\n      <defs>\r\n       <path d=\"M 40.578125 39.3125 \r\nQ 47.65625 37.796875 51.625 33 \r\nQ 55.609375 28.21875 55.609375 21.1875 \r\nQ 55.609375 10.40625 48.1875 4.484375 \r\nQ 40.765625 -1.421875 27.09375 -1.421875 \r\nQ 22.515625 -1.421875 17.65625 -0.515625 \r\nQ 12.796875 0.390625 7.625 2.203125 \r\nL 7.625 11.71875 \r\nQ 11.71875 9.328125 16.59375 8.109375 \r\nQ 21.484375 6.890625 26.8125 6.890625 \r\nQ 36.078125 6.890625 40.9375 10.546875 \r\nQ 45.796875 14.203125 45.796875 21.1875 \r\nQ 45.796875 27.640625 41.28125 31.265625 \r\nQ 36.765625 34.90625 28.71875 34.90625 \r\nL 20.21875 34.90625 \r\nL 20.21875 43.015625 \r\nL 29.109375 43.015625 \r\nQ 36.375 43.015625 40.234375 45.921875 \r\nQ 44.09375 48.828125 44.09375 54.296875 \r\nQ 44.09375 59.90625 40.109375 62.90625 \r\nQ 36.140625 65.921875 28.71875 65.921875 \r\nQ 24.65625 65.921875 20.015625 65.03125 \r\nQ 15.375 64.15625 9.8125 62.3125 \r\nL 9.8125 71.09375 \r\nQ 15.4375 72.65625 20.34375 73.4375 \r\nQ 25.25 74.21875 29.59375 74.21875 \r\nQ 40.828125 74.21875 47.359375 69.109375 \r\nQ 53.90625 64.015625 53.90625 55.328125 \r\nQ 53.90625 49.265625 50.4375 45.09375 \r\nQ 46.96875 40.921875 40.578125 39.3125 \r\nz\r\n\" id=\"DejaVuSans-51\"/>\r\n      </defs>\r\n      <g transform=\"translate(7.2 80.520851)scale(0.1 -0.1)\">\r\n       <use xlink:href=\"#DejaVuSans-51\"/>\r\n       <use x=\"63.623047\" xlink:href=\"#DejaVuSans-48\"/>\r\n      </g>\r\n     </g>\r\n    </g>\r\n    <g id=\"ytick_8\">\r\n     <g id=\"line2d_16\">\r\n      <g>\r\n       <use style=\"stroke:#000000;stroke-width:0.8;\" x=\"26.925\" xlink:href=\"#me758c8e3b7\" y=\"52.068571\"/>\r\n      </g>\r\n     </g>\r\n     <g id=\"text_16\">\r\n      <!-- 35 -->\r\n      <g transform=\"translate(7.2 55.86779)scale(0.1 -0.1)\">\r\n       <use xlink:href=\"#DejaVuSans-51\"/>\r\n       <use x=\"63.623047\" xlink:href=\"#DejaVuSans-53\"/>\r\n      </g>\r\n     </g>\r\n    </g>\r\n    <g id=\"ytick_9\">\r\n     <g id=\"line2d_17\">\r\n      <g>\r\n       <use style=\"stroke:#000000;stroke-width:0.8;\" x=\"26.925\" xlink:href=\"#me758c8e3b7\" y=\"27.41551\"/>\r\n      </g>\r\n     </g>\r\n     <g id=\"text_17\">\r\n      <!-- 40 -->\r\n      <g transform=\"translate(7.2 31.214729)scale(0.1 -0.1)\">\r\n       <use xlink:href=\"#DejaVuSans-52\"/>\r\n       <use x=\"63.623047\" xlink:href=\"#DejaVuSans-48\"/>\r\n      </g>\r\n     </g>\r\n    </g>\r\n   </g>\r\n   <g id=\"patch_13\">\r\n    <path d=\"M 26.925 224.64 \r\nL 26.925 7.2 \r\n\" style=\"fill:none;stroke:#000000;stroke-linecap:square;stroke-linejoin:miter;stroke-width:0.8;\"/>\r\n   </g>\r\n   <g id=\"patch_14\">\r\n    <path d=\"M 361.725 224.64 \r\nL 361.725 7.2 \r\n\" style=\"fill:none;stroke:#000000;stroke-linecap:square;stroke-linejoin:miter;stroke-width:0.8;\"/>\r\n   </g>\r\n   <g id=\"patch_15\">\r\n    <path d=\"M 26.925 224.64 \r\nL 361.725 224.64 \r\n\" style=\"fill:none;stroke:#000000;stroke-linecap:square;stroke-linejoin:miter;stroke-width:0.8;\"/>\r\n   </g>\r\n   <g id=\"patch_16\">\r\n    <path d=\"M 26.925 7.2 \r\nL 361.725 7.2 \r\n\" style=\"fill:none;stroke:#000000;stroke-linecap:square;stroke-linejoin:miter;stroke-width:0.8;\"/>\r\n   </g>\r\n  </g>\r\n </g>\r\n <defs>\r\n  <clipPath id=\"pee42200327\">\r\n   <rect height=\"217.44\" width=\"334.8\" x=\"26.925\" y=\"7.2\"/>\r\n  </clipPath>\r\n </defs>\r\n</svg>\r\n",
      "image/png": "[encoded data removed]"
     },
     "metadata": {
      "needs_background": "light"
     }
    }
   ],
   "source": [
    "plt.hist(data[\"Sales\"] - data[\"sales_pred\"])"
   ]
  },
  {
   "cell_type": "markdown",
   "metadata": {},
   "source": [
    "# Regresión lineal múltiple en Python\n",
    "\n",
    "## El paquete statsmodel para regresión múltiple\n",
    "\n",
    "* Sales ~ TV\n",
    "* Sales ~ Newspaper\n",
    "* Sales ~ Radio\n",
    "* Sales ~ TV + Newspaper\n",
    "* Sales ~ TV + Radio\n",
    "* Sales ~ Newspaper + Radio\n",
    "* Sales ~ TV + Newspaper + Radio"
   ]
  },
  {
   "cell_type": "code",
   "execution_count": 21,
   "metadata": {},
   "outputs": [],
   "source": [
    "# Añadir el Newspaper al modelo existene\n",
    "lm2 = smf.ols(formula=\"Sales~TV+Newspaper\", data = data).fit()"
   ]
  },
  {
   "cell_type": "code",
   "execution_count": 22,
   "metadata": {},
   "outputs": [
    {
     "output_type": "execute_result",
     "data": {
      "text/plain": "Intercept    5.774948\nTV           0.046901\nNewspaper    0.044219\ndtype: float64"
     },
     "metadata": {},
     "execution_count": 22
    }
   ],
   "source": [
    "lm2.params"
   ]
  },
  {
   "cell_type": "code",
   "execution_count": 23,
   "metadata": {},
   "outputs": [
    {
     "output_type": "execute_result",
     "data": {
      "text/plain": "Intercept    3.145860e-22\nTV           5.507584e-44\nNewspaper    2.217084e-05\ndtype: float64"
     },
     "metadata": {},
     "execution_count": 23
    }
   ],
   "source": [
    "lm2.pvalues"
   ]
  },
  {
   "cell_type": "markdown",
   "metadata": {},
   "source": [
    "sales = 5.774948 + (0.046901 * TV) + (0.044219 * Newspaper)"
   ]
  },
  {
   "cell_type": "code",
   "execution_count": 24,
   "metadata": {},
   "outputs": [
    {
     "output_type": "execute_result",
     "data": {
      "text/plain": "0.6458354938293271"
     },
     "metadata": {},
     "execution_count": 24
    }
   ],
   "source": [
    "lm2.rsquared"
   ]
  },
  {
   "cell_type": "code",
   "execution_count": 25,
   "metadata": {},
   "outputs": [
    {
     "output_type": "execute_result",
     "data": {
      "text/plain": "0.6422399150864777"
     },
     "metadata": {},
     "execution_count": 25
    }
   ],
   "source": [
    "lm2.rsquared_adj"
   ]
  },
  {
   "cell_type": "code",
   "execution_count": 26,
   "metadata": {},
   "outputs": [],
   "source": [
    "sales_predTN = lm2.predict(data[[\"TV\", \"Newspaper\"]])"
   ]
  },
  {
   "cell_type": "code",
   "execution_count": 27,
   "metadata": {},
   "outputs": [
    {
     "output_type": "execute_result",
     "data": {
      "text/plain": "0      19.626901\n1       9.856348\n2       9.646055\n3      15.467318\n4      16.837102\n         ...    \n195     8.176802\n196    10.551220\n197    14.359467\n198    22.003458\n199    17.045429\nLength: 200, dtype: float64"
     },
     "metadata": {},
     "execution_count": 27
    }
   ],
   "source": [
    "sales_predTN"
   ]
  },
  {
   "cell_type": "code",
   "execution_count": 28,
   "metadata": {},
   "outputs": [],
   "source": [
    "# Desviación estandar de los residuos\n",
    "SSD = sum((data[\"Sales\"] - sales_predTN)**2)"
   ]
  },
  {
   "cell_type": "code",
   "execution_count": 29,
   "metadata": {},
   "outputs": [
    {
     "output_type": "execute_result",
     "data": {
      "text/plain": "1918.5618118968275"
     },
     "metadata": {},
     "execution_count": 29
    }
   ],
   "source": [
    "SSD"
   ]
  },
  {
   "cell_type": "code",
   "execution_count": 30,
   "metadata": {},
   "outputs": [],
   "source": [
    "RSE = np.sqrt(SSD / (len(data) - 3))"
   ]
  },
  {
   "cell_type": "code",
   "execution_count": 31,
   "metadata": {},
   "outputs": [
    {
     "output_type": "execute_result",
     "data": {
      "text/plain": "3.1207198602528856"
     },
     "metadata": {},
     "execution_count": 31
    }
   ],
   "source": [
    "RSE"
   ]
  },
  {
   "cell_type": "code",
   "execution_count": 32,
   "metadata": {},
   "outputs": [],
   "source": [
    "error = RSE / sales_m"
   ]
  },
  {
   "cell_type": "code",
   "execution_count": 33,
   "metadata": {},
   "outputs": [
    {
     "output_type": "execute_result",
     "data": {
      "text/plain": "0.2225508903728212"
     },
     "metadata": {},
     "execution_count": 33
    }
   ],
   "source": [
    "error"
   ]
  },
  {
   "cell_type": "code",
   "execution_count": 34,
   "metadata": {},
   "outputs": [
    {
     "output_type": "execute_result",
     "data": {
      "text/plain": "<class 'statsmodels.iolib.summary.Summary'>\n\"\"\"\n                            OLS Regression Results                            \n==============================================================================\nDep. Variable:                  Sales   R-squared:                       0.646\nModel:                            OLS   Adj. R-squared:                  0.642\nMethod:                 Least Squares   F-statistic:                     179.6\nDate:                Sat, 20 Jun 2020   Prob (F-statistic):           3.95e-45\nTime:                        05:23:45   Log-Likelihood:                -509.89\nNo. Observations:                 200   AIC:                             1026.\nDf Residuals:                     197   BIC:                             1036.\nDf Model:                           2                                         \nCovariance Type:            nonrobust                                         \n==============================================================================\n                 coef    std err          t      P>|t|      [0.025      0.975]\n------------------------------------------------------------------------------\nIntercept      5.7749      0.525     10.993      0.000       4.739       6.811\nTV             0.0469      0.003     18.173      0.000       0.042       0.052\nNewspaper      0.0442      0.010      4.346      0.000       0.024       0.064\n==============================================================================\nOmnibus:                        0.658   Durbin-Watson:                   1.969\nProb(Omnibus):                  0.720   Jarque-Bera (JB):                0.415\nSkew:                          -0.093   Prob(JB):                        0.813\nKurtosis:                       3.122   Cond. No.                         410.\n==============================================================================\n\nWarnings:\n[1] Standard Errors assume that the covariance matrix of the errors is correctly specified.\n\"\"\"",
      "text/html": "<table class=\"simpletable\">\n<caption>OLS Regression Results</caption>\n<tr>\n  <th>Dep. Variable:</th>          <td>Sales</td>      <th>  R-squared:         </th> <td>   0.646</td>\n</tr>\n<tr>\n  <th>Model:</th>                   <td>OLS</td>       <th>  Adj. R-squared:    </th> <td>   0.642</td>\n</tr>\n<tr>\n  <th>Method:</th>             <td>Least Squares</td>  <th>  F-statistic:       </th> <td>   179.6</td>\n</tr>\n<tr>\n  <th>Date:</th>             <td>Sat, 20 Jun 2020</td> <th>  Prob (F-statistic):</th> <td>3.95e-45</td>\n</tr>\n<tr>\n  <th>Time:</th>                 <td>05:23:45</td>     <th>  Log-Likelihood:    </th> <td> -509.89</td>\n</tr>\n<tr>\n  <th>No. Observations:</th>      <td>   200</td>      <th>  AIC:               </th> <td>   1026.</td>\n</tr>\n<tr>\n  <th>Df Residuals:</th>          <td>   197</td>      <th>  BIC:               </th> <td>   1036.</td>\n</tr>\n<tr>\n  <th>Df Model:</th>              <td>     2</td>      <th>                     </th>     <td> </td>   \n</tr>\n<tr>\n  <th>Covariance Type:</th>      <td>nonrobust</td>    <th>                     </th>     <td> </td>   \n</tr>\n</table>\n<table class=\"simpletable\">\n<tr>\n      <td></td>         <th>coef</th>     <th>std err</th>      <th>t</th>      <th>P>|t|</th>  <th>[0.025</th>    <th>0.975]</th>  \n</tr>\n<tr>\n  <th>Intercept</th> <td>    5.7749</td> <td>    0.525</td> <td>   10.993</td> <td> 0.000</td> <td>    4.739</td> <td>    6.811</td>\n</tr>\n<tr>\n  <th>TV</th>        <td>    0.0469</td> <td>    0.003</td> <td>   18.173</td> <td> 0.000</td> <td>    0.042</td> <td>    0.052</td>\n</tr>\n<tr>\n  <th>Newspaper</th> <td>    0.0442</td> <td>    0.010</td> <td>    4.346</td> <td> 0.000</td> <td>    0.024</td> <td>    0.064</td>\n</tr>\n</table>\n<table class=\"simpletable\">\n<tr>\n  <th>Omnibus:</th>       <td> 0.658</td> <th>  Durbin-Watson:     </th> <td>   1.969</td>\n</tr>\n<tr>\n  <th>Prob(Omnibus):</th> <td> 0.720</td> <th>  Jarque-Bera (JB):  </th> <td>   0.415</td>\n</tr>\n<tr>\n  <th>Skew:</th>          <td>-0.093</td> <th>  Prob(JB):          </th> <td>   0.813</td>\n</tr>\n<tr>\n  <th>Kurtosis:</th>      <td> 3.122</td> <th>  Cond. No.          </th> <td>    410.</td>\n</tr>\n</table><br/><br/>Warnings:<br/>[1] Standard Errors assume that the covariance matrix of the errors is correctly specified."
     },
     "metadata": {},
     "execution_count": 34
    }
   ],
   "source": [
    "lm2.summary()"
   ]
  },
  {
   "cell_type": "code",
   "execution_count": 35,
   "metadata": {},
   "outputs": [],
   "source": [
    "# Añadir la Radio al modelo existene\n",
    "lm3 = smf.ols(formula=\"Sales~TV+Radio\", data = data).fit()"
   ]
  },
  {
   "cell_type": "code",
   "execution_count": 36,
   "metadata": {},
   "outputs": [
    {
     "output_type": "execute_result",
     "data": {
      "text/plain": "<class 'statsmodels.iolib.summary.Summary'>\n\"\"\"\n                            OLS Regression Results                            \n==============================================================================\nDep. Variable:                  Sales   R-squared:                       0.897\nModel:                            OLS   Adj. R-squared:                  0.896\nMethod:                 Least Squares   F-statistic:                     859.6\nDate:                Sat, 20 Jun 2020   Prob (F-statistic):           4.83e-98\nTime:                        05:23:45   Log-Likelihood:                -386.20\nNo. Observations:                 200   AIC:                             778.4\nDf Residuals:                     197   BIC:                             788.3\nDf Model:                           2                                         \nCovariance Type:            nonrobust                                         \n==============================================================================\n                 coef    std err          t      P>|t|      [0.025      0.975]\n------------------------------------------------------------------------------\nIntercept      2.9211      0.294      9.919      0.000       2.340       3.502\nTV             0.0458      0.001     32.909      0.000       0.043       0.048\nRadio          0.1880      0.008     23.382      0.000       0.172       0.204\n==============================================================================\nOmnibus:                       60.022   Durbin-Watson:                   2.081\nProb(Omnibus):                  0.000   Jarque-Bera (JB):              148.679\nSkew:                          -1.323   Prob(JB):                     5.19e-33\nKurtosis:                       6.292   Cond. No.                         425.\n==============================================================================\n\nWarnings:\n[1] Standard Errors assume that the covariance matrix of the errors is correctly specified.\n\"\"\"",
      "text/html": "<table class=\"simpletable\">\n<caption>OLS Regression Results</caption>\n<tr>\n  <th>Dep. Variable:</th>          <td>Sales</td>      <th>  R-squared:         </th> <td>   0.897</td>\n</tr>\n<tr>\n  <th>Model:</th>                   <td>OLS</td>       <th>  Adj. R-squared:    </th> <td>   0.896</td>\n</tr>\n<tr>\n  <th>Method:</th>             <td>Least Squares</td>  <th>  F-statistic:       </th> <td>   859.6</td>\n</tr>\n<tr>\n  <th>Date:</th>             <td>Sat, 20 Jun 2020</td> <th>  Prob (F-statistic):</th> <td>4.83e-98</td>\n</tr>\n<tr>\n  <th>Time:</th>                 <td>05:23:45</td>     <th>  Log-Likelihood:    </th> <td> -386.20</td>\n</tr>\n<tr>\n  <th>No. Observations:</th>      <td>   200</td>      <th>  AIC:               </th> <td>   778.4</td>\n</tr>\n<tr>\n  <th>Df Residuals:</th>          <td>   197</td>      <th>  BIC:               </th> <td>   788.3</td>\n</tr>\n<tr>\n  <th>Df Model:</th>              <td>     2</td>      <th>                     </th>     <td> </td>   \n</tr>\n<tr>\n  <th>Covariance Type:</th>      <td>nonrobust</td>    <th>                     </th>     <td> </td>   \n</tr>\n</table>\n<table class=\"simpletable\">\n<tr>\n      <td></td>         <th>coef</th>     <th>std err</th>      <th>t</th>      <th>P>|t|</th>  <th>[0.025</th>    <th>0.975]</th>  \n</tr>\n<tr>\n  <th>Intercept</th> <td>    2.9211</td> <td>    0.294</td> <td>    9.919</td> <td> 0.000</td> <td>    2.340</td> <td>    3.502</td>\n</tr>\n<tr>\n  <th>TV</th>        <td>    0.0458</td> <td>    0.001</td> <td>   32.909</td> <td> 0.000</td> <td>    0.043</td> <td>    0.048</td>\n</tr>\n<tr>\n  <th>Radio</th>     <td>    0.1880</td> <td>    0.008</td> <td>   23.382</td> <td> 0.000</td> <td>    0.172</td> <td>    0.204</td>\n</tr>\n</table>\n<table class=\"simpletable\">\n<tr>\n  <th>Omnibus:</th>       <td>60.022</td> <th>  Durbin-Watson:     </th> <td>   2.081</td>\n</tr>\n<tr>\n  <th>Prob(Omnibus):</th> <td> 0.000</td> <th>  Jarque-Bera (JB):  </th> <td> 148.679</td>\n</tr>\n<tr>\n  <th>Skew:</th>          <td>-1.323</td> <th>  Prob(JB):          </th> <td>5.19e-33</td>\n</tr>\n<tr>\n  <th>Kurtosis:</th>      <td> 6.292</td> <th>  Cond. No.          </th> <td>    425.</td>\n</tr>\n</table><br/><br/>Warnings:<br/>[1] Standard Errors assume that the covariance matrix of the errors is correctly specified."
     },
     "metadata": {},
     "execution_count": 36
    }
   ],
   "source": [
    "lm3.summary()"
   ]
  },
  {
   "cell_type": "code",
   "execution_count": 37,
   "metadata": {},
   "outputs": [],
   "source": [
    "sales_predTR = lm3.predict(data[[\"TV\", \"Radio\"]])\n",
    "SSD = sum((data[\"Sales\"] - sales_predTR)**2)\n",
    "RSE = np.sqrt(SSD / (len(data) - 3))"
   ]
  },
  {
   "cell_type": "code",
   "execution_count": 38,
   "metadata": {},
   "outputs": [
    {
     "output_type": "execute_result",
     "data": {
      "text/plain": "1.6813609125080011"
     },
     "metadata": {},
     "execution_count": 38
    }
   ],
   "source": [
    "RSE"
   ]
  },
  {
   "cell_type": "code",
   "execution_count": 39,
   "metadata": {},
   "outputs": [
    {
     "output_type": "execute_result",
     "data": {
      "text/plain": "0.1199045043685506"
     },
     "metadata": {},
     "execution_count": 39
    }
   ],
   "source": [
    "RSE / sales_m"
   ]
  },
  {
   "cell_type": "code",
   "execution_count": 40,
   "metadata": {},
   "outputs": [],
   "source": [
    "# Añadir la Radio y Newspaper al modelo existene\n",
    "lm4 = smf.ols(formula=\"Sales~TV+Radio+Newspaper\", data = data).fit()"
   ]
  },
  {
   "cell_type": "code",
   "execution_count": 41,
   "metadata": {},
   "outputs": [
    {
     "output_type": "execute_result",
     "data": {
      "text/plain": "<class 'statsmodels.iolib.summary.Summary'>\n\"\"\"\n                            OLS Regression Results                            \n==============================================================================\nDep. Variable:                  Sales   R-squared:                       0.897\nModel:                            OLS   Adj. R-squared:                  0.896\nMethod:                 Least Squares   F-statistic:                     570.3\nDate:                Sat, 20 Jun 2020   Prob (F-statistic):           1.58e-96\nTime:                        05:23:46   Log-Likelihood:                -386.18\nNo. Observations:                 200   AIC:                             780.4\nDf Residuals:                     196   BIC:                             793.6\nDf Model:                           3                                         \nCovariance Type:            nonrobust                                         \n==============================================================================\n                 coef    std err          t      P>|t|      [0.025      0.975]\n------------------------------------------------------------------------------\nIntercept      2.9389      0.312      9.422      0.000       2.324       3.554\nTV             0.0458      0.001     32.809      0.000       0.043       0.049\nRadio          0.1885      0.009     21.893      0.000       0.172       0.206\nNewspaper     -0.0010      0.006     -0.177      0.860      -0.013       0.011\n==============================================================================\nOmnibus:                       60.414   Durbin-Watson:                   2.084\nProb(Omnibus):                  0.000   Jarque-Bera (JB):              151.241\nSkew:                          -1.327   Prob(JB):                     1.44e-33\nKurtosis:                       6.332   Cond. No.                         454.\n==============================================================================\n\nWarnings:\n[1] Standard Errors assume that the covariance matrix of the errors is correctly specified.\n\"\"\"",
      "text/html": "<table class=\"simpletable\">\n<caption>OLS Regression Results</caption>\n<tr>\n  <th>Dep. Variable:</th>          <td>Sales</td>      <th>  R-squared:         </th> <td>   0.897</td>\n</tr>\n<tr>\n  <th>Model:</th>                   <td>OLS</td>       <th>  Adj. R-squared:    </th> <td>   0.896</td>\n</tr>\n<tr>\n  <th>Method:</th>             <td>Least Squares</td>  <th>  F-statistic:       </th> <td>   570.3</td>\n</tr>\n<tr>\n  <th>Date:</th>             <td>Sat, 20 Jun 2020</td> <th>  Prob (F-statistic):</th> <td>1.58e-96</td>\n</tr>\n<tr>\n  <th>Time:</th>                 <td>05:23:46</td>     <th>  Log-Likelihood:    </th> <td> -386.18</td>\n</tr>\n<tr>\n  <th>No. Observations:</th>      <td>   200</td>      <th>  AIC:               </th> <td>   780.4</td>\n</tr>\n<tr>\n  <th>Df Residuals:</th>          <td>   196</td>      <th>  BIC:               </th> <td>   793.6</td>\n</tr>\n<tr>\n  <th>Df Model:</th>              <td>     3</td>      <th>                     </th>     <td> </td>   \n</tr>\n<tr>\n  <th>Covariance Type:</th>      <td>nonrobust</td>    <th>                     </th>     <td> </td>   \n</tr>\n</table>\n<table class=\"simpletable\">\n<tr>\n      <td></td>         <th>coef</th>     <th>std err</th>      <th>t</th>      <th>P>|t|</th>  <th>[0.025</th>    <th>0.975]</th>  \n</tr>\n<tr>\n  <th>Intercept</th> <td>    2.9389</td> <td>    0.312</td> <td>    9.422</td> <td> 0.000</td> <td>    2.324</td> <td>    3.554</td>\n</tr>\n<tr>\n  <th>TV</th>        <td>    0.0458</td> <td>    0.001</td> <td>   32.809</td> <td> 0.000</td> <td>    0.043</td> <td>    0.049</td>\n</tr>\n<tr>\n  <th>Radio</th>     <td>    0.1885</td> <td>    0.009</td> <td>   21.893</td> <td> 0.000</td> <td>    0.172</td> <td>    0.206</td>\n</tr>\n<tr>\n  <th>Newspaper</th> <td>   -0.0010</td> <td>    0.006</td> <td>   -0.177</td> <td> 0.860</td> <td>   -0.013</td> <td>    0.011</td>\n</tr>\n</table>\n<table class=\"simpletable\">\n<tr>\n  <th>Omnibus:</th>       <td>60.414</td> <th>  Durbin-Watson:     </th> <td>   2.084</td>\n</tr>\n<tr>\n  <th>Prob(Omnibus):</th> <td> 0.000</td> <th>  Jarque-Bera (JB):  </th> <td> 151.241</td>\n</tr>\n<tr>\n  <th>Skew:</th>          <td>-1.327</td> <th>  Prob(JB):          </th> <td>1.44e-33</td>\n</tr>\n<tr>\n  <th>Kurtosis:</th>      <td> 6.332</td> <th>  Cond. No.          </th> <td>    454.</td>\n</tr>\n</table><br/><br/>Warnings:<br/>[1] Standard Errors assume that the covariance matrix of the errors is correctly specified."
     },
     "metadata": {},
     "execution_count": 41
    }
   ],
   "source": [
    "lm4.summary()"
   ]
  },
  {
   "cell_type": "code",
   "execution_count": 42,
   "metadata": {},
   "outputs": [],
   "source": [
    "sales_predTRN = lm4.predict(data[[\"TV\", \"Radio\", \"Newspaper\"]])\n",
    "SSD = sum((data[\"Sales\"] - sales_predTRN)**2)\n",
    "RSE = np.sqrt(SSD / (len(data) - 4))"
   ]
  },
  {
   "cell_type": "code",
   "execution_count": 43,
   "metadata": {},
   "outputs": [
    {
     "output_type": "execute_result",
     "data": {
      "text/plain": "1.6855103734147439"
     },
     "metadata": {},
     "execution_count": 43
    }
   ],
   "source": [
    "RSE"
   ]
  },
  {
   "cell_type": "code",
   "execution_count": 44,
   "metadata": {},
   "outputs": [
    {
     "output_type": "execute_result",
     "data": {
      "text/plain": "0.12020041885646236"
     },
     "metadata": {},
     "execution_count": 44
    }
   ],
   "source": [
    "RSE / sales_m"
   ]
  },
  {
   "cell_type": "markdown",
   "metadata": {},
   "source": [
    "## Multicolinealidad\n",
    "### Factor Inflación de la Varianza\n",
    "* VIF = 1 : Las variables no están correlacionadas\n",
    "* VIF < 5 : Las variables tienen una correlación moderada y se pueden queda en el modelo\n",
    "* VIF > 5 : Las variables están altamente correlacionadas y deben desaparecer del modelo"
   ]
  },
  {
   "cell_type": "code",
   "execution_count": 48,
   "metadata": {},
   "outputs": [
    {
     "output_type": "execute_result",
     "data": {
      "text/plain": "1.1451873787239286"
     },
     "metadata": {},
     "execution_count": 48
    }
   ],
   "source": [
    "# Newspaper ~ TV + Radio -> R^2 VIF = 1 / (1 - R^2)\n",
    "lm_n = smf.ols(formula=\"Newspaper~TV+Radio\", data = data).fit()\n",
    "rsquared_n = lm_n.rsquared\n",
    "VIF = 1 / (1 - rsquared_n)\n",
    "VIF"
   ]
  },
  {
   "cell_type": "code",
   "execution_count": 49,
   "metadata": {},
   "outputs": [
    {
     "output_type": "execute_result",
     "data": {
      "text/plain": "1.0046107849396502"
     },
     "metadata": {},
     "execution_count": 49
    }
   ],
   "source": [
    "# TV ~ Newspaper + Radio -> R^2 VIF = 1 / (1 - R^2)\n",
    "lm_tv = smf.ols(formula=\"TV~Newspaper+Radio\", data = data).fit()\n",
    "rsquared_tv = lm_tv.rsquared\n",
    "VIF = 1 / (1 - rsquared_tv)\n",
    "VIF"
   ]
  },
  {
   "cell_type": "code",
   "execution_count": 50,
   "metadata": {},
   "outputs": [
    {
     "output_type": "execute_result",
     "data": {
      "text/plain": "1.1449519171055353"
     },
     "metadata": {},
     "execution_count": 50
    }
   ],
   "source": [
    "# Radio ~ Newspaper + TV -> R^2 VIF = 1 / (1 - R^2)\n",
    "lm_r = smf.ols(formula=\"Radio~Newspaper+TV\", data = data).fit()\n",
    "rsquared_r = lm_r.rsquared\n",
    "VIF = 1 / (1 - rsquared_r)\n",
    "VIF"
   ]
  }
 ],
 "metadata": {
  "kernelspec": {
   "display_name": "Python 3",
   "language": "python",
   "name": "python3"
  },
  "language_info": {
   "codemirror_mode": {
    "name": "ipython",
    "version": 3
   },
   "file_extension": ".py",
   "mimetype": "text/x-python",
   "name": "python",
   "nbconvert_exporter": "python",
   "pygments_lexer": "ipython3",
   "version": "3.7.4-final"
  }
 },
 "nbformat": 4,
 "nbformat_minor": 2
}