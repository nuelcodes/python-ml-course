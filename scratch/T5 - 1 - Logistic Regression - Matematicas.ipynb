{
 "metadata": {
  "language_info": {
   "codemirror_mode": {
    "name": "ipython",
    "version": 3
   },
   "file_extension": ".py",
   "mimetype": "text/x-python",
   "name": "python",
   "nbconvert_exporter": "python",
   "pygments_lexer": "ipython3",
   "version": 3
  },
  "orig_nbformat": 2,
  "kernelspec": {
   "name": "python_defaultSpec_1596713888771",
   "display_name": "Python 3.7.4 64-bit ('nuelcodes': virtualenv)"
  }
 },
 "nbformat": 4,
 "nbformat_minor": 2,
 "cells": [
  {
   "cell_type": "markdown",
   "metadata": {},
   "source": [
    "# La matemáticas tras la regresión logística\n",
    "\n",
    "## La tablas de contingencia"
   ]
  },
  {
   "cell_type": "code",
   "execution_count": 3,
   "metadata": {},
   "outputs": [],
   "source": [
    "import pandas as pd"
   ]
  },
  {
   "cell_type": "code",
   "execution_count": 4,
   "metadata": {},
   "outputs": [
    {
     "output_type": "execute_result",
     "data": {
      "text/plain": "   Gender Purchase\n0  Female      Yes\n1  Female      Yes\n2  Female       No\n3    Male       No\n4    Male      Yes",
      "text/html": "<div>\n<style scoped>\n    .dataframe tbody tr th:only-of-type {\n        vertical-align: middle;\n    }\n\n    .dataframe tbody tr th {\n        vertical-align: top;\n    }\n\n    .dataframe thead th {\n        text-align: right;\n    }\n</style>\n<table border=\"1\" class=\"dataframe\">\n  <thead>\n    <tr style=\"text-align: right;\">\n      <th></th>\n      <th>Gender</th>\n      <th>Purchase</th>\n    </tr>\n  </thead>\n  <tbody>\n    <tr>\n      <td>0</td>\n      <td>Female</td>\n      <td>Yes</td>\n    </tr>\n    <tr>\n      <td>1</td>\n      <td>Female</td>\n      <td>Yes</td>\n    </tr>\n    <tr>\n      <td>2</td>\n      <td>Female</td>\n      <td>No</td>\n    </tr>\n    <tr>\n      <td>3</td>\n      <td>Male</td>\n      <td>No</td>\n    </tr>\n    <tr>\n      <td>4</td>\n      <td>Male</td>\n      <td>Yes</td>\n    </tr>\n  </tbody>\n</table>\n</div>"
     },
     "metadata": {},
     "execution_count": 4
    }
   ],
   "source": [
    "df = pd.read_csv(\"/Users/nuelcodes/python-ml-course/datasets/gender-purchase/Gender Purchase.csv\")\n",
    "df.head()"
   ]
  },
  {
   "cell_type": "code",
   "execution_count": 5,
   "metadata": {},
   "outputs": [
    {
     "output_type": "execute_result",
     "data": {
      "text/plain": "(511, 2)"
     },
     "metadata": {},
     "execution_count": 5
    }
   ],
   "source": [
    "# Conocer el numero de filas y columnas (respectivamente)\n",
    "df.shape"
   ]
  },
  {
   "cell_type": "code",
   "execution_count": null,
   "metadata": {},
   "outputs": [],
   "source": []
  }
 ]
}