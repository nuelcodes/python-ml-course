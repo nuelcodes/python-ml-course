{
 "cells": [
  {
   "cell_type": "markdown",
   "metadata": {},
   "source": [
    "# Agregación de datos por categoría"
   ]
  },
  {
   "cell_type": "code",
   "execution_count": 71,
   "metadata": {},
   "outputs": [],
   "source": [
    "import numpy as np\n",
    "import pandas as pd"
   ]
  },
  {
   "cell_type": "code",
   "execution_count": 72,
   "metadata": {},
   "outputs": [],
   "source": [
    "gender = [\"Male\", \"Female\"]\n",
    "income = [\"Poor\", \"Middle Class\", \"Rich\"]\n",
    "religion = [\"Catolica\", \"Cristiana\", \"Atea\"]"
   ]
  },
  {
   "cell_type": "code",
   "execution_count": 73,
   "metadata": {},
   "outputs": [],
   "source": [
    "n = 500 \n",
    "\n",
    "gender_data = []\n",
    "income_data = []\n",
    "religion_data = []\n",
    "\n",
    "for i in range(0, n):\n",
    "    gender_data.append(np.random.choice(gender))\n",
    "    income_data.append(np.random.choice(income))\n",
    "    religion_data.append(np.random.choice(religion))"
   ]
  },
  {
   "cell_type": "code",
   "execution_count": 74,
   "metadata": {},
   "outputs": [
    {
     "output_type": "execute_result",
     "data": {
      "text/plain": "['Male',\n 'Male',\n 'Female',\n 'Female',\n 'Female',\n 'Male',\n 'Female',\n 'Male',\n 'Female']"
     },
     "metadata": {},
     "execution_count": 74
    }
   ],
   "source": [
    "gender_data[1:10]"
   ]
  },
  {
   "cell_type": "code",
   "execution_count": 75,
   "metadata": {},
   "outputs": [
    {
     "output_type": "execute_result",
     "data": {
      "text/plain": "['Middle Class',\n 'Rich',\n 'Poor',\n 'Middle Class',\n 'Middle Class',\n 'Poor',\n 'Rich',\n 'Rich',\n 'Middle Class']"
     },
     "metadata": {},
     "execution_count": 75
    }
   ],
   "source": [
    "income_data[1:10]"
   ]
  },
  {
   "cell_type": "code",
   "execution_count": 76,
   "metadata": {},
   "outputs": [
    {
     "output_type": "execute_result",
     "data": {
      "text/plain": "['Cristiana',\n 'Catolica',\n 'Atea',\n 'Catolica',\n 'Atea',\n 'Cristiana',\n 'Cristiana',\n 'Catolica',\n 'Atea']"
     },
     "metadata": {},
     "execution_count": 76
    }
   ],
   "source": [
    "religion_data[1:10]"
   ]
  },
  {
   "cell_type": "code",
   "execution_count": 77,
   "metadata": {},
   "outputs": [],
   "source": [
    "# z -> N(0,1)\n",
    "# N(m, s) -> m + s * z\n",
    "\n",
    "height = 160 + 30 * np.random.randn(n)\n",
    "weight = 65 + 25 * np.random.randn(n)\n",
    "age = 30 + 12 * np.random.randn(n)\n",
    "income = 18000 + 3500 *np.random.randn(n)"
   ]
  },
  {
   "cell_type": "code",
   "execution_count": 78,
   "metadata": {},
   "outputs": [],
   "source": [
    "data = pd.DataFrame(\n",
    "    {\n",
    "        \"Gender\" : gender_data,\n",
    "        \"Economic Status\" : income_data,\n",
    "        \"Height\" : height,\n",
    "        \"Weight\" : weight,\n",
    "        \"Age\" : age,\n",
    "        \"Income\" : income\n",
    "    }\n",
    ")"
   ]
  },
  {
   "cell_type": "code",
   "execution_count": 79,
   "metadata": {},
   "outputs": [
    {
     "output_type": "execute_result",
     "data": {
      "text/plain": "   Gender Economic Status      Height      Weight        Age        Income\n0    Male    Middle Class  137.908120   82.795885  17.956254  20996.621555\n1    Male    Middle Class  225.030922   81.801529  12.663339  25088.697310\n2    Male            Rich  103.395009   52.924286  23.085472  16031.358534\n3  Female            Poor  191.320809  109.246958  43.643251  23331.963906\n4  Female    Middle Class  177.575859  101.706515  41.805981  19443.643634",
      "text/html": "<div>\n<style scoped>\n    .dataframe tbody tr th:only-of-type {\n        vertical-align: middle;\n    }\n\n    .dataframe tbody tr th {\n        vertical-align: top;\n    }\n\n    .dataframe thead th {\n        text-align: right;\n    }\n</style>\n<table border=\"1\" class=\"dataframe\">\n  <thead>\n    <tr style=\"text-align: right;\">\n      <th></th>\n      <th>Gender</th>\n      <th>Economic Status</th>\n      <th>Height</th>\n      <th>Weight</th>\n      <th>Age</th>\n      <th>Income</th>\n    </tr>\n  </thead>\n  <tbody>\n    <tr>\n      <td>0</td>\n      <td>Male</td>\n      <td>Middle Class</td>\n      <td>137.908120</td>\n      <td>82.795885</td>\n      <td>17.956254</td>\n      <td>20996.621555</td>\n    </tr>\n    <tr>\n      <td>1</td>\n      <td>Male</td>\n      <td>Middle Class</td>\n      <td>225.030922</td>\n      <td>81.801529</td>\n      <td>12.663339</td>\n      <td>25088.697310</td>\n    </tr>\n    <tr>\n      <td>2</td>\n      <td>Male</td>\n      <td>Rich</td>\n      <td>103.395009</td>\n      <td>52.924286</td>\n      <td>23.085472</td>\n      <td>16031.358534</td>\n    </tr>\n    <tr>\n      <td>3</td>\n      <td>Female</td>\n      <td>Poor</td>\n      <td>191.320809</td>\n      <td>109.246958</td>\n      <td>43.643251</td>\n      <td>23331.963906</td>\n    </tr>\n    <tr>\n      <td>4</td>\n      <td>Female</td>\n      <td>Middle Class</td>\n      <td>177.575859</td>\n      <td>101.706515</td>\n      <td>41.805981</td>\n      <td>19443.643634</td>\n    </tr>\n  </tbody>\n</table>\n</div>"
     },
     "metadata": {},
     "execution_count": 79
    }
   ],
   "source": [
    "data.head()"
   ]
  },
  {
   "cell_type": "markdown",
   "metadata": {},
   "source": [
    "# Agrupación de datos"
   ]
  },
  {
   "cell_type": "code",
   "execution_count": 80,
   "metadata": {},
   "outputs": [],
   "source": [
    "grouped_gender = data.groupby(\"Gender\")"
   ]
  },
  {
   "cell_type": "code",
   "execution_count": 81,
   "metadata": {},
   "outputs": [
    {
     "output_type": "execute_result",
     "data": {
      "text/plain": "{'Female': Int64Index([  3,   4,   5,   7,   9,  10,  12,  13,  14,  16,\n             ...\n             476, 477, 482, 483, 484, 485, 491, 495, 496, 497],\n            dtype='int64', length=234),\n 'Male': Int64Index([  0,   1,   2,   6,   8,  11,  15,  17,  18,  19,\n             ...\n             486, 487, 488, 489, 490, 492, 493, 494, 498, 499],\n            dtype='int64', length=266)}"
     },
     "metadata": {},
     "execution_count": 81
    }
   ],
   "source": [
    "grouped_gender.groups"
   ]
  },
  {
   "cell_type": "code",
   "execution_count": 82,
   "metadata": {},
   "outputs": [
    {
     "output_type": "stream",
     "name": "stdout",
     "text": "Female\n     Gender Economic Status      Height      Weight        Age        Income\n3    Female            Poor  191.320809  109.246958  43.643251  23331.963906\n4    Female    Middle Class  177.575859  101.706515  41.805981  19443.643634\n5    Female    Middle Class  165.336778   36.294863   9.393712  16583.234151\n7    Female            Rich  202.368736   48.838333  24.954494  21769.196284\n9    Female    Middle Class  197.570978   80.451294  28.241586  21053.856942\n..      ...             ...         ...         ...        ...           ...\n485  Female    Middle Class  201.787437   30.640316  63.252944  13562.648695\n491  Female    Middle Class  154.807416   47.537277  31.064185  12026.248565\n495  Female            Rich  131.497665   89.031399  20.300270  13315.800799\n496  Female            Rich  130.296930   48.729713  31.950557  22441.710828\n497  Female    Middle Class  142.294451   62.327304  13.972160  18534.784189\n\n[234 rows x 6 columns]\nMale\n    Gender Economic Status      Height      Weight        Age        Income\n0     Male    Middle Class  137.908120   82.795885  17.956254  20996.621555\n1     Male    Middle Class  225.030922   81.801529  12.663339  25088.697310\n2     Male            Rich  103.395009   52.924286  23.085472  16031.358534\n6     Male            Poor  167.209354   36.495428  36.084783  26034.382928\n8     Male            Rich  136.527967   77.573778  20.476402  18957.859078\n..     ...             ...         ...         ...        ...           ...\n492   Male            Poor  168.343504   42.709051  31.047280  18622.351483\n493   Male            Rich  202.937452  101.996988  28.603263  20392.309117\n494   Male            Rich  228.120172   71.748480  47.375524  20948.772800\n498   Male    Middle Class  137.654015   90.267841  29.066714  20582.413558\n499   Male            Rich  118.725577  116.067448  18.672584  13598.050349\n\n[266 rows x 6 columns]\n"
    }
   ],
   "source": [
    "for names, groups in grouped_gender:\n",
    "    print(names)\n",
    "    print(groups)"
   ]
  },
  {
   "cell_type": "code",
   "execution_count": 83,
   "metadata": {},
   "outputs": [
    {
     "output_type": "execute_result",
     "data": {
      "text/plain": "     Gender Economic Status      Height      Weight        Age        Income\n3    Female            Poor  191.320809  109.246958  43.643251  23331.963906\n4    Female    Middle Class  177.575859  101.706515  41.805981  19443.643634\n5    Female    Middle Class  165.336778   36.294863   9.393712  16583.234151\n7    Female            Rich  202.368736   48.838333  24.954494  21769.196284\n9    Female    Middle Class  197.570978   80.451294  28.241586  21053.856942\n..      ...             ...         ...         ...        ...           ...\n485  Female    Middle Class  201.787437   30.640316  63.252944  13562.648695\n491  Female    Middle Class  154.807416   47.537277  31.064185  12026.248565\n495  Female            Rich  131.497665   89.031399  20.300270  13315.800799\n496  Female            Rich  130.296930   48.729713  31.950557  22441.710828\n497  Female    Middle Class  142.294451   62.327304  13.972160  18534.784189\n\n[234 rows x 6 columns]",
      "text/html": "<div>\n<style scoped>\n    .dataframe tbody tr th:only-of-type {\n        vertical-align: middle;\n    }\n\n    .dataframe tbody tr th {\n        vertical-align: top;\n    }\n\n    .dataframe thead th {\n        text-align: right;\n    }\n</style>\n<table border=\"1\" class=\"dataframe\">\n  <thead>\n    <tr style=\"text-align: right;\">\n      <th></th>\n      <th>Gender</th>\n      <th>Economic Status</th>\n      <th>Height</th>\n      <th>Weight</th>\n      <th>Age</th>\n      <th>Income</th>\n    </tr>\n  </thead>\n  <tbody>\n    <tr>\n      <td>3</td>\n      <td>Female</td>\n      <td>Poor</td>\n      <td>191.320809</td>\n      <td>109.246958</td>\n      <td>43.643251</td>\n      <td>23331.963906</td>\n    </tr>\n    <tr>\n      <td>4</td>\n      <td>Female</td>\n      <td>Middle Class</td>\n      <td>177.575859</td>\n      <td>101.706515</td>\n      <td>41.805981</td>\n      <td>19443.643634</td>\n    </tr>\n    <tr>\n      <td>5</td>\n      <td>Female</td>\n      <td>Middle Class</td>\n      <td>165.336778</td>\n      <td>36.294863</td>\n      <td>9.393712</td>\n      <td>16583.234151</td>\n    </tr>\n    <tr>\n      <td>7</td>\n      <td>Female</td>\n      <td>Rich</td>\n      <td>202.368736</td>\n      <td>48.838333</td>\n      <td>24.954494</td>\n      <td>21769.196284</td>\n    </tr>\n    <tr>\n      <td>9</td>\n      <td>Female</td>\n      <td>Middle Class</td>\n      <td>197.570978</td>\n      <td>80.451294</td>\n      <td>28.241586</td>\n      <td>21053.856942</td>\n    </tr>\n    <tr>\n      <td>...</td>\n      <td>...</td>\n      <td>...</td>\n      <td>...</td>\n      <td>...</td>\n      <td>...</td>\n      <td>...</td>\n    </tr>\n    <tr>\n      <td>485</td>\n      <td>Female</td>\n      <td>Middle Class</td>\n      <td>201.787437</td>\n      <td>30.640316</td>\n      <td>63.252944</td>\n      <td>13562.648695</td>\n    </tr>\n    <tr>\n      <td>491</td>\n      <td>Female</td>\n      <td>Middle Class</td>\n      <td>154.807416</td>\n      <td>47.537277</td>\n      <td>31.064185</td>\n      <td>12026.248565</td>\n    </tr>\n    <tr>\n      <td>495</td>\n      <td>Female</td>\n      <td>Rich</td>\n      <td>131.497665</td>\n      <td>89.031399</td>\n      <td>20.300270</td>\n      <td>13315.800799</td>\n    </tr>\n    <tr>\n      <td>496</td>\n      <td>Female</td>\n      <td>Rich</td>\n      <td>130.296930</td>\n      <td>48.729713</td>\n      <td>31.950557</td>\n      <td>22441.710828</td>\n    </tr>\n    <tr>\n      <td>497</td>\n      <td>Female</td>\n      <td>Middle Class</td>\n      <td>142.294451</td>\n      <td>62.327304</td>\n      <td>13.972160</td>\n      <td>18534.784189</td>\n    </tr>\n  </tbody>\n</table>\n<p>234 rows × 6 columns</p>\n</div>"
     },
     "metadata": {},
     "execution_count": 83
    }
   ],
   "source": [
    "grouped_gender.get_group(\"Female\")"
   ]
  },
  {
   "cell_type": "code",
   "execution_count": 84,
   "metadata": {},
   "outputs": [],
   "source": [
    "double_group = data.groupby([\"Gender\", \"Economic Status\"])"
   ]
  },
  {
   "cell_type": "code",
   "execution_count": 85,
   "metadata": {},
   "outputs": [
    {
     "output_type": "execute_result",
     "data": {
      "text/plain": "6"
     },
     "metadata": {},
     "execution_count": 85
    }
   ],
   "source": [
    "len(double_group)"
   ]
  },
  {
   "cell_type": "code",
   "execution_count": 86,
   "metadata": {},
   "outputs": [
    {
     "output_type": "stream",
     "name": "stdout",
     "text": "('Female', 'Middle Class')\n     Gender Economic Status      Height      Weight        Age        Income\n4    Female    Middle Class  177.575859  101.706515  41.805981  19443.643634\n5    Female    Middle Class  165.336778   36.294863   9.393712  16583.234151\n9    Female    Middle Class  197.570978   80.451294  28.241586  21053.856942\n12   Female    Middle Class  206.830765   38.749039  15.565446  23074.712184\n16   Female    Middle Class  178.222931   81.950567  22.660157  21408.657463\n..      ...             ...         ...         ...        ...           ...\n477  Female    Middle Class  106.361620   93.149866  14.389006  16119.671670\n484  Female    Middle Class  150.276331   29.274715  37.499921  14401.620104\n485  Female    Middle Class  201.787437   30.640316  63.252944  13562.648695\n491  Female    Middle Class  154.807416   47.537277  31.064185  12026.248565\n497  Female    Middle Class  142.294451   62.327304  13.972160  18534.784189\n\n[72 rows x 6 columns]\n('Female', 'Poor')\n     Gender Economic Status      Height      Weight        Age        Income\n3    Female            Poor  191.320809  109.246958  43.643251  23331.963906\n14   Female            Poor  138.248097   72.914932  34.552739  21131.132339\n29   Female            Poor  158.288030   69.383530  27.255319  22509.054710\n35   Female            Poor  161.207498   62.048297  56.785802  22109.157412\n41   Female            Poor  163.067779   42.622682  45.781862  20213.693286\n..      ...             ...         ...         ...        ...           ...\n415  Female            Poor  126.723591   57.848047  43.226231  20088.831502\n421  Female            Poor  139.254684   31.594096  35.952976  13656.709045\n457  Female            Poor  115.180786   33.106761  37.359967  17129.224156\n466  Female            Poor  130.465156   84.210524  45.844388  19910.073269\n482  Female            Poor  157.175130   62.539977  42.918571  23685.324030\n\n[84 rows x 6 columns]\n('Female', 'Rich')\n     Gender Economic Status      Height     Weight        Age        Income\n7    Female            Rich  202.368736  48.838333  24.954494  21769.196284\n10   Female            Rich  165.989612  74.212534  50.702016  21641.607669\n13   Female            Rich  132.861468  19.771442  34.811571  14417.322678\n26   Female            Rich  122.005913  28.049326  41.600512  17285.487847\n51   Female            Rich  136.581384  60.919712  23.240242  16955.237781\n..      ...             ...         ...        ...        ...           ...\n475  Female            Rich  168.632049  58.736414  34.055432  18854.404897\n476  Female            Rich  126.528545  75.682567  49.721268  17785.259266\n483  Female            Rich  128.967857  51.026261  24.486608  16237.123438\n495  Female            Rich  131.497665  89.031399  20.300270  13315.800799\n496  Female            Rich  130.296930  48.729713  31.950557  22441.710828\n\n[78 rows x 6 columns]\n('Male', 'Middle Class')\n    Gender Economic Status      Height     Weight        Age        Income\n0     Male    Middle Class  137.908120  82.795885  17.956254  20996.621555\n1     Male    Middle Class  225.030922  81.801529  12.663339  25088.697310\n18    Male    Middle Class  122.006401  56.277052  34.520513  18805.081061\n19    Male    Middle Class  162.439128  72.021414  12.655463  25980.885784\n22    Male    Middle Class  131.609813  81.245582  34.019179  14200.464517\n..     ...             ...         ...        ...        ...           ...\n461   Male    Middle Class  186.961965  56.832493  16.393340  20749.047114\n464   Male    Middle Class  209.822062  42.558823  41.059639  13936.446351\n486   Male    Middle Class  124.140000  70.303256  22.896730  17105.658067\n489   Male    Middle Class  172.004985  30.308493  20.668982  17000.713320\n498   Male    Middle Class  137.654015  90.267841  29.066714  20582.413558\n\n[89 rows x 6 columns]\n('Male', 'Poor')\n    Gender Economic Status      Height      Weight        Age        Income\n6     Male            Poor  167.209354   36.495428  36.084783  26034.382928\n11    Male            Poor  183.576849   15.448080  35.819098  17548.950452\n21    Male            Poor  170.216607   65.526387  22.766972  21101.439972\n36    Male            Poor  184.839846   54.774836   5.624462  16196.840803\n37    Male            Poor  140.285851   89.918523  35.455996  15112.341051\n..     ...             ...         ...         ...        ...           ...\n479   Male            Poor  151.875073    5.969566  28.914249  27912.380521\n480   Male            Poor  159.935162   56.776948  27.654425  17840.459762\n487   Male            Poor  134.041939  112.238430  55.363725  20765.601038\n490   Male            Poor  161.019896   41.328741  24.157446  20445.818302\n492   Male            Poor  168.343504   42.709051  31.047280  18622.351483\n\n[90 rows x 6 columns]\n('Male', 'Rich')\n    Gender Economic Status      Height      Weight        Age        Income\n2     Male            Rich  103.395009   52.924286  23.085472  16031.358534\n8     Male            Rich  136.527967   77.573778  20.476402  18957.859078\n15    Male            Rich  105.480167   63.424531  51.384725  21812.139397\n17    Male            Rich  137.111661   16.143032  34.040955  22012.503924\n27    Male            Rich  204.911049   66.816274  23.930933  16274.604898\n..     ...             ...         ...         ...        ...           ...\n481   Male            Rich  160.650951   61.489385  41.958201  19695.419855\n488   Male            Rich  120.280234   79.204980  44.189815  17398.022870\n493   Male            Rich  202.937452  101.996988  28.603263  20392.309117\n494   Male            Rich  228.120172   71.748480  47.375524  20948.772800\n499   Male            Rich  118.725577  116.067448  18.672584  13598.050349\n\n[87 rows x 6 columns]\n"
    }
   ],
   "source": [
    "for names, groups in double_group:\n",
    "    print(names)\n",
    "    print(groups)"
   ]
  },
  {
   "cell_type": "markdown",
   "metadata": {},
   "source": [
    "# Operaciones sobre datos agrupados"
   ]
  },
  {
   "cell_type": "code",
   "execution_count": 87,
   "metadata": {},
   "outputs": [
    {
     "output_type": "execute_result",
     "data": {
      "text/plain": "                              Height       Weight          Age        Income\nGender Economic Status                                                      \nFemale Middle Class     11734.957123  4466.602458  2146.287619  1.298767e+06\n       Poor             13508.976532  5223.995119  2538.090845  1.521119e+06\n       Rich             12259.980674  5045.140952  2522.951113  1.407588e+06\nMale   Middle Class     14063.306445  6218.415317  2683.903712  1.562747e+06\n       Poor             14753.554894  5906.533783  2631.470556  1.649761e+06\n       Rich             13410.318775  5568.352973  2560.078738  1.550681e+06",
      "text/html": "<div>\n<style scoped>\n    .dataframe tbody tr th:only-of-type {\n        vertical-align: middle;\n    }\n\n    .dataframe tbody tr th {\n        vertical-align: top;\n    }\n\n    .dataframe thead th {\n        text-align: right;\n    }\n</style>\n<table border=\"1\" class=\"dataframe\">\n  <thead>\n    <tr style=\"text-align: right;\">\n      <th></th>\n      <th></th>\n      <th>Height</th>\n      <th>Weight</th>\n      <th>Age</th>\n      <th>Income</th>\n    </tr>\n    <tr>\n      <th>Gender</th>\n      <th>Economic Status</th>\n      <th></th>\n      <th></th>\n      <th></th>\n      <th></th>\n    </tr>\n  </thead>\n  <tbody>\n    <tr>\n      <td rowspan=\"3\" valign=\"top\">Female</td>\n      <td>Middle Class</td>\n      <td>11734.957123</td>\n      <td>4466.602458</td>\n      <td>2146.287619</td>\n      <td>1.298767e+06</td>\n    </tr>\n    <tr>\n      <td>Poor</td>\n      <td>13508.976532</td>\n      <td>5223.995119</td>\n      <td>2538.090845</td>\n      <td>1.521119e+06</td>\n    </tr>\n    <tr>\n      <td>Rich</td>\n      <td>12259.980674</td>\n      <td>5045.140952</td>\n      <td>2522.951113</td>\n      <td>1.407588e+06</td>\n    </tr>\n    <tr>\n      <td rowspan=\"3\" valign=\"top\">Male</td>\n      <td>Middle Class</td>\n      <td>14063.306445</td>\n      <td>6218.415317</td>\n      <td>2683.903712</td>\n      <td>1.562747e+06</td>\n    </tr>\n    <tr>\n      <td>Poor</td>\n      <td>14753.554894</td>\n      <td>5906.533783</td>\n      <td>2631.470556</td>\n      <td>1.649761e+06</td>\n    </tr>\n    <tr>\n      <td>Rich</td>\n      <td>13410.318775</td>\n      <td>5568.352973</td>\n      <td>2560.078738</td>\n      <td>1.550681e+06</td>\n    </tr>\n  </tbody>\n</table>\n</div>"
     },
     "metadata": {},
     "execution_count": 87
    }
   ],
   "source": [
    "double_group.sum()"
   ]
  },
  {
   "cell_type": "code",
   "execution_count": 88,
   "metadata": {},
   "outputs": [
    {
     "output_type": "execute_result",
     "data": {
      "text/plain": "                            Height     Weight        Age        Income\nGender Economic Status                                                \nFemale Middle Class     162.985516  62.036145  29.809550  18038.427002\n       Poor             160.821149  62.190418  30.215367  18108.561143\n       Rich             157.179239  64.681294  32.345527  18046.000231\nMale   Middle Class     158.014679  69.869835  30.156221  17558.949815\n       Poor             163.928388  65.628153  29.238562  18330.676883\n       Rich             154.141595  64.004057  29.426192  17823.917019",
      "text/html": "<div>\n<style scoped>\n    .dataframe tbody tr th:only-of-type {\n        vertical-align: middle;\n    }\n\n    .dataframe tbody tr th {\n        vertical-align: top;\n    }\n\n    .dataframe thead th {\n        text-align: right;\n    }\n</style>\n<table border=\"1\" class=\"dataframe\">\n  <thead>\n    <tr style=\"text-align: right;\">\n      <th></th>\n      <th></th>\n      <th>Height</th>\n      <th>Weight</th>\n      <th>Age</th>\n      <th>Income</th>\n    </tr>\n    <tr>\n      <th>Gender</th>\n      <th>Economic Status</th>\n      <th></th>\n      <th></th>\n      <th></th>\n      <th></th>\n    </tr>\n  </thead>\n  <tbody>\n    <tr>\n      <td rowspan=\"3\" valign=\"top\">Female</td>\n      <td>Middle Class</td>\n      <td>162.985516</td>\n      <td>62.036145</td>\n      <td>29.809550</td>\n      <td>18038.427002</td>\n    </tr>\n    <tr>\n      <td>Poor</td>\n      <td>160.821149</td>\n      <td>62.190418</td>\n      <td>30.215367</td>\n      <td>18108.561143</td>\n    </tr>\n    <tr>\n      <td>Rich</td>\n      <td>157.179239</td>\n      <td>64.681294</td>\n      <td>32.345527</td>\n      <td>18046.000231</td>\n    </tr>\n    <tr>\n      <td rowspan=\"3\" valign=\"top\">Male</td>\n      <td>Middle Class</td>\n      <td>158.014679</td>\n      <td>69.869835</td>\n      <td>30.156221</td>\n      <td>17558.949815</td>\n    </tr>\n    <tr>\n      <td>Poor</td>\n      <td>163.928388</td>\n      <td>65.628153</td>\n      <td>29.238562</td>\n      <td>18330.676883</td>\n    </tr>\n    <tr>\n      <td>Rich</td>\n      <td>154.141595</td>\n      <td>64.004057</td>\n      <td>29.426192</td>\n      <td>17823.917019</td>\n    </tr>\n  </tbody>\n</table>\n</div>"
     },
     "metadata": {},
     "execution_count": 88
    }
   ],
   "source": [
    "double_group.mean()"
   ]
  },
  {
   "cell_type": "code",
   "execution_count": 89,
   "metadata": {},
   "outputs": [
    {
     "output_type": "execute_result",
     "data": {
      "text/plain": "Gender  Economic Status\nFemale  Middle Class       72\n        Poor               84\n        Rich               78\nMale    Middle Class       89\n        Poor               90\n        Rich               87\ndtype: int64"
     },
     "metadata": {},
     "execution_count": 89
    }
   ],
   "source": [
    "double_group.size()"
   ]
  },
  {
   "cell_type": "code",
   "execution_count": 90,
   "metadata": {},
   "outputs": [
    {
     "output_type": "execute_result",
     "data": {
      "text/plain": "                       Height                                                 \\\n                        count        mean        std         min         25%   \nGender Economic Status                                                         \nFemale Middle Class      72.0  162.985516  28.925083  100.167174  144.199855   \n       Poor              84.0  160.821149  31.773434   64.311164  138.196437   \n       Rich              78.0  157.179239  29.266919  102.750138  133.870742   \nMale   Middle Class      89.0  158.014679  31.408297   83.783662  137.908120   \n       Poor              90.0  163.928388  31.368017   74.023552  144.775095   \n       Rich              87.0  154.141595  35.258619   61.218745  127.889964   \n\n                                                           Weight             \\\n                               50%         75%         max  count       mean   \nGender Economic Status                                                         \nFemale Middle Class     156.800582  182.777061  234.343421   72.0  62.036145   \n       Poor             161.122473  185.326335  235.683228   84.0  62.190418   \n       Rich             156.253371  176.086791  231.273739   78.0  64.681294   \nMale   Middle Class     157.359127  177.857875  230.334671   89.0  69.869835   \n       Poor             164.404808  183.419221  250.511442   90.0  65.628153   \n       Rich             158.424091  181.924591  228.120172   87.0  64.004057   \n\n                        ...        Age            Income                \\\n                        ...        75%        max  count          mean   \nGender Economic Status  ...                                              \nFemale Middle Class     ...  41.032956  63.497031   72.0  18038.427002   \n       Poor             ...  39.241470  56.785802   84.0  18108.561143   \n       Rich             ...  39.037707  63.960341   78.0  18046.000231   \nMale   Middle Class     ...  38.266501  59.446353   89.0  17558.949815   \n       Poor             ...  37.810330  60.431889   90.0  18330.676883   \n       Rich             ...  36.083879  51.384725   87.0  17823.917019   \n\n                                                                               \\\n                                std           min           25%           50%   \nGender Economic Status                                                          \nFemale Middle Class     3303.245435  10147.307869  15488.524465  18538.938827   \n       Poor             3554.282380   9365.623507  15856.479856  18424.327923   \n       Rich             3297.862045   9359.111730  15956.115434  18137.484322   \nMale   Middle Class     3674.230886   7776.201367  15705.982979  17854.238724   \n       Poor             3142.560348  12665.056518  15930.248632  18295.348573   \n       Rich             3791.631620   6975.893004  15775.319808  18059.177582   \n\n                                                    \n                                 75%           max  \nGender Economic Status                              \nFemale Middle Class     20733.112945  23183.993721  \n       Poor             20679.837687  24434.850264  \n       Rich             20319.223074  26658.110903  \nMale   Middle Class     19667.512032  26038.544819  \n       Poor             20429.550722  27912.380521  \n       Rich             20331.399617  25918.412913  \n\n[6 rows x 32 columns]",
      "text/html": "<div>\n<style scoped>\n    .dataframe tbody tr th:only-of-type {\n        vertical-align: middle;\n    }\n\n    .dataframe tbody tr th {\n        vertical-align: top;\n    }\n\n    .dataframe thead tr th {\n        text-align: left;\n    }\n\n    .dataframe thead tr:last-of-type th {\n        text-align: right;\n    }\n</style>\n<table border=\"1\" class=\"dataframe\">\n  <thead>\n    <tr>\n      <th></th>\n      <th></th>\n      <th colspan=\"8\" halign=\"left\">Height</th>\n      <th colspan=\"2\" halign=\"left\">Weight</th>\n      <th>...</th>\n      <th colspan=\"2\" halign=\"left\">Age</th>\n      <th colspan=\"8\" halign=\"left\">Income</th>\n    </tr>\n    <tr>\n      <th></th>\n      <th></th>\n      <th>count</th>\n      <th>mean</th>\n      <th>std</th>\n      <th>min</th>\n      <th>25%</th>\n      <th>50%</th>\n      <th>75%</th>\n      <th>max</th>\n      <th>count</th>\n      <th>mean</th>\n      <th>...</th>\n      <th>75%</th>\n      <th>max</th>\n      <th>count</th>\n      <th>mean</th>\n      <th>std</th>\n      <th>min</th>\n      <th>25%</th>\n      <th>50%</th>\n      <th>75%</th>\n      <th>max</th>\n    </tr>\n    <tr>\n      <th>Gender</th>\n      <th>Economic Status</th>\n      <th></th>\n      <th></th>\n      <th></th>\n      <th></th>\n      <th></th>\n      <th></th>\n      <th></th>\n      <th></th>\n      <th></th>\n      <th></th>\n      <th></th>\n      <th></th>\n      <th></th>\n      <th></th>\n      <th></th>\n      <th></th>\n      <th></th>\n      <th></th>\n      <th></th>\n      <th></th>\n      <th></th>\n    </tr>\n  </thead>\n  <tbody>\n    <tr>\n      <td rowspan=\"3\" valign=\"top\">Female</td>\n      <td>Middle Class</td>\n      <td>72.0</td>\n      <td>162.985516</td>\n      <td>28.925083</td>\n      <td>100.167174</td>\n      <td>144.199855</td>\n      <td>156.800582</td>\n      <td>182.777061</td>\n      <td>234.343421</td>\n      <td>72.0</td>\n      <td>62.036145</td>\n      <td>...</td>\n      <td>41.032956</td>\n      <td>63.497031</td>\n      <td>72.0</td>\n      <td>18038.427002</td>\n      <td>3303.245435</td>\n      <td>10147.307869</td>\n      <td>15488.524465</td>\n      <td>18538.938827</td>\n      <td>20733.112945</td>\n      <td>23183.993721</td>\n    </tr>\n    <tr>\n      <td>Poor</td>\n      <td>84.0</td>\n      <td>160.821149</td>\n      <td>31.773434</td>\n      <td>64.311164</td>\n      <td>138.196437</td>\n      <td>161.122473</td>\n      <td>185.326335</td>\n      <td>235.683228</td>\n      <td>84.0</td>\n      <td>62.190418</td>\n      <td>...</td>\n      <td>39.241470</td>\n      <td>56.785802</td>\n      <td>84.0</td>\n      <td>18108.561143</td>\n      <td>3554.282380</td>\n      <td>9365.623507</td>\n      <td>15856.479856</td>\n      <td>18424.327923</td>\n      <td>20679.837687</td>\n      <td>24434.850264</td>\n    </tr>\n    <tr>\n      <td>Rich</td>\n      <td>78.0</td>\n      <td>157.179239</td>\n      <td>29.266919</td>\n      <td>102.750138</td>\n      <td>133.870742</td>\n      <td>156.253371</td>\n      <td>176.086791</td>\n      <td>231.273739</td>\n      <td>78.0</td>\n      <td>64.681294</td>\n      <td>...</td>\n      <td>39.037707</td>\n      <td>63.960341</td>\n      <td>78.0</td>\n      <td>18046.000231</td>\n      <td>3297.862045</td>\n      <td>9359.111730</td>\n      <td>15956.115434</td>\n      <td>18137.484322</td>\n      <td>20319.223074</td>\n      <td>26658.110903</td>\n    </tr>\n    <tr>\n      <td rowspan=\"3\" valign=\"top\">Male</td>\n      <td>Middle Class</td>\n      <td>89.0</td>\n      <td>158.014679</td>\n      <td>31.408297</td>\n      <td>83.783662</td>\n      <td>137.908120</td>\n      <td>157.359127</td>\n      <td>177.857875</td>\n      <td>230.334671</td>\n      <td>89.0</td>\n      <td>69.869835</td>\n      <td>...</td>\n      <td>38.266501</td>\n      <td>59.446353</td>\n      <td>89.0</td>\n      <td>17558.949815</td>\n      <td>3674.230886</td>\n      <td>7776.201367</td>\n      <td>15705.982979</td>\n      <td>17854.238724</td>\n      <td>19667.512032</td>\n      <td>26038.544819</td>\n    </tr>\n    <tr>\n      <td>Poor</td>\n      <td>90.0</td>\n      <td>163.928388</td>\n      <td>31.368017</td>\n      <td>74.023552</td>\n      <td>144.775095</td>\n      <td>164.404808</td>\n      <td>183.419221</td>\n      <td>250.511442</td>\n      <td>90.0</td>\n      <td>65.628153</td>\n      <td>...</td>\n      <td>37.810330</td>\n      <td>60.431889</td>\n      <td>90.0</td>\n      <td>18330.676883</td>\n      <td>3142.560348</td>\n      <td>12665.056518</td>\n      <td>15930.248632</td>\n      <td>18295.348573</td>\n      <td>20429.550722</td>\n      <td>27912.380521</td>\n    </tr>\n    <tr>\n      <td>Rich</td>\n      <td>87.0</td>\n      <td>154.141595</td>\n      <td>35.258619</td>\n      <td>61.218745</td>\n      <td>127.889964</td>\n      <td>158.424091</td>\n      <td>181.924591</td>\n      <td>228.120172</td>\n      <td>87.0</td>\n      <td>64.004057</td>\n      <td>...</td>\n      <td>36.083879</td>\n      <td>51.384725</td>\n      <td>87.0</td>\n      <td>17823.917019</td>\n      <td>3791.631620</td>\n      <td>6975.893004</td>\n      <td>15775.319808</td>\n      <td>18059.177582</td>\n      <td>20331.399617</td>\n      <td>25918.412913</td>\n    </tr>\n  </tbody>\n</table>\n<p>6 rows × 32 columns</p>\n</div>"
     },
     "metadata": {},
     "execution_count": 90
    }
   ],
   "source": [
    "double_group.describe()"
   ]
  },
  {
   "cell_type": "code",
   "execution_count": 91,
   "metadata": {},
   "outputs": [
    {
     "output_type": "execute_result",
     "data": {
      "text/plain": "                        count          mean          std           min  \\\nGender Economic Status                                                   \nFemale Middle Class      72.0  18038.427002  3303.245435  10147.307869   \n       Poor              84.0  18108.561143  3554.282380   9365.623507   \n       Rich              78.0  18046.000231  3297.862045   9359.111730   \nMale   Middle Class      89.0  17558.949815  3674.230886   7776.201367   \n       Poor              90.0  18330.676883  3142.560348  12665.056518   \n       Rich              87.0  17823.917019  3791.631620   6975.893004   \n\n                                 25%           50%           75%           max  \nGender Economic Status                                                          \nFemale Middle Class     15488.524465  18538.938827  20733.112945  23183.993721  \n       Poor             15856.479856  18424.327923  20679.837687  24434.850264  \n       Rich             15956.115434  18137.484322  20319.223074  26658.110903  \nMale   Middle Class     15705.982979  17854.238724  19667.512032  26038.544819  \n       Poor             15930.248632  18295.348573  20429.550722  27912.380521  \n       Rich             15775.319808  18059.177582  20331.399617  25918.412913  ",
      "text/html": "<div>\n<style scoped>\n    .dataframe tbody tr th:only-of-type {\n        vertical-align: middle;\n    }\n\n    .dataframe tbody tr th {\n        vertical-align: top;\n    }\n\n    .dataframe thead th {\n        text-align: right;\n    }\n</style>\n<table border=\"1\" class=\"dataframe\">\n  <thead>\n    <tr style=\"text-align: right;\">\n      <th></th>\n      <th></th>\n      <th>count</th>\n      <th>mean</th>\n      <th>std</th>\n      <th>min</th>\n      <th>25%</th>\n      <th>50%</th>\n      <th>75%</th>\n      <th>max</th>\n    </tr>\n    <tr>\n      <th>Gender</th>\n      <th>Economic Status</th>\n      <th></th>\n      <th></th>\n      <th></th>\n      <th></th>\n      <th></th>\n      <th></th>\n      <th></th>\n      <th></th>\n    </tr>\n  </thead>\n  <tbody>\n    <tr>\n      <td rowspan=\"3\" valign=\"top\">Female</td>\n      <td>Middle Class</td>\n      <td>72.0</td>\n      <td>18038.427002</td>\n      <td>3303.245435</td>\n      <td>10147.307869</td>\n      <td>15488.524465</td>\n      <td>18538.938827</td>\n      <td>20733.112945</td>\n      <td>23183.993721</td>\n    </tr>\n    <tr>\n      <td>Poor</td>\n      <td>84.0</td>\n      <td>18108.561143</td>\n      <td>3554.282380</td>\n      <td>9365.623507</td>\n      <td>15856.479856</td>\n      <td>18424.327923</td>\n      <td>20679.837687</td>\n      <td>24434.850264</td>\n    </tr>\n    <tr>\n      <td>Rich</td>\n      <td>78.0</td>\n      <td>18046.000231</td>\n      <td>3297.862045</td>\n      <td>9359.111730</td>\n      <td>15956.115434</td>\n      <td>18137.484322</td>\n      <td>20319.223074</td>\n      <td>26658.110903</td>\n    </tr>\n    <tr>\n      <td rowspan=\"3\" valign=\"top\">Male</td>\n      <td>Middle Class</td>\n      <td>89.0</td>\n      <td>17558.949815</td>\n      <td>3674.230886</td>\n      <td>7776.201367</td>\n      <td>15705.982979</td>\n      <td>17854.238724</td>\n      <td>19667.512032</td>\n      <td>26038.544819</td>\n    </tr>\n    <tr>\n      <td>Poor</td>\n      <td>90.0</td>\n      <td>18330.676883</td>\n      <td>3142.560348</td>\n      <td>12665.056518</td>\n      <td>15930.248632</td>\n      <td>18295.348573</td>\n      <td>20429.550722</td>\n      <td>27912.380521</td>\n    </tr>\n    <tr>\n      <td>Rich</td>\n      <td>87.0</td>\n      <td>17823.917019</td>\n      <td>3791.631620</td>\n      <td>6975.893004</td>\n      <td>15775.319808</td>\n      <td>18059.177582</td>\n      <td>20331.399617</td>\n      <td>25918.412913</td>\n    </tr>\n  </tbody>\n</table>\n</div>"
     },
     "metadata": {},
     "execution_count": 91
    }
   ],
   "source": [
    "grouped_income = double_group[\"Income\"]\n",
    "grouped_income.describe()"
   ]
  },
  {
   "cell_type": "code",
   "execution_count": 92,
   "metadata": {},
   "outputs": [
    {
     "output_type": "execute_result",
     "data": {
      "text/plain": "                              Income        Age     Height\nGender Economic Status                                    \nFemale Middle Class     1.298767e+06  29.809550  28.925083\n       Poor             1.521119e+06  30.215367  31.773434\n       Rich             1.407588e+06  32.345527  29.266919\nMale   Middle Class     1.562747e+06  30.156221  31.408297\n       Poor             1.649761e+06  29.238562  31.368017\n       Rich             1.550681e+06  29.426192  35.258619",
      "text/html": "<div>\n<style scoped>\n    .dataframe tbody tr th:only-of-type {\n        vertical-align: middle;\n    }\n\n    .dataframe tbody tr th {\n        vertical-align: top;\n    }\n\n    .dataframe thead th {\n        text-align: right;\n    }\n</style>\n<table border=\"1\" class=\"dataframe\">\n  <thead>\n    <tr style=\"text-align: right;\">\n      <th></th>\n      <th></th>\n      <th>Income</th>\n      <th>Age</th>\n      <th>Height</th>\n    </tr>\n    <tr>\n      <th>Gender</th>\n      <th>Economic Status</th>\n      <th></th>\n      <th></th>\n      <th></th>\n    </tr>\n  </thead>\n  <tbody>\n    <tr>\n      <td rowspan=\"3\" valign=\"top\">Female</td>\n      <td>Middle Class</td>\n      <td>1.298767e+06</td>\n      <td>29.809550</td>\n      <td>28.925083</td>\n    </tr>\n    <tr>\n      <td>Poor</td>\n      <td>1.521119e+06</td>\n      <td>30.215367</td>\n      <td>31.773434</td>\n    </tr>\n    <tr>\n      <td>Rich</td>\n      <td>1.407588e+06</td>\n      <td>32.345527</td>\n      <td>29.266919</td>\n    </tr>\n    <tr>\n      <td rowspan=\"3\" valign=\"top\">Male</td>\n      <td>Middle Class</td>\n      <td>1.562747e+06</td>\n      <td>30.156221</td>\n      <td>31.408297</td>\n    </tr>\n    <tr>\n      <td>Poor</td>\n      <td>1.649761e+06</td>\n      <td>29.238562</td>\n      <td>31.368017</td>\n    </tr>\n    <tr>\n      <td>Rich</td>\n      <td>1.550681e+06</td>\n      <td>29.426192</td>\n      <td>35.258619</td>\n    </tr>\n  </tbody>\n</table>\n</div>"
     },
     "metadata": {},
     "execution_count": 92
    }
   ],
   "source": [
    "double_group.aggregate(\n",
    "    {\n",
    "        \"Income\" : np.sum,\n",
    "        \"Age\" : np.mean,\n",
    "        \"Height\" : np.std\n",
    "    }\n",
    ")"
   ]
  },
  {
   "cell_type": "code",
   "execution_count": 93,
   "metadata": {},
   "outputs": [
    {
     "output_type": "execute_result",
     "data": {
      "text/plain": "                              Age    Height\nGender Economic Status                     \nFemale Middle Class     29.809550  5.674289\n       Poor             30.215367  5.091897\n       Rich             32.345527  5.405304\nMale   Middle Class     30.156221  5.059490\n       Poor             29.238562  5.255250\n       Rich             29.426192  4.397086",
      "text/html": "<div>\n<style scoped>\n    .dataframe tbody tr th:only-of-type {\n        vertical-align: middle;\n    }\n\n    .dataframe tbody tr th {\n        vertical-align: top;\n    }\n\n    .dataframe thead th {\n        text-align: right;\n    }\n</style>\n<table border=\"1\" class=\"dataframe\">\n  <thead>\n    <tr style=\"text-align: right;\">\n      <th></th>\n      <th></th>\n      <th>Age</th>\n      <th>Height</th>\n    </tr>\n    <tr>\n      <th>Gender</th>\n      <th>Economic Status</th>\n      <th></th>\n      <th></th>\n    </tr>\n  </thead>\n  <tbody>\n    <tr>\n      <td rowspan=\"3\" valign=\"top\">Female</td>\n      <td>Middle Class</td>\n      <td>29.809550</td>\n      <td>5.674289</td>\n    </tr>\n    <tr>\n      <td>Poor</td>\n      <td>30.215367</td>\n      <td>5.091897</td>\n    </tr>\n    <tr>\n      <td>Rich</td>\n      <td>32.345527</td>\n      <td>5.405304</td>\n    </tr>\n    <tr>\n      <td rowspan=\"3\" valign=\"top\">Male</td>\n      <td>Middle Class</td>\n      <td>30.156221</td>\n      <td>5.059490</td>\n    </tr>\n    <tr>\n      <td>Poor</td>\n      <td>29.238562</td>\n      <td>5.255250</td>\n    </tr>\n    <tr>\n      <td>Rich</td>\n      <td>29.426192</td>\n      <td>4.397086</td>\n    </tr>\n  </tbody>\n</table>\n</div>"
     },
     "metadata": {},
     "execution_count": 93
    }
   ],
   "source": [
    "double_group.aggregate(\n",
    "    {\n",
    "        \"Age\" : np.mean,\n",
    "        \"Height\" : lambda h:(np.mean(h))/np.std(h)\n",
    "    }\n",
    ")"
   ]
  },
  {
   "cell_type": "code",
   "execution_count": 94,
   "metadata": {},
   "outputs": [
    {
     "output_type": "execute_result",
     "data": {
      "text/plain": "                              Height                              Weight  \\\n                                 sum        mean        std          sum   \nGender Economic Status                                                     \nFemale Middle Class     11734.957123  162.985516  28.925083  4466.602458   \n       Poor             13508.976532  160.821149  31.773434  5223.995119   \n       Rich             12259.980674  157.179239  29.266919  5045.140952   \nMale   Middle Class     14063.306445  158.014679  31.408297  6218.415317   \n       Poor             14753.554894  163.928388  31.368017  5906.533783   \n       Rich             13410.318775  154.141595  35.258619  5568.352973   \n\n                                                      Age             \\\n                             mean        std          sum       mean   \nGender Economic Status                                                 \nFemale Middle Class     62.036145  28.181712  2146.287619  29.809550   \n       Poor             62.190418  23.980353  2538.090845  30.215367   \n       Rich             64.681294  24.963181  2522.951113  32.345527   \nMale   Middle Class     69.869835  23.954720  2683.903712  30.156221   \n       Poor             65.628153  26.116241  2631.470556  29.238562   \n       Rich             64.004057  23.273013  2560.078738  29.426192   \n\n                                         Income                             \n                              std           sum          mean          std  \nGender Economic Status                                                      \nFemale Middle Class     13.688388  1.298767e+06  18038.427002  3303.245435  \n       Poor             12.147209  1.521119e+06  18108.561143  3554.282380  \n       Rich             12.556400  1.407588e+06  18046.000231  3297.862045  \nMale   Middle Class     12.189654  1.562747e+06  17558.949815  3674.230886  \n       Poor             12.630171  1.649761e+06  18330.676883  3142.560348  \n       Rich             11.512112  1.550681e+06  17823.917019  3791.631620  ",
      "text/html": "<div>\n<style scoped>\n    .dataframe tbody tr th:only-of-type {\n        vertical-align: middle;\n    }\n\n    .dataframe tbody tr th {\n        vertical-align: top;\n    }\n\n    .dataframe thead tr th {\n        text-align: left;\n    }\n\n    .dataframe thead tr:last-of-type th {\n        text-align: right;\n    }\n</style>\n<table border=\"1\" class=\"dataframe\">\n  <thead>\n    <tr>\n      <th></th>\n      <th></th>\n      <th colspan=\"3\" halign=\"left\">Height</th>\n      <th colspan=\"3\" halign=\"left\">Weight</th>\n      <th colspan=\"3\" halign=\"left\">Age</th>\n      <th colspan=\"3\" halign=\"left\">Income</th>\n    </tr>\n    <tr>\n      <th></th>\n      <th></th>\n      <th>sum</th>\n      <th>mean</th>\n      <th>std</th>\n      <th>sum</th>\n      <th>mean</th>\n      <th>std</th>\n      <th>sum</th>\n      <th>mean</th>\n      <th>std</th>\n      <th>sum</th>\n      <th>mean</th>\n      <th>std</th>\n    </tr>\n    <tr>\n      <th>Gender</th>\n      <th>Economic Status</th>\n      <th></th>\n      <th></th>\n      <th></th>\n      <th></th>\n      <th></th>\n      <th></th>\n      <th></th>\n      <th></th>\n      <th></th>\n      <th></th>\n      <th></th>\n      <th></th>\n    </tr>\n  </thead>\n  <tbody>\n    <tr>\n      <td rowspan=\"3\" valign=\"top\">Female</td>\n      <td>Middle Class</td>\n      <td>11734.957123</td>\n      <td>162.985516</td>\n      <td>28.925083</td>\n      <td>4466.602458</td>\n      <td>62.036145</td>\n      <td>28.181712</td>\n      <td>2146.287619</td>\n      <td>29.809550</td>\n      <td>13.688388</td>\n      <td>1.298767e+06</td>\n      <td>18038.427002</td>\n      <td>3303.245435</td>\n    </tr>\n    <tr>\n      <td>Poor</td>\n      <td>13508.976532</td>\n      <td>160.821149</td>\n      <td>31.773434</td>\n      <td>5223.995119</td>\n      <td>62.190418</td>\n      <td>23.980353</td>\n      <td>2538.090845</td>\n      <td>30.215367</td>\n      <td>12.147209</td>\n      <td>1.521119e+06</td>\n      <td>18108.561143</td>\n      <td>3554.282380</td>\n    </tr>\n    <tr>\n      <td>Rich</td>\n      <td>12259.980674</td>\n      <td>157.179239</td>\n      <td>29.266919</td>\n      <td>5045.140952</td>\n      <td>64.681294</td>\n      <td>24.963181</td>\n      <td>2522.951113</td>\n      <td>32.345527</td>\n      <td>12.556400</td>\n      <td>1.407588e+06</td>\n      <td>18046.000231</td>\n      <td>3297.862045</td>\n    </tr>\n    <tr>\n      <td rowspan=\"3\" valign=\"top\">Male</td>\n      <td>Middle Class</td>\n      <td>14063.306445</td>\n      <td>158.014679</td>\n      <td>31.408297</td>\n      <td>6218.415317</td>\n      <td>69.869835</td>\n      <td>23.954720</td>\n      <td>2683.903712</td>\n      <td>30.156221</td>\n      <td>12.189654</td>\n      <td>1.562747e+06</td>\n      <td>17558.949815</td>\n      <td>3674.230886</td>\n    </tr>\n    <tr>\n      <td>Poor</td>\n      <td>14753.554894</td>\n      <td>163.928388</td>\n      <td>31.368017</td>\n      <td>5906.533783</td>\n      <td>65.628153</td>\n      <td>26.116241</td>\n      <td>2631.470556</td>\n      <td>29.238562</td>\n      <td>12.630171</td>\n      <td>1.649761e+06</td>\n      <td>18330.676883</td>\n      <td>3142.560348</td>\n    </tr>\n    <tr>\n      <td>Rich</td>\n      <td>13410.318775</td>\n      <td>154.141595</td>\n      <td>35.258619</td>\n      <td>5568.352973</td>\n      <td>64.004057</td>\n      <td>23.273013</td>\n      <td>2560.078738</td>\n      <td>29.426192</td>\n      <td>11.512112</td>\n      <td>1.550681e+06</td>\n      <td>17823.917019</td>\n      <td>3791.631620</td>\n    </tr>\n  </tbody>\n</table>\n</div>"
     },
     "metadata": {},
     "execution_count": 94
    }
   ],
   "source": [
    "double_group.aggregate([np.sum, np.mean, np.std])"
   ]
  },
  {
   "cell_type": "code",
   "execution_count": 95,
   "metadata": {},
   "outputs": [
    {
     "output_type": "execute_result",
     "data": {
      "text/plain": "                          Height    Weight       Age    Income\n                        <lambda>  <lambda>  <lambda>  <lambda>\nGender Economic Status                                        \nFemale Middle Class     5.674289  2.216739  2.193008  5.499141\n       Poor             5.091897  2.608966  2.502373  5.125457\n       Rich             5.405304  2.607839  2.592693  5.507448\nMale   Middle Class     5.059490  2.933272  2.487936  4.806022\n       Poor             5.255250  2.527003  2.327947  5.865717\n       Rich             4.397086  2.766084  2.570925  4.728108",
      "text/html": "<div>\n<style scoped>\n    .dataframe tbody tr th:only-of-type {\n        vertical-align: middle;\n    }\n\n    .dataframe tbody tr th {\n        vertical-align: top;\n    }\n\n    .dataframe thead tr th {\n        text-align: left;\n    }\n\n    .dataframe thead tr:last-of-type th {\n        text-align: right;\n    }\n</style>\n<table border=\"1\" class=\"dataframe\">\n  <thead>\n    <tr>\n      <th></th>\n      <th></th>\n      <th>Height</th>\n      <th>Weight</th>\n      <th>Age</th>\n      <th>Income</th>\n    </tr>\n    <tr>\n      <th></th>\n      <th></th>\n      <th>&lt;lambda&gt;</th>\n      <th>&lt;lambda&gt;</th>\n      <th>&lt;lambda&gt;</th>\n      <th>&lt;lambda&gt;</th>\n    </tr>\n    <tr>\n      <th>Gender</th>\n      <th>Economic Status</th>\n      <th></th>\n      <th></th>\n      <th></th>\n      <th></th>\n    </tr>\n  </thead>\n  <tbody>\n    <tr>\n      <td rowspan=\"3\" valign=\"top\">Female</td>\n      <td>Middle Class</td>\n      <td>5.674289</td>\n      <td>2.216739</td>\n      <td>2.193008</td>\n      <td>5.499141</td>\n    </tr>\n    <tr>\n      <td>Poor</td>\n      <td>5.091897</td>\n      <td>2.608966</td>\n      <td>2.502373</td>\n      <td>5.125457</td>\n    </tr>\n    <tr>\n      <td>Rich</td>\n      <td>5.405304</td>\n      <td>2.607839</td>\n      <td>2.592693</td>\n      <td>5.507448</td>\n    </tr>\n    <tr>\n      <td rowspan=\"3\" valign=\"top\">Male</td>\n      <td>Middle Class</td>\n      <td>5.059490</td>\n      <td>2.933272</td>\n      <td>2.487936</td>\n      <td>4.806022</td>\n    </tr>\n    <tr>\n      <td>Poor</td>\n      <td>5.255250</td>\n      <td>2.527003</td>\n      <td>2.327947</td>\n      <td>5.865717</td>\n    </tr>\n    <tr>\n      <td>Rich</td>\n      <td>4.397086</td>\n      <td>2.766084</td>\n      <td>2.570925</td>\n      <td>4.728108</td>\n    </tr>\n  </tbody>\n</table>\n</div>"
     },
     "metadata": {},
     "execution_count": 95
    }
   ],
   "source": [
    "double_group.aggregate([lambda x: np.mean(x) / np.std(x)])"
   ]
  },
  {
   "cell_type": "markdown",
   "metadata": {},
   "source": [
    "# Filtrado de datos"
   ]
  },
  {
   "cell_type": "code",
   "execution_count": 96,
   "metadata": {},
   "outputs": [
    {
     "output_type": "execute_result",
     "data": {
      "text/plain": "                              Height       Weight          Age        Income\nGender Economic Status                                                      \nFemale Middle Class     11734.957123  4466.602458  2146.287619  1.298767e+06\n       Poor             13508.976532  5223.995119  2538.090845  1.521119e+06\n       Rich             12259.980674  5045.140952  2522.951113  1.407588e+06\nMale   Middle Class     14063.306445  6218.415317  2683.903712  1.562747e+06\n       Poor             14753.554894  5906.533783  2631.470556  1.649761e+06\n       Rich             13410.318775  5568.352973  2560.078738  1.550681e+06",
      "text/html": "<div>\n<style scoped>\n    .dataframe tbody tr th:only-of-type {\n        vertical-align: middle;\n    }\n\n    .dataframe tbody tr th {\n        vertical-align: top;\n    }\n\n    .dataframe thead th {\n        text-align: right;\n    }\n</style>\n<table border=\"1\" class=\"dataframe\">\n  <thead>\n    <tr style=\"text-align: right;\">\n      <th></th>\n      <th></th>\n      <th>Height</th>\n      <th>Weight</th>\n      <th>Age</th>\n      <th>Income</th>\n    </tr>\n    <tr>\n      <th>Gender</th>\n      <th>Economic Status</th>\n      <th></th>\n      <th></th>\n      <th></th>\n      <th></th>\n    </tr>\n  </thead>\n  <tbody>\n    <tr>\n      <td rowspan=\"3\" valign=\"top\">Female</td>\n      <td>Middle Class</td>\n      <td>11734.957123</td>\n      <td>4466.602458</td>\n      <td>2146.287619</td>\n      <td>1.298767e+06</td>\n    </tr>\n    <tr>\n      <td>Poor</td>\n      <td>13508.976532</td>\n      <td>5223.995119</td>\n      <td>2538.090845</td>\n      <td>1.521119e+06</td>\n    </tr>\n    <tr>\n      <td>Rich</td>\n      <td>12259.980674</td>\n      <td>5045.140952</td>\n      <td>2522.951113</td>\n      <td>1.407588e+06</td>\n    </tr>\n    <tr>\n      <td rowspan=\"3\" valign=\"top\">Male</td>\n      <td>Middle Class</td>\n      <td>14063.306445</td>\n      <td>6218.415317</td>\n      <td>2683.903712</td>\n      <td>1.562747e+06</td>\n    </tr>\n    <tr>\n      <td>Poor</td>\n      <td>14753.554894</td>\n      <td>5906.533783</td>\n      <td>2631.470556</td>\n      <td>1.649761e+06</td>\n    </tr>\n    <tr>\n      <td>Rich</td>\n      <td>13410.318775</td>\n      <td>5568.352973</td>\n      <td>2560.078738</td>\n      <td>1.550681e+06</td>\n    </tr>\n  </tbody>\n</table>\n</div>"
     },
     "metadata": {},
     "execution_count": 96
    }
   ],
   "source": [
    "double_group.sum()"
   ]
  },
  {
   "cell_type": "code",
   "execution_count": 97,
   "metadata": {},
   "outputs": [
    {
     "output_type": "execute_result",
     "data": {
      "text/plain": "0      17.956254\n1      12.663339\n2      23.085472\n3      43.643251\n6      36.084783\n         ...    \n494    47.375524\n495    20.300270\n496    31.950557\n498    29.066714\n499    18.672584\nName: Age, Length: 428, dtype: float64"
     },
     "metadata": {},
     "execution_count": 97
    }
   ],
   "source": [
    "double_group[\"Age\"].filter(lambda x: x.sum()>2400)"
   ]
  },
  {
   "cell_type": "markdown",
   "metadata": {},
   "source": [
    "# Transformación de variables"
   ]
  },
  {
   "cell_type": "code",
   "execution_count": 98,
   "metadata": {},
   "outputs": [],
   "source": [
    " zscore = lambda x : (x - x.mean()) / x.std()"
   ]
  },
  {
   "cell_type": "code",
   "execution_count": 99,
   "metadata": {},
   "outputs": [],
   "source": [
    "z_group = double_group.transform(zscore)"
   ]
  },
  {
   "cell_type": "code",
   "execution_count": 100,
   "metadata": {},
   "outputs": [],
   "source": [
    "import matplotlib.pyplot as plt"
   ]
  },
  {
   "cell_type": "code",
   "execution_count": 101,
   "metadata": {},
   "outputs": [
    {
     "output_type": "execute_result",
     "data": {
      "text/plain": "(array([  2.,   3.,  24.,  61.,  95., 102., 101.,  68.,  32.,  12.]),\n array([-3.28293682, -2.70286067, -2.12278452, -1.54270838, -0.96263223,\n        -0.38255608,  0.19752007,  0.77759622,  1.35767237,  1.93774852,\n         2.51782466]),\n <a list of 10 Patch objects>)"
     },
     "metadata": {},
     "execution_count": 101
    },
    {
     "output_type": "display_data",
     "data": {
      "text/plain": "<Figure size 432x288 with 1 Axes>",
      "image/svg+xml": "<?xml version=\"1.0\" encoding=\"utf-8\" standalone=\"no\"?>\r\n<!DOCTYPE svg PUBLIC \"-//W3C//DTD SVG 1.1//EN\"\r\n  \"http://www.w3.org/Graphics/SVG/1.1/DTD/svg11.dtd\">\r\n<!-- Created with matplotlib (https://matplotlib.org/) -->\r\n<svg height=\"248.518125pt\" version=\"1.1\" viewBox=\"0 0 375.2875 248.518125\" width=\"375.2875pt\" xmlns=\"http://www.w3.org/2000/svg\" xmlns:xlink=\"http://www.w3.org/1999/xlink\">\r\n <defs>\r\n  <style type=\"text/css\">\r\n*{stroke-linecap:butt;stroke-linejoin:round;}\r\n  </style>\r\n </defs>\r\n <g id=\"figure_1\">\r\n  <g id=\"patch_1\">\r\n   <path d=\"M 0 248.518125 \r\nL 375.2875 248.518125 \r\nL 375.2875 0 \r\nL 0 0 \r\nz\r\n\" style=\"fill:none;\"/>\r\n  </g>\r\n  <g id=\"axes_1\">\r\n   <g id=\"patch_2\">\r\n    <path d=\"M 33.2875 224.64 \r\nL 368.0875 224.64 \r\nL 368.0875 7.2 \r\nL 33.2875 7.2 \r\nz\r\n\" style=\"fill:#ffffff;\"/>\r\n   </g>\r\n   <g id=\"patch_3\">\r\n    <path clip-path=\"url(#pd2504a3ed2)\" d=\"M 48.505682 224.64 \r\nL 78.942045 224.64 \r\nL 78.942045 220.579496 \r\nL 48.505682 220.579496 \r\nz\r\n\" style=\"fill:#1f77b4;\"/>\r\n   </g>\r\n   <g id=\"patch_4\">\r\n    <path clip-path=\"url(#pd2504a3ed2)\" d=\"M 78.942045 224.64 \r\nL 109.378409 224.64 \r\nL 109.378409 218.549244 \r\nL 78.942045 218.549244 \r\nz\r\n\" style=\"fill:#1f77b4;\"/>\r\n   </g>\r\n   <g id=\"patch_5\">\r\n    <path clip-path=\"url(#pd2504a3ed2)\" d=\"M 109.378409 224.64 \r\nL 139.814773 224.64 \r\nL 139.814773 175.91395 \r\nL 109.378409 175.91395 \r\nz\r\n\" style=\"fill:#1f77b4;\"/>\r\n   </g>\r\n   <g id=\"patch_6\">\r\n    <path clip-path=\"url(#pd2504a3ed2)\" d=\"M 139.814773 224.64 \r\nL 170.251136 224.64 \r\nL 170.251136 100.794622 \r\nL 139.814773 100.794622 \r\nz\r\n\" style=\"fill:#1f77b4;\"/>\r\n   </g>\r\n   <g id=\"patch_7\">\r\n    <path clip-path=\"url(#pd2504a3ed2)\" d=\"M 170.251136 224.64 \r\nL 200.6875 224.64 \r\nL 200.6875 31.76605 \r\nL 170.251136 31.76605 \r\nz\r\n\" style=\"fill:#1f77b4;\"/>\r\n   </g>\r\n   <g id=\"patch_8\">\r\n    <path clip-path=\"url(#pd2504a3ed2)\" d=\"M 200.6875 224.64 \r\nL 231.123864 224.64 \r\nL 231.123864 17.554286 \r\nL 200.6875 17.554286 \r\nz\r\n\" style=\"fill:#1f77b4;\"/>\r\n   </g>\r\n   <g id=\"patch_9\">\r\n    <path clip-path=\"url(#pd2504a3ed2)\" d=\"M 231.123864 224.64 \r\nL 261.560227 224.64 \r\nL 261.560227 19.584538 \r\nL 231.123864 19.584538 \r\nz\r\n\" style=\"fill:#1f77b4;\"/>\r\n   </g>\r\n   <g id=\"patch_10\">\r\n    <path clip-path=\"url(#pd2504a3ed2)\" d=\"M 261.560227 224.64 \r\nL 291.996591 224.64 \r\nL 291.996591 86.582857 \r\nL 261.560227 86.582857 \r\nz\r\n\" style=\"fill:#1f77b4;\"/>\r\n   </g>\r\n   <g id=\"patch_11\">\r\n    <path clip-path=\"url(#pd2504a3ed2)\" d=\"M 291.996591 224.64 \r\nL 322.432955 224.64 \r\nL 322.432955 159.671933 \r\nL 291.996591 159.671933 \r\nz\r\n\" style=\"fill:#1f77b4;\"/>\r\n   </g>\r\n   <g id=\"patch_12\">\r\n    <path clip-path=\"url(#pd2504a3ed2)\" d=\"M 322.432955 224.64 \r\nL 352.869318 224.64 \r\nL 352.869318 200.276975 \r\nL 322.432955 200.276975 \r\nz\r\n\" style=\"fill:#1f77b4;\"/>\r\n   </g>\r\n   <g id=\"matplotlib.axis_1\">\r\n    <g id=\"xtick_1\">\r\n     <g id=\"line2d_1\">\r\n      <defs>\r\n       <path d=\"M 0 0 \r\nL 0 3.5 \r\n\" id=\"mffe147713c\" style=\"stroke:#000000;stroke-width:0.8;\"/>\r\n      </defs>\r\n      <g>\r\n       <use style=\"stroke:#000000;stroke-width:0.8;\" x=\"63.351264\" xlink:href=\"#mffe147713c\" y=\"224.64\"/>\r\n      </g>\r\n     </g>\r\n     <g id=\"text_1\">\r\n      <!-- −3 -->\r\n      <defs>\r\n       <path d=\"M 10.59375 35.5 \r\nL 73.1875 35.5 \r\nL 73.1875 27.203125 \r\nL 10.59375 27.203125 \r\nz\r\n\" id=\"DejaVuSans-8722\"/>\r\n       <path d=\"M 40.578125 39.3125 \r\nQ 47.65625 37.796875 51.625 33 \r\nQ 55.609375 28.21875 55.609375 21.1875 \r\nQ 55.609375 10.40625 48.1875 4.484375 \r\nQ 40.765625 -1.421875 27.09375 -1.421875 \r\nQ 22.515625 -1.421875 17.65625 -0.515625 \r\nQ 12.796875 0.390625 7.625 2.203125 \r\nL 7.625 11.71875 \r\nQ 11.71875 9.328125 16.59375 8.109375 \r\nQ 21.484375 6.890625 26.8125 6.890625 \r\nQ 36.078125 6.890625 40.9375 10.546875 \r\nQ 45.796875 14.203125 45.796875 21.1875 \r\nQ 45.796875 27.640625 41.28125 31.265625 \r\nQ 36.765625 34.90625 28.71875 34.90625 \r\nL 20.21875 34.90625 \r\nL 20.21875 43.015625 \r\nL 29.109375 43.015625 \r\nQ 36.375 43.015625 40.234375 45.921875 \r\nQ 44.09375 48.828125 44.09375 54.296875 \r\nQ 44.09375 59.90625 40.109375 62.90625 \r\nQ 36.140625 65.921875 28.71875 65.921875 \r\nQ 24.65625 65.921875 20.015625 65.03125 \r\nQ 15.375 64.15625 9.8125 62.3125 \r\nL 9.8125 71.09375 \r\nQ 15.4375 72.65625 20.34375 73.4375 \r\nQ 25.25 74.21875 29.59375 74.21875 \r\nQ 40.828125 74.21875 47.359375 69.109375 \r\nQ 53.90625 64.015625 53.90625 55.328125 \r\nQ 53.90625 49.265625 50.4375 45.09375 \r\nQ 46.96875 40.921875 40.578125 39.3125 \r\nz\r\n\" id=\"DejaVuSans-51\"/>\r\n      </defs>\r\n      <g transform=\"translate(55.98017 239.238437)scale(0.1 -0.1)\">\r\n       <use xlink:href=\"#DejaVuSans-8722\"/>\r\n       <use x=\"83.789062\" xlink:href=\"#DejaVuSans-51\"/>\r\n      </g>\r\n     </g>\r\n    </g>\r\n    <g id=\"xtick_2\">\r\n     <g id=\"line2d_2\">\r\n      <g>\r\n       <use style=\"stroke:#000000;stroke-width:0.8;\" x=\"115.820864\" xlink:href=\"#mffe147713c\" y=\"224.64\"/>\r\n      </g>\r\n     </g>\r\n     <g id=\"text_2\">\r\n      <!-- −2 -->\r\n      <defs>\r\n       <path d=\"M 19.1875 8.296875 \r\nL 53.609375 8.296875 \r\nL 53.609375 0 \r\nL 7.328125 0 \r\nL 7.328125 8.296875 \r\nQ 12.9375 14.109375 22.625 23.890625 \r\nQ 32.328125 33.6875 34.8125 36.53125 \r\nQ 39.546875 41.84375 41.421875 45.53125 \r\nQ 43.3125 49.21875 43.3125 52.78125 \r\nQ 43.3125 58.59375 39.234375 62.25 \r\nQ 35.15625 65.921875 28.609375 65.921875 \r\nQ 23.96875 65.921875 18.8125 64.3125 \r\nQ 13.671875 62.703125 7.8125 59.421875 \r\nL 7.8125 69.390625 \r\nQ 13.765625 71.78125 18.9375 73 \r\nQ 24.125 74.21875 28.421875 74.21875 \r\nQ 39.75 74.21875 46.484375 68.546875 \r\nQ 53.21875 62.890625 53.21875 53.421875 \r\nQ 53.21875 48.921875 51.53125 44.890625 \r\nQ 49.859375 40.875 45.40625 35.40625 \r\nQ 44.1875 33.984375 37.640625 27.21875 \r\nQ 31.109375 20.453125 19.1875 8.296875 \r\nz\r\n\" id=\"DejaVuSans-50\"/>\r\n      </defs>\r\n      <g transform=\"translate(108.44977 239.238437)scale(0.1 -0.1)\">\r\n       <use xlink:href=\"#DejaVuSans-8722\"/>\r\n       <use x=\"83.789062\" xlink:href=\"#DejaVuSans-50\"/>\r\n      </g>\r\n     </g>\r\n    </g>\r\n    <g id=\"xtick_3\">\r\n     <g id=\"line2d_3\">\r\n      <g>\r\n       <use style=\"stroke:#000000;stroke-width:0.8;\" x=\"168.290464\" xlink:href=\"#mffe147713c\" y=\"224.64\"/>\r\n      </g>\r\n     </g>\r\n     <g id=\"text_3\">\r\n      <!-- −1 -->\r\n      <defs>\r\n       <path d=\"M 12.40625 8.296875 \r\nL 28.515625 8.296875 \r\nL 28.515625 63.921875 \r\nL 10.984375 60.40625 \r\nL 10.984375 69.390625 \r\nL 28.421875 72.90625 \r\nL 38.28125 72.90625 \r\nL 38.28125 8.296875 \r\nL 54.390625 8.296875 \r\nL 54.390625 0 \r\nL 12.40625 0 \r\nz\r\n\" id=\"DejaVuSans-49\"/>\r\n      </defs>\r\n      <g transform=\"translate(160.919371 239.238437)scale(0.1 -0.1)\">\r\n       <use xlink:href=\"#DejaVuSans-8722\"/>\r\n       <use x=\"83.789062\" xlink:href=\"#DejaVuSans-49\"/>\r\n      </g>\r\n     </g>\r\n    </g>\r\n    <g id=\"xtick_4\">\r\n     <g id=\"line2d_4\">\r\n      <g>\r\n       <use style=\"stroke:#000000;stroke-width:0.8;\" x=\"220.760065\" xlink:href=\"#mffe147713c\" y=\"224.64\"/>\r\n      </g>\r\n     </g>\r\n     <g id=\"text_4\">\r\n      <!-- 0 -->\r\n      <defs>\r\n       <path d=\"M 31.78125 66.40625 \r\nQ 24.171875 66.40625 20.328125 58.90625 \r\nQ 16.5 51.421875 16.5 36.375 \r\nQ 16.5 21.390625 20.328125 13.890625 \r\nQ 24.171875 6.390625 31.78125 6.390625 \r\nQ 39.453125 6.390625 43.28125 13.890625 \r\nQ 47.125 21.390625 47.125 36.375 \r\nQ 47.125 51.421875 43.28125 58.90625 \r\nQ 39.453125 66.40625 31.78125 66.40625 \r\nz\r\nM 31.78125 74.21875 \r\nQ 44.046875 74.21875 50.515625 64.515625 \r\nQ 56.984375 54.828125 56.984375 36.375 \r\nQ 56.984375 17.96875 50.515625 8.265625 \r\nQ 44.046875 -1.421875 31.78125 -1.421875 \r\nQ 19.53125 -1.421875 13.0625 8.265625 \r\nQ 6.59375 17.96875 6.59375 36.375 \r\nQ 6.59375 54.828125 13.0625 64.515625 \r\nQ 19.53125 74.21875 31.78125 74.21875 \r\nz\r\n\" id=\"DejaVuSans-48\"/>\r\n      </defs>\r\n      <g transform=\"translate(217.578815 239.238437)scale(0.1 -0.1)\">\r\n       <use xlink:href=\"#DejaVuSans-48\"/>\r\n      </g>\r\n     </g>\r\n    </g>\r\n    <g id=\"xtick_5\">\r\n     <g id=\"line2d_5\">\r\n      <g>\r\n       <use style=\"stroke:#000000;stroke-width:0.8;\" x=\"273.229665\" xlink:href=\"#mffe147713c\" y=\"224.64\"/>\r\n      </g>\r\n     </g>\r\n     <g id=\"text_5\">\r\n      <!-- 1 -->\r\n      <g transform=\"translate(270.048415 239.238437)scale(0.1 -0.1)\">\r\n       <use xlink:href=\"#DejaVuSans-49\"/>\r\n      </g>\r\n     </g>\r\n    </g>\r\n    <g id=\"xtick_6\">\r\n     <g id=\"line2d_6\">\r\n      <g>\r\n       <use style=\"stroke:#000000;stroke-width:0.8;\" x=\"325.699265\" xlink:href=\"#mffe147713c\" y=\"224.64\"/>\r\n      </g>\r\n     </g>\r\n     <g id=\"text_6\">\r\n      <!-- 2 -->\r\n      <g transform=\"translate(322.518015 239.238437)scale(0.1 -0.1)\">\r\n       <use xlink:href=\"#DejaVuSans-50\"/>\r\n      </g>\r\n     </g>\r\n    </g>\r\n   </g>\r\n   <g id=\"matplotlib.axis_2\">\r\n    <g id=\"ytick_1\">\r\n     <g id=\"line2d_7\">\r\n      <defs>\r\n       <path d=\"M 0 0 \r\nL -3.5 0 \r\n\" id=\"md3b2019c77\" style=\"stroke:#000000;stroke-width:0.8;\"/>\r\n      </defs>\r\n      <g>\r\n       <use style=\"stroke:#000000;stroke-width:0.8;\" x=\"33.2875\" xlink:href=\"#md3b2019c77\" y=\"224.64\"/>\r\n      </g>\r\n     </g>\r\n     <g id=\"text_7\">\r\n      <!-- 0 -->\r\n      <g transform=\"translate(19.925 228.439219)scale(0.1 -0.1)\">\r\n       <use xlink:href=\"#DejaVuSans-48\"/>\r\n      </g>\r\n     </g>\r\n    </g>\r\n    <g id=\"ytick_2\">\r\n     <g id=\"line2d_8\">\r\n      <g>\r\n       <use style=\"stroke:#000000;stroke-width:0.8;\" x=\"33.2875\" xlink:href=\"#md3b2019c77\" y=\"184.034958\"/>\r\n      </g>\r\n     </g>\r\n     <g id=\"text_8\">\r\n      <!-- 20 -->\r\n      <g transform=\"translate(13.5625 187.834177)scale(0.1 -0.1)\">\r\n       <use xlink:href=\"#DejaVuSans-50\"/>\r\n       <use x=\"63.623047\" xlink:href=\"#DejaVuSans-48\"/>\r\n      </g>\r\n     </g>\r\n    </g>\r\n    <g id=\"ytick_3\">\r\n     <g id=\"line2d_9\">\r\n      <g>\r\n       <use style=\"stroke:#000000;stroke-width:0.8;\" x=\"33.2875\" xlink:href=\"#md3b2019c77\" y=\"143.429916\"/>\r\n      </g>\r\n     </g>\r\n     <g id=\"text_9\">\r\n      <!-- 40 -->\r\n      <defs>\r\n       <path d=\"M 37.796875 64.3125 \r\nL 12.890625 25.390625 \r\nL 37.796875 25.390625 \r\nz\r\nM 35.203125 72.90625 \r\nL 47.609375 72.90625 \r\nL 47.609375 25.390625 \r\nL 58.015625 25.390625 \r\nL 58.015625 17.1875 \r\nL 47.609375 17.1875 \r\nL 47.609375 0 \r\nL 37.796875 0 \r\nL 37.796875 17.1875 \r\nL 4.890625 17.1875 \r\nL 4.890625 26.703125 \r\nz\r\n\" id=\"DejaVuSans-52\"/>\r\n      </defs>\r\n      <g transform=\"translate(13.5625 147.229135)scale(0.1 -0.1)\">\r\n       <use xlink:href=\"#DejaVuSans-52\"/>\r\n       <use x=\"63.623047\" xlink:href=\"#DejaVuSans-48\"/>\r\n      </g>\r\n     </g>\r\n    </g>\r\n    <g id=\"ytick_4\">\r\n     <g id=\"line2d_10\">\r\n      <g>\r\n       <use style=\"stroke:#000000;stroke-width:0.8;\" x=\"33.2875\" xlink:href=\"#md3b2019c77\" y=\"102.824874\"/>\r\n      </g>\r\n     </g>\r\n     <g id=\"text_10\">\r\n      <!-- 60 -->\r\n      <defs>\r\n       <path d=\"M 33.015625 40.375 \r\nQ 26.375 40.375 22.484375 35.828125 \r\nQ 18.609375 31.296875 18.609375 23.390625 \r\nQ 18.609375 15.53125 22.484375 10.953125 \r\nQ 26.375 6.390625 33.015625 6.390625 \r\nQ 39.65625 6.390625 43.53125 10.953125 \r\nQ 47.40625 15.53125 47.40625 23.390625 \r\nQ 47.40625 31.296875 43.53125 35.828125 \r\nQ 39.65625 40.375 33.015625 40.375 \r\nz\r\nM 52.59375 71.296875 \r\nL 52.59375 62.3125 \r\nQ 48.875 64.0625 45.09375 64.984375 \r\nQ 41.3125 65.921875 37.59375 65.921875 \r\nQ 27.828125 65.921875 22.671875 59.328125 \r\nQ 17.53125 52.734375 16.796875 39.40625 \r\nQ 19.671875 43.65625 24.015625 45.921875 \r\nQ 28.375 48.1875 33.59375 48.1875 \r\nQ 44.578125 48.1875 50.953125 41.515625 \r\nQ 57.328125 34.859375 57.328125 23.390625 \r\nQ 57.328125 12.15625 50.6875 5.359375 \r\nQ 44.046875 -1.421875 33.015625 -1.421875 \r\nQ 20.359375 -1.421875 13.671875 8.265625 \r\nQ 6.984375 17.96875 6.984375 36.375 \r\nQ 6.984375 53.65625 15.1875 63.9375 \r\nQ 23.390625 74.21875 37.203125 74.21875 \r\nQ 40.921875 74.21875 44.703125 73.484375 \r\nQ 48.484375 72.75 52.59375 71.296875 \r\nz\r\n\" id=\"DejaVuSans-54\"/>\r\n      </defs>\r\n      <g transform=\"translate(13.5625 106.624093)scale(0.1 -0.1)\">\r\n       <use xlink:href=\"#DejaVuSans-54\"/>\r\n       <use x=\"63.623047\" xlink:href=\"#DejaVuSans-48\"/>\r\n      </g>\r\n     </g>\r\n    </g>\r\n    <g id=\"ytick_5\">\r\n     <g id=\"line2d_11\">\r\n      <g>\r\n       <use style=\"stroke:#000000;stroke-width:0.8;\" x=\"33.2875\" xlink:href=\"#md3b2019c77\" y=\"62.219832\"/>\r\n      </g>\r\n     </g>\r\n     <g id=\"text_11\">\r\n      <!-- 80 -->\r\n      <defs>\r\n       <path d=\"M 31.78125 34.625 \r\nQ 24.75 34.625 20.71875 30.859375 \r\nQ 16.703125 27.09375 16.703125 20.515625 \r\nQ 16.703125 13.921875 20.71875 10.15625 \r\nQ 24.75 6.390625 31.78125 6.390625 \r\nQ 38.8125 6.390625 42.859375 10.171875 \r\nQ 46.921875 13.96875 46.921875 20.515625 \r\nQ 46.921875 27.09375 42.890625 30.859375 \r\nQ 38.875 34.625 31.78125 34.625 \r\nz\r\nM 21.921875 38.8125 \r\nQ 15.578125 40.375 12.03125 44.71875 \r\nQ 8.5 49.078125 8.5 55.328125 \r\nQ 8.5 64.0625 14.71875 69.140625 \r\nQ 20.953125 74.21875 31.78125 74.21875 \r\nQ 42.671875 74.21875 48.875 69.140625 \r\nQ 55.078125 64.0625 55.078125 55.328125 \r\nQ 55.078125 49.078125 51.53125 44.71875 \r\nQ 48 40.375 41.703125 38.8125 \r\nQ 48.828125 37.15625 52.796875 32.3125 \r\nQ 56.78125 27.484375 56.78125 20.515625 \r\nQ 56.78125 9.90625 50.3125 4.234375 \r\nQ 43.84375 -1.421875 31.78125 -1.421875 \r\nQ 19.734375 -1.421875 13.25 4.234375 \r\nQ 6.78125 9.90625 6.78125 20.515625 \r\nQ 6.78125 27.484375 10.78125 32.3125 \r\nQ 14.796875 37.15625 21.921875 38.8125 \r\nz\r\nM 18.3125 54.390625 \r\nQ 18.3125 48.734375 21.84375 45.5625 \r\nQ 25.390625 42.390625 31.78125 42.390625 \r\nQ 38.140625 42.390625 41.71875 45.5625 \r\nQ 45.3125 48.734375 45.3125 54.390625 \r\nQ 45.3125 60.0625 41.71875 63.234375 \r\nQ 38.140625 66.40625 31.78125 66.40625 \r\nQ 25.390625 66.40625 21.84375 63.234375 \r\nQ 18.3125 60.0625 18.3125 54.390625 \r\nz\r\n\" id=\"DejaVuSans-56\"/>\r\n      </defs>\r\n      <g transform=\"translate(13.5625 66.019051)scale(0.1 -0.1)\">\r\n       <use xlink:href=\"#DejaVuSans-56\"/>\r\n       <use x=\"63.623047\" xlink:href=\"#DejaVuSans-48\"/>\r\n      </g>\r\n     </g>\r\n    </g>\r\n    <g id=\"ytick_6\">\r\n     <g id=\"line2d_12\">\r\n      <g>\r\n       <use style=\"stroke:#000000;stroke-width:0.8;\" x=\"33.2875\" xlink:href=\"#md3b2019c77\" y=\"21.61479\"/>\r\n      </g>\r\n     </g>\r\n     <g id=\"text_12\">\r\n      <!-- 100 -->\r\n      <g transform=\"translate(7.2 25.414009)scale(0.1 -0.1)\">\r\n       <use xlink:href=\"#DejaVuSans-49\"/>\r\n       <use x=\"63.623047\" xlink:href=\"#DejaVuSans-48\"/>\r\n       <use x=\"127.246094\" xlink:href=\"#DejaVuSans-48\"/>\r\n      </g>\r\n     </g>\r\n    </g>\r\n   </g>\r\n   <g id=\"patch_13\">\r\n    <path d=\"M 33.2875 224.64 \r\nL 33.2875 7.2 \r\n\" style=\"fill:none;stroke:#000000;stroke-linecap:square;stroke-linejoin:miter;stroke-width:0.8;\"/>\r\n   </g>\r\n   <g id=\"patch_14\">\r\n    <path d=\"M 368.0875 224.64 \r\nL 368.0875 7.2 \r\n\" style=\"fill:none;stroke:#000000;stroke-linecap:square;stroke-linejoin:miter;stroke-width:0.8;\"/>\r\n   </g>\r\n   <g id=\"patch_15\">\r\n    <path d=\"M 33.2875 224.64 \r\nL 368.0875 224.64 \r\n\" style=\"fill:none;stroke:#000000;stroke-linecap:square;stroke-linejoin:miter;stroke-width:0.8;\"/>\r\n   </g>\r\n   <g id=\"patch_16\">\r\n    <path d=\"M 33.2875 7.2 \r\nL 368.0875 7.2 \r\n\" style=\"fill:none;stroke:#000000;stroke-linecap:square;stroke-linejoin:miter;stroke-width:0.8;\"/>\r\n   </g>\r\n  </g>\r\n </g>\r\n <defs>\r\n  <clipPath id=\"pd2504a3ed2\">\r\n   <rect height=\"217.44\" width=\"334.8\" x=\"33.2875\" y=\"7.2\"/>\r\n  </clipPath>\r\n </defs>\r\n</svg>\r\n",
      "image/png": "[encoded data removed]"
     },
     "metadata": {
      "needs_background": "light"
     }
    }
   ],
   "source": [
    "plt.hist(z_group[\"Age\"])"
   ]
  },
  {
   "cell_type": "markdown",
   "metadata": {},
   "source": [
    "# Operaciones diversas muy útiles"
   ]
  },
  {
   "cell_type": "code",
   "execution_count": 102,
   "metadata": {},
   "outputs": [
    {
     "output_type": "execute_result",
     "data": {
      "text/plain": "   Gender Economic Status      Height      Weight        Age        Income\n0    Male    Middle Class  137.908120   82.795885  17.956254  20996.621555\n2    Male            Rich  103.395009   52.924286  23.085472  16031.358534\n3  Female            Poor  191.320809  109.246958  43.643251  23331.963906\n4  Female    Middle Class  177.575859  101.706515  41.805981  19443.643634\n6    Male            Poor  167.209354   36.495428  36.084783  26034.382928\n7  Female            Rich  202.368736   48.838333  24.954494  21769.196284",
      "text/html": "<div>\n<style scoped>\n    .dataframe tbody tr th:only-of-type {\n        vertical-align: middle;\n    }\n\n    .dataframe tbody tr th {\n        vertical-align: top;\n    }\n\n    .dataframe thead th {\n        text-align: right;\n    }\n</style>\n<table border=\"1\" class=\"dataframe\">\n  <thead>\n    <tr style=\"text-align: right;\">\n      <th></th>\n      <th>Gender</th>\n      <th>Economic Status</th>\n      <th>Height</th>\n      <th>Weight</th>\n      <th>Age</th>\n      <th>Income</th>\n    </tr>\n  </thead>\n  <tbody>\n    <tr>\n      <td>0</td>\n      <td>Male</td>\n      <td>Middle Class</td>\n      <td>137.908120</td>\n      <td>82.795885</td>\n      <td>17.956254</td>\n      <td>20996.621555</td>\n    </tr>\n    <tr>\n      <td>2</td>\n      <td>Male</td>\n      <td>Rich</td>\n      <td>103.395009</td>\n      <td>52.924286</td>\n      <td>23.085472</td>\n      <td>16031.358534</td>\n    </tr>\n    <tr>\n      <td>3</td>\n      <td>Female</td>\n      <td>Poor</td>\n      <td>191.320809</td>\n      <td>109.246958</td>\n      <td>43.643251</td>\n      <td>23331.963906</td>\n    </tr>\n    <tr>\n      <td>4</td>\n      <td>Female</td>\n      <td>Middle Class</td>\n      <td>177.575859</td>\n      <td>101.706515</td>\n      <td>41.805981</td>\n      <td>19443.643634</td>\n    </tr>\n    <tr>\n      <td>6</td>\n      <td>Male</td>\n      <td>Poor</td>\n      <td>167.209354</td>\n      <td>36.495428</td>\n      <td>36.084783</td>\n      <td>26034.382928</td>\n    </tr>\n    <tr>\n      <td>7</td>\n      <td>Female</td>\n      <td>Rich</td>\n      <td>202.368736</td>\n      <td>48.838333</td>\n      <td>24.954494</td>\n      <td>21769.196284</td>\n    </tr>\n  </tbody>\n</table>\n</div>"
     },
     "metadata": {},
     "execution_count": 102
    }
   ],
   "source": [
    "double_group.head(1)"
   ]
  },
  {
   "cell_type": "code",
   "execution_count": 103,
   "metadata": {},
   "outputs": [
    {
     "output_type": "execute_result",
     "data": {
      "text/plain": "     Gender Economic Status      Height      Weight        Age        Income\n482  Female            Poor  157.175130   62.539977  42.918571  23685.324030\n492    Male            Poor  168.343504   42.709051  31.047280  18622.351483\n496  Female            Rich  130.296930   48.729713  31.950557  22441.710828\n497  Female    Middle Class  142.294451   62.327304  13.972160  18534.784189\n498    Male    Middle Class  137.654015   90.267841  29.066714  20582.413558\n499    Male            Rich  118.725577  116.067448  18.672584  13598.050349",
      "text/html": "<div>\n<style scoped>\n    .dataframe tbody tr th:only-of-type {\n        vertical-align: middle;\n    }\n\n    .dataframe tbody tr th {\n        vertical-align: top;\n    }\n\n    .dataframe thead th {\n        text-align: right;\n    }\n</style>\n<table border=\"1\" class=\"dataframe\">\n  <thead>\n    <tr style=\"text-align: right;\">\n      <th></th>\n      <th>Gender</th>\n      <th>Economic Status</th>\n      <th>Height</th>\n      <th>Weight</th>\n      <th>Age</th>\n      <th>Income</th>\n    </tr>\n  </thead>\n  <tbody>\n    <tr>\n      <td>482</td>\n      <td>Female</td>\n      <td>Poor</td>\n      <td>157.175130</td>\n      <td>62.539977</td>\n      <td>42.918571</td>\n      <td>23685.324030</td>\n    </tr>\n    <tr>\n      <td>492</td>\n      <td>Male</td>\n      <td>Poor</td>\n      <td>168.343504</td>\n      <td>42.709051</td>\n      <td>31.047280</td>\n      <td>18622.351483</td>\n    </tr>\n    <tr>\n      <td>496</td>\n      <td>Female</td>\n      <td>Rich</td>\n      <td>130.296930</td>\n      <td>48.729713</td>\n      <td>31.950557</td>\n      <td>22441.710828</td>\n    </tr>\n    <tr>\n      <td>497</td>\n      <td>Female</td>\n      <td>Middle Class</td>\n      <td>142.294451</td>\n      <td>62.327304</td>\n      <td>13.972160</td>\n      <td>18534.784189</td>\n    </tr>\n    <tr>\n      <td>498</td>\n      <td>Male</td>\n      <td>Middle Class</td>\n      <td>137.654015</td>\n      <td>90.267841</td>\n      <td>29.066714</td>\n      <td>20582.413558</td>\n    </tr>\n    <tr>\n      <td>499</td>\n      <td>Male</td>\n      <td>Rich</td>\n      <td>118.725577</td>\n      <td>116.067448</td>\n      <td>18.672584</td>\n      <td>13598.050349</td>\n    </tr>\n  </tbody>\n</table>\n</div>"
     },
     "metadata": {},
     "execution_count": 103
    }
   ],
   "source": [
    "double_group.tail(1)"
   ]
  },
  {
   "cell_type": "code",
   "execution_count": 104,
   "metadata": {},
   "outputs": [],
   "source": [
    "# Antes de crear el objeto groupby primero ordenar los valores a lo que necesitamos\n",
    "\n",
    "#Realizaremos una copia del data frame original\n",
    "data_sorted = data.sort_values([\"Age\", \"Income\"])"
   ]
  },
  {
   "cell_type": "code",
   "execution_count": 105,
   "metadata": {},
   "outputs": [
    {
     "output_type": "execute_result",
     "data": {
      "text/plain": "     Gender Economic Status      Height      Weight       Age        Income\n468    Male            Rich  182.477381  110.944963 -8.367343  11837.458111\n276  Female            Rich  151.774559   87.744414 -5.923006  17153.747964\n427  Female    Middle Class  120.571178   53.856381 -0.518397  14731.320266\n443    Male    Middle Class  193.756762   79.493080  2.025271  19130.437969\n363  Female            Poor  208.827149   86.860995  2.693760  14811.953572",
      "text/html": "<div>\n<style scoped>\n    .dataframe tbody tr th:only-of-type {\n        vertical-align: middle;\n    }\n\n    .dataframe tbody tr th {\n        vertical-align: top;\n    }\n\n    .dataframe thead th {\n        text-align: right;\n    }\n</style>\n<table border=\"1\" class=\"dataframe\">\n  <thead>\n    <tr style=\"text-align: right;\">\n      <th></th>\n      <th>Gender</th>\n      <th>Economic Status</th>\n      <th>Height</th>\n      <th>Weight</th>\n      <th>Age</th>\n      <th>Income</th>\n    </tr>\n  </thead>\n  <tbody>\n    <tr>\n      <td>468</td>\n      <td>Male</td>\n      <td>Rich</td>\n      <td>182.477381</td>\n      <td>110.944963</td>\n      <td>-8.367343</td>\n      <td>11837.458111</td>\n    </tr>\n    <tr>\n      <td>276</td>\n      <td>Female</td>\n      <td>Rich</td>\n      <td>151.774559</td>\n      <td>87.744414</td>\n      <td>-5.923006</td>\n      <td>17153.747964</td>\n    </tr>\n    <tr>\n      <td>427</td>\n      <td>Female</td>\n      <td>Middle Class</td>\n      <td>120.571178</td>\n      <td>53.856381</td>\n      <td>-0.518397</td>\n      <td>14731.320266</td>\n    </tr>\n    <tr>\n      <td>443</td>\n      <td>Male</td>\n      <td>Middle Class</td>\n      <td>193.756762</td>\n      <td>79.493080</td>\n      <td>2.025271</td>\n      <td>19130.437969</td>\n    </tr>\n    <tr>\n      <td>363</td>\n      <td>Female</td>\n      <td>Poor</td>\n      <td>208.827149</td>\n      <td>86.860995</td>\n      <td>2.693760</td>\n      <td>14811.953572</td>\n    </tr>\n  </tbody>\n</table>\n</div>"
     },
     "metadata": {},
     "execution_count": 105
    }
   ],
   "source": [
    "data_sorted.head()"
   ]
  },
  {
   "cell_type": "code",
   "execution_count": 106,
   "metadata": {},
   "outputs": [],
   "source": [
    "# Agrupación por género\n",
    "age_grouped = data_sorted.groupby(\"Gender\")"
   ]
  },
  {
   "cell_type": "code",
   "execution_count": 107,
   "metadata": {},
   "outputs": [
    {
     "output_type": "execute_result",
     "data": {
      "text/plain": "     Gender Economic Status      Height      Weight       Age        Income\n468    Male            Rich  182.477381  110.944963 -8.367343  11837.458111\n276  Female            Rich  151.774559   87.744414 -5.923006  17153.747964\n427  Female    Middle Class  120.571178   53.856381 -0.518397  14731.320266\n443    Male    Middle Class  193.756762   79.493080  2.025271  19130.437969\n363  Female            Poor  208.827149   86.860995  2.693760  14811.953572\n116    Male    Middle Class  168.677433   32.254815  5.401274  17108.414979\n329  Female    Middle Class  200.026781   43.241869  5.428041  18240.232140\n36     Male            Poor  184.839846   54.774836  5.624462  16196.840803\n155    Male            Poor  208.353610   74.450065  5.986088  17391.839407\n390  Female            Poor  129.217617   79.490725  6.149408  21744.959332",
      "text/html": "<div>\n<style scoped>\n    .dataframe tbody tr th:only-of-type {\n        vertical-align: middle;\n    }\n\n    .dataframe tbody tr th {\n        vertical-align: top;\n    }\n\n    .dataframe thead th {\n        text-align: right;\n    }\n</style>\n<table border=\"1\" class=\"dataframe\">\n  <thead>\n    <tr style=\"text-align: right;\">\n      <th></th>\n      <th>Gender</th>\n      <th>Economic Status</th>\n      <th>Height</th>\n      <th>Weight</th>\n      <th>Age</th>\n      <th>Income</th>\n    </tr>\n  </thead>\n  <tbody>\n    <tr>\n      <td>468</td>\n      <td>Male</td>\n      <td>Rich</td>\n      <td>182.477381</td>\n      <td>110.944963</td>\n      <td>-8.367343</td>\n      <td>11837.458111</td>\n    </tr>\n    <tr>\n      <td>276</td>\n      <td>Female</td>\n      <td>Rich</td>\n      <td>151.774559</td>\n      <td>87.744414</td>\n      <td>-5.923006</td>\n      <td>17153.747964</td>\n    </tr>\n    <tr>\n      <td>427</td>\n      <td>Female</td>\n      <td>Middle Class</td>\n      <td>120.571178</td>\n      <td>53.856381</td>\n      <td>-0.518397</td>\n      <td>14731.320266</td>\n    </tr>\n    <tr>\n      <td>443</td>\n      <td>Male</td>\n      <td>Middle Class</td>\n      <td>193.756762</td>\n      <td>79.493080</td>\n      <td>2.025271</td>\n      <td>19130.437969</td>\n    </tr>\n    <tr>\n      <td>363</td>\n      <td>Female</td>\n      <td>Poor</td>\n      <td>208.827149</td>\n      <td>86.860995</td>\n      <td>2.693760</td>\n      <td>14811.953572</td>\n    </tr>\n    <tr>\n      <td>116</td>\n      <td>Male</td>\n      <td>Middle Class</td>\n      <td>168.677433</td>\n      <td>32.254815</td>\n      <td>5.401274</td>\n      <td>17108.414979</td>\n    </tr>\n    <tr>\n      <td>329</td>\n      <td>Female</td>\n      <td>Middle Class</td>\n      <td>200.026781</td>\n      <td>43.241869</td>\n      <td>5.428041</td>\n      <td>18240.232140</td>\n    </tr>\n    <tr>\n      <td>36</td>\n      <td>Male</td>\n      <td>Poor</td>\n      <td>184.839846</td>\n      <td>54.774836</td>\n      <td>5.624462</td>\n      <td>16196.840803</td>\n    </tr>\n    <tr>\n      <td>155</td>\n      <td>Male</td>\n      <td>Poor</td>\n      <td>208.353610</td>\n      <td>74.450065</td>\n      <td>5.986088</td>\n      <td>17391.839407</td>\n    </tr>\n    <tr>\n      <td>390</td>\n      <td>Female</td>\n      <td>Poor</td>\n      <td>129.217617</td>\n      <td>79.490725</td>\n      <td>6.149408</td>\n      <td>21744.959332</td>\n    </tr>\n  </tbody>\n</table>\n</div>"
     },
     "metadata": {},
     "execution_count": 107
    }
   ],
   "source": [
    "age_grouped.head()"
   ]
  },
  {
   "cell_type": "code",
   "execution_count": 108,
   "metadata": {},
   "outputs": [
    {
     "output_type": "execute_result",
     "data": {
      "text/plain": "     Gender Economic Status      Height     Weight        Age        Income\n375    Male            Poor  163.962849   8.849891  60.431889  19948.022458\n432  Female            Rich  162.888941  89.600077  63.960341  26658.110903",
      "text/html": "<div>\n<style scoped>\n    .dataframe tbody tr th:only-of-type {\n        vertical-align: middle;\n    }\n\n    .dataframe tbody tr th {\n        vertical-align: top;\n    }\n\n    .dataframe thead th {\n        text-align: right;\n    }\n</style>\n<table border=\"1\" class=\"dataframe\">\n  <thead>\n    <tr style=\"text-align: right;\">\n      <th></th>\n      <th>Gender</th>\n      <th>Economic Status</th>\n      <th>Height</th>\n      <th>Weight</th>\n      <th>Age</th>\n      <th>Income</th>\n    </tr>\n  </thead>\n  <tbody>\n    <tr>\n      <td>375</td>\n      <td>Male</td>\n      <td>Poor</td>\n      <td>163.962849</td>\n      <td>8.849891</td>\n      <td>60.431889</td>\n      <td>19948.022458</td>\n    </tr>\n    <tr>\n      <td>432</td>\n      <td>Female</td>\n      <td>Rich</td>\n      <td>162.888941</td>\n      <td>89.600077</td>\n      <td>63.960341</td>\n      <td>26658.110903</td>\n    </tr>\n  </tbody>\n</table>\n</div>"
     },
     "metadata": {},
     "execution_count": 108
    }
   ],
   "source": [
    "# Ver a los más viejos del grupo\n",
    "age_grouped.tail(1)"
   ]
  },
  {
   "cell_type": "code",
   "execution_count": 109,
   "metadata": {},
   "outputs": [
    {
     "output_type": "execute_result",
     "data": {
      "text/plain": "     Gender Economic Status      Height      Weight       Age        Income\n468    Male            Rich  182.477381  110.944963 -8.367343  11837.458111\n276  Female            Rich  151.774559   87.744414 -5.923006  17153.747964",
      "text/html": "<div>\n<style scoped>\n    .dataframe tbody tr th:only-of-type {\n        vertical-align: middle;\n    }\n\n    .dataframe tbody tr th {\n        vertical-align: top;\n    }\n\n    .dataframe thead th {\n        text-align: right;\n    }\n</style>\n<table border=\"1\" class=\"dataframe\">\n  <thead>\n    <tr style=\"text-align: right;\">\n      <th></th>\n      <th>Gender</th>\n      <th>Economic Status</th>\n      <th>Height</th>\n      <th>Weight</th>\n      <th>Age</th>\n      <th>Income</th>\n    </tr>\n  </thead>\n  <tbody>\n    <tr>\n      <td>468</td>\n      <td>Male</td>\n      <td>Rich</td>\n      <td>182.477381</td>\n      <td>110.944963</td>\n      <td>-8.367343</td>\n      <td>11837.458111</td>\n    </tr>\n    <tr>\n      <td>276</td>\n      <td>Female</td>\n      <td>Rich</td>\n      <td>151.774559</td>\n      <td>87.744414</td>\n      <td>-5.923006</td>\n      <td>17153.747964</td>\n    </tr>\n  </tbody>\n</table>\n</div>"
     },
     "metadata": {},
     "execution_count": 109
    }
   ],
   "source": [
    "# Los más jóvenes del grupo\n",
    "age_grouped.head(1)"
   ]
  },
  {
   "cell_type": "markdown",
   "metadata": {},
   "source": [
    "## Conjunto de entrenamiento y conjunto de testing"
   ]
  },
  {
   "cell_type": "code",
   "execution_count": 110,
   "metadata": {},
   "outputs": [],
   "source": [
    "import pandas as pd"
   ]
  },
  {
   "cell_type": "code",
   "execution_count": 111,
   "metadata": {},
   "outputs": [],
   "source": [
    "data = pd.read_csv(\"/Users/nuelcodes/Data-Science-Python/datasets/customer-churn-model/Customer Churn Model.txt\")"
   ]
  },
  {
   "cell_type": "code",
   "execution_count": 112,
   "metadata": {},
   "outputs": [
    {
     "output_type": "execute_result",
     "data": {
      "text/plain": "3333"
     },
     "metadata": {},
     "execution_count": 112
    }
   ],
   "source": [
    "len(data)"
   ]
  },
  {
   "cell_type": "markdown",
   "metadata": {},
   "source": [
    "### Dividir utilizando las distribución normal"
   ]
  },
  {
   "cell_type": "code",
   "execution_count": 113,
   "metadata": {},
   "outputs": [],
   "source": [
    "# Crear un vector de la misma longitud que nuestros datos, pero distribuido de forma normal\n",
    "a = np.random.randn(len(data))"
   ]
  },
  {
   "cell_type": "code",
   "execution_count": 114,
   "metadata": {},
   "outputs": [
    {
     "output_type": "execute_result",
     "data": {
      "text/plain": "(array([  5.,  18., 123., 392., 795., 845., 737., 320.,  79.,  19.]),\n array([-3.86466614, -3.14344411, -2.42222208, -1.70100005, -0.97977802,\n        -0.25855599,  0.46266604,  1.18388807,  1.9051101 ,  2.62633213,\n         3.34755416]),\n <a list of 10 Patch objects>)"
     },
     "metadata": {},
     "execution_count": 114
    },
    {
     "output_type": "display_data",
     "data": {
      "text/plain": "<Figure size 432x288 with 1 Axes>",
      "image/svg+xml": "<?xml version=\"1.0\" encoding=\"utf-8\" standalone=\"no\"?>\r\n<!DOCTYPE svg PUBLIC \"-//W3C//DTD SVG 1.1//EN\"\r\n  \"http://www.w3.org/Graphics/SVG/1.1/DTD/svg11.dtd\">\r\n<!-- Created with matplotlib (https://matplotlib.org/) -->\r\n<svg height=\"248.518125pt\" version=\"1.1\" viewBox=\"0 0 375.2875 248.518125\" width=\"375.2875pt\" xmlns=\"http://www.w3.org/2000/svg\" xmlns:xlink=\"http://www.w3.org/1999/xlink\">\r\n <defs>\r\n  <style type=\"text/css\">\r\n*{stroke-linecap:butt;stroke-linejoin:round;}\r\n  </style>\r\n </defs>\r\n <g id=\"figure_1\">\r\n  <g id=\"patch_1\">\r\n   <path d=\"M 0 248.518125 \r\nL 375.2875 248.518125 \r\nL 375.2875 0 \r\nL 0 0 \r\nz\r\n\" style=\"fill:none;\"/>\r\n  </g>\r\n  <g id=\"axes_1\">\r\n   <g id=\"patch_2\">\r\n    <path d=\"M 33.2875 224.64 \r\nL 368.0875 224.64 \r\nL 368.0875 7.2 \r\nL 33.2875 7.2 \r\nz\r\n\" style=\"fill:#ffffff;\"/>\r\n   </g>\r\n   <g id=\"patch_3\">\r\n    <path clip-path=\"url(#paa46353464)\" d=\"M 48.505682 224.64 \r\nL 78.942045 224.64 \r\nL 78.942045 223.414641 \r\nL 48.505682 223.414641 \r\nz\r\n\" style=\"fill:#1f77b4;\"/>\r\n   </g>\r\n   <g id=\"patch_4\">\r\n    <path clip-path=\"url(#paa46353464)\" d=\"M 78.942045 224.64 \r\nL 109.378409 224.64 \r\nL 109.378409 220.228707 \r\nL 78.942045 220.228707 \r\nz\r\n\" style=\"fill:#1f77b4;\"/>\r\n   </g>\r\n   <g id=\"patch_5\">\r\n    <path clip-path=\"url(#paa46353464)\" d=\"M 109.378409 224.64 \r\nL 139.814773 224.64 \r\nL 139.814773 194.496162 \r\nL 109.378409 194.496162 \r\nz\r\n\" style=\"fill:#1f77b4;\"/>\r\n   </g>\r\n   <g id=\"patch_6\">\r\n    <path clip-path=\"url(#paa46353464)\" d=\"M 139.814773 224.64 \r\nL 170.251136 224.64 \r\nL 170.251136 128.571834 \r\nL 139.814773 128.571834 \r\nz\r\n\" style=\"fill:#1f77b4;\"/>\r\n   </g>\r\n   <g id=\"patch_7\">\r\n    <path clip-path=\"url(#paa46353464)\" d=\"M 170.251136 224.64 \r\nL 200.6875 224.64 \r\nL 200.6875 29.807878 \r\nL 170.251136 29.807878 \r\nz\r\n\" style=\"fill:#1f77b4;\"/>\r\n   </g>\r\n   <g id=\"patch_8\">\r\n    <path clip-path=\"url(#paa46353464)\" d=\"M 200.6875 224.64 \r\nL 231.123864 224.64 \r\nL 231.123864 17.554286 \r\nL 200.6875 17.554286 \r\nz\r\n\" style=\"fill:#1f77b4;\"/>\r\n   </g>\r\n   <g id=\"patch_9\">\r\n    <path clip-path=\"url(#paa46353464)\" d=\"M 231.123864 224.64 \r\nL 261.560227 224.64 \r\nL 261.560227 44.022046 \r\nL 231.123864 44.022046 \r\nz\r\n\" style=\"fill:#1f77b4;\"/>\r\n   </g>\r\n   <g id=\"patch_10\">\r\n    <path clip-path=\"url(#paa46353464)\" d=\"M 261.560227 224.64 \r\nL 291.996591 224.64 \r\nL 291.996591 146.217008 \r\nL 261.560227 146.217008 \r\nz\r\n\" style=\"fill:#1f77b4;\"/>\r\n   </g>\r\n   <g id=\"patch_11\">\r\n    <path clip-path=\"url(#paa46353464)\" d=\"M 291.996591 224.64 \r\nL 322.432955 224.64 \r\nL 322.432955 205.279324 \r\nL 291.996591 205.279324 \r\nz\r\n\" style=\"fill:#1f77b4;\"/>\r\n   </g>\r\n   <g id=\"patch_12\">\r\n    <path clip-path=\"url(#paa46353464)\" d=\"M 322.432955 224.64 \r\nL 352.869318 224.64 \r\nL 352.869318 219.983635 \r\nL 322.432955 219.983635 \r\nz\r\n\" style=\"fill:#1f77b4;\"/>\r\n   </g>\r\n   <g id=\"matplotlib.axis_1\">\r\n    <g id=\"xtick_1\">\r\n     <g id=\"line2d_1\">\r\n      <defs>\r\n       <path d=\"M 0 0 \r\nL 0 3.5 \r\n\" id=\"m5f9900ba43\" style=\"stroke:#000000;stroke-width:0.8;\"/>\r\n      </defs>\r\n      <g>\r\n       <use style=\"stroke:#000000;stroke-width:0.8;\" x=\"42.794444\" xlink:href=\"#m5f9900ba43\" y=\"224.64\"/>\r\n      </g>\r\n     </g>\r\n     <g id=\"text_1\">\r\n      <!-- −4 -->\r\n      <defs>\r\n       <path d=\"M 10.59375 35.5 \r\nL 73.1875 35.5 \r\nL 73.1875 27.203125 \r\nL 10.59375 27.203125 \r\nz\r\n\" id=\"DejaVuSans-8722\"/>\r\n       <path d=\"M 37.796875 64.3125 \r\nL 12.890625 25.390625 \r\nL 37.796875 25.390625 \r\nz\r\nM 35.203125 72.90625 \r\nL 47.609375 72.90625 \r\nL 47.609375 25.390625 \r\nL 58.015625 25.390625 \r\nL 58.015625 17.1875 \r\nL 47.609375 17.1875 \r\nL 47.609375 0 \r\nL 37.796875 0 \r\nL 37.796875 17.1875 \r\nL 4.890625 17.1875 \r\nL 4.890625 26.703125 \r\nz\r\n\" id=\"DejaVuSans-52\"/>\r\n      </defs>\r\n      <g transform=\"translate(35.42335 239.238437)scale(0.1 -0.1)\">\r\n       <use xlink:href=\"#DejaVuSans-8722\"/>\r\n       <use x=\"83.789062\" xlink:href=\"#DejaVuSans-52\"/>\r\n      </g>\r\n     </g>\r\n    </g>\r\n    <g id=\"xtick_2\">\r\n     <g id=\"line2d_2\">\r\n      <g>\r\n       <use style=\"stroke:#000000;stroke-width:0.8;\" x=\"84.995545\" xlink:href=\"#m5f9900ba43\" y=\"224.64\"/>\r\n      </g>\r\n     </g>\r\n     <g id=\"text_2\">\r\n      <!-- −3 -->\r\n      <defs>\r\n       <path d=\"M 40.578125 39.3125 \r\nQ 47.65625 37.796875 51.625 33 \r\nQ 55.609375 28.21875 55.609375 21.1875 \r\nQ 55.609375 10.40625 48.1875 4.484375 \r\nQ 40.765625 -1.421875 27.09375 -1.421875 \r\nQ 22.515625 -1.421875 17.65625 -0.515625 \r\nQ 12.796875 0.390625 7.625 2.203125 \r\nL 7.625 11.71875 \r\nQ 11.71875 9.328125 16.59375 8.109375 \r\nQ 21.484375 6.890625 26.8125 6.890625 \r\nQ 36.078125 6.890625 40.9375 10.546875 \r\nQ 45.796875 14.203125 45.796875 21.1875 \r\nQ 45.796875 27.640625 41.28125 31.265625 \r\nQ 36.765625 34.90625 28.71875 34.90625 \r\nL 20.21875 34.90625 \r\nL 20.21875 43.015625 \r\nL 29.109375 43.015625 \r\nQ 36.375 43.015625 40.234375 45.921875 \r\nQ 44.09375 48.828125 44.09375 54.296875 \r\nQ 44.09375 59.90625 40.109375 62.90625 \r\nQ 36.140625 65.921875 28.71875 65.921875 \r\nQ 24.65625 65.921875 20.015625 65.03125 \r\nQ 15.375 64.15625 9.8125 62.3125 \r\nL 9.8125 71.09375 \r\nQ 15.4375 72.65625 20.34375 73.4375 \r\nQ 25.25 74.21875 29.59375 74.21875 \r\nQ 40.828125 74.21875 47.359375 69.109375 \r\nQ 53.90625 64.015625 53.90625 55.328125 \r\nQ 53.90625 49.265625 50.4375 45.09375 \r\nQ 46.96875 40.921875 40.578125 39.3125 \r\nz\r\n\" id=\"DejaVuSans-51\"/>\r\n      </defs>\r\n      <g transform=\"translate(77.624451 239.238437)scale(0.1 -0.1)\">\r\n       <use xlink:href=\"#DejaVuSans-8722\"/>\r\n       <use x=\"83.789062\" xlink:href=\"#DejaVuSans-51\"/>\r\n      </g>\r\n     </g>\r\n    </g>\r\n    <g id=\"xtick_3\">\r\n     <g id=\"line2d_3\">\r\n      <g>\r\n       <use style=\"stroke:#000000;stroke-width:0.8;\" x=\"127.196646\" xlink:href=\"#m5f9900ba43\" y=\"224.64\"/>\r\n      </g>\r\n     </g>\r\n     <g id=\"text_3\">\r\n      <!-- −2 -->\r\n      <defs>\r\n       <path d=\"M 19.1875 8.296875 \r\nL 53.609375 8.296875 \r\nL 53.609375 0 \r\nL 7.328125 0 \r\nL 7.328125 8.296875 \r\nQ 12.9375 14.109375 22.625 23.890625 \r\nQ 32.328125 33.6875 34.8125 36.53125 \r\nQ 39.546875 41.84375 41.421875 45.53125 \r\nQ 43.3125 49.21875 43.3125 52.78125 \r\nQ 43.3125 58.59375 39.234375 62.25 \r\nQ 35.15625 65.921875 28.609375 65.921875 \r\nQ 23.96875 65.921875 18.8125 64.3125 \r\nQ 13.671875 62.703125 7.8125 59.421875 \r\nL 7.8125 69.390625 \r\nQ 13.765625 71.78125 18.9375 73 \r\nQ 24.125 74.21875 28.421875 74.21875 \r\nQ 39.75 74.21875 46.484375 68.546875 \r\nQ 53.21875 62.890625 53.21875 53.421875 \r\nQ 53.21875 48.921875 51.53125 44.890625 \r\nQ 49.859375 40.875 45.40625 35.40625 \r\nQ 44.1875 33.984375 37.640625 27.21875 \r\nQ 31.109375 20.453125 19.1875 8.296875 \r\nz\r\n\" id=\"DejaVuSans-50\"/>\r\n      </defs>\r\n      <g transform=\"translate(119.825552 239.238437)scale(0.1 -0.1)\">\r\n       <use xlink:href=\"#DejaVuSans-8722\"/>\r\n       <use x=\"83.789062\" xlink:href=\"#DejaVuSans-50\"/>\r\n      </g>\r\n     </g>\r\n    </g>\r\n    <g id=\"xtick_4\">\r\n     <g id=\"line2d_4\">\r\n      <g>\r\n       <use style=\"stroke:#000000;stroke-width:0.8;\" x=\"169.397747\" xlink:href=\"#m5f9900ba43\" y=\"224.64\"/>\r\n      </g>\r\n     </g>\r\n     <g id=\"text_4\">\r\n      <!-- −1 -->\r\n      <defs>\r\n       <path d=\"M 12.40625 8.296875 \r\nL 28.515625 8.296875 \r\nL 28.515625 63.921875 \r\nL 10.984375 60.40625 \r\nL 10.984375 69.390625 \r\nL 28.421875 72.90625 \r\nL 38.28125 72.90625 \r\nL 38.28125 8.296875 \r\nL 54.390625 8.296875 \r\nL 54.390625 0 \r\nL 12.40625 0 \r\nz\r\n\" id=\"DejaVuSans-49\"/>\r\n      </defs>\r\n      <g transform=\"translate(162.026653 239.238437)scale(0.1 -0.1)\">\r\n       <use xlink:href=\"#DejaVuSans-8722\"/>\r\n       <use x=\"83.789062\" xlink:href=\"#DejaVuSans-49\"/>\r\n      </g>\r\n     </g>\r\n    </g>\r\n    <g id=\"xtick_5\">\r\n     <g id=\"line2d_5\">\r\n      <g>\r\n       <use style=\"stroke:#000000;stroke-width:0.8;\" x=\"211.598848\" xlink:href=\"#m5f9900ba43\" y=\"224.64\"/>\r\n      </g>\r\n     </g>\r\n     <g id=\"text_5\">\r\n      <!-- 0 -->\r\n      <defs>\r\n       <path d=\"M 31.78125 66.40625 \r\nQ 24.171875 66.40625 20.328125 58.90625 \r\nQ 16.5 51.421875 16.5 36.375 \r\nQ 16.5 21.390625 20.328125 13.890625 \r\nQ 24.171875 6.390625 31.78125 6.390625 \r\nQ 39.453125 6.390625 43.28125 13.890625 \r\nQ 47.125 21.390625 47.125 36.375 \r\nQ 47.125 51.421875 43.28125 58.90625 \r\nQ 39.453125 66.40625 31.78125 66.40625 \r\nz\r\nM 31.78125 74.21875 \r\nQ 44.046875 74.21875 50.515625 64.515625 \r\nQ 56.984375 54.828125 56.984375 36.375 \r\nQ 56.984375 17.96875 50.515625 8.265625 \r\nQ 44.046875 -1.421875 31.78125 -1.421875 \r\nQ 19.53125 -1.421875 13.0625 8.265625 \r\nQ 6.59375 17.96875 6.59375 36.375 \r\nQ 6.59375 54.828125 13.0625 64.515625 \r\nQ 19.53125 74.21875 31.78125 74.21875 \r\nz\r\n\" id=\"DejaVuSans-48\"/>\r\n      </defs>\r\n      <g transform=\"translate(208.417598 239.238437)scale(0.1 -0.1)\">\r\n       <use xlink:href=\"#DejaVuSans-48\"/>\r\n      </g>\r\n     </g>\r\n    </g>\r\n    <g id=\"xtick_6\">\r\n     <g id=\"line2d_6\">\r\n      <g>\r\n       <use style=\"stroke:#000000;stroke-width:0.8;\" x=\"253.799948\" xlink:href=\"#m5f9900ba43\" y=\"224.64\"/>\r\n      </g>\r\n     </g>\r\n     <g id=\"text_6\">\r\n      <!-- 1 -->\r\n      <g transform=\"translate(250.618698 239.238437)scale(0.1 -0.1)\">\r\n       <use xlink:href=\"#DejaVuSans-49\"/>\r\n      </g>\r\n     </g>\r\n    </g>\r\n    <g id=\"xtick_7\">\r\n     <g id=\"line2d_7\">\r\n      <g>\r\n       <use style=\"stroke:#000000;stroke-width:0.8;\" x=\"296.001049\" xlink:href=\"#m5f9900ba43\" y=\"224.64\"/>\r\n      </g>\r\n     </g>\r\n     <g id=\"text_7\">\r\n      <!-- 2 -->\r\n      <g transform=\"translate(292.819799 239.238437)scale(0.1 -0.1)\">\r\n       <use xlink:href=\"#DejaVuSans-50\"/>\r\n      </g>\r\n     </g>\r\n    </g>\r\n    <g id=\"xtick_8\">\r\n     <g id=\"line2d_8\">\r\n      <g>\r\n       <use style=\"stroke:#000000;stroke-width:0.8;\" x=\"338.20215\" xlink:href=\"#m5f9900ba43\" y=\"224.64\"/>\r\n      </g>\r\n     </g>\r\n     <g id=\"text_8\">\r\n      <!-- 3 -->\r\n      <g transform=\"translate(335.0209 239.238437)scale(0.1 -0.1)\">\r\n       <use xlink:href=\"#DejaVuSans-51\"/>\r\n      </g>\r\n     </g>\r\n    </g>\r\n   </g>\r\n   <g id=\"matplotlib.axis_2\">\r\n    <g id=\"ytick_1\">\r\n     <g id=\"line2d_9\">\r\n      <defs>\r\n       <path d=\"M 0 0 \r\nL -3.5 0 \r\n\" id=\"m60c1e62beb\" style=\"stroke:#000000;stroke-width:0.8;\"/>\r\n      </defs>\r\n      <g>\r\n       <use style=\"stroke:#000000;stroke-width:0.8;\" x=\"33.2875\" xlink:href=\"#m60c1e62beb\" y=\"224.64\"/>\r\n      </g>\r\n     </g>\r\n     <g id=\"text_9\">\r\n      <!-- 0 -->\r\n      <g transform=\"translate(19.925 228.439219)scale(0.1 -0.1)\">\r\n       <use xlink:href=\"#DejaVuSans-48\"/>\r\n      </g>\r\n     </g>\r\n    </g>\r\n    <g id=\"ytick_2\">\r\n     <g id=\"line2d_10\">\r\n      <g>\r\n       <use style=\"stroke:#000000;stroke-width:0.8;\" x=\"33.2875\" xlink:href=\"#m60c1e62beb\" y=\"200.132815\"/>\r\n      </g>\r\n     </g>\r\n     <g id=\"text_10\">\r\n      <!-- 100 -->\r\n      <g transform=\"translate(7.2 203.932034)scale(0.1 -0.1)\">\r\n       <use xlink:href=\"#DejaVuSans-49\"/>\r\n       <use x=\"63.623047\" xlink:href=\"#DejaVuSans-48\"/>\r\n       <use x=\"127.246094\" xlink:href=\"#DejaVuSans-48\"/>\r\n      </g>\r\n     </g>\r\n    </g>\r\n    <g id=\"ytick_3\">\r\n     <g id=\"line2d_11\">\r\n      <g>\r\n       <use style=\"stroke:#000000;stroke-width:0.8;\" x=\"33.2875\" xlink:href=\"#m60c1e62beb\" y=\"175.62563\"/>\r\n      </g>\r\n     </g>\r\n     <g id=\"text_11\">\r\n      <!-- 200 -->\r\n      <g transform=\"translate(7.2 179.424849)scale(0.1 -0.1)\">\r\n       <use xlink:href=\"#DejaVuSans-50\"/>\r\n       <use x=\"63.623047\" xlink:href=\"#DejaVuSans-48\"/>\r\n       <use x=\"127.246094\" xlink:href=\"#DejaVuSans-48\"/>\r\n      </g>\r\n     </g>\r\n    </g>\r\n    <g id=\"ytick_4\">\r\n     <g id=\"line2d_12\">\r\n      <g>\r\n       <use style=\"stroke:#000000;stroke-width:0.8;\" x=\"33.2875\" xlink:href=\"#m60c1e62beb\" y=\"151.118445\"/>\r\n      </g>\r\n     </g>\r\n     <g id=\"text_12\">\r\n      <!-- 300 -->\r\n      <g transform=\"translate(7.2 154.917663)scale(0.1 -0.1)\">\r\n       <use xlink:href=\"#DejaVuSans-51\"/>\r\n       <use x=\"63.623047\" xlink:href=\"#DejaVuSans-48\"/>\r\n       <use x=\"127.246094\" xlink:href=\"#DejaVuSans-48\"/>\r\n      </g>\r\n     </g>\r\n    </g>\r\n    <g id=\"ytick_5\">\r\n     <g id=\"line2d_13\">\r\n      <g>\r\n       <use style=\"stroke:#000000;stroke-width:0.8;\" x=\"33.2875\" xlink:href=\"#m60c1e62beb\" y=\"126.61126\"/>\r\n      </g>\r\n     </g>\r\n     <g id=\"text_13\">\r\n      <!-- 400 -->\r\n      <g transform=\"translate(7.2 130.410478)scale(0.1 -0.1)\">\r\n       <use xlink:href=\"#DejaVuSans-52\"/>\r\n       <use x=\"63.623047\" xlink:href=\"#DejaVuSans-48\"/>\r\n       <use x=\"127.246094\" xlink:href=\"#DejaVuSans-48\"/>\r\n      </g>\r\n     </g>\r\n    </g>\r\n    <g id=\"ytick_6\">\r\n     <g id=\"line2d_14\">\r\n      <g>\r\n       <use style=\"stroke:#000000;stroke-width:0.8;\" x=\"33.2875\" xlink:href=\"#m60c1e62beb\" y=\"102.104074\"/>\r\n      </g>\r\n     </g>\r\n     <g id=\"text_14\">\r\n      <!-- 500 -->\r\n      <defs>\r\n       <path d=\"M 10.796875 72.90625 \r\nL 49.515625 72.90625 \r\nL 49.515625 64.59375 \r\nL 19.828125 64.59375 \r\nL 19.828125 46.734375 \r\nQ 21.96875 47.46875 24.109375 47.828125 \r\nQ 26.265625 48.1875 28.421875 48.1875 \r\nQ 40.625 48.1875 47.75 41.5 \r\nQ 54.890625 34.8125 54.890625 23.390625 \r\nQ 54.890625 11.625 47.5625 5.09375 \r\nQ 40.234375 -1.421875 26.90625 -1.421875 \r\nQ 22.3125 -1.421875 17.546875 -0.640625 \r\nQ 12.796875 0.140625 7.71875 1.703125 \r\nL 7.71875 11.625 \r\nQ 12.109375 9.234375 16.796875 8.0625 \r\nQ 21.484375 6.890625 26.703125 6.890625 \r\nQ 35.15625 6.890625 40.078125 11.328125 \r\nQ 45.015625 15.765625 45.015625 23.390625 \r\nQ 45.015625 31 40.078125 35.4375 \r\nQ 35.15625 39.890625 26.703125 39.890625 \r\nQ 22.75 39.890625 18.8125 39.015625 \r\nQ 14.890625 38.140625 10.796875 36.28125 \r\nz\r\n\" id=\"DejaVuSans-53\"/>\r\n      </defs>\r\n      <g transform=\"translate(7.2 105.903293)scale(0.1 -0.1)\">\r\n       <use xlink:href=\"#DejaVuSans-53\"/>\r\n       <use x=\"63.623047\" xlink:href=\"#DejaVuSans-48\"/>\r\n       <use x=\"127.246094\" xlink:href=\"#DejaVuSans-48\"/>\r\n      </g>\r\n     </g>\r\n    </g>\r\n    <g id=\"ytick_7\">\r\n     <g id=\"line2d_15\">\r\n      <g>\r\n       <use style=\"stroke:#000000;stroke-width:0.8;\" x=\"33.2875\" xlink:href=\"#m60c1e62beb\" y=\"77.596889\"/>\r\n      </g>\r\n     </g>\r\n     <g id=\"text_15\">\r\n      <!-- 600 -->\r\n      <defs>\r\n       <path d=\"M 33.015625 40.375 \r\nQ 26.375 40.375 22.484375 35.828125 \r\nQ 18.609375 31.296875 18.609375 23.390625 \r\nQ 18.609375 15.53125 22.484375 10.953125 \r\nQ 26.375 6.390625 33.015625 6.390625 \r\nQ 39.65625 6.390625 43.53125 10.953125 \r\nQ 47.40625 15.53125 47.40625 23.390625 \r\nQ 47.40625 31.296875 43.53125 35.828125 \r\nQ 39.65625 40.375 33.015625 40.375 \r\nz\r\nM 52.59375 71.296875 \r\nL 52.59375 62.3125 \r\nQ 48.875 64.0625 45.09375 64.984375 \r\nQ 41.3125 65.921875 37.59375 65.921875 \r\nQ 27.828125 65.921875 22.671875 59.328125 \r\nQ 17.53125 52.734375 16.796875 39.40625 \r\nQ 19.671875 43.65625 24.015625 45.921875 \r\nQ 28.375 48.1875 33.59375 48.1875 \r\nQ 44.578125 48.1875 50.953125 41.515625 \r\nQ 57.328125 34.859375 57.328125 23.390625 \r\nQ 57.328125 12.15625 50.6875 5.359375 \r\nQ 44.046875 -1.421875 33.015625 -1.421875 \r\nQ 20.359375 -1.421875 13.671875 8.265625 \r\nQ 6.984375 17.96875 6.984375 36.375 \r\nQ 6.984375 53.65625 15.1875 63.9375 \r\nQ 23.390625 74.21875 37.203125 74.21875 \r\nQ 40.921875 74.21875 44.703125 73.484375 \r\nQ 48.484375 72.75 52.59375 71.296875 \r\nz\r\n\" id=\"DejaVuSans-54\"/>\r\n      </defs>\r\n      <g transform=\"translate(7.2 81.396108)scale(0.1 -0.1)\">\r\n       <use xlink:href=\"#DejaVuSans-54\"/>\r\n       <use x=\"63.623047\" xlink:href=\"#DejaVuSans-48\"/>\r\n       <use x=\"127.246094\" xlink:href=\"#DejaVuSans-48\"/>\r\n      </g>\r\n     </g>\r\n    </g>\r\n    <g id=\"ytick_8\">\r\n     <g id=\"line2d_16\">\r\n      <g>\r\n       <use style=\"stroke:#000000;stroke-width:0.8;\" x=\"33.2875\" xlink:href=\"#m60c1e62beb\" y=\"53.089704\"/>\r\n      </g>\r\n     </g>\r\n     <g id=\"text_16\">\r\n      <!-- 700 -->\r\n      <defs>\r\n       <path d=\"M 8.203125 72.90625 \r\nL 55.078125 72.90625 \r\nL 55.078125 68.703125 \r\nL 28.609375 0 \r\nL 18.3125 0 \r\nL 43.21875 64.59375 \r\nL 8.203125 64.59375 \r\nz\r\n\" id=\"DejaVuSans-55\"/>\r\n      </defs>\r\n      <g transform=\"translate(7.2 56.888923)scale(0.1 -0.1)\">\r\n       <use xlink:href=\"#DejaVuSans-55\"/>\r\n       <use x=\"63.623047\" xlink:href=\"#DejaVuSans-48\"/>\r\n       <use x=\"127.246094\" xlink:href=\"#DejaVuSans-48\"/>\r\n      </g>\r\n     </g>\r\n    </g>\r\n    <g id=\"ytick_9\">\r\n     <g id=\"line2d_17\">\r\n      <g>\r\n       <use style=\"stroke:#000000;stroke-width:0.8;\" x=\"33.2875\" xlink:href=\"#m60c1e62beb\" y=\"28.582519\"/>\r\n      </g>\r\n     </g>\r\n     <g id=\"text_17\">\r\n      <!-- 800 -->\r\n      <defs>\r\n       <path d=\"M 31.78125 34.625 \r\nQ 24.75 34.625 20.71875 30.859375 \r\nQ 16.703125 27.09375 16.703125 20.515625 \r\nQ 16.703125 13.921875 20.71875 10.15625 \r\nQ 24.75 6.390625 31.78125 6.390625 \r\nQ 38.8125 6.390625 42.859375 10.171875 \r\nQ 46.921875 13.96875 46.921875 20.515625 \r\nQ 46.921875 27.09375 42.890625 30.859375 \r\nQ 38.875 34.625 31.78125 34.625 \r\nz\r\nM 21.921875 38.8125 \r\nQ 15.578125 40.375 12.03125 44.71875 \r\nQ 8.5 49.078125 8.5 55.328125 \r\nQ 8.5 64.0625 14.71875 69.140625 \r\nQ 20.953125 74.21875 31.78125 74.21875 \r\nQ 42.671875 74.21875 48.875 69.140625 \r\nQ 55.078125 64.0625 55.078125 55.328125 \r\nQ 55.078125 49.078125 51.53125 44.71875 \r\nQ 48 40.375 41.703125 38.8125 \r\nQ 48.828125 37.15625 52.796875 32.3125 \r\nQ 56.78125 27.484375 56.78125 20.515625 \r\nQ 56.78125 9.90625 50.3125 4.234375 \r\nQ 43.84375 -1.421875 31.78125 -1.421875 \r\nQ 19.734375 -1.421875 13.25 4.234375 \r\nQ 6.78125 9.90625 6.78125 20.515625 \r\nQ 6.78125 27.484375 10.78125 32.3125 \r\nQ 14.796875 37.15625 21.921875 38.8125 \r\nz\r\nM 18.3125 54.390625 \r\nQ 18.3125 48.734375 21.84375 45.5625 \r\nQ 25.390625 42.390625 31.78125 42.390625 \r\nQ 38.140625 42.390625 41.71875 45.5625 \r\nQ 45.3125 48.734375 45.3125 54.390625 \r\nQ 45.3125 60.0625 41.71875 63.234375 \r\nQ 38.140625 66.40625 31.78125 66.40625 \r\nQ 25.390625 66.40625 21.84375 63.234375 \r\nQ 18.3125 60.0625 18.3125 54.390625 \r\nz\r\n\" id=\"DejaVuSans-56\"/>\r\n      </defs>\r\n      <g transform=\"translate(7.2 32.381738)scale(0.1 -0.1)\">\r\n       <use xlink:href=\"#DejaVuSans-56\"/>\r\n       <use x=\"63.623047\" xlink:href=\"#DejaVuSans-48\"/>\r\n       <use x=\"127.246094\" xlink:href=\"#DejaVuSans-48\"/>\r\n      </g>\r\n     </g>\r\n    </g>\r\n   </g>\r\n   <g id=\"patch_13\">\r\n    <path d=\"M 33.2875 224.64 \r\nL 33.2875 7.2 \r\n\" style=\"fill:none;stroke:#000000;stroke-linecap:square;stroke-linejoin:miter;stroke-width:0.8;\"/>\r\n   </g>\r\n   <g id=\"patch_14\">\r\n    <path d=\"M 368.0875 224.64 \r\nL 368.0875 7.2 \r\n\" style=\"fill:none;stroke:#000000;stroke-linecap:square;stroke-linejoin:miter;stroke-width:0.8;\"/>\r\n   </g>\r\n   <g id=\"patch_15\">\r\n    <path d=\"M 33.2875 224.64 \r\nL 368.0875 224.64 \r\n\" style=\"fill:none;stroke:#000000;stroke-linecap:square;stroke-linejoin:miter;stroke-width:0.8;\"/>\r\n   </g>\r\n   <g id=\"patch_16\">\r\n    <path d=\"M 33.2875 7.2 \r\nL 368.0875 7.2 \r\n\" style=\"fill:none;stroke:#000000;stroke-linecap:square;stroke-linejoin:miter;stroke-width:0.8;\"/>\r\n   </g>\r\n  </g>\r\n </g>\r\n <defs>\r\n  <clipPath id=\"paa46353464\">\r\n   <rect height=\"217.44\" width=\"334.8\" x=\"33.2875\" y=\"7.2\"/>\r\n  </clipPath>\r\n </defs>\r\n</svg>\r\n",
      "image/png": "[encoded data removed]"
     },
     "metadata": {
      "needs_background": "light"
     }
    }
   ],
   "source": [
    "plt.hist(a)"
   ]
  },
  {
   "cell_type": "code",
   "execution_count": 124,
   "metadata": {},
   "outputs": [],
   "source": [
    "check = (a<0.75)"
   ]
  },
  {
   "cell_type": "code",
   "execution_count": 125,
   "metadata": {},
   "outputs": [
    {
     "output_type": "execute_result",
     "data": {
      "text/plain": "array([ True,  True,  True, ...,  True,  True,  True])"
     },
     "metadata": {},
     "execution_count": 125
    }
   ],
   "source": [
    "check"
   ]
  },
  {
   "cell_type": "code",
   "execution_count": 126,
   "metadata": {},
   "outputs": [],
   "source": [
    "training = data[check]\n",
    "testing = data[~check]"
   ]
  },
  {
   "cell_type": "code",
   "execution_count": 127,
   "metadata": {},
   "outputs": [
    {
     "output_type": "execute_result",
     "data": {
      "text/plain": "2522"
     },
     "metadata": {},
     "execution_count": 127
    }
   ],
   "source": [
    "len(training)"
   ]
  },
  {
   "cell_type": "code",
   "execution_count": 128,
   "metadata": {},
   "outputs": [
    {
     "output_type": "execute_result",
     "data": {
      "text/plain": "811"
     },
     "metadata": {},
     "execution_count": 128
    }
   ],
   "source": [
    "len(testing)"
   ]
  },
  {
   "cell_type": "markdown",
   "metadata": {},
   "source": [
    "### Con la librería SKLEARN (Librería de aprendizaje estadístico de python)"
   ]
  },
  {
   "cell_type": "code",
   "execution_count": 135,
   "metadata": {},
   "outputs": [],
   "source": [
    "# se cambio el cross.validation (deprecated) por model_selection\n",
    "from sklearn.model_selection import train_test_split"
   ]
  },
  {
   "cell_type": "code",
   "execution_count": 136,
   "metadata": {},
   "outputs": [],
   "source": [
    "train, test = train_test_split(data, test_size = 0.25)"
   ]
  },
  {
   "cell_type": "code",
   "execution_count": 137,
   "metadata": {},
   "outputs": [
    {
     "output_type": "execute_result",
     "data": {
      "text/plain": "2499"
     },
     "metadata": {},
     "execution_count": 137
    }
   ],
   "source": [
    "len(train)"
   ]
  },
  {
   "cell_type": "code",
   "execution_count": 138,
   "metadata": {},
   "outputs": [
    {
     "output_type": "execute_result",
     "data": {
      "text/plain": "834"
     },
     "metadata": {},
     "execution_count": 138
    }
   ],
   "source": [
    "len(test)"
   ]
  },
  {
   "cell_type": "markdown",
   "metadata": {},
   "source": [
    "### Usando una función de SHUFFLE"
   ]
  },
  {
   "cell_type": "code",
   "execution_count": 142,
   "metadata": {},
   "outputs": [],
   "source": [
    "import sklearn"
   ]
  },
  {
   "cell_type": "code",
   "execution_count": 143,
   "metadata": {},
   "outputs": [
    {
     "output_type": "execute_result",
     "data": {
      "text/plain": "     State  Account Length  Area Code     Phone Int'l Plan VMail Plan  \\\n1676    WA              83        408  338-4472         no         no   \n3070    MD             154        510  411-2977         no         no   \n2836    DE             112        408  351-8894         no         no   \n1134    TN             105        408  353-8849         no         no   \n1443    SD             113        415  406-4560        yes         no   \n...    ...             ...        ...       ...        ...        ...   \n365     CO             154        415  343-5709         no         no   \n2874    WY             134        510  366-1084         no         no   \n2744    CA              33        408  369-2743         no         no   \n752     CO              22        510  327-1319         no        yes   \n1015    AL             122        415  336-5920         no         no   \n\n      VMail Message  Day Mins  Day Calls  Day Charge  ...  Eve Calls  \\\n1676              0     134.8         96       22.92  ...         78   \n3070              0     154.5        122       26.27  ...         71   \n2836              0     101.1        119       17.19  ...         67   \n1134              0     206.2         84       35.05  ...        138   \n1443              0     204.3         82       34.73  ...        115   \n...             ...       ...        ...         ...  ...        ...   \n365               0     350.8         75       59.64  ...         94   \n2874              0     296.0         93       50.32  ...        117   \n2744              0     159.5        115       27.12  ...        118   \n752              23     182.1         94       30.96  ...         59   \n1015              0     232.5         96       39.53  ...        120   \n\n      Eve Charge  Night Mins  Night Calls  Night Charge  Intl Mins  \\\n1676       14.21       161.5          123          7.27        7.7   \n3070       18.21       178.0          105          8.01       12.0   \n2836       18.22       179.5          112          8.08       10.3   \n1134       21.79       117.1           91          5.27        9.0   \n1443       16.05       139.4           97          6.27        9.2   \n...          ...         ...          ...           ...        ...   \n365        18.40       253.9          100         11.43       10.1   \n2874       19.24       246.8           98         11.11       12.3   \n2744       16.61       102.4           86          4.61        7.1   \n752        13.99       128.8          102          5.80       12.7   \n1015       17.47       213.7           91          9.62       11.9   \n\n      Intl Calls  Intl Charge  CustServ Calls  Churn?  \n1676           5         2.08               2  False.  \n3070           2         3.24               3   True.  \n2836           5         2.78               2  False.  \n1134           3         2.43               1  False.  \n1443           7         2.48               1  False.  \n...          ...          ...             ...     ...  \n365            9         2.73               1   True.  \n2874          10         3.32               0   True.  \n2744           7         1.92               1  False.  \n752            4         3.43               3  False.  \n1015           2         3.21               0  False.  \n\n[3333 rows x 21 columns]",
      "text/html": "<div>\n<style scoped>\n    .dataframe tbody tr th:only-of-type {\n        vertical-align: middle;\n    }\n\n    .dataframe tbody tr th {\n        vertical-align: top;\n    }\n\n    .dataframe thead th {\n        text-align: right;\n    }\n</style>\n<table border=\"1\" class=\"dataframe\">\n  <thead>\n    <tr style=\"text-align: right;\">\n      <th></th>\n      <th>State</th>\n      <th>Account Length</th>\n      <th>Area Code</th>\n      <th>Phone</th>\n      <th>Int'l Plan</th>\n      <th>VMail Plan</th>\n      <th>VMail Message</th>\n      <th>Day Mins</th>\n      <th>Day Calls</th>\n      <th>Day Charge</th>\n      <th>...</th>\n      <th>Eve Calls</th>\n      <th>Eve Charge</th>\n      <th>Night Mins</th>\n      <th>Night Calls</th>\n      <th>Night Charge</th>\n      <th>Intl Mins</th>\n      <th>Intl Calls</th>\n      <th>Intl Charge</th>\n      <th>CustServ Calls</th>\n      <th>Churn?</th>\n    </tr>\n  </thead>\n  <tbody>\n    <tr>\n      <td>1676</td>\n      <td>WA</td>\n      <td>83</td>\n      <td>408</td>\n      <td>338-4472</td>\n      <td>no</td>\n      <td>no</td>\n      <td>0</td>\n      <td>134.8</td>\n      <td>96</td>\n      <td>22.92</td>\n      <td>...</td>\n      <td>78</td>\n      <td>14.21</td>\n      <td>161.5</td>\n      <td>123</td>\n      <td>7.27</td>\n      <td>7.7</td>\n      <td>5</td>\n      <td>2.08</td>\n      <td>2</td>\n      <td>False.</td>\n    </tr>\n    <tr>\n      <td>3070</td>\n      <td>MD</td>\n      <td>154</td>\n      <td>510</td>\n      <td>411-2977</td>\n      <td>no</td>\n      <td>no</td>\n      <td>0</td>\n      <td>154.5</td>\n      <td>122</td>\n      <td>26.27</td>\n      <td>...</td>\n      <td>71</td>\n      <td>18.21</td>\n      <td>178.0</td>\n      <td>105</td>\n      <td>8.01</td>\n      <td>12.0</td>\n      <td>2</td>\n      <td>3.24</td>\n      <td>3</td>\n      <td>True.</td>\n    </tr>\n    <tr>\n      <td>2836</td>\n      <td>DE</td>\n      <td>112</td>\n      <td>408</td>\n      <td>351-8894</td>\n      <td>no</td>\n      <td>no</td>\n      <td>0</td>\n      <td>101.1</td>\n      <td>119</td>\n      <td>17.19</td>\n      <td>...</td>\n      <td>67</td>\n      <td>18.22</td>\n      <td>179.5</td>\n      <td>112</td>\n      <td>8.08</td>\n      <td>10.3</td>\n      <td>5</td>\n      <td>2.78</td>\n      <td>2</td>\n      <td>False.</td>\n    </tr>\n    <tr>\n      <td>1134</td>\n      <td>TN</td>\n      <td>105</td>\n      <td>408</td>\n      <td>353-8849</td>\n      <td>no</td>\n      <td>no</td>\n      <td>0</td>\n      <td>206.2</td>\n      <td>84</td>\n      <td>35.05</td>\n      <td>...</td>\n      <td>138</td>\n      <td>21.79</td>\n      <td>117.1</td>\n      <td>91</td>\n      <td>5.27</td>\n      <td>9.0</td>\n      <td>3</td>\n      <td>2.43</td>\n      <td>1</td>\n      <td>False.</td>\n    </tr>\n    <tr>\n      <td>1443</td>\n      <td>SD</td>\n      <td>113</td>\n      <td>415</td>\n      <td>406-4560</td>\n      <td>yes</td>\n      <td>no</td>\n      <td>0</td>\n      <td>204.3</td>\n      <td>82</td>\n      <td>34.73</td>\n      <td>...</td>\n      <td>115</td>\n      <td>16.05</td>\n      <td>139.4</td>\n      <td>97</td>\n      <td>6.27</td>\n      <td>9.2</td>\n      <td>7</td>\n      <td>2.48</td>\n      <td>1</td>\n      <td>False.</td>\n    </tr>\n    <tr>\n      <td>...</td>\n      <td>...</td>\n      <td>...</td>\n      <td>...</td>\n      <td>...</td>\n      <td>...</td>\n      <td>...</td>\n      <td>...</td>\n      <td>...</td>\n      <td>...</td>\n      <td>...</td>\n      <td>...</td>\n      <td>...</td>\n      <td>...</td>\n      <td>...</td>\n      <td>...</td>\n      <td>...</td>\n      <td>...</td>\n      <td>...</td>\n      <td>...</td>\n      <td>...</td>\n      <td>...</td>\n    </tr>\n    <tr>\n      <td>365</td>\n      <td>CO</td>\n      <td>154</td>\n      <td>415</td>\n      <td>343-5709</td>\n      <td>no</td>\n      <td>no</td>\n      <td>0</td>\n      <td>350.8</td>\n      <td>75</td>\n      <td>59.64</td>\n      <td>...</td>\n      <td>94</td>\n      <td>18.40</td>\n      <td>253.9</td>\n      <td>100</td>\n      <td>11.43</td>\n      <td>10.1</td>\n      <td>9</td>\n      <td>2.73</td>\n      <td>1</td>\n      <td>True.</td>\n    </tr>\n    <tr>\n      <td>2874</td>\n      <td>WY</td>\n      <td>134</td>\n      <td>510</td>\n      <td>366-1084</td>\n      <td>no</td>\n      <td>no</td>\n      <td>0</td>\n      <td>296.0</td>\n      <td>93</td>\n      <td>50.32</td>\n      <td>...</td>\n      <td>117</td>\n      <td>19.24</td>\n      <td>246.8</td>\n      <td>98</td>\n      <td>11.11</td>\n      <td>12.3</td>\n      <td>10</td>\n      <td>3.32</td>\n      <td>0</td>\n      <td>True.</td>\n    </tr>\n    <tr>\n      <td>2744</td>\n      <td>CA</td>\n      <td>33</td>\n      <td>408</td>\n      <td>369-2743</td>\n      <td>no</td>\n      <td>no</td>\n      <td>0</td>\n      <td>159.5</td>\n      <td>115</td>\n      <td>27.12</td>\n      <td>...</td>\n      <td>118</td>\n      <td>16.61</td>\n      <td>102.4</td>\n      <td>86</td>\n      <td>4.61</td>\n      <td>7.1</td>\n      <td>7</td>\n      <td>1.92</td>\n      <td>1</td>\n      <td>False.</td>\n    </tr>\n    <tr>\n      <td>752</td>\n      <td>CO</td>\n      <td>22</td>\n      <td>510</td>\n      <td>327-1319</td>\n      <td>no</td>\n      <td>yes</td>\n      <td>23</td>\n      <td>182.1</td>\n      <td>94</td>\n      <td>30.96</td>\n      <td>...</td>\n      <td>59</td>\n      <td>13.99</td>\n      <td>128.8</td>\n      <td>102</td>\n      <td>5.80</td>\n      <td>12.7</td>\n      <td>4</td>\n      <td>3.43</td>\n      <td>3</td>\n      <td>False.</td>\n    </tr>\n    <tr>\n      <td>1015</td>\n      <td>AL</td>\n      <td>122</td>\n      <td>415</td>\n      <td>336-5920</td>\n      <td>no</td>\n      <td>no</td>\n      <td>0</td>\n      <td>232.5</td>\n      <td>96</td>\n      <td>39.53</td>\n      <td>...</td>\n      <td>120</td>\n      <td>17.47</td>\n      <td>213.7</td>\n      <td>91</td>\n      <td>9.62</td>\n      <td>11.9</td>\n      <td>2</td>\n      <td>3.21</td>\n      <td>0</td>\n      <td>False.</td>\n    </tr>\n  </tbody>\n</table>\n<p>3333 rows × 21 columns</p>\n</div>"
     },
     "metadata": {},
     "execution_count": 143
    }
   ],
   "source": [
    "# Primero mezclar el dataset\n",
    "sklearn.utils.shuffle(data)"
   ]
  },
  {
   "cell_type": "code",
   "execution_count": 144,
   "metadata": {},
   "outputs": [],
   "source": [
    "# lo volvemos a guardar en data\n",
    "data = sklearn.utils.shuffle(data)"
   ]
  },
  {
   "cell_type": "code",
   "execution_count": 145,
   "metadata": {},
   "outputs": [],
   "source": [
    "cut_id = int(0.75*len(data))\n",
    "train_data = data[:cut_id]\n",
    "test_data = data[cut_id+1:]"
   ]
  },
  {
   "cell_type": "code",
   "execution_count": 146,
   "metadata": {},
   "outputs": [
    {
     "output_type": "execute_result",
     "data": {
      "text/plain": "2499"
     },
     "metadata": {},
     "execution_count": 146
    }
   ],
   "source": [
    "len(train_data)"
   ]
  },
  {
   "cell_type": "code",
   "execution_count": 147,
   "metadata": {},
   "outputs": [
    {
     "output_type": "execute_result",
     "data": {
      "text/plain": "833"
     },
     "metadata": {},
     "execution_count": 147
    }
   ],
   "source": [
    "len(test_data)"
   ]
  }
 ],
 "metadata": {
  "kernelspec": {
   "display_name": "Python 3",
   "language": "python",
   "name": "python3"
  },
  "language_info": {
   "codemirror_mode": {
    "name": "ipython",
    "version": 3
   },
   "file_extension": ".py",
   "mimetype": "text/x-python",
   "name": "python",
   "nbconvert_exporter": "python",
   "pygments_lexer": "ipython3",
   "version": "3.7.4-final"
  }
 },
 "nbformat": 4,
 "nbformat_minor": 2
}