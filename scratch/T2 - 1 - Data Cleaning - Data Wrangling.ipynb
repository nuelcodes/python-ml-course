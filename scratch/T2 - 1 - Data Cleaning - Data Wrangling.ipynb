{
 "cells": [
  {
   "cell_type": "markdown",
   "metadata": {},
   "source": [
    "# Data Wrangling\n",
    "\n",
    "La disputa de datos, a veces denominada mezcla de datos, es el proceso de transformar y mapear datos de un formulario de datos \"en bruto\" a otro formato con la intención de hacerlo más apropiado y valioso para una variedad de propósitos posteriores, como el análisis. Un administrador de datos es una persona que realiza estas operaciones de transformación.\n",
    "\n",
    "Esto puede incluir más munging, visualización de datos, agregación de datos, capacitación de un modelo estadístico, así como muchos otros usos potenciales. La mezcla de datos como un proceso generalmente sigue un conjunto de pasos generales que comienzan con la extracción de los datos en una forma sin procesar desde la fuente de datos, \"mezclando\" los datos sin procesar utilizando algoritmos (por ejemplo, ordenando) o analizando los datos en estructuras de datos predefinidas, y finalmente depositar el contenido resultante en un sumidero de datos para su almacenamiento y uso futuro."
   ]
  },
  {
   "cell_type": "code",
   "execution_count": 1,
   "metadata": {},
   "outputs": [],
   "source": [
    "import pandas as pd"
   ]
  },
  {
   "cell_type": "code",
   "execution_count": 2,
   "metadata": {},
   "outputs": [],
   "source": [
    "data = pd.read_csv(\"../datasets/customer-churn-model/Customer Churn Model.txt\")"
   ]
  },
  {
   "cell_type": "code",
   "execution_count": 3,
   "metadata": {},
   "outputs": [
    {
     "output_type": "execute_result",
     "data": {
      "text/plain": "  State  Account Length  Area Code     Phone Int'l Plan VMail Plan  \\\n0    KS             128        415  382-4657         no        yes   \n1    OH             107        415  371-7191         no        yes   \n2    NJ             137        415  358-1921         no         no   \n3    OH              84        408  375-9999        yes         no   \n4    OK              75        415  330-6626        yes         no   \n\n   VMail Message  Day Mins  Day Calls  Day Charge  ...  Eve Calls  Eve Charge  \\\n0             25     265.1        110       45.07  ...         99       16.78   \n1             26     161.6        123       27.47  ...        103       16.62   \n2              0     243.4        114       41.38  ...        110       10.30   \n3              0     299.4         71       50.90  ...         88        5.26   \n4              0     166.7        113       28.34  ...        122       12.61   \n\n   Night Mins  Night Calls  Night Charge  Intl Mins  Intl Calls  Intl Charge  \\\n0       244.7           91         11.01       10.0           3         2.70   \n1       254.4          103         11.45       13.7           3         3.70   \n2       162.6          104          7.32       12.2           5         3.29   \n3       196.9           89          8.86        6.6           7         1.78   \n4       186.9          121          8.41       10.1           3         2.73   \n\n   CustServ Calls  Churn?  \n0               1  False.  \n1               1  False.  \n2               0  False.  \n3               2  False.  \n4               3  False.  \n\n[5 rows x 21 columns]",
      "text/html": "<div>\n<style scoped>\n    .dataframe tbody tr th:only-of-type {\n        vertical-align: middle;\n    }\n\n    .dataframe tbody tr th {\n        vertical-align: top;\n    }\n\n    .dataframe thead th {\n        text-align: right;\n    }\n</style>\n<table border=\"1\" class=\"dataframe\">\n  <thead>\n    <tr style=\"text-align: right;\">\n      <th></th>\n      <th>State</th>\n      <th>Account Length</th>\n      <th>Area Code</th>\n      <th>Phone</th>\n      <th>Int'l Plan</th>\n      <th>VMail Plan</th>\n      <th>VMail Message</th>\n      <th>Day Mins</th>\n      <th>Day Calls</th>\n      <th>Day Charge</th>\n      <th>...</th>\n      <th>Eve Calls</th>\n      <th>Eve Charge</th>\n      <th>Night Mins</th>\n      <th>Night Calls</th>\n      <th>Night Charge</th>\n      <th>Intl Mins</th>\n      <th>Intl Calls</th>\n      <th>Intl Charge</th>\n      <th>CustServ Calls</th>\n      <th>Churn?</th>\n    </tr>\n  </thead>\n  <tbody>\n    <tr>\n      <td>0</td>\n      <td>KS</td>\n      <td>128</td>\n      <td>415</td>\n      <td>382-4657</td>\n      <td>no</td>\n      <td>yes</td>\n      <td>25</td>\n      <td>265.1</td>\n      <td>110</td>\n      <td>45.07</td>\n      <td>...</td>\n      <td>99</td>\n      <td>16.78</td>\n      <td>244.7</td>\n      <td>91</td>\n      <td>11.01</td>\n      <td>10.0</td>\n      <td>3</td>\n      <td>2.70</td>\n      <td>1</td>\n      <td>False.</td>\n    </tr>\n    <tr>\n      <td>1</td>\n      <td>OH</td>\n      <td>107</td>\n      <td>415</td>\n      <td>371-7191</td>\n      <td>no</td>\n      <td>yes</td>\n      <td>26</td>\n      <td>161.6</td>\n      <td>123</td>\n      <td>27.47</td>\n      <td>...</td>\n      <td>103</td>\n      <td>16.62</td>\n      <td>254.4</td>\n      <td>103</td>\n      <td>11.45</td>\n      <td>13.7</td>\n      <td>3</td>\n      <td>3.70</td>\n      <td>1</td>\n      <td>False.</td>\n    </tr>\n    <tr>\n      <td>2</td>\n      <td>NJ</td>\n      <td>137</td>\n      <td>415</td>\n      <td>358-1921</td>\n      <td>no</td>\n      <td>no</td>\n      <td>0</td>\n      <td>243.4</td>\n      <td>114</td>\n      <td>41.38</td>\n      <td>...</td>\n      <td>110</td>\n      <td>10.30</td>\n      <td>162.6</td>\n      <td>104</td>\n      <td>7.32</td>\n      <td>12.2</td>\n      <td>5</td>\n      <td>3.29</td>\n      <td>0</td>\n      <td>False.</td>\n    </tr>\n    <tr>\n      <td>3</td>\n      <td>OH</td>\n      <td>84</td>\n      <td>408</td>\n      <td>375-9999</td>\n      <td>yes</td>\n      <td>no</td>\n      <td>0</td>\n      <td>299.4</td>\n      <td>71</td>\n      <td>50.90</td>\n      <td>...</td>\n      <td>88</td>\n      <td>5.26</td>\n      <td>196.9</td>\n      <td>89</td>\n      <td>8.86</td>\n      <td>6.6</td>\n      <td>7</td>\n      <td>1.78</td>\n      <td>2</td>\n      <td>False.</td>\n    </tr>\n    <tr>\n      <td>4</td>\n      <td>OK</td>\n      <td>75</td>\n      <td>415</td>\n      <td>330-6626</td>\n      <td>yes</td>\n      <td>no</td>\n      <td>0</td>\n      <td>166.7</td>\n      <td>113</td>\n      <td>28.34</td>\n      <td>...</td>\n      <td>122</td>\n      <td>12.61</td>\n      <td>186.9</td>\n      <td>121</td>\n      <td>8.41</td>\n      <td>10.1</td>\n      <td>3</td>\n      <td>2.73</td>\n      <td>3</td>\n      <td>False.</td>\n    </tr>\n  </tbody>\n</table>\n<p>5 rows × 21 columns</p>\n</div>"
     },
     "metadata": {},
     "execution_count": 3
    }
   ],
   "source": [
    "data.head()"
   ]
  },
  {
   "cell_type": "markdown",
   "metadata": {},
   "source": [
    "## Crear un subconjunto de datos"
   ]
  },
  {
   "cell_type": "code",
   "execution_count": 4,
   "metadata": {},
   "outputs": [],
   "source": [
    "account_length = data[\"Account Length\"]"
   ]
  },
  {
   "cell_type": "code",
   "execution_count": 5,
   "metadata": {},
   "outputs": [
    {
     "output_type": "execute_result",
     "data": {
      "text/plain": "0    128\n1    107\n2    137\n3     84\n4     75\nName: Account Length, dtype: int64"
     },
     "metadata": {},
     "execution_count": 5
    }
   ],
   "source": [
    "account_length.head()"
   ]
  },
  {
   "cell_type": "code",
   "execution_count": 6,
   "metadata": {},
   "outputs": [
    {
     "output_type": "execute_result",
     "data": {
      "text/plain": "pandas.core.series.Series"
     },
     "metadata": {},
     "execution_count": 6
    }
   ],
   "source": [
    "type(account_length)"
   ]
  },
  {
   "cell_type": "code",
   "execution_count": 7,
   "metadata": {},
   "outputs": [],
   "source": [
    "subset = data[[\"Account Length\", \"Phone\", \"Eve Charge\", \"Day Calls\"]]"
   ]
  },
  {
   "cell_type": "code",
   "execution_count": 8,
   "metadata": {},
   "outputs": [
    {
     "output_type": "execute_result",
     "data": {
      "text/plain": "   Account Length     Phone  Eve Charge  Day Calls\n0             128  382-4657       16.78        110\n1             107  371-7191       16.62        123\n2             137  358-1921       10.30        114\n3              84  375-9999        5.26         71\n4              75  330-6626       12.61        113",
      "text/html": "<div>\n<style scoped>\n    .dataframe tbody tr th:only-of-type {\n        vertical-align: middle;\n    }\n\n    .dataframe tbody tr th {\n        vertical-align: top;\n    }\n\n    .dataframe thead th {\n        text-align: right;\n    }\n</style>\n<table border=\"1\" class=\"dataframe\">\n  <thead>\n    <tr style=\"text-align: right;\">\n      <th></th>\n      <th>Account Length</th>\n      <th>Phone</th>\n      <th>Eve Charge</th>\n      <th>Day Calls</th>\n    </tr>\n  </thead>\n  <tbody>\n    <tr>\n      <td>0</td>\n      <td>128</td>\n      <td>382-4657</td>\n      <td>16.78</td>\n      <td>110</td>\n    </tr>\n    <tr>\n      <td>1</td>\n      <td>107</td>\n      <td>371-7191</td>\n      <td>16.62</td>\n      <td>123</td>\n    </tr>\n    <tr>\n      <td>2</td>\n      <td>137</td>\n      <td>358-1921</td>\n      <td>10.30</td>\n      <td>114</td>\n    </tr>\n    <tr>\n      <td>3</td>\n      <td>84</td>\n      <td>375-9999</td>\n      <td>5.26</td>\n      <td>71</td>\n    </tr>\n    <tr>\n      <td>4</td>\n      <td>75</td>\n      <td>330-6626</td>\n      <td>12.61</td>\n      <td>113</td>\n    </tr>\n  </tbody>\n</table>\n</div>"
     },
     "metadata": {},
     "execution_count": 8
    }
   ],
   "source": [
    "subset.head()"
   ]
  },
  {
   "cell_type": "code",
   "execution_count": 9,
   "metadata": {},
   "outputs": [
    {
     "output_type": "execute_result",
     "data": {
      "text/plain": "pandas.core.frame.DataFrame"
     },
     "metadata": {},
     "execution_count": 9
    }
   ],
   "source": [
    "type(subset)"
   ]
  },
  {
   "cell_type": "code",
   "execution_count": 10,
   "metadata": {},
   "outputs": [
    {
     "output_type": "execute_result",
     "data": {
      "text/plain": "   Account Length     Phone  Eve Charge  Night Calls\n0             128  382-4657       16.78           91\n1             107  371-7191       16.62          103\n2             137  358-1921       10.30          104\n3              84  375-9999        5.26           89\n4              75  330-6626       12.61          121",
      "text/html": "<div>\n<style scoped>\n    .dataframe tbody tr th:only-of-type {\n        vertical-align: middle;\n    }\n\n    .dataframe tbody tr th {\n        vertical-align: top;\n    }\n\n    .dataframe thead th {\n        text-align: right;\n    }\n</style>\n<table border=\"1\" class=\"dataframe\">\n  <thead>\n    <tr style=\"text-align: right;\">\n      <th></th>\n      <th>Account Length</th>\n      <th>Phone</th>\n      <th>Eve Charge</th>\n      <th>Night Calls</th>\n    </tr>\n  </thead>\n  <tbody>\n    <tr>\n      <td>0</td>\n      <td>128</td>\n      <td>382-4657</td>\n      <td>16.78</td>\n      <td>91</td>\n    </tr>\n    <tr>\n      <td>1</td>\n      <td>107</td>\n      <td>371-7191</td>\n      <td>16.62</td>\n      <td>103</td>\n    </tr>\n    <tr>\n      <td>2</td>\n      <td>137</td>\n      <td>358-1921</td>\n      <td>10.30</td>\n      <td>104</td>\n    </tr>\n    <tr>\n      <td>3</td>\n      <td>84</td>\n      <td>375-9999</td>\n      <td>5.26</td>\n      <td>89</td>\n    </tr>\n    <tr>\n      <td>4</td>\n      <td>75</td>\n      <td>330-6626</td>\n      <td>12.61</td>\n      <td>121</td>\n    </tr>\n  </tbody>\n</table>\n</div>"
     },
     "metadata": {},
     "execution_count": 10
    }
   ],
   "source": [
    "desired_columns = [\"Account Length\", \"Phone\", \"Eve Charge\", \"Night Calls\"]\n",
    "subset = data[desired_columns]\n",
    "subset.head()"
   ]
  },
  {
   "cell_type": "code",
   "execution_count": 11,
   "metadata": {},
   "outputs": [
    {
     "output_type": "execute_result",
     "data": {
      "text/plain": "['Account Length', 'VMail Message', 'Day Calls']"
     },
     "metadata": {},
     "execution_count": 11
    }
   ],
   "source": [
    "desired_columns = [\"Account Length\", \"VMail Message\", \"Day Calls\"]\n",
    "desired_columns"
   ]
  },
  {
   "cell_type": "code",
   "execution_count": 12,
   "metadata": {},
   "outputs": [
    {
     "output_type": "execute_result",
     "data": {
      "text/plain": "['State',\n 'Account Length',\n 'Area Code',\n 'Phone',\n \"Int'l Plan\",\n 'VMail Plan',\n 'VMail Message',\n 'Day Mins',\n 'Day Calls',\n 'Day Charge',\n 'Eve Mins',\n 'Eve Calls',\n 'Eve Charge',\n 'Night Mins',\n 'Night Calls',\n 'Night Charge',\n 'Intl Mins',\n 'Intl Calls',\n 'Intl Charge',\n 'CustServ Calls',\n 'Churn?']"
     },
     "metadata": {},
     "execution_count": 12
    }
   ],
   "source": [
    "all_columns_list = data.columns.values.tolist()\n",
    "all_columns_list"
   ]
  },
  {
   "cell_type": "code",
   "execution_count": 13,
   "metadata": {},
   "outputs": [
    {
     "output_type": "execute_result",
     "data": {
      "text/plain": "['State',\n 'Area Code',\n 'Phone',\n \"Int'l Plan\",\n 'VMail Plan',\n 'Day Mins',\n 'Day Charge',\n 'Eve Mins',\n 'Eve Calls',\n 'Eve Charge',\n 'Night Mins',\n 'Night Calls',\n 'Night Charge',\n 'Intl Mins',\n 'Intl Calls',\n 'Intl Charge',\n 'CustServ Calls',\n 'Churn?']"
     },
     "metadata": {},
     "execution_count": 13
    }
   ],
   "source": [
    "sublist = [x for x in all_columns_list if x not in desired_columns]\n",
    "sublist"
   ]
  },
  {
   "cell_type": "code",
   "execution_count": 14,
   "metadata": {},
   "outputs": [
    {
     "output_type": "execute_result",
     "data": {
      "text/plain": "  State  Area Code     Phone Int'l Plan VMail Plan  Day Mins  Day Charge  \\\n0    KS        415  382-4657         no        yes     265.1       45.07   \n1    OH        415  371-7191         no        yes     161.6       27.47   \n2    NJ        415  358-1921         no         no     243.4       41.38   \n3    OH        408  375-9999        yes         no     299.4       50.90   \n4    OK        415  330-6626        yes         no     166.7       28.34   \n\n   Eve Mins  Eve Calls  Eve Charge  Night Mins  Night Calls  Night Charge  \\\n0     197.4         99       16.78       244.7           91         11.01   \n1     195.5        103       16.62       254.4          103         11.45   \n2     121.2        110       10.30       162.6          104          7.32   \n3      61.9         88        5.26       196.9           89          8.86   \n4     148.3        122       12.61       186.9          121          8.41   \n\n   Intl Mins  Intl Calls  Intl Charge  CustServ Calls  Churn?  \n0       10.0           3         2.70               1  False.  \n1       13.7           3         3.70               1  False.  \n2       12.2           5         3.29               0  False.  \n3        6.6           7         1.78               2  False.  \n4       10.1           3         2.73               3  False.  ",
      "text/html": "<div>\n<style scoped>\n    .dataframe tbody tr th:only-of-type {\n        vertical-align: middle;\n    }\n\n    .dataframe tbody tr th {\n        vertical-align: top;\n    }\n\n    .dataframe thead th {\n        text-align: right;\n    }\n</style>\n<table border=\"1\" class=\"dataframe\">\n  <thead>\n    <tr style=\"text-align: right;\">\n      <th></th>\n      <th>State</th>\n      <th>Area Code</th>\n      <th>Phone</th>\n      <th>Int'l Plan</th>\n      <th>VMail Plan</th>\n      <th>Day Mins</th>\n      <th>Day Charge</th>\n      <th>Eve Mins</th>\n      <th>Eve Calls</th>\n      <th>Eve Charge</th>\n      <th>Night Mins</th>\n      <th>Night Calls</th>\n      <th>Night Charge</th>\n      <th>Intl Mins</th>\n      <th>Intl Calls</th>\n      <th>Intl Charge</th>\n      <th>CustServ Calls</th>\n      <th>Churn?</th>\n    </tr>\n  </thead>\n  <tbody>\n    <tr>\n      <td>0</td>\n      <td>KS</td>\n      <td>415</td>\n      <td>382-4657</td>\n      <td>no</td>\n      <td>yes</td>\n      <td>265.1</td>\n      <td>45.07</td>\n      <td>197.4</td>\n      <td>99</td>\n      <td>16.78</td>\n      <td>244.7</td>\n      <td>91</td>\n      <td>11.01</td>\n      <td>10.0</td>\n      <td>3</td>\n      <td>2.70</td>\n      <td>1</td>\n      <td>False.</td>\n    </tr>\n    <tr>\n      <td>1</td>\n      <td>OH</td>\n      <td>415</td>\n      <td>371-7191</td>\n      <td>no</td>\n      <td>yes</td>\n      <td>161.6</td>\n      <td>27.47</td>\n      <td>195.5</td>\n      <td>103</td>\n      <td>16.62</td>\n      <td>254.4</td>\n      <td>103</td>\n      <td>11.45</td>\n      <td>13.7</td>\n      <td>3</td>\n      <td>3.70</td>\n      <td>1</td>\n      <td>False.</td>\n    </tr>\n    <tr>\n      <td>2</td>\n      <td>NJ</td>\n      <td>415</td>\n      <td>358-1921</td>\n      <td>no</td>\n      <td>no</td>\n      <td>243.4</td>\n      <td>41.38</td>\n      <td>121.2</td>\n      <td>110</td>\n      <td>10.30</td>\n      <td>162.6</td>\n      <td>104</td>\n      <td>7.32</td>\n      <td>12.2</td>\n      <td>5</td>\n      <td>3.29</td>\n      <td>0</td>\n      <td>False.</td>\n    </tr>\n    <tr>\n      <td>3</td>\n      <td>OH</td>\n      <td>408</td>\n      <td>375-9999</td>\n      <td>yes</td>\n      <td>no</td>\n      <td>299.4</td>\n      <td>50.90</td>\n      <td>61.9</td>\n      <td>88</td>\n      <td>5.26</td>\n      <td>196.9</td>\n      <td>89</td>\n      <td>8.86</td>\n      <td>6.6</td>\n      <td>7</td>\n      <td>1.78</td>\n      <td>2</td>\n      <td>False.</td>\n    </tr>\n    <tr>\n      <td>4</td>\n      <td>OK</td>\n      <td>415</td>\n      <td>330-6626</td>\n      <td>yes</td>\n      <td>no</td>\n      <td>166.7</td>\n      <td>28.34</td>\n      <td>148.3</td>\n      <td>122</td>\n      <td>12.61</td>\n      <td>186.9</td>\n      <td>121</td>\n      <td>8.41</td>\n      <td>10.1</td>\n      <td>3</td>\n      <td>2.73</td>\n      <td>3</td>\n      <td>False.</td>\n    </tr>\n  </tbody>\n</table>\n</div>"
     },
     "metadata": {},
     "execution_count": 14
    }
   ],
   "source": [
    "subset = data[sublist]\n",
    "subset.head()"
   ]
  },
  {
   "cell_type": "code",
   "execution_count": 15,
   "metadata": {},
   "outputs": [
    {
     "output_type": "execute_result",
     "data": {
      "text/plain": "   State  Account Length  Area Code     Phone Int'l Plan VMail Plan  \\\n1     OH             107        415  371-7191         no        yes   \n2     NJ             137        415  358-1921         no         no   \n3     OH              84        408  375-9999        yes         no   \n4     OK              75        415  330-6626        yes         no   \n5     AL             118        510  391-8027        yes         no   \n6     MA             121        510  355-9993         no        yes   \n7     MO             147        415  329-9001        yes         no   \n8     LA             117        408  335-4719         no         no   \n9     WV             141        415  330-8173        yes        yes   \n10    IN              65        415  329-6603         no         no   \n11    RI              74        415  344-9403         no         no   \n12    IA             168        408  363-1107         no         no   \n13    MT              95        510  394-8006         no         no   \n14    IA              62        415  366-9238         no         no   \n15    NY             161        415  351-7269         no         no   \n16    ID              85        408  350-8884         no        yes   \n17    VT              93        510  386-2923         no         no   \n18    VA              76        510  356-2992         no        yes   \n19    TX              73        415  373-2782         no         no   \n\n    VMail Message  Day Mins  Day Calls  Day Charge  ...  Eve Calls  \\\n1              26     161.6        123       27.47  ...        103   \n2               0     243.4        114       41.38  ...        110   \n3               0     299.4         71       50.90  ...         88   \n4               0     166.7        113       28.34  ...        122   \n5               0     223.4         98       37.98  ...        101   \n6              24     218.2         88       37.09  ...        108   \n7               0     157.0         79       26.69  ...         94   \n8               0     184.5         97       31.37  ...         80   \n9              37     258.6         84       43.96  ...        111   \n10              0     129.1        137       21.95  ...         83   \n11              0     187.7        127       31.91  ...        148   \n12              0     128.8         96       21.90  ...         71   \n13              0     156.6         88       26.62  ...         75   \n14              0     120.7         70       20.52  ...         76   \n15              0     332.9         67       56.59  ...         97   \n16             27     196.4        139       33.39  ...         90   \n17              0     190.7        114       32.42  ...        111   \n18             33     189.7         66       32.25  ...         65   \n19              0     224.4         90       38.15  ...         88   \n\n    Eve Charge  Night Mins  Night Calls  Night Charge  Intl Mins  Intl Calls  \\\n1        16.62       254.4          103         11.45       13.7           3   \n2        10.30       162.6          104          7.32       12.2           5   \n3         5.26       196.9           89          8.86        6.6           7   \n4        12.61       186.9          121          8.41       10.1           3   \n5        18.75       203.9          118          9.18        6.3           6   \n6        29.62       212.6          118          9.57        7.5           7   \n7         8.76       211.8           96          9.53        7.1           6   \n8        29.89       215.8           90          9.71        8.7           4   \n9        18.87       326.4           97         14.69       11.2           5   \n10       19.42       208.8          111          9.40       12.7           6   \n11       13.89       196.0           94          8.82        9.1           5   \n12        8.92       141.1          128          6.35       11.2           2   \n13       21.05       192.3          115          8.65       12.3           5   \n14       26.11       203.0           99          9.14       13.1           6   \n15       27.01       160.6          128          7.23        5.4           9   \n16       23.88        89.3           75          4.02       13.8           4   \n17       18.55       129.6          121          5.83        8.1           3   \n18       18.09       165.7          108          7.46       10.0           5   \n19       13.56       192.8           74          8.68       13.0           2   \n\n    Intl Charge  CustServ Calls  Churn?  \n1          3.70               1  False.  \n2          3.29               0  False.  \n3          1.78               2  False.  \n4          2.73               3  False.  \n5          1.70               0  False.  \n6          2.03               3  False.  \n7          1.92               0  False.  \n8          2.35               1  False.  \n9          3.02               0  False.  \n10         3.43               4   True.  \n11         2.46               0  False.  \n12         3.02               1  False.  \n13         3.32               3  False.  \n14         3.54               4  False.  \n15         1.46               4   True.  \n16         3.73               1  False.  \n17         2.19               3  False.  \n18         2.70               1  False.  \n19         3.51               1  False.  \n\n[19 rows x 21 columns]",
      "text/html": "<div>\n<style scoped>\n    .dataframe tbody tr th:only-of-type {\n        vertical-align: middle;\n    }\n\n    .dataframe tbody tr th {\n        vertical-align: top;\n    }\n\n    .dataframe thead th {\n        text-align: right;\n    }\n</style>\n<table border=\"1\" class=\"dataframe\">\n  <thead>\n    <tr style=\"text-align: right;\">\n      <th></th>\n      <th>State</th>\n      <th>Account Length</th>\n      <th>Area Code</th>\n      <th>Phone</th>\n      <th>Int'l Plan</th>\n      <th>VMail Plan</th>\n      <th>VMail Message</th>\n      <th>Day Mins</th>\n      <th>Day Calls</th>\n      <th>Day Charge</th>\n      <th>...</th>\n      <th>Eve Calls</th>\n      <th>Eve Charge</th>\n      <th>Night Mins</th>\n      <th>Night Calls</th>\n      <th>Night Charge</th>\n      <th>Intl Mins</th>\n      <th>Intl Calls</th>\n      <th>Intl Charge</th>\n      <th>CustServ Calls</th>\n      <th>Churn?</th>\n    </tr>\n  </thead>\n  <tbody>\n    <tr>\n      <td>1</td>\n      <td>OH</td>\n      <td>107</td>\n      <td>415</td>\n      <td>371-7191</td>\n      <td>no</td>\n      <td>yes</td>\n      <td>26</td>\n      <td>161.6</td>\n      <td>123</td>\n      <td>27.47</td>\n      <td>...</td>\n      <td>103</td>\n      <td>16.62</td>\n      <td>254.4</td>\n      <td>103</td>\n      <td>11.45</td>\n      <td>13.7</td>\n      <td>3</td>\n      <td>3.70</td>\n      <td>1</td>\n      <td>False.</td>\n    </tr>\n    <tr>\n      <td>2</td>\n      <td>NJ</td>\n      <td>137</td>\n      <td>415</td>\n      <td>358-1921</td>\n      <td>no</td>\n      <td>no</td>\n      <td>0</td>\n      <td>243.4</td>\n      <td>114</td>\n      <td>41.38</td>\n      <td>...</td>\n      <td>110</td>\n      <td>10.30</td>\n      <td>162.6</td>\n      <td>104</td>\n      <td>7.32</td>\n      <td>12.2</td>\n      <td>5</td>\n      <td>3.29</td>\n      <td>0</td>\n      <td>False.</td>\n    </tr>\n    <tr>\n      <td>3</td>\n      <td>OH</td>\n      <td>84</td>\n      <td>408</td>\n      <td>375-9999</td>\n      <td>yes</td>\n      <td>no</td>\n      <td>0</td>\n      <td>299.4</td>\n      <td>71</td>\n      <td>50.90</td>\n      <td>...</td>\n      <td>88</td>\n      <td>5.26</td>\n      <td>196.9</td>\n      <td>89</td>\n      <td>8.86</td>\n      <td>6.6</td>\n      <td>7</td>\n      <td>1.78</td>\n      <td>2</td>\n      <td>False.</td>\n    </tr>\n    <tr>\n      <td>4</td>\n      <td>OK</td>\n      <td>75</td>\n      <td>415</td>\n      <td>330-6626</td>\n      <td>yes</td>\n      <td>no</td>\n      <td>0</td>\n      <td>166.7</td>\n      <td>113</td>\n      <td>28.34</td>\n      <td>...</td>\n      <td>122</td>\n      <td>12.61</td>\n      <td>186.9</td>\n      <td>121</td>\n      <td>8.41</td>\n      <td>10.1</td>\n      <td>3</td>\n      <td>2.73</td>\n      <td>3</td>\n      <td>False.</td>\n    </tr>\n    <tr>\n      <td>5</td>\n      <td>AL</td>\n      <td>118</td>\n      <td>510</td>\n      <td>391-8027</td>\n      <td>yes</td>\n      <td>no</td>\n      <td>0</td>\n      <td>223.4</td>\n      <td>98</td>\n      <td>37.98</td>\n      <td>...</td>\n      <td>101</td>\n      <td>18.75</td>\n      <td>203.9</td>\n      <td>118</td>\n      <td>9.18</td>\n      <td>6.3</td>\n      <td>6</td>\n      <td>1.70</td>\n      <td>0</td>\n      <td>False.</td>\n    </tr>\n    <tr>\n      <td>6</td>\n      <td>MA</td>\n      <td>121</td>\n      <td>510</td>\n      <td>355-9993</td>\n      <td>no</td>\n      <td>yes</td>\n      <td>24</td>\n      <td>218.2</td>\n      <td>88</td>\n      <td>37.09</td>\n      <td>...</td>\n      <td>108</td>\n      <td>29.62</td>\n      <td>212.6</td>\n      <td>118</td>\n      <td>9.57</td>\n      <td>7.5</td>\n      <td>7</td>\n      <td>2.03</td>\n      <td>3</td>\n      <td>False.</td>\n    </tr>\n    <tr>\n      <td>7</td>\n      <td>MO</td>\n      <td>147</td>\n      <td>415</td>\n      <td>329-9001</td>\n      <td>yes</td>\n      <td>no</td>\n      <td>0</td>\n      <td>157.0</td>\n      <td>79</td>\n      <td>26.69</td>\n      <td>...</td>\n      <td>94</td>\n      <td>8.76</td>\n      <td>211.8</td>\n      <td>96</td>\n      <td>9.53</td>\n      <td>7.1</td>\n      <td>6</td>\n      <td>1.92</td>\n      <td>0</td>\n      <td>False.</td>\n    </tr>\n    <tr>\n      <td>8</td>\n      <td>LA</td>\n      <td>117</td>\n      <td>408</td>\n      <td>335-4719</td>\n      <td>no</td>\n      <td>no</td>\n      <td>0</td>\n      <td>184.5</td>\n      <td>97</td>\n      <td>31.37</td>\n      <td>...</td>\n      <td>80</td>\n      <td>29.89</td>\n      <td>215.8</td>\n      <td>90</td>\n      <td>9.71</td>\n      <td>8.7</td>\n      <td>4</td>\n      <td>2.35</td>\n      <td>1</td>\n      <td>False.</td>\n    </tr>\n    <tr>\n      <td>9</td>\n      <td>WV</td>\n      <td>141</td>\n      <td>415</td>\n      <td>330-8173</td>\n      <td>yes</td>\n      <td>yes</td>\n      <td>37</td>\n      <td>258.6</td>\n      <td>84</td>\n      <td>43.96</td>\n      <td>...</td>\n      <td>111</td>\n      <td>18.87</td>\n      <td>326.4</td>\n      <td>97</td>\n      <td>14.69</td>\n      <td>11.2</td>\n      <td>5</td>\n      <td>3.02</td>\n      <td>0</td>\n      <td>False.</td>\n    </tr>\n    <tr>\n      <td>10</td>\n      <td>IN</td>\n      <td>65</td>\n      <td>415</td>\n      <td>329-6603</td>\n      <td>no</td>\n      <td>no</td>\n      <td>0</td>\n      <td>129.1</td>\n      <td>137</td>\n      <td>21.95</td>\n      <td>...</td>\n      <td>83</td>\n      <td>19.42</td>\n      <td>208.8</td>\n      <td>111</td>\n      <td>9.40</td>\n      <td>12.7</td>\n      <td>6</td>\n      <td>3.43</td>\n      <td>4</td>\n      <td>True.</td>\n    </tr>\n    <tr>\n      <td>11</td>\n      <td>RI</td>\n      <td>74</td>\n      <td>415</td>\n      <td>344-9403</td>\n      <td>no</td>\n      <td>no</td>\n      <td>0</td>\n      <td>187.7</td>\n      <td>127</td>\n      <td>31.91</td>\n      <td>...</td>\n      <td>148</td>\n      <td>13.89</td>\n      <td>196.0</td>\n      <td>94</td>\n      <td>8.82</td>\n      <td>9.1</td>\n      <td>5</td>\n      <td>2.46</td>\n      <td>0</td>\n      <td>False.</td>\n    </tr>\n    <tr>\n      <td>12</td>\n      <td>IA</td>\n      <td>168</td>\n      <td>408</td>\n      <td>363-1107</td>\n      <td>no</td>\n      <td>no</td>\n      <td>0</td>\n      <td>128.8</td>\n      <td>96</td>\n      <td>21.90</td>\n      <td>...</td>\n      <td>71</td>\n      <td>8.92</td>\n      <td>141.1</td>\n      <td>128</td>\n      <td>6.35</td>\n      <td>11.2</td>\n      <td>2</td>\n      <td>3.02</td>\n      <td>1</td>\n      <td>False.</td>\n    </tr>\n    <tr>\n      <td>13</td>\n      <td>MT</td>\n      <td>95</td>\n      <td>510</td>\n      <td>394-8006</td>\n      <td>no</td>\n      <td>no</td>\n      <td>0</td>\n      <td>156.6</td>\n      <td>88</td>\n      <td>26.62</td>\n      <td>...</td>\n      <td>75</td>\n      <td>21.05</td>\n      <td>192.3</td>\n      <td>115</td>\n      <td>8.65</td>\n      <td>12.3</td>\n      <td>5</td>\n      <td>3.32</td>\n      <td>3</td>\n      <td>False.</td>\n    </tr>\n    <tr>\n      <td>14</td>\n      <td>IA</td>\n      <td>62</td>\n      <td>415</td>\n      <td>366-9238</td>\n      <td>no</td>\n      <td>no</td>\n      <td>0</td>\n      <td>120.7</td>\n      <td>70</td>\n      <td>20.52</td>\n      <td>...</td>\n      <td>76</td>\n      <td>26.11</td>\n      <td>203.0</td>\n      <td>99</td>\n      <td>9.14</td>\n      <td>13.1</td>\n      <td>6</td>\n      <td>3.54</td>\n      <td>4</td>\n      <td>False.</td>\n    </tr>\n    <tr>\n      <td>15</td>\n      <td>NY</td>\n      <td>161</td>\n      <td>415</td>\n      <td>351-7269</td>\n      <td>no</td>\n      <td>no</td>\n      <td>0</td>\n      <td>332.9</td>\n      <td>67</td>\n      <td>56.59</td>\n      <td>...</td>\n      <td>97</td>\n      <td>27.01</td>\n      <td>160.6</td>\n      <td>128</td>\n      <td>7.23</td>\n      <td>5.4</td>\n      <td>9</td>\n      <td>1.46</td>\n      <td>4</td>\n      <td>True.</td>\n    </tr>\n    <tr>\n      <td>16</td>\n      <td>ID</td>\n      <td>85</td>\n      <td>408</td>\n      <td>350-8884</td>\n      <td>no</td>\n      <td>yes</td>\n      <td>27</td>\n      <td>196.4</td>\n      <td>139</td>\n      <td>33.39</td>\n      <td>...</td>\n      <td>90</td>\n      <td>23.88</td>\n      <td>89.3</td>\n      <td>75</td>\n      <td>4.02</td>\n      <td>13.8</td>\n      <td>4</td>\n      <td>3.73</td>\n      <td>1</td>\n      <td>False.</td>\n    </tr>\n    <tr>\n      <td>17</td>\n      <td>VT</td>\n      <td>93</td>\n      <td>510</td>\n      <td>386-2923</td>\n      <td>no</td>\n      <td>no</td>\n      <td>0</td>\n      <td>190.7</td>\n      <td>114</td>\n      <td>32.42</td>\n      <td>...</td>\n      <td>111</td>\n      <td>18.55</td>\n      <td>129.6</td>\n      <td>121</td>\n      <td>5.83</td>\n      <td>8.1</td>\n      <td>3</td>\n      <td>2.19</td>\n      <td>3</td>\n      <td>False.</td>\n    </tr>\n    <tr>\n      <td>18</td>\n      <td>VA</td>\n      <td>76</td>\n      <td>510</td>\n      <td>356-2992</td>\n      <td>no</td>\n      <td>yes</td>\n      <td>33</td>\n      <td>189.7</td>\n      <td>66</td>\n      <td>32.25</td>\n      <td>...</td>\n      <td>65</td>\n      <td>18.09</td>\n      <td>165.7</td>\n      <td>108</td>\n      <td>7.46</td>\n      <td>10.0</td>\n      <td>5</td>\n      <td>2.70</td>\n      <td>1</td>\n      <td>False.</td>\n    </tr>\n    <tr>\n      <td>19</td>\n      <td>TX</td>\n      <td>73</td>\n      <td>415</td>\n      <td>373-2782</td>\n      <td>no</td>\n      <td>no</td>\n      <td>0</td>\n      <td>224.4</td>\n      <td>90</td>\n      <td>38.15</td>\n      <td>...</td>\n      <td>88</td>\n      <td>13.56</td>\n      <td>192.8</td>\n      <td>74</td>\n      <td>8.68</td>\n      <td>13.0</td>\n      <td>2</td>\n      <td>3.51</td>\n      <td>1</td>\n      <td>False.</td>\n    </tr>\n  </tbody>\n</table>\n<p>19 rows × 21 columns</p>\n</div>"
     },
     "metadata": {},
     "execution_count": 15
    }
   ],
   "source": [
    "data[1:20]"
   ]
  },
  {
   "cell_type": "code",
   "execution_count": 16,
   "metadata": {},
   "outputs": [
    {
     "output_type": "execute_result",
     "data": {
      "text/plain": "   State  Account Length  Area Code     Phone Int'l Plan VMail Plan  \\\n0     KS             128        415  382-4657         no        yes   \n1     OH             107        415  371-7191         no        yes   \n2     NJ             137        415  358-1921         no         no   \n3     OH              84        408  375-9999        yes         no   \n4     OK              75        415  330-6626        yes         no   \n5     AL             118        510  391-8027        yes         no   \n6     MA             121        510  355-9993         no        yes   \n7     MO             147        415  329-9001        yes         no   \n8     LA             117        408  335-4719         no         no   \n9     WV             141        415  330-8173        yes        yes   \n10    IN              65        415  329-6603         no         no   \n11    RI              74        415  344-9403         no         no   \n12    IA             168        408  363-1107         no         no   \n13    MT              95        510  394-8006         no         no   \n14    IA              62        415  366-9238         no         no   \n15    NY             161        415  351-7269         no         no   \n16    ID              85        408  350-8884         no        yes   \n17    VT              93        510  386-2923         no         no   \n18    VA              76        510  356-2992         no        yes   \n19    TX              73        415  373-2782         no         no   \n20    FL             147        415  396-5800         no         no   \n21    CO              77        408  393-7984         no         no   \n22    AZ             130        415  358-1958         no         no   \n23    SC             111        415  350-2565         no         no   \n24    VA             132        510  343-4696         no         no   \n\n    VMail Message  Day Mins  Day Calls  Day Charge  ...  Eve Calls  \\\n0              25     265.1        110       45.07  ...         99   \n1              26     161.6        123       27.47  ...        103   \n2               0     243.4        114       41.38  ...        110   \n3               0     299.4         71       50.90  ...         88   \n4               0     166.7        113       28.34  ...        122   \n5               0     223.4         98       37.98  ...        101   \n6              24     218.2         88       37.09  ...        108   \n7               0     157.0         79       26.69  ...         94   \n8               0     184.5         97       31.37  ...         80   \n9              37     258.6         84       43.96  ...        111   \n10              0     129.1        137       21.95  ...         83   \n11              0     187.7        127       31.91  ...        148   \n12              0     128.8         96       21.90  ...         71   \n13              0     156.6         88       26.62  ...         75   \n14              0     120.7         70       20.52  ...         76   \n15              0     332.9         67       56.59  ...         97   \n16             27     196.4        139       33.39  ...         90   \n17              0     190.7        114       32.42  ...        111   \n18             33     189.7         66       32.25  ...         65   \n19              0     224.4         90       38.15  ...         88   \n20              0     155.1        117       26.37  ...         93   \n21              0      62.4         89       10.61  ...        121   \n22              0     183.0        112       31.11  ...         99   \n23              0     110.4        103       18.77  ...        102   \n24              0      81.1         86       13.79  ...         72   \n\n    Eve Charge  Night Mins  Night Calls  Night Charge  Intl Mins  Intl Calls  \\\n0        16.78       244.7           91         11.01       10.0           3   \n1        16.62       254.4          103         11.45       13.7           3   \n2        10.30       162.6          104          7.32       12.2           5   \n3         5.26       196.9           89          8.86        6.6           7   \n4        12.61       186.9          121          8.41       10.1           3   \n5        18.75       203.9          118          9.18        6.3           6   \n6        29.62       212.6          118          9.57        7.5           7   \n7         8.76       211.8           96          9.53        7.1           6   \n8        29.89       215.8           90          9.71        8.7           4   \n9        18.87       326.4           97         14.69       11.2           5   \n10       19.42       208.8          111          9.40       12.7           6   \n11       13.89       196.0           94          8.82        9.1           5   \n12        8.92       141.1          128          6.35       11.2           2   \n13       21.05       192.3          115          8.65       12.3           5   \n14       26.11       203.0           99          9.14       13.1           6   \n15       27.01       160.6          128          7.23        5.4           9   \n16       23.88        89.3           75          4.02       13.8           4   \n17       18.55       129.6          121          5.83        8.1           3   \n18       18.09       165.7          108          7.46       10.0           5   \n19       13.56       192.8           74          8.68       13.0           2   \n20       20.37       208.8          133          9.40       10.6           4   \n21       14.44       209.6           64          9.43        5.7           6   \n22        6.20       181.8           78          8.18        9.5          19   \n23       11.67       189.6          105          8.53        7.7           6   \n24       20.84       237.0          115         10.67       10.3           2   \n\n    Intl Charge  CustServ Calls  Churn?  \n0          2.70               1  False.  \n1          3.70               1  False.  \n2          3.29               0  False.  \n3          1.78               2  False.  \n4          2.73               3  False.  \n5          1.70               0  False.  \n6          2.03               3  False.  \n7          1.92               0  False.  \n8          2.35               1  False.  \n9          3.02               0  False.  \n10         3.43               4   True.  \n11         2.46               0  False.  \n12         3.02               1  False.  \n13         3.32               3  False.  \n14         3.54               4  False.  \n15         1.46               4   True.  \n16         3.73               1  False.  \n17         2.19               3  False.  \n18         2.70               1  False.  \n19         3.51               1  False.  \n20         2.86               0  False.  \n21         1.54               5   True.  \n22         2.57               0  False.  \n23         2.08               2  False.  \n24         2.78               0  False.  \n\n[25 rows x 21 columns]",
      "text/html": "<div>\n<style scoped>\n    .dataframe tbody tr th:only-of-type {\n        vertical-align: middle;\n    }\n\n    .dataframe tbody tr th {\n        vertical-align: top;\n    }\n\n    .dataframe thead th {\n        text-align: right;\n    }\n</style>\n<table border=\"1\" class=\"dataframe\">\n  <thead>\n    <tr style=\"text-align: right;\">\n      <th></th>\n      <th>State</th>\n      <th>Account Length</th>\n      <th>Area Code</th>\n      <th>Phone</th>\n      <th>Int'l Plan</th>\n      <th>VMail Plan</th>\n      <th>VMail Message</th>\n      <th>Day Mins</th>\n      <th>Day Calls</th>\n      <th>Day Charge</th>\n      <th>...</th>\n      <th>Eve Calls</th>\n      <th>Eve Charge</th>\n      <th>Night Mins</th>\n      <th>Night Calls</th>\n      <th>Night Charge</th>\n      <th>Intl Mins</th>\n      <th>Intl Calls</th>\n      <th>Intl Charge</th>\n      <th>CustServ Calls</th>\n      <th>Churn?</th>\n    </tr>\n  </thead>\n  <tbody>\n    <tr>\n      <td>0</td>\n      <td>KS</td>\n      <td>128</td>\n      <td>415</td>\n      <td>382-4657</td>\n      <td>no</td>\n      <td>yes</td>\n      <td>25</td>\n      <td>265.1</td>\n      <td>110</td>\n      <td>45.07</td>\n      <td>...</td>\n      <td>99</td>\n      <td>16.78</td>\n      <td>244.7</td>\n      <td>91</td>\n      <td>11.01</td>\n      <td>10.0</td>\n      <td>3</td>\n      <td>2.70</td>\n      <td>1</td>\n      <td>False.</td>\n    </tr>\n    <tr>\n      <td>1</td>\n      <td>OH</td>\n      <td>107</td>\n      <td>415</td>\n      <td>371-7191</td>\n      <td>no</td>\n      <td>yes</td>\n      <td>26</td>\n      <td>161.6</td>\n      <td>123</td>\n      <td>27.47</td>\n      <td>...</td>\n      <td>103</td>\n      <td>16.62</td>\n      <td>254.4</td>\n      <td>103</td>\n      <td>11.45</td>\n      <td>13.7</td>\n      <td>3</td>\n      <td>3.70</td>\n      <td>1</td>\n      <td>False.</td>\n    </tr>\n    <tr>\n      <td>2</td>\n      <td>NJ</td>\n      <td>137</td>\n      <td>415</td>\n      <td>358-1921</td>\n      <td>no</td>\n      <td>no</td>\n      <td>0</td>\n      <td>243.4</td>\n      <td>114</td>\n      <td>41.38</td>\n      <td>...</td>\n      <td>110</td>\n      <td>10.30</td>\n      <td>162.6</td>\n      <td>104</td>\n      <td>7.32</td>\n      <td>12.2</td>\n      <td>5</td>\n      <td>3.29</td>\n      <td>0</td>\n      <td>False.</td>\n    </tr>\n    <tr>\n      <td>3</td>\n      <td>OH</td>\n      <td>84</td>\n      <td>408</td>\n      <td>375-9999</td>\n      <td>yes</td>\n      <td>no</td>\n      <td>0</td>\n      <td>299.4</td>\n      <td>71</td>\n      <td>50.90</td>\n      <td>...</td>\n      <td>88</td>\n      <td>5.26</td>\n      <td>196.9</td>\n      <td>89</td>\n      <td>8.86</td>\n      <td>6.6</td>\n      <td>7</td>\n      <td>1.78</td>\n      <td>2</td>\n      <td>False.</td>\n    </tr>\n    <tr>\n      <td>4</td>\n      <td>OK</td>\n      <td>75</td>\n      <td>415</td>\n      <td>330-6626</td>\n      <td>yes</td>\n      <td>no</td>\n      <td>0</td>\n      <td>166.7</td>\n      <td>113</td>\n      <td>28.34</td>\n      <td>...</td>\n      <td>122</td>\n      <td>12.61</td>\n      <td>186.9</td>\n      <td>121</td>\n      <td>8.41</td>\n      <td>10.1</td>\n      <td>3</td>\n      <td>2.73</td>\n      <td>3</td>\n      <td>False.</td>\n    </tr>\n    <tr>\n      <td>5</td>\n      <td>AL</td>\n      <td>118</td>\n      <td>510</td>\n      <td>391-8027</td>\n      <td>yes</td>\n      <td>no</td>\n      <td>0</td>\n      <td>223.4</td>\n      <td>98</td>\n      <td>37.98</td>\n      <td>...</td>\n      <td>101</td>\n      <td>18.75</td>\n      <td>203.9</td>\n      <td>118</td>\n      <td>9.18</td>\n      <td>6.3</td>\n      <td>6</td>\n      <td>1.70</td>\n      <td>0</td>\n      <td>False.</td>\n    </tr>\n    <tr>\n      <td>6</td>\n      <td>MA</td>\n      <td>121</td>\n      <td>510</td>\n      <td>355-9993</td>\n      <td>no</td>\n      <td>yes</td>\n      <td>24</td>\n      <td>218.2</td>\n      <td>88</td>\n      <td>37.09</td>\n      <td>...</td>\n      <td>108</td>\n      <td>29.62</td>\n      <td>212.6</td>\n      <td>118</td>\n      <td>9.57</td>\n      <td>7.5</td>\n      <td>7</td>\n      <td>2.03</td>\n      <td>3</td>\n      <td>False.</td>\n    </tr>\n    <tr>\n      <td>7</td>\n      <td>MO</td>\n      <td>147</td>\n      <td>415</td>\n      <td>329-9001</td>\n      <td>yes</td>\n      <td>no</td>\n      <td>0</td>\n      <td>157.0</td>\n      <td>79</td>\n      <td>26.69</td>\n      <td>...</td>\n      <td>94</td>\n      <td>8.76</td>\n      <td>211.8</td>\n      <td>96</td>\n      <td>9.53</td>\n      <td>7.1</td>\n      <td>6</td>\n      <td>1.92</td>\n      <td>0</td>\n      <td>False.</td>\n    </tr>\n    <tr>\n      <td>8</td>\n      <td>LA</td>\n      <td>117</td>\n      <td>408</td>\n      <td>335-4719</td>\n      <td>no</td>\n      <td>no</td>\n      <td>0</td>\n      <td>184.5</td>\n      <td>97</td>\n      <td>31.37</td>\n      <td>...</td>\n      <td>80</td>\n      <td>29.89</td>\n      <td>215.8</td>\n      <td>90</td>\n      <td>9.71</td>\n      <td>8.7</td>\n      <td>4</td>\n      <td>2.35</td>\n      <td>1</td>\n      <td>False.</td>\n    </tr>\n    <tr>\n      <td>9</td>\n      <td>WV</td>\n      <td>141</td>\n      <td>415</td>\n      <td>330-8173</td>\n      <td>yes</td>\n      <td>yes</td>\n      <td>37</td>\n      <td>258.6</td>\n      <td>84</td>\n      <td>43.96</td>\n      <td>...</td>\n      <td>111</td>\n      <td>18.87</td>\n      <td>326.4</td>\n      <td>97</td>\n      <td>14.69</td>\n      <td>11.2</td>\n      <td>5</td>\n      <td>3.02</td>\n      <td>0</td>\n      <td>False.</td>\n    </tr>\n    <tr>\n      <td>10</td>\n      <td>IN</td>\n      <td>65</td>\n      <td>415</td>\n      <td>329-6603</td>\n      <td>no</td>\n      <td>no</td>\n      <td>0</td>\n      <td>129.1</td>\n      <td>137</td>\n      <td>21.95</td>\n      <td>...</td>\n      <td>83</td>\n      <td>19.42</td>\n      <td>208.8</td>\n      <td>111</td>\n      <td>9.40</td>\n      <td>12.7</td>\n      <td>6</td>\n      <td>3.43</td>\n      <td>4</td>\n      <td>True.</td>\n    </tr>\n    <tr>\n      <td>11</td>\n      <td>RI</td>\n      <td>74</td>\n      <td>415</td>\n      <td>344-9403</td>\n      <td>no</td>\n      <td>no</td>\n      <td>0</td>\n      <td>187.7</td>\n      <td>127</td>\n      <td>31.91</td>\n      <td>...</td>\n      <td>148</td>\n      <td>13.89</td>\n      <td>196.0</td>\n      <td>94</td>\n      <td>8.82</td>\n      <td>9.1</td>\n      <td>5</td>\n      <td>2.46</td>\n      <td>0</td>\n      <td>False.</td>\n    </tr>\n    <tr>\n      <td>12</td>\n      <td>IA</td>\n      <td>168</td>\n      <td>408</td>\n      <td>363-1107</td>\n      <td>no</td>\n      <td>no</td>\n      <td>0</td>\n      <td>128.8</td>\n      <td>96</td>\n      <td>21.90</td>\n      <td>...</td>\n      <td>71</td>\n      <td>8.92</td>\n      <td>141.1</td>\n      <td>128</td>\n      <td>6.35</td>\n      <td>11.2</td>\n      <td>2</td>\n      <td>3.02</td>\n      <td>1</td>\n      <td>False.</td>\n    </tr>\n    <tr>\n      <td>13</td>\n      <td>MT</td>\n      <td>95</td>\n      <td>510</td>\n      <td>394-8006</td>\n      <td>no</td>\n      <td>no</td>\n      <td>0</td>\n      <td>156.6</td>\n      <td>88</td>\n      <td>26.62</td>\n      <td>...</td>\n      <td>75</td>\n      <td>21.05</td>\n      <td>192.3</td>\n      <td>115</td>\n      <td>8.65</td>\n      <td>12.3</td>\n      <td>5</td>\n      <td>3.32</td>\n      <td>3</td>\n      <td>False.</td>\n    </tr>\n    <tr>\n      <td>14</td>\n      <td>IA</td>\n      <td>62</td>\n      <td>415</td>\n      <td>366-9238</td>\n      <td>no</td>\n      <td>no</td>\n      <td>0</td>\n      <td>120.7</td>\n      <td>70</td>\n      <td>20.52</td>\n      <td>...</td>\n      <td>76</td>\n      <td>26.11</td>\n      <td>203.0</td>\n      <td>99</td>\n      <td>9.14</td>\n      <td>13.1</td>\n      <td>6</td>\n      <td>3.54</td>\n      <td>4</td>\n      <td>False.</td>\n    </tr>\n    <tr>\n      <td>15</td>\n      <td>NY</td>\n      <td>161</td>\n      <td>415</td>\n      <td>351-7269</td>\n      <td>no</td>\n      <td>no</td>\n      <td>0</td>\n      <td>332.9</td>\n      <td>67</td>\n      <td>56.59</td>\n      <td>...</td>\n      <td>97</td>\n      <td>27.01</td>\n      <td>160.6</td>\n      <td>128</td>\n      <td>7.23</td>\n      <td>5.4</td>\n      <td>9</td>\n      <td>1.46</td>\n      <td>4</td>\n      <td>True.</td>\n    </tr>\n    <tr>\n      <td>16</td>\n      <td>ID</td>\n      <td>85</td>\n      <td>408</td>\n      <td>350-8884</td>\n      <td>no</td>\n      <td>yes</td>\n      <td>27</td>\n      <td>196.4</td>\n      <td>139</td>\n      <td>33.39</td>\n      <td>...</td>\n      <td>90</td>\n      <td>23.88</td>\n      <td>89.3</td>\n      <td>75</td>\n      <td>4.02</td>\n      <td>13.8</td>\n      <td>4</td>\n      <td>3.73</td>\n      <td>1</td>\n      <td>False.</td>\n    </tr>\n    <tr>\n      <td>17</td>\n      <td>VT</td>\n      <td>93</td>\n      <td>510</td>\n      <td>386-2923</td>\n      <td>no</td>\n      <td>no</td>\n      <td>0</td>\n      <td>190.7</td>\n      <td>114</td>\n      <td>32.42</td>\n      <td>...</td>\n      <td>111</td>\n      <td>18.55</td>\n      <td>129.6</td>\n      <td>121</td>\n      <td>5.83</td>\n      <td>8.1</td>\n      <td>3</td>\n      <td>2.19</td>\n      <td>3</td>\n      <td>False.</td>\n    </tr>\n    <tr>\n      <td>18</td>\n      <td>VA</td>\n      <td>76</td>\n      <td>510</td>\n      <td>356-2992</td>\n      <td>no</td>\n      <td>yes</td>\n      <td>33</td>\n      <td>189.7</td>\n      <td>66</td>\n      <td>32.25</td>\n      <td>...</td>\n      <td>65</td>\n      <td>18.09</td>\n      <td>165.7</td>\n      <td>108</td>\n      <td>7.46</td>\n      <td>10.0</td>\n      <td>5</td>\n      <td>2.70</td>\n      <td>1</td>\n      <td>False.</td>\n    </tr>\n    <tr>\n      <td>19</td>\n      <td>TX</td>\n      <td>73</td>\n      <td>415</td>\n      <td>373-2782</td>\n      <td>no</td>\n      <td>no</td>\n      <td>0</td>\n      <td>224.4</td>\n      <td>90</td>\n      <td>38.15</td>\n      <td>...</td>\n      <td>88</td>\n      <td>13.56</td>\n      <td>192.8</td>\n      <td>74</td>\n      <td>8.68</td>\n      <td>13.0</td>\n      <td>2</td>\n      <td>3.51</td>\n      <td>1</td>\n      <td>False.</td>\n    </tr>\n    <tr>\n      <td>20</td>\n      <td>FL</td>\n      <td>147</td>\n      <td>415</td>\n      <td>396-5800</td>\n      <td>no</td>\n      <td>no</td>\n      <td>0</td>\n      <td>155.1</td>\n      <td>117</td>\n      <td>26.37</td>\n      <td>...</td>\n      <td>93</td>\n      <td>20.37</td>\n      <td>208.8</td>\n      <td>133</td>\n      <td>9.40</td>\n      <td>10.6</td>\n      <td>4</td>\n      <td>2.86</td>\n      <td>0</td>\n      <td>False.</td>\n    </tr>\n    <tr>\n      <td>21</td>\n      <td>CO</td>\n      <td>77</td>\n      <td>408</td>\n      <td>393-7984</td>\n      <td>no</td>\n      <td>no</td>\n      <td>0</td>\n      <td>62.4</td>\n      <td>89</td>\n      <td>10.61</td>\n      <td>...</td>\n      <td>121</td>\n      <td>14.44</td>\n      <td>209.6</td>\n      <td>64</td>\n      <td>9.43</td>\n      <td>5.7</td>\n      <td>6</td>\n      <td>1.54</td>\n      <td>5</td>\n      <td>True.</td>\n    </tr>\n    <tr>\n      <td>22</td>\n      <td>AZ</td>\n      <td>130</td>\n      <td>415</td>\n      <td>358-1958</td>\n      <td>no</td>\n      <td>no</td>\n      <td>0</td>\n      <td>183.0</td>\n      <td>112</td>\n      <td>31.11</td>\n      <td>...</td>\n      <td>99</td>\n      <td>6.20</td>\n      <td>181.8</td>\n      <td>78</td>\n      <td>8.18</td>\n      <td>9.5</td>\n      <td>19</td>\n      <td>2.57</td>\n      <td>0</td>\n      <td>False.</td>\n    </tr>\n    <tr>\n      <td>23</td>\n      <td>SC</td>\n      <td>111</td>\n      <td>415</td>\n      <td>350-2565</td>\n      <td>no</td>\n      <td>no</td>\n      <td>0</td>\n      <td>110.4</td>\n      <td>103</td>\n      <td>18.77</td>\n      <td>...</td>\n      <td>102</td>\n      <td>11.67</td>\n      <td>189.6</td>\n      <td>105</td>\n      <td>8.53</td>\n      <td>7.7</td>\n      <td>6</td>\n      <td>2.08</td>\n      <td>2</td>\n      <td>False.</td>\n    </tr>\n    <tr>\n      <td>24</td>\n      <td>VA</td>\n      <td>132</td>\n      <td>510</td>\n      <td>343-4696</td>\n      <td>no</td>\n      <td>no</td>\n      <td>0</td>\n      <td>81.1</td>\n      <td>86</td>\n      <td>13.79</td>\n      <td>...</td>\n      <td>72</td>\n      <td>20.84</td>\n      <td>237.0</td>\n      <td>115</td>\n      <td>10.67</td>\n      <td>10.3</td>\n      <td>2</td>\n      <td>2.78</td>\n      <td>0</td>\n      <td>False.</td>\n    </tr>\n  </tbody>\n</table>\n<p>25 rows × 21 columns</p>\n</div>"
     },
     "metadata": {},
     "execution_count": 16
    }
   ],
   "source": [
    "data[:25]"
   ]
  },
  {
   "cell_type": "code",
   "execution_count": 17,
   "metadata": {},
   "outputs": [
    {
     "output_type": "execute_result",
     "data": {
      "text/plain": "     State  Account Length  Area Code     Phone Int'l Plan VMail Plan  \\\n3120    AR              96        415  365-2341         no        yes   \n3121    GA              98        408  388-8797         no         no   \n3122    TN               3        415  400-4713         no         no   \n3123    MA              77        408  420-3042         no        yes   \n3124    ND              75        408  396-4171         no        yes   \n...    ...             ...        ...       ...        ...        ...   \n3326    OH              96        415  347-6812         no         no   \n3327    SC              79        415  348-3830         no         no   \n3328    AZ             192        415  414-4276         no        yes   \n3329    WV              68        415  370-3271         no         no   \n3330    RI              28        510  328-8230         no         no   \n\n      VMail Message  Day Mins  Day Calls  Day Charge  ...  Eve Calls  \\\n3120             21     247.6         95       42.09  ...        150   \n3121              0     169.9         77       28.88  ...        155   \n3122              0     185.0        120       31.45  ...        129   \n3123             17     204.9         84       34.83  ...        102   \n3124             24     225.5        119       38.34  ...        108   \n...             ...       ...        ...         ...  ...        ...   \n3326              0     106.6        128       18.12  ...         87   \n3327              0     134.7         98       22.90  ...         68   \n3328             36     156.2         77       26.55  ...        126   \n3329              0     231.1         57       39.29  ...         55   \n3330              0     180.8        109       30.74  ...         58   \n\n      Eve Charge  Night Mins  Night Calls  Night Charge  Intl Mins  \\\n3120       21.79       158.6           72          7.14       10.8   \n3121       11.76       142.6          105          6.42        8.5   \n3122       17.31       170.5           89          7.67       14.1   \n3123       17.09       219.7           97          9.89       11.3   \n3124       15.47       270.9          106         12.19        9.4   \n...          ...         ...          ...           ...        ...   \n3326       24.21       178.9           92          8.05       14.9   \n3327       16.12       221.4          128          9.96       11.8   \n3328       18.32       279.1           83         12.56        9.9   \n3329       13.04       191.3          123          8.61        9.6   \n3330       24.55       191.9           91          8.64       14.1   \n\n      Intl Calls  Intl Charge  CustServ Calls  Churn?  \n3120           6         2.92               2  False.  \n3121           7         2.30               1  False.  \n3122           3         3.81               3  False.  \n3123           5         3.05               0  False.  \n3124           2         2.54               3  False.  \n...          ...          ...             ...     ...  \n3326           7         4.02               1  False.  \n3327           5         3.19               2  False.  \n3328           6         2.67               2  False.  \n3329           4         2.59               3  False.  \n3330           6         3.81               2  False.  \n\n[211 rows x 21 columns]",
      "text/html": "<div>\n<style scoped>\n    .dataframe tbody tr th:only-of-type {\n        vertical-align: middle;\n    }\n\n    .dataframe tbody tr th {\n        vertical-align: top;\n    }\n\n    .dataframe thead th {\n        text-align: right;\n    }\n</style>\n<table border=\"1\" class=\"dataframe\">\n  <thead>\n    <tr style=\"text-align: right;\">\n      <th></th>\n      <th>State</th>\n      <th>Account Length</th>\n      <th>Area Code</th>\n      <th>Phone</th>\n      <th>Int'l Plan</th>\n      <th>VMail Plan</th>\n      <th>VMail Message</th>\n      <th>Day Mins</th>\n      <th>Day Calls</th>\n      <th>Day Charge</th>\n      <th>...</th>\n      <th>Eve Calls</th>\n      <th>Eve Charge</th>\n      <th>Night Mins</th>\n      <th>Night Calls</th>\n      <th>Night Charge</th>\n      <th>Intl Mins</th>\n      <th>Intl Calls</th>\n      <th>Intl Charge</th>\n      <th>CustServ Calls</th>\n      <th>Churn?</th>\n    </tr>\n  </thead>\n  <tbody>\n    <tr>\n      <td>3120</td>\n      <td>AR</td>\n      <td>96</td>\n      <td>415</td>\n      <td>365-2341</td>\n      <td>no</td>\n      <td>yes</td>\n      <td>21</td>\n      <td>247.6</td>\n      <td>95</td>\n      <td>42.09</td>\n      <td>...</td>\n      <td>150</td>\n      <td>21.79</td>\n      <td>158.6</td>\n      <td>72</td>\n      <td>7.14</td>\n      <td>10.8</td>\n      <td>6</td>\n      <td>2.92</td>\n      <td>2</td>\n      <td>False.</td>\n    </tr>\n    <tr>\n      <td>3121</td>\n      <td>GA</td>\n      <td>98</td>\n      <td>408</td>\n      <td>388-8797</td>\n      <td>no</td>\n      <td>no</td>\n      <td>0</td>\n      <td>169.9</td>\n      <td>77</td>\n      <td>28.88</td>\n      <td>...</td>\n      <td>155</td>\n      <td>11.76</td>\n      <td>142.6</td>\n      <td>105</td>\n      <td>6.42</td>\n      <td>8.5</td>\n      <td>7</td>\n      <td>2.30</td>\n      <td>1</td>\n      <td>False.</td>\n    </tr>\n    <tr>\n      <td>3122</td>\n      <td>TN</td>\n      <td>3</td>\n      <td>415</td>\n      <td>400-4713</td>\n      <td>no</td>\n      <td>no</td>\n      <td>0</td>\n      <td>185.0</td>\n      <td>120</td>\n      <td>31.45</td>\n      <td>...</td>\n      <td>129</td>\n      <td>17.31</td>\n      <td>170.5</td>\n      <td>89</td>\n      <td>7.67</td>\n      <td>14.1</td>\n      <td>3</td>\n      <td>3.81</td>\n      <td>3</td>\n      <td>False.</td>\n    </tr>\n    <tr>\n      <td>3123</td>\n      <td>MA</td>\n      <td>77</td>\n      <td>408</td>\n      <td>420-3042</td>\n      <td>no</td>\n      <td>yes</td>\n      <td>17</td>\n      <td>204.9</td>\n      <td>84</td>\n      <td>34.83</td>\n      <td>...</td>\n      <td>102</td>\n      <td>17.09</td>\n      <td>219.7</td>\n      <td>97</td>\n      <td>9.89</td>\n      <td>11.3</td>\n      <td>5</td>\n      <td>3.05</td>\n      <td>0</td>\n      <td>False.</td>\n    </tr>\n    <tr>\n      <td>3124</td>\n      <td>ND</td>\n      <td>75</td>\n      <td>408</td>\n      <td>396-4171</td>\n      <td>no</td>\n      <td>yes</td>\n      <td>24</td>\n      <td>225.5</td>\n      <td>119</td>\n      <td>38.34</td>\n      <td>...</td>\n      <td>108</td>\n      <td>15.47</td>\n      <td>270.9</td>\n      <td>106</td>\n      <td>12.19</td>\n      <td>9.4</td>\n      <td>2</td>\n      <td>2.54</td>\n      <td>3</td>\n      <td>False.</td>\n    </tr>\n    <tr>\n      <td>...</td>\n      <td>...</td>\n      <td>...</td>\n      <td>...</td>\n      <td>...</td>\n      <td>...</td>\n      <td>...</td>\n      <td>...</td>\n      <td>...</td>\n      <td>...</td>\n      <td>...</td>\n      <td>...</td>\n      <td>...</td>\n      <td>...</td>\n      <td>...</td>\n      <td>...</td>\n      <td>...</td>\n      <td>...</td>\n      <td>...</td>\n      <td>...</td>\n      <td>...</td>\n      <td>...</td>\n    </tr>\n    <tr>\n      <td>3326</td>\n      <td>OH</td>\n      <td>96</td>\n      <td>415</td>\n      <td>347-6812</td>\n      <td>no</td>\n      <td>no</td>\n      <td>0</td>\n      <td>106.6</td>\n      <td>128</td>\n      <td>18.12</td>\n      <td>...</td>\n      <td>87</td>\n      <td>24.21</td>\n      <td>178.9</td>\n      <td>92</td>\n      <td>8.05</td>\n      <td>14.9</td>\n      <td>7</td>\n      <td>4.02</td>\n      <td>1</td>\n      <td>False.</td>\n    </tr>\n    <tr>\n      <td>3327</td>\n      <td>SC</td>\n      <td>79</td>\n      <td>415</td>\n      <td>348-3830</td>\n      <td>no</td>\n      <td>no</td>\n      <td>0</td>\n      <td>134.7</td>\n      <td>98</td>\n      <td>22.90</td>\n      <td>...</td>\n      <td>68</td>\n      <td>16.12</td>\n      <td>221.4</td>\n      <td>128</td>\n      <td>9.96</td>\n      <td>11.8</td>\n      <td>5</td>\n      <td>3.19</td>\n      <td>2</td>\n      <td>False.</td>\n    </tr>\n    <tr>\n      <td>3328</td>\n      <td>AZ</td>\n      <td>192</td>\n      <td>415</td>\n      <td>414-4276</td>\n      <td>no</td>\n      <td>yes</td>\n      <td>36</td>\n      <td>156.2</td>\n      <td>77</td>\n      <td>26.55</td>\n      <td>...</td>\n      <td>126</td>\n      <td>18.32</td>\n      <td>279.1</td>\n      <td>83</td>\n      <td>12.56</td>\n      <td>9.9</td>\n      <td>6</td>\n      <td>2.67</td>\n      <td>2</td>\n      <td>False.</td>\n    </tr>\n    <tr>\n      <td>3329</td>\n      <td>WV</td>\n      <td>68</td>\n      <td>415</td>\n      <td>370-3271</td>\n      <td>no</td>\n      <td>no</td>\n      <td>0</td>\n      <td>231.1</td>\n      <td>57</td>\n      <td>39.29</td>\n      <td>...</td>\n      <td>55</td>\n      <td>13.04</td>\n      <td>191.3</td>\n      <td>123</td>\n      <td>8.61</td>\n      <td>9.6</td>\n      <td>4</td>\n      <td>2.59</td>\n      <td>3</td>\n      <td>False.</td>\n    </tr>\n    <tr>\n      <td>3330</td>\n      <td>RI</td>\n      <td>28</td>\n      <td>510</td>\n      <td>328-8230</td>\n      <td>no</td>\n      <td>no</td>\n      <td>0</td>\n      <td>180.8</td>\n      <td>109</td>\n      <td>30.74</td>\n      <td>...</td>\n      <td>58</td>\n      <td>24.55</td>\n      <td>191.9</td>\n      <td>91</td>\n      <td>8.64</td>\n      <td>14.1</td>\n      <td>6</td>\n      <td>3.81</td>\n      <td>2</td>\n      <td>False.</td>\n    </tr>\n  </tbody>\n</table>\n<p>211 rows × 21 columns</p>\n</div>"
     },
     "metadata": {},
     "execution_count": 17
    }
   ],
   "source": [
    "data[3120:3331]"
   ]
  },
  {
   "cell_type": "code",
   "execution_count": 18,
   "metadata": {},
   "outputs": [
    {
     "output_type": "execute_result",
     "data": {
      "text/plain": "   State  Account Length  Area Code     Phone Int'l Plan VMail Plan  \\\n10    IN              65        415  329-6603         no         no   \n11    RI              74        415  344-9403         no         no   \n12    IA             168        408  363-1107         no         no   \n13    MT              95        510  394-8006         no         no   \n14    IA              62        415  366-9238         no         no   \n15    NY             161        415  351-7269         no         no   \n16    ID              85        408  350-8884         no        yes   \n17    VT              93        510  386-2923         no         no   \n18    VA              76        510  356-2992         no        yes   \n19    TX              73        415  373-2782         no         no   \n20    FL             147        415  396-5800         no         no   \n21    CO              77        408  393-7984         no         no   \n22    AZ             130        415  358-1958         no         no   \n23    SC             111        415  350-2565         no         no   \n24    VA             132        510  343-4696         no         no   \n25    NE             174        415  331-3698         no         no   \n26    WY              57        408  357-3817         no        yes   \n27    MT              54        408  418-6412         no         no   \n28    MO              20        415  353-2630         no         no   \n29    HI              49        510  410-7789         no         no   \n30    IL             142        415  416-8428         no         no   \n31    NH              75        510  370-3359         no         no   \n32    LA             172        408  383-1121         no         no   \n33    AZ              12        408  360-1596         no         no   \n34    OK              57        408  395-2854         no        yes   \n\n    VMail Message  Day Mins  Day Calls  Day Charge  ...  Eve Calls  \\\n10              0     129.1        137       21.95  ...         83   \n11              0     187.7        127       31.91  ...        148   \n12              0     128.8         96       21.90  ...         71   \n13              0     156.6         88       26.62  ...         75   \n14              0     120.7         70       20.52  ...         76   \n15              0     332.9         67       56.59  ...         97   \n16             27     196.4        139       33.39  ...         90   \n17              0     190.7        114       32.42  ...        111   \n18             33     189.7         66       32.25  ...         65   \n19              0     224.4         90       38.15  ...         88   \n20              0     155.1        117       26.37  ...         93   \n21              0      62.4         89       10.61  ...        121   \n22              0     183.0        112       31.11  ...         99   \n23              0     110.4        103       18.77  ...        102   \n24              0      81.1         86       13.79  ...         72   \n25              0     124.3         76       21.13  ...        112   \n26             39     213.0        115       36.21  ...        112   \n27              0     134.3         73       22.83  ...        100   \n28              0     190.0        109       32.30  ...         84   \n29              0     119.3        117       20.28  ...        109   \n30              0      84.8         95       14.42  ...         63   \n31              0     226.1        105       38.44  ...        107   \n32              0     212.0        121       36.04  ...        115   \n33              0     249.6        118       42.43  ...        119   \n34             25     176.8         94       30.06  ...         75   \n\n    Eve Charge  Night Mins  Night Calls  Night Charge  Intl Mins  Intl Calls  \\\n10       19.42       208.8          111          9.40       12.7           6   \n11       13.89       196.0           94          8.82        9.1           5   \n12        8.92       141.1          128          6.35       11.2           2   \n13       21.05       192.3          115          8.65       12.3           5   \n14       26.11       203.0           99          9.14       13.1           6   \n15       27.01       160.6          128          7.23        5.4           9   \n16       23.88        89.3           75          4.02       13.8           4   \n17       18.55       129.6          121          5.83        8.1           3   \n18       18.09       165.7          108          7.46       10.0           5   \n19       13.56       192.8           74          8.68       13.0           2   \n20       20.37       208.8          133          9.40       10.6           4   \n21       14.44       209.6           64          9.43        5.7           6   \n22        6.20       181.8           78          8.18        9.5          19   \n23       11.67       189.6          105          8.53        7.7           6   \n24       20.84       237.0          115         10.67       10.3           2   \n25       23.55       250.7          115         11.28       15.5           5   \n26       16.24       182.7          115          8.22        9.5           3   \n27       13.22       102.1           68          4.59       14.7           4   \n28       21.95       181.5          102          8.17        6.3           6   \n29       18.28       178.7           90          8.04       11.1           1   \n30       11.62       250.5          148         11.27       14.2           6   \n31       17.13       246.2           98         11.08       10.3           5   \n32        2.65       293.3           78         13.20       12.6          10   \n33       21.45       280.2           90         12.61       11.8           3   \n34       16.58       213.5          116          9.61        8.3           4   \n\n    Intl Charge  CustServ Calls  Churn?  \n10         3.43               4   True.  \n11         2.46               0  False.  \n12         3.02               1  False.  \n13         3.32               3  False.  \n14         3.54               4  False.  \n15         1.46               4   True.  \n16         3.73               1  False.  \n17         2.19               3  False.  \n18         2.70               1  False.  \n19         3.51               1  False.  \n20         2.86               0  False.  \n21         1.54               5   True.  \n22         2.57               0  False.  \n23         2.08               2  False.  \n24         2.78               0  False.  \n25         4.19               3  False.  \n26         2.57               0  False.  \n27         3.97               3  False.  \n28         1.70               0  False.  \n29         3.00               1  False.  \n30         3.83               2  False.  \n31         2.78               1  False.  \n32         3.40               3  False.  \n33         3.19               1   True.  \n34         2.24               0  False.  \n\n[25 rows x 21 columns]",
      "text/html": "<div>\n<style scoped>\n    .dataframe tbody tr th:only-of-type {\n        vertical-align: middle;\n    }\n\n    .dataframe tbody tr th {\n        vertical-align: top;\n    }\n\n    .dataframe thead th {\n        text-align: right;\n    }\n</style>\n<table border=\"1\" class=\"dataframe\">\n  <thead>\n    <tr style=\"text-align: right;\">\n      <th></th>\n      <th>State</th>\n      <th>Account Length</th>\n      <th>Area Code</th>\n      <th>Phone</th>\n      <th>Int'l Plan</th>\n      <th>VMail Plan</th>\n      <th>VMail Message</th>\n      <th>Day Mins</th>\n      <th>Day Calls</th>\n      <th>Day Charge</th>\n      <th>...</th>\n      <th>Eve Calls</th>\n      <th>Eve Charge</th>\n      <th>Night Mins</th>\n      <th>Night Calls</th>\n      <th>Night Charge</th>\n      <th>Intl Mins</th>\n      <th>Intl Calls</th>\n      <th>Intl Charge</th>\n      <th>CustServ Calls</th>\n      <th>Churn?</th>\n    </tr>\n  </thead>\n  <tbody>\n    <tr>\n      <td>10</td>\n      <td>IN</td>\n      <td>65</td>\n      <td>415</td>\n      <td>329-6603</td>\n      <td>no</td>\n      <td>no</td>\n      <td>0</td>\n      <td>129.1</td>\n      <td>137</td>\n      <td>21.95</td>\n      <td>...</td>\n      <td>83</td>\n      <td>19.42</td>\n      <td>208.8</td>\n      <td>111</td>\n      <td>9.40</td>\n      <td>12.7</td>\n      <td>6</td>\n      <td>3.43</td>\n      <td>4</td>\n      <td>True.</td>\n    </tr>\n    <tr>\n      <td>11</td>\n      <td>RI</td>\n      <td>74</td>\n      <td>415</td>\n      <td>344-9403</td>\n      <td>no</td>\n      <td>no</td>\n      <td>0</td>\n      <td>187.7</td>\n      <td>127</td>\n      <td>31.91</td>\n      <td>...</td>\n      <td>148</td>\n      <td>13.89</td>\n      <td>196.0</td>\n      <td>94</td>\n      <td>8.82</td>\n      <td>9.1</td>\n      <td>5</td>\n      <td>2.46</td>\n      <td>0</td>\n      <td>False.</td>\n    </tr>\n    <tr>\n      <td>12</td>\n      <td>IA</td>\n      <td>168</td>\n      <td>408</td>\n      <td>363-1107</td>\n      <td>no</td>\n      <td>no</td>\n      <td>0</td>\n      <td>128.8</td>\n      <td>96</td>\n      <td>21.90</td>\n      <td>...</td>\n      <td>71</td>\n      <td>8.92</td>\n      <td>141.1</td>\n      <td>128</td>\n      <td>6.35</td>\n      <td>11.2</td>\n      <td>2</td>\n      <td>3.02</td>\n      <td>1</td>\n      <td>False.</td>\n    </tr>\n    <tr>\n      <td>13</td>\n      <td>MT</td>\n      <td>95</td>\n      <td>510</td>\n      <td>394-8006</td>\n      <td>no</td>\n      <td>no</td>\n      <td>0</td>\n      <td>156.6</td>\n      <td>88</td>\n      <td>26.62</td>\n      <td>...</td>\n      <td>75</td>\n      <td>21.05</td>\n      <td>192.3</td>\n      <td>115</td>\n      <td>8.65</td>\n      <td>12.3</td>\n      <td>5</td>\n      <td>3.32</td>\n      <td>3</td>\n      <td>False.</td>\n    </tr>\n    <tr>\n      <td>14</td>\n      <td>IA</td>\n      <td>62</td>\n      <td>415</td>\n      <td>366-9238</td>\n      <td>no</td>\n      <td>no</td>\n      <td>0</td>\n      <td>120.7</td>\n      <td>70</td>\n      <td>20.52</td>\n      <td>...</td>\n      <td>76</td>\n      <td>26.11</td>\n      <td>203.0</td>\n      <td>99</td>\n      <td>9.14</td>\n      <td>13.1</td>\n      <td>6</td>\n      <td>3.54</td>\n      <td>4</td>\n      <td>False.</td>\n    </tr>\n    <tr>\n      <td>15</td>\n      <td>NY</td>\n      <td>161</td>\n      <td>415</td>\n      <td>351-7269</td>\n      <td>no</td>\n      <td>no</td>\n      <td>0</td>\n      <td>332.9</td>\n      <td>67</td>\n      <td>56.59</td>\n      <td>...</td>\n      <td>97</td>\n      <td>27.01</td>\n      <td>160.6</td>\n      <td>128</td>\n      <td>7.23</td>\n      <td>5.4</td>\n      <td>9</td>\n      <td>1.46</td>\n      <td>4</td>\n      <td>True.</td>\n    </tr>\n    <tr>\n      <td>16</td>\n      <td>ID</td>\n      <td>85</td>\n      <td>408</td>\n      <td>350-8884</td>\n      <td>no</td>\n      <td>yes</td>\n      <td>27</td>\n      <td>196.4</td>\n      <td>139</td>\n      <td>33.39</td>\n      <td>...</td>\n      <td>90</td>\n      <td>23.88</td>\n      <td>89.3</td>\n      <td>75</td>\n      <td>4.02</td>\n      <td>13.8</td>\n      <td>4</td>\n      <td>3.73</td>\n      <td>1</td>\n      <td>False.</td>\n    </tr>\n    <tr>\n      <td>17</td>\n      <td>VT</td>\n      <td>93</td>\n      <td>510</td>\n      <td>386-2923</td>\n      <td>no</td>\n      <td>no</td>\n      <td>0</td>\n      <td>190.7</td>\n      <td>114</td>\n      <td>32.42</td>\n      <td>...</td>\n      <td>111</td>\n      <td>18.55</td>\n      <td>129.6</td>\n      <td>121</td>\n      <td>5.83</td>\n      <td>8.1</td>\n      <td>3</td>\n      <td>2.19</td>\n      <td>3</td>\n      <td>False.</td>\n    </tr>\n    <tr>\n      <td>18</td>\n      <td>VA</td>\n      <td>76</td>\n      <td>510</td>\n      <td>356-2992</td>\n      <td>no</td>\n      <td>yes</td>\n      <td>33</td>\n      <td>189.7</td>\n      <td>66</td>\n      <td>32.25</td>\n      <td>...</td>\n      <td>65</td>\n      <td>18.09</td>\n      <td>165.7</td>\n      <td>108</td>\n      <td>7.46</td>\n      <td>10.0</td>\n      <td>5</td>\n      <td>2.70</td>\n      <td>1</td>\n      <td>False.</td>\n    </tr>\n    <tr>\n      <td>19</td>\n      <td>TX</td>\n      <td>73</td>\n      <td>415</td>\n      <td>373-2782</td>\n      <td>no</td>\n      <td>no</td>\n      <td>0</td>\n      <td>224.4</td>\n      <td>90</td>\n      <td>38.15</td>\n      <td>...</td>\n      <td>88</td>\n      <td>13.56</td>\n      <td>192.8</td>\n      <td>74</td>\n      <td>8.68</td>\n      <td>13.0</td>\n      <td>2</td>\n      <td>3.51</td>\n      <td>1</td>\n      <td>False.</td>\n    </tr>\n    <tr>\n      <td>20</td>\n      <td>FL</td>\n      <td>147</td>\n      <td>415</td>\n      <td>396-5800</td>\n      <td>no</td>\n      <td>no</td>\n      <td>0</td>\n      <td>155.1</td>\n      <td>117</td>\n      <td>26.37</td>\n      <td>...</td>\n      <td>93</td>\n      <td>20.37</td>\n      <td>208.8</td>\n      <td>133</td>\n      <td>9.40</td>\n      <td>10.6</td>\n      <td>4</td>\n      <td>2.86</td>\n      <td>0</td>\n      <td>False.</td>\n    </tr>\n    <tr>\n      <td>21</td>\n      <td>CO</td>\n      <td>77</td>\n      <td>408</td>\n      <td>393-7984</td>\n      <td>no</td>\n      <td>no</td>\n      <td>0</td>\n      <td>62.4</td>\n      <td>89</td>\n      <td>10.61</td>\n      <td>...</td>\n      <td>121</td>\n      <td>14.44</td>\n      <td>209.6</td>\n      <td>64</td>\n      <td>9.43</td>\n      <td>5.7</td>\n      <td>6</td>\n      <td>1.54</td>\n      <td>5</td>\n      <td>True.</td>\n    </tr>\n    <tr>\n      <td>22</td>\n      <td>AZ</td>\n      <td>130</td>\n      <td>415</td>\n      <td>358-1958</td>\n      <td>no</td>\n      <td>no</td>\n      <td>0</td>\n      <td>183.0</td>\n      <td>112</td>\n      <td>31.11</td>\n      <td>...</td>\n      <td>99</td>\n      <td>6.20</td>\n      <td>181.8</td>\n      <td>78</td>\n      <td>8.18</td>\n      <td>9.5</td>\n      <td>19</td>\n      <td>2.57</td>\n      <td>0</td>\n      <td>False.</td>\n    </tr>\n    <tr>\n      <td>23</td>\n      <td>SC</td>\n      <td>111</td>\n      <td>415</td>\n      <td>350-2565</td>\n      <td>no</td>\n      <td>no</td>\n      <td>0</td>\n      <td>110.4</td>\n      <td>103</td>\n      <td>18.77</td>\n      <td>...</td>\n      <td>102</td>\n      <td>11.67</td>\n      <td>189.6</td>\n      <td>105</td>\n      <td>8.53</td>\n      <td>7.7</td>\n      <td>6</td>\n      <td>2.08</td>\n      <td>2</td>\n      <td>False.</td>\n    </tr>\n    <tr>\n      <td>24</td>\n      <td>VA</td>\n      <td>132</td>\n      <td>510</td>\n      <td>343-4696</td>\n      <td>no</td>\n      <td>no</td>\n      <td>0</td>\n      <td>81.1</td>\n      <td>86</td>\n      <td>13.79</td>\n      <td>...</td>\n      <td>72</td>\n      <td>20.84</td>\n      <td>237.0</td>\n      <td>115</td>\n      <td>10.67</td>\n      <td>10.3</td>\n      <td>2</td>\n      <td>2.78</td>\n      <td>0</td>\n      <td>False.</td>\n    </tr>\n    <tr>\n      <td>25</td>\n      <td>NE</td>\n      <td>174</td>\n      <td>415</td>\n      <td>331-3698</td>\n      <td>no</td>\n      <td>no</td>\n      <td>0</td>\n      <td>124.3</td>\n      <td>76</td>\n      <td>21.13</td>\n      <td>...</td>\n      <td>112</td>\n      <td>23.55</td>\n      <td>250.7</td>\n      <td>115</td>\n      <td>11.28</td>\n      <td>15.5</td>\n      <td>5</td>\n      <td>4.19</td>\n      <td>3</td>\n      <td>False.</td>\n    </tr>\n    <tr>\n      <td>26</td>\n      <td>WY</td>\n      <td>57</td>\n      <td>408</td>\n      <td>357-3817</td>\n      <td>no</td>\n      <td>yes</td>\n      <td>39</td>\n      <td>213.0</td>\n      <td>115</td>\n      <td>36.21</td>\n      <td>...</td>\n      <td>112</td>\n      <td>16.24</td>\n      <td>182.7</td>\n      <td>115</td>\n      <td>8.22</td>\n      <td>9.5</td>\n      <td>3</td>\n      <td>2.57</td>\n      <td>0</td>\n      <td>False.</td>\n    </tr>\n    <tr>\n      <td>27</td>\n      <td>MT</td>\n      <td>54</td>\n      <td>408</td>\n      <td>418-6412</td>\n      <td>no</td>\n      <td>no</td>\n      <td>0</td>\n      <td>134.3</td>\n      <td>73</td>\n      <td>22.83</td>\n      <td>...</td>\n      <td>100</td>\n      <td>13.22</td>\n      <td>102.1</td>\n      <td>68</td>\n      <td>4.59</td>\n      <td>14.7</td>\n      <td>4</td>\n      <td>3.97</td>\n      <td>3</td>\n      <td>False.</td>\n    </tr>\n    <tr>\n      <td>28</td>\n      <td>MO</td>\n      <td>20</td>\n      <td>415</td>\n      <td>353-2630</td>\n      <td>no</td>\n      <td>no</td>\n      <td>0</td>\n      <td>190.0</td>\n      <td>109</td>\n      <td>32.30</td>\n      <td>...</td>\n      <td>84</td>\n      <td>21.95</td>\n      <td>181.5</td>\n      <td>102</td>\n      <td>8.17</td>\n      <td>6.3</td>\n      <td>6</td>\n      <td>1.70</td>\n      <td>0</td>\n      <td>False.</td>\n    </tr>\n    <tr>\n      <td>29</td>\n      <td>HI</td>\n      <td>49</td>\n      <td>510</td>\n      <td>410-7789</td>\n      <td>no</td>\n      <td>no</td>\n      <td>0</td>\n      <td>119.3</td>\n      <td>117</td>\n      <td>20.28</td>\n      <td>...</td>\n      <td>109</td>\n      <td>18.28</td>\n      <td>178.7</td>\n      <td>90</td>\n      <td>8.04</td>\n      <td>11.1</td>\n      <td>1</td>\n      <td>3.00</td>\n      <td>1</td>\n      <td>False.</td>\n    </tr>\n    <tr>\n      <td>30</td>\n      <td>IL</td>\n      <td>142</td>\n      <td>415</td>\n      <td>416-8428</td>\n      <td>no</td>\n      <td>no</td>\n      <td>0</td>\n      <td>84.8</td>\n      <td>95</td>\n      <td>14.42</td>\n      <td>...</td>\n      <td>63</td>\n      <td>11.62</td>\n      <td>250.5</td>\n      <td>148</td>\n      <td>11.27</td>\n      <td>14.2</td>\n      <td>6</td>\n      <td>3.83</td>\n      <td>2</td>\n      <td>False.</td>\n    </tr>\n    <tr>\n      <td>31</td>\n      <td>NH</td>\n      <td>75</td>\n      <td>510</td>\n      <td>370-3359</td>\n      <td>no</td>\n      <td>no</td>\n      <td>0</td>\n      <td>226.1</td>\n      <td>105</td>\n      <td>38.44</td>\n      <td>...</td>\n      <td>107</td>\n      <td>17.13</td>\n      <td>246.2</td>\n      <td>98</td>\n      <td>11.08</td>\n      <td>10.3</td>\n      <td>5</td>\n      <td>2.78</td>\n      <td>1</td>\n      <td>False.</td>\n    </tr>\n    <tr>\n      <td>32</td>\n      <td>LA</td>\n      <td>172</td>\n      <td>408</td>\n      <td>383-1121</td>\n      <td>no</td>\n      <td>no</td>\n      <td>0</td>\n      <td>212.0</td>\n      <td>121</td>\n      <td>36.04</td>\n      <td>...</td>\n      <td>115</td>\n      <td>2.65</td>\n      <td>293.3</td>\n      <td>78</td>\n      <td>13.20</td>\n      <td>12.6</td>\n      <td>10</td>\n      <td>3.40</td>\n      <td>3</td>\n      <td>False.</td>\n    </tr>\n    <tr>\n      <td>33</td>\n      <td>AZ</td>\n      <td>12</td>\n      <td>408</td>\n      <td>360-1596</td>\n      <td>no</td>\n      <td>no</td>\n      <td>0</td>\n      <td>249.6</td>\n      <td>118</td>\n      <td>42.43</td>\n      <td>...</td>\n      <td>119</td>\n      <td>21.45</td>\n      <td>280.2</td>\n      <td>90</td>\n      <td>12.61</td>\n      <td>11.8</td>\n      <td>3</td>\n      <td>3.19</td>\n      <td>1</td>\n      <td>True.</td>\n    </tr>\n    <tr>\n      <td>34</td>\n      <td>OK</td>\n      <td>57</td>\n      <td>408</td>\n      <td>395-2854</td>\n      <td>no</td>\n      <td>yes</td>\n      <td>25</td>\n      <td>176.8</td>\n      <td>94</td>\n      <td>30.06</td>\n      <td>...</td>\n      <td>75</td>\n      <td>16.58</td>\n      <td>213.5</td>\n      <td>116</td>\n      <td>9.61</td>\n      <td>8.3</td>\n      <td>4</td>\n      <td>2.24</td>\n      <td>0</td>\n      <td>False.</td>\n    </tr>\n  </tbody>\n</table>\n<p>25 rows × 21 columns</p>\n</div>"
     },
     "metadata": {},
     "execution_count": 18
    }
   ],
   "source": [
    "data[10:35]"
   ]
  },
  {
   "cell_type": "code",
   "execution_count": 19,
   "metadata": {},
   "outputs": [
    {
     "output_type": "execute_result",
     "data": {
      "text/plain": "(43, 21)"
     },
     "metadata": {},
     "execution_count": 19
    }
   ],
   "source": [
    "## Usuarios con Day Mins > 300\n",
    "data1 = data[data[\"Day Mins\"] > 300]\n",
    "data1.shape"
   ]
  },
  {
   "cell_type": "code",
   "execution_count": 20,
   "metadata": {},
   "outputs": [
    {
     "output_type": "execute_result",
     "data": {
      "text/plain": "(83, 21)"
     },
     "metadata": {},
     "execution_count": 20
    }
   ],
   "source": [
    "## Usuarios de Nueva York (State = \"NY\")\n",
    "data2 = data[data[\"State\"] == \"NY\"]\n",
    "data2.shape"
   ]
  },
  {
   "cell_type": "code",
   "execution_count": 21,
   "metadata": {},
   "outputs": [
    {
     "output_type": "execute_result",
     "data": {
      "text/plain": "(2, 21)"
     },
     "metadata": {},
     "execution_count": 21
    }
   ],
   "source": [
    "## AND -> &\n",
    "data3 = data[(data[\"Day Mins\"]>300) & (data[\"State\"]==\"NY\")]\n",
    "data3.shape"
   ]
  },
  {
   "cell_type": "code",
   "execution_count": 22,
   "metadata": {},
   "outputs": [
    {
     "output_type": "execute_result",
     "data": {
      "text/plain": "(124, 21)"
     },
     "metadata": {},
     "execution_count": 22
    }
   ],
   "source": [
    "data4 = data[(data[\"Day Mins\"] > 300) | (data[\"State\"] == \"NY\")]\n",
    "data4.shape"
   ]
  },
  {
   "cell_type": "code",
   "execution_count": 23,
   "metadata": {},
   "outputs": [
    {
     "output_type": "execute_result",
     "data": {
      "text/plain": "   Day Mins  Night Mins  Account Length\n0     265.1       244.7             128\n1     161.6       254.4             107\n2     243.4       162.6             137\n3     299.4       196.9              84\n4     166.7       186.9              75",
      "text/html": "<div>\n<style scoped>\n    .dataframe tbody tr th:only-of-type {\n        vertical-align: middle;\n    }\n\n    .dataframe tbody tr th {\n        vertical-align: top;\n    }\n\n    .dataframe thead th {\n        text-align: right;\n    }\n</style>\n<table border=\"1\" class=\"dataframe\">\n  <thead>\n    <tr style=\"text-align: right;\">\n      <th></th>\n      <th>Day Mins</th>\n      <th>Night Mins</th>\n      <th>Account Length</th>\n    </tr>\n  </thead>\n  <tbody>\n    <tr>\n      <td>0</td>\n      <td>265.1</td>\n      <td>244.7</td>\n      <td>128</td>\n    </tr>\n    <tr>\n      <td>1</td>\n      <td>161.6</td>\n      <td>254.4</td>\n      <td>107</td>\n    </tr>\n    <tr>\n      <td>2</td>\n      <td>243.4</td>\n      <td>162.6</td>\n      <td>137</td>\n    </tr>\n    <tr>\n      <td>3</td>\n      <td>299.4</td>\n      <td>196.9</td>\n      <td>84</td>\n    </tr>\n    <tr>\n      <td>4</td>\n      <td>166.7</td>\n      <td>186.9</td>\n      <td>75</td>\n    </tr>\n  </tbody>\n</table>\n</div>"
     },
     "metadata": {},
     "execution_count": 23
    }
   ],
   "source": [
    "## Minutos de día, minutos de noche y Longitud de la Cuenta de los primeros 50 individuos\n",
    "subset_first_50 = data[[\"Day Mins\", \"Night Mins\", \"Account Length\"]][:50]\n",
    "subset_first_50.head()"
   ]
  },
  {
   "cell_type": "code",
   "execution_count": 24,
   "metadata": {},
   "outputs": [
    {
     "output_type": "execute_result",
     "data": {
      "text/plain": "  State  Area Code     Phone Int'l Plan VMail Plan  Day Mins  Day Charge  \\\n0    KS        415  382-4657         no        yes     265.1       45.07   \n1    OH        415  371-7191         no        yes     161.6       27.47   \n2    NJ        415  358-1921         no         no     243.4       41.38   \n3    OH        408  375-9999        yes         no     299.4       50.90   \n4    OK        415  330-6626        yes         no     166.7       28.34   \n5    AL        510  391-8027        yes         no     223.4       37.98   \n6    MA        510  355-9993         no        yes     218.2       37.09   \n7    MO        415  329-9001        yes         no     157.0       26.69   \n8    LA        408  335-4719         no         no     184.5       31.37   \n9    WV        415  330-8173        yes        yes     258.6       43.96   \n\n   Eve Mins  Eve Calls  Eve Charge  Night Mins  Night Calls  Night Charge  \\\n0     197.4         99       16.78       244.7           91         11.01   \n1     195.5        103       16.62       254.4          103         11.45   \n2     121.2        110       10.30       162.6          104          7.32   \n3      61.9         88        5.26       196.9           89          8.86   \n4     148.3        122       12.61       186.9          121          8.41   \n5     220.6        101       18.75       203.9          118          9.18   \n6     348.5        108       29.62       212.6          118          9.57   \n7     103.1         94        8.76       211.8           96          9.53   \n8     351.6         80       29.89       215.8           90          9.71   \n9     222.0        111       18.87       326.4           97         14.69   \n\n   Intl Mins  Intl Calls  Intl Charge  CustServ Calls  Churn?  \n0       10.0           3         2.70               1  False.  \n1       13.7           3         3.70               1  False.  \n2       12.2           5         3.29               0  False.  \n3        6.6           7         1.78               2  False.  \n4       10.1           3         2.73               3  False.  \n5        6.3           6         1.70               0  False.  \n6        7.5           7         2.03               3  False.  \n7        7.1           6         1.92               0  False.  \n8        8.7           4         2.35               1  False.  \n9       11.2           5         3.02               0  False.  ",
      "text/html": "<div>\n<style scoped>\n    .dataframe tbody tr th:only-of-type {\n        vertical-align: middle;\n    }\n\n    .dataframe tbody tr th {\n        vertical-align: top;\n    }\n\n    .dataframe thead th {\n        text-align: right;\n    }\n</style>\n<table border=\"1\" class=\"dataframe\">\n  <thead>\n    <tr style=\"text-align: right;\">\n      <th></th>\n      <th>State</th>\n      <th>Area Code</th>\n      <th>Phone</th>\n      <th>Int'l Plan</th>\n      <th>VMail Plan</th>\n      <th>Day Mins</th>\n      <th>Day Charge</th>\n      <th>Eve Mins</th>\n      <th>Eve Calls</th>\n      <th>Eve Charge</th>\n      <th>Night Mins</th>\n      <th>Night Calls</th>\n      <th>Night Charge</th>\n      <th>Intl Mins</th>\n      <th>Intl Calls</th>\n      <th>Intl Charge</th>\n      <th>CustServ Calls</th>\n      <th>Churn?</th>\n    </tr>\n  </thead>\n  <tbody>\n    <tr>\n      <td>0</td>\n      <td>KS</td>\n      <td>415</td>\n      <td>382-4657</td>\n      <td>no</td>\n      <td>yes</td>\n      <td>265.1</td>\n      <td>45.07</td>\n      <td>197.4</td>\n      <td>99</td>\n      <td>16.78</td>\n      <td>244.7</td>\n      <td>91</td>\n      <td>11.01</td>\n      <td>10.0</td>\n      <td>3</td>\n      <td>2.70</td>\n      <td>1</td>\n      <td>False.</td>\n    </tr>\n    <tr>\n      <td>1</td>\n      <td>OH</td>\n      <td>415</td>\n      <td>371-7191</td>\n      <td>no</td>\n      <td>yes</td>\n      <td>161.6</td>\n      <td>27.47</td>\n      <td>195.5</td>\n      <td>103</td>\n      <td>16.62</td>\n      <td>254.4</td>\n      <td>103</td>\n      <td>11.45</td>\n      <td>13.7</td>\n      <td>3</td>\n      <td>3.70</td>\n      <td>1</td>\n      <td>False.</td>\n    </tr>\n    <tr>\n      <td>2</td>\n      <td>NJ</td>\n      <td>415</td>\n      <td>358-1921</td>\n      <td>no</td>\n      <td>no</td>\n      <td>243.4</td>\n      <td>41.38</td>\n      <td>121.2</td>\n      <td>110</td>\n      <td>10.30</td>\n      <td>162.6</td>\n      <td>104</td>\n      <td>7.32</td>\n      <td>12.2</td>\n      <td>5</td>\n      <td>3.29</td>\n      <td>0</td>\n      <td>False.</td>\n    </tr>\n    <tr>\n      <td>3</td>\n      <td>OH</td>\n      <td>408</td>\n      <td>375-9999</td>\n      <td>yes</td>\n      <td>no</td>\n      <td>299.4</td>\n      <td>50.90</td>\n      <td>61.9</td>\n      <td>88</td>\n      <td>5.26</td>\n      <td>196.9</td>\n      <td>89</td>\n      <td>8.86</td>\n      <td>6.6</td>\n      <td>7</td>\n      <td>1.78</td>\n      <td>2</td>\n      <td>False.</td>\n    </tr>\n    <tr>\n      <td>4</td>\n      <td>OK</td>\n      <td>415</td>\n      <td>330-6626</td>\n      <td>yes</td>\n      <td>no</td>\n      <td>166.7</td>\n      <td>28.34</td>\n      <td>148.3</td>\n      <td>122</td>\n      <td>12.61</td>\n      <td>186.9</td>\n      <td>121</td>\n      <td>8.41</td>\n      <td>10.1</td>\n      <td>3</td>\n      <td>2.73</td>\n      <td>3</td>\n      <td>False.</td>\n    </tr>\n    <tr>\n      <td>5</td>\n      <td>AL</td>\n      <td>510</td>\n      <td>391-8027</td>\n      <td>yes</td>\n      <td>no</td>\n      <td>223.4</td>\n      <td>37.98</td>\n      <td>220.6</td>\n      <td>101</td>\n      <td>18.75</td>\n      <td>203.9</td>\n      <td>118</td>\n      <td>9.18</td>\n      <td>6.3</td>\n      <td>6</td>\n      <td>1.70</td>\n      <td>0</td>\n      <td>False.</td>\n    </tr>\n    <tr>\n      <td>6</td>\n      <td>MA</td>\n      <td>510</td>\n      <td>355-9993</td>\n      <td>no</td>\n      <td>yes</td>\n      <td>218.2</td>\n      <td>37.09</td>\n      <td>348.5</td>\n      <td>108</td>\n      <td>29.62</td>\n      <td>212.6</td>\n      <td>118</td>\n      <td>9.57</td>\n      <td>7.5</td>\n      <td>7</td>\n      <td>2.03</td>\n      <td>3</td>\n      <td>False.</td>\n    </tr>\n    <tr>\n      <td>7</td>\n      <td>MO</td>\n      <td>415</td>\n      <td>329-9001</td>\n      <td>yes</td>\n      <td>no</td>\n      <td>157.0</td>\n      <td>26.69</td>\n      <td>103.1</td>\n      <td>94</td>\n      <td>8.76</td>\n      <td>211.8</td>\n      <td>96</td>\n      <td>9.53</td>\n      <td>7.1</td>\n      <td>6</td>\n      <td>1.92</td>\n      <td>0</td>\n      <td>False.</td>\n    </tr>\n    <tr>\n      <td>8</td>\n      <td>LA</td>\n      <td>408</td>\n      <td>335-4719</td>\n      <td>no</td>\n      <td>no</td>\n      <td>184.5</td>\n      <td>31.37</td>\n      <td>351.6</td>\n      <td>80</td>\n      <td>29.89</td>\n      <td>215.8</td>\n      <td>90</td>\n      <td>9.71</td>\n      <td>8.7</td>\n      <td>4</td>\n      <td>2.35</td>\n      <td>1</td>\n      <td>False.</td>\n    </tr>\n    <tr>\n      <td>9</td>\n      <td>WV</td>\n      <td>415</td>\n      <td>330-8173</td>\n      <td>yes</td>\n      <td>yes</td>\n      <td>258.6</td>\n      <td>43.96</td>\n      <td>222.0</td>\n      <td>111</td>\n      <td>18.87</td>\n      <td>326.4</td>\n      <td>97</td>\n      <td>14.69</td>\n      <td>11.2</td>\n      <td>5</td>\n      <td>3.02</td>\n      <td>0</td>\n      <td>False.</td>\n    </tr>\n  </tbody>\n</table>\n</div>"
     },
     "metadata": {},
     "execution_count": 24
    }
   ],
   "source": [
    "subset[:10]"
   ]
  },
  {
   "cell_type": "code",
   "execution_count": 25,
   "metadata": {},
   "outputs": [
    {
     "output_type": "execute_result",
     "data": {
      "text/plain": "       Phone Int'l Plan VMail Plan\n1   371-7191         no        yes\n2   358-1921         no         no\n3   375-9999        yes         no\n4   330-6626        yes         no\n5   391-8027        yes         no\n6   355-9993         no        yes\n7   329-9001        yes         no\n8   335-4719         no         no\n9   330-8173        yes        yes\n10  329-6603         no         no",
      "text/html": "<div>\n<style scoped>\n    .dataframe tbody tr th:only-of-type {\n        vertical-align: middle;\n    }\n\n    .dataframe tbody tr th {\n        vertical-align: top;\n    }\n\n    .dataframe thead th {\n        text-align: right;\n    }\n</style>\n<table border=\"1\" class=\"dataframe\">\n  <thead>\n    <tr style=\"text-align: right;\">\n      <th></th>\n      <th>Phone</th>\n      <th>Int'l Plan</th>\n      <th>VMail Plan</th>\n    </tr>\n  </thead>\n  <tbody>\n    <tr>\n      <td>1</td>\n      <td>371-7191</td>\n      <td>no</td>\n      <td>yes</td>\n    </tr>\n    <tr>\n      <td>2</td>\n      <td>358-1921</td>\n      <td>no</td>\n      <td>no</td>\n    </tr>\n    <tr>\n      <td>3</td>\n      <td>375-9999</td>\n      <td>yes</td>\n      <td>no</td>\n    </tr>\n    <tr>\n      <td>4</td>\n      <td>330-6626</td>\n      <td>yes</td>\n      <td>no</td>\n    </tr>\n    <tr>\n      <td>5</td>\n      <td>391-8027</td>\n      <td>yes</td>\n      <td>no</td>\n    </tr>\n    <tr>\n      <td>6</td>\n      <td>355-9993</td>\n      <td>no</td>\n      <td>yes</td>\n    </tr>\n    <tr>\n      <td>7</td>\n      <td>329-9001</td>\n      <td>yes</td>\n      <td>no</td>\n    </tr>\n    <tr>\n      <td>8</td>\n      <td>335-4719</td>\n      <td>no</td>\n      <td>no</td>\n    </tr>\n    <tr>\n      <td>9</td>\n      <td>330-8173</td>\n      <td>yes</td>\n      <td>yes</td>\n    </tr>\n    <tr>\n      <td>10</td>\n      <td>329-6603</td>\n      <td>no</td>\n      <td>no</td>\n    </tr>\n  </tbody>\n</table>\n</div>"
     },
     "metadata": {},
     "execution_count": 25
    }
   ],
   "source": [
    "data.ix[1:10, 3:6] ##Primeras 10 filas, columnas de la 3 a la 6"
   ]
  },
  {
   "cell_type": "code",
   "execution_count": 26,
   "metadata": {},
   "outputs": [
    {
     "output_type": "execute_result",
     "data": {
      "text/plain": "      Phone Int'l Plan VMail Plan\n1  371-7191         no        yes\n2  358-1921         no         no\n3  375-9999        yes         no\n4  330-6626        yes         no\n5  391-8027        yes         no\n6  355-9993         no        yes\n7  329-9001        yes         no\n8  335-4719         no         no\n9  330-8173        yes        yes",
      "text/html": "<div>\n<style scoped>\n    .dataframe tbody tr th:only-of-type {\n        vertical-align: middle;\n    }\n\n    .dataframe tbody tr th {\n        vertical-align: top;\n    }\n\n    .dataframe thead th {\n        text-align: right;\n    }\n</style>\n<table border=\"1\" class=\"dataframe\">\n  <thead>\n    <tr style=\"text-align: right;\">\n      <th></th>\n      <th>Phone</th>\n      <th>Int'l Plan</th>\n      <th>VMail Plan</th>\n    </tr>\n  </thead>\n  <tbody>\n    <tr>\n      <td>1</td>\n      <td>371-7191</td>\n      <td>no</td>\n      <td>yes</td>\n    </tr>\n    <tr>\n      <td>2</td>\n      <td>358-1921</td>\n      <td>no</td>\n      <td>no</td>\n    </tr>\n    <tr>\n      <td>3</td>\n      <td>375-9999</td>\n      <td>yes</td>\n      <td>no</td>\n    </tr>\n    <tr>\n      <td>4</td>\n      <td>330-6626</td>\n      <td>yes</td>\n      <td>no</td>\n    </tr>\n    <tr>\n      <td>5</td>\n      <td>391-8027</td>\n      <td>yes</td>\n      <td>no</td>\n    </tr>\n    <tr>\n      <td>6</td>\n      <td>355-9993</td>\n      <td>no</td>\n      <td>yes</td>\n    </tr>\n    <tr>\n      <td>7</td>\n      <td>329-9001</td>\n      <td>yes</td>\n      <td>no</td>\n    </tr>\n    <tr>\n      <td>8</td>\n      <td>335-4719</td>\n      <td>no</td>\n      <td>no</td>\n    </tr>\n    <tr>\n      <td>9</td>\n      <td>330-8173</td>\n      <td>yes</td>\n      <td>yes</td>\n    </tr>\n  </tbody>\n</table>\n</div>"
     },
     "metadata": {},
     "execution_count": 26
    }
   ],
   "source": [
    "data.iloc[1:10, 3:6]"
   ]
  },
  {
   "cell_type": "code",
   "execution_count": 27,
   "metadata": {},
   "outputs": [
    {
     "output_type": "execute_result",
     "data": {
      "text/plain": "  State  Account Length  Area Code     Phone Int'l Plan VMail Plan  \\\n1    OH             107        415  371-7191         no        yes   \n2    NJ             137        415  358-1921         no         no   \n3    OH              84        408  375-9999        yes         no   \n4    OK              75        415  330-6626        yes         no   \n5    AL             118        510  391-8027        yes         no   \n6    MA             121        510  355-9993         no        yes   \n7    MO             147        415  329-9001        yes         no   \n8    LA             117        408  335-4719         no         no   \n9    WV             141        415  330-8173        yes        yes   \n\n   VMail Message  Day Mins  Day Calls  Day Charge  ...  Eve Calls  Eve Charge  \\\n1             26     161.6        123       27.47  ...        103       16.62   \n2              0     243.4        114       41.38  ...        110       10.30   \n3              0     299.4         71       50.90  ...         88        5.26   \n4              0     166.7        113       28.34  ...        122       12.61   \n5              0     223.4         98       37.98  ...        101       18.75   \n6             24     218.2         88       37.09  ...        108       29.62   \n7              0     157.0         79       26.69  ...         94        8.76   \n8              0     184.5         97       31.37  ...         80       29.89   \n9             37     258.6         84       43.96  ...        111       18.87   \n\n   Night Mins  Night Calls  Night Charge  Intl Mins  Intl Calls  Intl Charge  \\\n1       254.4          103         11.45       13.7           3         3.70   \n2       162.6          104          7.32       12.2           5         3.29   \n3       196.9           89          8.86        6.6           7         1.78   \n4       186.9          121          8.41       10.1           3         2.73   \n5       203.9          118          9.18        6.3           6         1.70   \n6       212.6          118          9.57        7.5           7         2.03   \n7       211.8           96          9.53        7.1           6         1.92   \n8       215.8           90          9.71        8.7           4         2.35   \n9       326.4           97         14.69       11.2           5         3.02   \n\n   CustServ Calls  Churn?  \n1               1  False.  \n2               0  False.  \n3               2  False.  \n4               3  False.  \n5               0  False.  \n6               3  False.  \n7               0  False.  \n8               1  False.  \n9               0  False.  \n\n[9 rows x 21 columns]",
      "text/html": "<div>\n<style scoped>\n    .dataframe tbody tr th:only-of-type {\n        vertical-align: middle;\n    }\n\n    .dataframe tbody tr th {\n        vertical-align: top;\n    }\n\n    .dataframe thead th {\n        text-align: right;\n    }\n</style>\n<table border=\"1\" class=\"dataframe\">\n  <thead>\n    <tr style=\"text-align: right;\">\n      <th></th>\n      <th>State</th>\n      <th>Account Length</th>\n      <th>Area Code</th>\n      <th>Phone</th>\n      <th>Int'l Plan</th>\n      <th>VMail Plan</th>\n      <th>VMail Message</th>\n      <th>Day Mins</th>\n      <th>Day Calls</th>\n      <th>Day Charge</th>\n      <th>...</th>\n      <th>Eve Calls</th>\n      <th>Eve Charge</th>\n      <th>Night Mins</th>\n      <th>Night Calls</th>\n      <th>Night Charge</th>\n      <th>Intl Mins</th>\n      <th>Intl Calls</th>\n      <th>Intl Charge</th>\n      <th>CustServ Calls</th>\n      <th>Churn?</th>\n    </tr>\n  </thead>\n  <tbody>\n    <tr>\n      <td>1</td>\n      <td>OH</td>\n      <td>107</td>\n      <td>415</td>\n      <td>371-7191</td>\n      <td>no</td>\n      <td>yes</td>\n      <td>26</td>\n      <td>161.6</td>\n      <td>123</td>\n      <td>27.47</td>\n      <td>...</td>\n      <td>103</td>\n      <td>16.62</td>\n      <td>254.4</td>\n      <td>103</td>\n      <td>11.45</td>\n      <td>13.7</td>\n      <td>3</td>\n      <td>3.70</td>\n      <td>1</td>\n      <td>False.</td>\n    </tr>\n    <tr>\n      <td>2</td>\n      <td>NJ</td>\n      <td>137</td>\n      <td>415</td>\n      <td>358-1921</td>\n      <td>no</td>\n      <td>no</td>\n      <td>0</td>\n      <td>243.4</td>\n      <td>114</td>\n      <td>41.38</td>\n      <td>...</td>\n      <td>110</td>\n      <td>10.30</td>\n      <td>162.6</td>\n      <td>104</td>\n      <td>7.32</td>\n      <td>12.2</td>\n      <td>5</td>\n      <td>3.29</td>\n      <td>0</td>\n      <td>False.</td>\n    </tr>\n    <tr>\n      <td>3</td>\n      <td>OH</td>\n      <td>84</td>\n      <td>408</td>\n      <td>375-9999</td>\n      <td>yes</td>\n      <td>no</td>\n      <td>0</td>\n      <td>299.4</td>\n      <td>71</td>\n      <td>50.90</td>\n      <td>...</td>\n      <td>88</td>\n      <td>5.26</td>\n      <td>196.9</td>\n      <td>89</td>\n      <td>8.86</td>\n      <td>6.6</td>\n      <td>7</td>\n      <td>1.78</td>\n      <td>2</td>\n      <td>False.</td>\n    </tr>\n    <tr>\n      <td>4</td>\n      <td>OK</td>\n      <td>75</td>\n      <td>415</td>\n      <td>330-6626</td>\n      <td>yes</td>\n      <td>no</td>\n      <td>0</td>\n      <td>166.7</td>\n      <td>113</td>\n      <td>28.34</td>\n      <td>...</td>\n      <td>122</td>\n      <td>12.61</td>\n      <td>186.9</td>\n      <td>121</td>\n      <td>8.41</td>\n      <td>10.1</td>\n      <td>3</td>\n      <td>2.73</td>\n      <td>3</td>\n      <td>False.</td>\n    </tr>\n    <tr>\n      <td>5</td>\n      <td>AL</td>\n      <td>118</td>\n      <td>510</td>\n      <td>391-8027</td>\n      <td>yes</td>\n      <td>no</td>\n      <td>0</td>\n      <td>223.4</td>\n      <td>98</td>\n      <td>37.98</td>\n      <td>...</td>\n      <td>101</td>\n      <td>18.75</td>\n      <td>203.9</td>\n      <td>118</td>\n      <td>9.18</td>\n      <td>6.3</td>\n      <td>6</td>\n      <td>1.70</td>\n      <td>0</td>\n      <td>False.</td>\n    </tr>\n    <tr>\n      <td>6</td>\n      <td>MA</td>\n      <td>121</td>\n      <td>510</td>\n      <td>355-9993</td>\n      <td>no</td>\n      <td>yes</td>\n      <td>24</td>\n      <td>218.2</td>\n      <td>88</td>\n      <td>37.09</td>\n      <td>...</td>\n      <td>108</td>\n      <td>29.62</td>\n      <td>212.6</td>\n      <td>118</td>\n      <td>9.57</td>\n      <td>7.5</td>\n      <td>7</td>\n      <td>2.03</td>\n      <td>3</td>\n      <td>False.</td>\n    </tr>\n    <tr>\n      <td>7</td>\n      <td>MO</td>\n      <td>147</td>\n      <td>415</td>\n      <td>329-9001</td>\n      <td>yes</td>\n      <td>no</td>\n      <td>0</td>\n      <td>157.0</td>\n      <td>79</td>\n      <td>26.69</td>\n      <td>...</td>\n      <td>94</td>\n      <td>8.76</td>\n      <td>211.8</td>\n      <td>96</td>\n      <td>9.53</td>\n      <td>7.1</td>\n      <td>6</td>\n      <td>1.92</td>\n      <td>0</td>\n      <td>False.</td>\n    </tr>\n    <tr>\n      <td>8</td>\n      <td>LA</td>\n      <td>117</td>\n      <td>408</td>\n      <td>335-4719</td>\n      <td>no</td>\n      <td>no</td>\n      <td>0</td>\n      <td>184.5</td>\n      <td>97</td>\n      <td>31.37</td>\n      <td>...</td>\n      <td>80</td>\n      <td>29.89</td>\n      <td>215.8</td>\n      <td>90</td>\n      <td>9.71</td>\n      <td>8.7</td>\n      <td>4</td>\n      <td>2.35</td>\n      <td>1</td>\n      <td>False.</td>\n    </tr>\n    <tr>\n      <td>9</td>\n      <td>WV</td>\n      <td>141</td>\n      <td>415</td>\n      <td>330-8173</td>\n      <td>yes</td>\n      <td>yes</td>\n      <td>37</td>\n      <td>258.6</td>\n      <td>84</td>\n      <td>43.96</td>\n      <td>...</td>\n      <td>111</td>\n      <td>18.87</td>\n      <td>326.4</td>\n      <td>97</td>\n      <td>14.69</td>\n      <td>11.2</td>\n      <td>5</td>\n      <td>3.02</td>\n      <td>0</td>\n      <td>False.</td>\n    </tr>\n  </tbody>\n</table>\n<p>9 rows × 21 columns</p>\n</div>"
     },
     "metadata": {},
     "execution_count": 27
    }
   ],
   "source": [
    "data.iloc[:,3:6] ##Todas las filas para las columnas entre la 3 y la 6\n",
    "data.iloc[1:10,:] ##Totas las columnas para las filas de la 1 a la 10"
   ]
  },
  {
   "cell_type": "code",
   "execution_count": 28,
   "metadata": {},
   "outputs": [
    {
     "output_type": "execute_result",
     "data": {
      "text/plain": "   Area Code VMail Plan  Day Mins\n1        415        yes     161.6\n2        415         no     243.4\n3        408         no     299.4\n4        415         no     166.7\n5        510         no     223.4\n6        510        yes     218.2\n7        415         no     157.0\n8        408         no     184.5\n9        415        yes     258.6",
      "text/html": "<div>\n<style scoped>\n    .dataframe tbody tr th:only-of-type {\n        vertical-align: middle;\n    }\n\n    .dataframe tbody tr th {\n        vertical-align: top;\n    }\n\n    .dataframe thead th {\n        text-align: right;\n    }\n</style>\n<table border=\"1\" class=\"dataframe\">\n  <thead>\n    <tr style=\"text-align: right;\">\n      <th></th>\n      <th>Area Code</th>\n      <th>VMail Plan</th>\n      <th>Day Mins</th>\n    </tr>\n  </thead>\n  <tbody>\n    <tr>\n      <td>1</td>\n      <td>415</td>\n      <td>yes</td>\n      <td>161.6</td>\n    </tr>\n    <tr>\n      <td>2</td>\n      <td>415</td>\n      <td>no</td>\n      <td>243.4</td>\n    </tr>\n    <tr>\n      <td>3</td>\n      <td>408</td>\n      <td>no</td>\n      <td>299.4</td>\n    </tr>\n    <tr>\n      <td>4</td>\n      <td>415</td>\n      <td>no</td>\n      <td>166.7</td>\n    </tr>\n    <tr>\n      <td>5</td>\n      <td>510</td>\n      <td>no</td>\n      <td>223.4</td>\n    </tr>\n    <tr>\n      <td>6</td>\n      <td>510</td>\n      <td>yes</td>\n      <td>218.2</td>\n    </tr>\n    <tr>\n      <td>7</td>\n      <td>415</td>\n      <td>no</td>\n      <td>157.0</td>\n    </tr>\n    <tr>\n      <td>8</td>\n      <td>408</td>\n      <td>no</td>\n      <td>184.5</td>\n    </tr>\n    <tr>\n      <td>9</td>\n      <td>415</td>\n      <td>yes</td>\n      <td>258.6</td>\n    </tr>\n  </tbody>\n</table>\n</div>"
     },
     "metadata": {},
     "execution_count": 28
    }
   ],
   "source": [
    "data.iloc[1:10,[2,5,7]]"
   ]
  },
  {
   "cell_type": "code",
   "execution_count": 29,
   "metadata": {},
   "outputs": [
    {
     "output_type": "execute_result",
     "data": {
      "text/plain": "    Area Code VMail Plan  Day Mins\n1         415        yes     161.6\n5         510         no     223.4\n8         408         no     184.5\n36        408        yes     146.3",
      "text/html": "<div>\n<style scoped>\n    .dataframe tbody tr th:only-of-type {\n        vertical-align: middle;\n    }\n\n    .dataframe tbody tr th {\n        vertical-align: top;\n    }\n\n    .dataframe thead th {\n        text-align: right;\n    }\n</style>\n<table border=\"1\" class=\"dataframe\">\n  <thead>\n    <tr style=\"text-align: right;\">\n      <th></th>\n      <th>Area Code</th>\n      <th>VMail Plan</th>\n      <th>Day Mins</th>\n    </tr>\n  </thead>\n  <tbody>\n    <tr>\n      <td>1</td>\n      <td>415</td>\n      <td>yes</td>\n      <td>161.6</td>\n    </tr>\n    <tr>\n      <td>5</td>\n      <td>510</td>\n      <td>no</td>\n      <td>223.4</td>\n    </tr>\n    <tr>\n      <td>8</td>\n      <td>408</td>\n      <td>no</td>\n      <td>184.5</td>\n    </tr>\n    <tr>\n      <td>36</td>\n      <td>408</td>\n      <td>yes</td>\n      <td>146.3</td>\n    </tr>\n  </tbody>\n</table>\n</div>"
     },
     "metadata": {},
     "execution_count": 29
    }
   ],
   "source": [
    "data.iloc[[1,5,8,36],[2,5,7]]"
   ]
  },
  {
   "cell_type": "code",
   "execution_count": 30,
   "metadata": {},
   "outputs": [
    {
     "output_type": "execute_result",
     "data": {
      "text/plain": "    Area Code VMail Plan  Day Mins\n1         415        yes     161.6\n5         510         no     223.4\n9         415        yes     258.6\n36        408        yes     146.3",
      "text/html": "<div>\n<style scoped>\n    .dataframe tbody tr th:only-of-type {\n        vertical-align: middle;\n    }\n\n    .dataframe tbody tr th {\n        vertical-align: top;\n    }\n\n    .dataframe thead th {\n        text-align: right;\n    }\n</style>\n<table border=\"1\" class=\"dataframe\">\n  <thead>\n    <tr style=\"text-align: right;\">\n      <th></th>\n      <th>Area Code</th>\n      <th>VMail Plan</th>\n      <th>Day Mins</th>\n    </tr>\n  </thead>\n  <tbody>\n    <tr>\n      <td>1</td>\n      <td>415</td>\n      <td>yes</td>\n      <td>161.6</td>\n    </tr>\n    <tr>\n      <td>5</td>\n      <td>510</td>\n      <td>no</td>\n      <td>223.4</td>\n    </tr>\n    <tr>\n      <td>9</td>\n      <td>415</td>\n      <td>yes</td>\n      <td>258.6</td>\n    </tr>\n    <tr>\n      <td>36</td>\n      <td>408</td>\n      <td>yes</td>\n      <td>146.3</td>\n    </tr>\n  </tbody>\n</table>\n</div>"
     },
     "metadata": {},
     "execution_count": 30
    }
   ],
   "source": [
    "data.loc[[1,5,9,36],[\"Area Code\", \"VMail Plan\", \"Day Mins\"]]"
   ]
  },
  {
   "cell_type": "code",
   "execution_count": 31,
   "metadata": {},
   "outputs": [],
   "source": [
    "data[\"Total Mins\"] = data[\"Day Mins\"] + data[\"Night Mins\"] + data[\"Eve Mins\"]"
   ]
  },
  {
   "cell_type": "code",
   "execution_count": 32,
   "metadata": {},
   "outputs": [
    {
     "output_type": "execute_result",
     "data": {
      "text/plain": "0    707.2\n1    611.5\n2    527.2\n3    558.2\n4    501.9\nName: Total Mins, dtype: float64"
     },
     "metadata": {},
     "execution_count": 32
    }
   ],
   "source": [
    "data[\"Total Mins\"].head()"
   ]
  },
  {
   "cell_type": "code",
   "execution_count": 33,
   "metadata": {},
   "outputs": [],
   "source": [
    "data[\"Total Calls\"] = data[\"Day Calls\"] + data[\"Night Calls\"] + data[\"Eve Calls\"]"
   ]
  },
  {
   "cell_type": "code",
   "execution_count": 34,
   "metadata": {},
   "outputs": [
    {
     "output_type": "execute_result",
     "data": {
      "text/plain": "0    300\n1    329\n2    328\n3    248\n4    356\nName: Total Calls, dtype: int64"
     },
     "metadata": {},
     "execution_count": 34
    }
   ],
   "source": [
    "data[\"Total Calls\"].head()"
   ]
  },
  {
   "cell_type": "code",
   "execution_count": 35,
   "metadata": {},
   "outputs": [
    {
     "output_type": "execute_result",
     "data": {
      "text/plain": "(3333, 23)"
     },
     "metadata": {},
     "execution_count": 35
    }
   ],
   "source": [
    "data.shape"
   ]
  },
  {
   "cell_type": "code",
   "execution_count": 36,
   "metadata": {},
   "outputs": [
    {
     "output_type": "execute_result",
     "data": {
      "text/plain": "  State  Account Length  Area Code     Phone Int'l Plan VMail Plan  \\\n0    KS             128        415  382-4657         no        yes   \n1    OH             107        415  371-7191         no        yes   \n2    NJ             137        415  358-1921         no         no   \n3    OH              84        408  375-9999        yes         no   \n4    OK              75        415  330-6626        yes         no   \n\n   VMail Message  Day Mins  Day Calls  Day Charge  ...  Night Mins  \\\n0             25     265.1        110       45.07  ...       244.7   \n1             26     161.6        123       27.47  ...       254.4   \n2              0     243.4        114       41.38  ...       162.6   \n3              0     299.4         71       50.90  ...       196.9   \n4              0     166.7        113       28.34  ...       186.9   \n\n   Night Calls  Night Charge  Intl Mins  Intl Calls  Intl Charge  \\\n0           91         11.01       10.0           3         2.70   \n1          103         11.45       13.7           3         3.70   \n2          104          7.32       12.2           5         3.29   \n3           89          8.86        6.6           7         1.78   \n4          121          8.41       10.1           3         2.73   \n\n   CustServ Calls  Churn?  Total Mins  Total Calls  \n0               1  False.       707.2          300  \n1               1  False.       611.5          329  \n2               0  False.       527.2          328  \n3               2  False.       558.2          248  \n4               3  False.       501.9          356  \n\n[5 rows x 23 columns]",
      "text/html": "<div>\n<style scoped>\n    .dataframe tbody tr th:only-of-type {\n        vertical-align: middle;\n    }\n\n    .dataframe tbody tr th {\n        vertical-align: top;\n    }\n\n    .dataframe thead th {\n        text-align: right;\n    }\n</style>\n<table border=\"1\" class=\"dataframe\">\n  <thead>\n    <tr style=\"text-align: right;\">\n      <th></th>\n      <th>State</th>\n      <th>Account Length</th>\n      <th>Area Code</th>\n      <th>Phone</th>\n      <th>Int'l Plan</th>\n      <th>VMail Plan</th>\n      <th>VMail Message</th>\n      <th>Day Mins</th>\n      <th>Day Calls</th>\n      <th>Day Charge</th>\n      <th>...</th>\n      <th>Night Mins</th>\n      <th>Night Calls</th>\n      <th>Night Charge</th>\n      <th>Intl Mins</th>\n      <th>Intl Calls</th>\n      <th>Intl Charge</th>\n      <th>CustServ Calls</th>\n      <th>Churn?</th>\n      <th>Total Mins</th>\n      <th>Total Calls</th>\n    </tr>\n  </thead>\n  <tbody>\n    <tr>\n      <td>0</td>\n      <td>KS</td>\n      <td>128</td>\n      <td>415</td>\n      <td>382-4657</td>\n      <td>no</td>\n      <td>yes</td>\n      <td>25</td>\n      <td>265.1</td>\n      <td>110</td>\n      <td>45.07</td>\n      <td>...</td>\n      <td>244.7</td>\n      <td>91</td>\n      <td>11.01</td>\n      <td>10.0</td>\n      <td>3</td>\n      <td>2.70</td>\n      <td>1</td>\n      <td>False.</td>\n      <td>707.2</td>\n      <td>300</td>\n    </tr>\n    <tr>\n      <td>1</td>\n      <td>OH</td>\n      <td>107</td>\n      <td>415</td>\n      <td>371-7191</td>\n      <td>no</td>\n      <td>yes</td>\n      <td>26</td>\n      <td>161.6</td>\n      <td>123</td>\n      <td>27.47</td>\n      <td>...</td>\n      <td>254.4</td>\n      <td>103</td>\n      <td>11.45</td>\n      <td>13.7</td>\n      <td>3</td>\n      <td>3.70</td>\n      <td>1</td>\n      <td>False.</td>\n      <td>611.5</td>\n      <td>329</td>\n    </tr>\n    <tr>\n      <td>2</td>\n      <td>NJ</td>\n      <td>137</td>\n      <td>415</td>\n      <td>358-1921</td>\n      <td>no</td>\n      <td>no</td>\n      <td>0</td>\n      <td>243.4</td>\n      <td>114</td>\n      <td>41.38</td>\n      <td>...</td>\n      <td>162.6</td>\n      <td>104</td>\n      <td>7.32</td>\n      <td>12.2</td>\n      <td>5</td>\n      <td>3.29</td>\n      <td>0</td>\n      <td>False.</td>\n      <td>527.2</td>\n      <td>328</td>\n    </tr>\n    <tr>\n      <td>3</td>\n      <td>OH</td>\n      <td>84</td>\n      <td>408</td>\n      <td>375-9999</td>\n      <td>yes</td>\n      <td>no</td>\n      <td>0</td>\n      <td>299.4</td>\n      <td>71</td>\n      <td>50.90</td>\n      <td>...</td>\n      <td>196.9</td>\n      <td>89</td>\n      <td>8.86</td>\n      <td>6.6</td>\n      <td>7</td>\n      <td>1.78</td>\n      <td>2</td>\n      <td>False.</td>\n      <td>558.2</td>\n      <td>248</td>\n    </tr>\n    <tr>\n      <td>4</td>\n      <td>OK</td>\n      <td>75</td>\n      <td>415</td>\n      <td>330-6626</td>\n      <td>yes</td>\n      <td>no</td>\n      <td>0</td>\n      <td>166.7</td>\n      <td>113</td>\n      <td>28.34</td>\n      <td>...</td>\n      <td>186.9</td>\n      <td>121</td>\n      <td>8.41</td>\n      <td>10.1</td>\n      <td>3</td>\n      <td>2.73</td>\n      <td>3</td>\n      <td>False.</td>\n      <td>501.9</td>\n      <td>356</td>\n    </tr>\n  </tbody>\n</table>\n<p>5 rows × 23 columns</p>\n</div>"
     },
     "metadata": {},
     "execution_count": 36
    }
   ],
   "source": [
    "data.head()"
   ]
  },
  {
   "cell_type": "markdown",
   "metadata": {},
   "source": [
    "## Generación de números aleatorios"
   ]
  },
  {
   "cell_type": "code",
   "execution_count": 37,
   "metadata": {},
   "outputs": [],
   "source": [
    "import numpy as np"
   ]
  },
  {
   "cell_type": "code",
   "execution_count": 38,
   "metadata": {},
   "outputs": [
    {
     "output_type": "execute_result",
     "data": {
      "text/plain": "31"
     },
     "metadata": {},
     "execution_count": 38
    }
   ],
   "source": [
    "### Generar un número aleatorio entero entre 1 y 100\n",
    "np.random.randint(1,100)"
   ]
  },
  {
   "cell_type": "code",
   "execution_count": 39,
   "metadata": {},
   "outputs": [
    {
     "output_type": "execute_result",
     "data": {
      "text/plain": "0.5738206559642778"
     },
     "metadata": {},
     "execution_count": 39
    }
   ],
   "source": [
    "### La forma más clásica de generar un número aleatorio es entre 0 y 1 (con decimales)\n",
    "np.random.random()"
   ]
  },
  {
   "cell_type": "code",
   "execution_count": 40,
   "metadata": {},
   "outputs": [],
   "source": [
    "### Función que genera una lista de n números aleatorios enteros dentro del intervalo [a,b]\n",
    "def randint_list(n, a, b):\n",
    "    x = []\n",
    "    for i in range(n):\n",
    "        x.append(np.random.randint(a,b))\n",
    "    return x"
   ]
  },
  {
   "cell_type": "code",
   "execution_count": 41,
   "metadata": {},
   "outputs": [
    {
     "output_type": "execute_result",
     "data": {
      "text/plain": "[38,\n 4,\n 47,\n 33,\n 6,\n 9,\n 18,\n 13,\n 37,\n 41,\n 4,\n 49,\n 44,\n 49,\n 20,\n 43,\n 2,\n 33,\n 25,\n 21,\n 4,\n 42,\n 3,\n 22,\n 14]"
     },
     "metadata": {},
     "execution_count": 41
    }
   ],
   "source": [
    "randint_list(25,1,50)"
   ]
  },
  {
   "cell_type": "code",
   "execution_count": 42,
   "metadata": {},
   "outputs": [],
   "source": [
    "import random"
   ]
  },
  {
   "cell_type": "code",
   "execution_count": 43,
   "metadata": {},
   "outputs": [
    {
     "output_type": "execute_result",
     "data": {
      "text/plain": "70"
     },
     "metadata": {},
     "execution_count": 43
    }
   ],
   "source": [
    "random.randrange(0,100,7)"
   ]
  },
  {
   "cell_type": "code",
   "execution_count": 44,
   "metadata": {},
   "outputs": [
    {
     "output_type": "stream",
     "name": "stdout",
     "text": "63\n42\n28\n91\n98\n63\n7\n35\n70\n77\n"
    }
   ],
   "source": [
    "for i in range(10):\n",
    "    print(random.randrange(0,100,7))"
   ]
  },
  {
   "cell_type": "markdown",
   "metadata": {},
   "source": [
    "#### Shuffling"
   ]
  },
  {
   "cell_type": "code",
   "execution_count": 45,
   "metadata": {},
   "outputs": [
    {
     "output_type": "execute_result",
     "data": {
      "text/plain": "array([ 0,  1,  2,  3,  4,  5,  6,  7,  8,  9, 10, 11, 12, 13, 14, 15, 16,\n       17, 18, 19, 20, 21, 22, 23, 24, 25, 26, 27, 28, 29, 30, 31, 32, 33,\n       34, 35, 36, 37, 38, 39, 40, 41, 42, 43, 44, 45, 46, 47, 48, 49, 50,\n       51, 52, 53, 54, 55, 56, 57, 58, 59, 60, 61, 62, 63, 64, 65, 66, 67,\n       68, 69, 70, 71, 72, 73, 74, 75, 76, 77, 78, 79, 80, 81, 82, 83, 84,\n       85, 86, 87, 88, 89, 90, 91, 92, 93, 94, 95, 96, 97, 98, 99])"
     },
     "metadata": {},
     "execution_count": 45
    }
   ],
   "source": [
    "a = np.arange(100)\n",
    "a"
   ]
  },
  {
   "cell_type": "code",
   "execution_count": 46,
   "metadata": {},
   "outputs": [
    {
     "output_type": "execute_result",
     "data": {
      "text/plain": "array([70, 85,  6, 38, 51, 32, 18, 75, 88, 31, 37, 86, 60, 43, 40, 26, 30,\n       89, 22, 21, 27,  2, 72, 17, 99, 16,  4, 79, 25, 96, 98, 44, 71,  3,\n       95, 20, 12, 94, 91, 57, 46, 80, 53, 73, 15, 42, 14, 84, 56, 10, 58,\n        7, 97, 36, 28,  5, 83, 69, 33, 93, 87, 35, 76, 50,  1, 90,  8, 19,\n       11, 39, 54, 62, 47,  0, 74, 41, 92, 24, 23, 13, 55, 34, 67, 66, 61,\n       49,  9, 29, 65, 59, 77, 78, 52, 81, 68, 45, 48, 64, 63, 82])"
     },
     "metadata": {},
     "execution_count": 46
    }
   ],
   "source": [
    "np.random.shuffle(a)\n",
    "a"
   ]
  },
  {
   "cell_type": "markdown",
   "metadata": {},
   "source": [
    "#### Choice"
   ]
  },
  {
   "cell_type": "code",
   "execution_count": 47,
   "metadata": {},
   "outputs": [
    {
     "output_type": "execute_result",
     "data": {
      "text/plain": "  State  Account Length  Area Code     Phone Int'l Plan VMail Plan  \\\n0    KS             128        415  382-4657         no        yes   \n1    OH             107        415  371-7191         no        yes   \n2    NJ             137        415  358-1921         no         no   \n3    OH              84        408  375-9999        yes         no   \n4    OK              75        415  330-6626        yes         no   \n\n   VMail Message  Day Mins  Day Calls  Day Charge  ...  Night Mins  \\\n0             25     265.1        110       45.07  ...       244.7   \n1             26     161.6        123       27.47  ...       254.4   \n2              0     243.4        114       41.38  ...       162.6   \n3              0     299.4         71       50.90  ...       196.9   \n4              0     166.7        113       28.34  ...       186.9   \n\n   Night Calls  Night Charge  Intl Mins  Intl Calls  Intl Charge  \\\n0           91         11.01       10.0           3         2.70   \n1          103         11.45       13.7           3         3.70   \n2          104          7.32       12.2           5         3.29   \n3           89          8.86        6.6           7         1.78   \n4          121          8.41       10.1           3         2.73   \n\n   CustServ Calls  Churn?  Total Mins  Total Calls  \n0               1  False.       707.2          300  \n1               1  False.       611.5          329  \n2               0  False.       527.2          328  \n3               2  False.       558.2          248  \n4               3  False.       501.9          356  \n\n[5 rows x 23 columns]",
      "text/html": "<div>\n<style scoped>\n    .dataframe tbody tr th:only-of-type {\n        vertical-align: middle;\n    }\n\n    .dataframe tbody tr th {\n        vertical-align: top;\n    }\n\n    .dataframe thead th {\n        text-align: right;\n    }\n</style>\n<table border=\"1\" class=\"dataframe\">\n  <thead>\n    <tr style=\"text-align: right;\">\n      <th></th>\n      <th>State</th>\n      <th>Account Length</th>\n      <th>Area Code</th>\n      <th>Phone</th>\n      <th>Int'l Plan</th>\n      <th>VMail Plan</th>\n      <th>VMail Message</th>\n      <th>Day Mins</th>\n      <th>Day Calls</th>\n      <th>Day Charge</th>\n      <th>...</th>\n      <th>Night Mins</th>\n      <th>Night Calls</th>\n      <th>Night Charge</th>\n      <th>Intl Mins</th>\n      <th>Intl Calls</th>\n      <th>Intl Charge</th>\n      <th>CustServ Calls</th>\n      <th>Churn?</th>\n      <th>Total Mins</th>\n      <th>Total Calls</th>\n    </tr>\n  </thead>\n  <tbody>\n    <tr>\n      <td>0</td>\n      <td>KS</td>\n      <td>128</td>\n      <td>415</td>\n      <td>382-4657</td>\n      <td>no</td>\n      <td>yes</td>\n      <td>25</td>\n      <td>265.1</td>\n      <td>110</td>\n      <td>45.07</td>\n      <td>...</td>\n      <td>244.7</td>\n      <td>91</td>\n      <td>11.01</td>\n      <td>10.0</td>\n      <td>3</td>\n      <td>2.70</td>\n      <td>1</td>\n      <td>False.</td>\n      <td>707.2</td>\n      <td>300</td>\n    </tr>\n    <tr>\n      <td>1</td>\n      <td>OH</td>\n      <td>107</td>\n      <td>415</td>\n      <td>371-7191</td>\n      <td>no</td>\n      <td>yes</td>\n      <td>26</td>\n      <td>161.6</td>\n      <td>123</td>\n      <td>27.47</td>\n      <td>...</td>\n      <td>254.4</td>\n      <td>103</td>\n      <td>11.45</td>\n      <td>13.7</td>\n      <td>3</td>\n      <td>3.70</td>\n      <td>1</td>\n      <td>False.</td>\n      <td>611.5</td>\n      <td>329</td>\n    </tr>\n    <tr>\n      <td>2</td>\n      <td>NJ</td>\n      <td>137</td>\n      <td>415</td>\n      <td>358-1921</td>\n      <td>no</td>\n      <td>no</td>\n      <td>0</td>\n      <td>243.4</td>\n      <td>114</td>\n      <td>41.38</td>\n      <td>...</td>\n      <td>162.6</td>\n      <td>104</td>\n      <td>7.32</td>\n      <td>12.2</td>\n      <td>5</td>\n      <td>3.29</td>\n      <td>0</td>\n      <td>False.</td>\n      <td>527.2</td>\n      <td>328</td>\n    </tr>\n    <tr>\n      <td>3</td>\n      <td>OH</td>\n      <td>84</td>\n      <td>408</td>\n      <td>375-9999</td>\n      <td>yes</td>\n      <td>no</td>\n      <td>0</td>\n      <td>299.4</td>\n      <td>71</td>\n      <td>50.90</td>\n      <td>...</td>\n      <td>196.9</td>\n      <td>89</td>\n      <td>8.86</td>\n      <td>6.6</td>\n      <td>7</td>\n      <td>1.78</td>\n      <td>2</td>\n      <td>False.</td>\n      <td>558.2</td>\n      <td>248</td>\n    </tr>\n    <tr>\n      <td>4</td>\n      <td>OK</td>\n      <td>75</td>\n      <td>415</td>\n      <td>330-6626</td>\n      <td>yes</td>\n      <td>no</td>\n      <td>0</td>\n      <td>166.7</td>\n      <td>113</td>\n      <td>28.34</td>\n      <td>...</td>\n      <td>186.9</td>\n      <td>121</td>\n      <td>8.41</td>\n      <td>10.1</td>\n      <td>3</td>\n      <td>2.73</td>\n      <td>3</td>\n      <td>False.</td>\n      <td>501.9</td>\n      <td>356</td>\n    </tr>\n  </tbody>\n</table>\n<p>5 rows × 23 columns</p>\n</div>"
     },
     "metadata": {},
     "execution_count": 47
    }
   ],
   "source": [
    "data.head()"
   ]
  },
  {
   "cell_type": "code",
   "execution_count": 48,
   "metadata": {},
   "outputs": [
    {
     "output_type": "execute_result",
     "data": {
      "text/plain": "(3333, 23)"
     },
     "metadata": {},
     "execution_count": 48
    }
   ],
   "source": [
    "data.shape"
   ]
  },
  {
   "cell_type": "code",
   "execution_count": 49,
   "metadata": {},
   "outputs": [
    {
     "output_type": "execute_result",
     "data": {
      "text/plain": "['State',\n 'Account Length',\n 'Area Code',\n 'Phone',\n \"Int'l Plan\",\n 'VMail Plan',\n 'VMail Message',\n 'Day Mins',\n 'Day Calls',\n 'Day Charge',\n 'Eve Mins',\n 'Eve Calls',\n 'Eve Charge',\n 'Night Mins',\n 'Night Calls',\n 'Night Charge',\n 'Intl Mins',\n 'Intl Calls',\n 'Intl Charge',\n 'CustServ Calls',\n 'Churn?',\n 'Total Mins',\n 'Total Calls']"
     },
     "metadata": {},
     "execution_count": 49
    }
   ],
   "source": [
    "column_list = data.columns.values.tolist()\n",
    "column_list"
   ]
  },
  {
   "cell_type": "code",
   "execution_count": 53,
   "metadata": {},
   "outputs": [
    {
     "output_type": "execute_result",
     "data": {
      "text/plain": "'Account Length'"
     },
     "metadata": {},
     "execution_count": 53
    }
   ],
   "source": [
    "np.random.choice(column_list)"
   ]
  },
  {
   "cell_type": "markdown",
   "metadata": {},
   "source": [
    "## Seed"
   ]
  },
  {
   "cell_type": "code",
   "execution_count": 70,
   "metadata": {},
   "outputs": [
    {
     "output_type": "stream",
     "name": "stdout",
     "text": "0.8823493117539459\n0.10432773786047767\n0.9070093335163405\n0.3063988986063515\n0.446408872427422\n"
    }
   ],
   "source": [
    "np.random.seed(2018)\n",
    "for i in range(5):\n",
    "    print(np.random.random())"
   ]
  },
  {
   "cell_type": "code",
   "execution_count": null,
   "metadata": {},
   "outputs": [],
   "source": []
  }
 ],
 "metadata": {
  "language_info": {
   "name": "python",
   "codemirror_mode": {
    "name": "ipython",
    "version": 3
   },
   "version": "3.7.4-final"
  },
  "orig_nbformat": 2,
  "file_extension": ".py",
  "mimetype": "text/x-python",
  "name": "python",
  "npconvert_exporter": "python",
  "pygments_lexer": "ipython3",
  "version": 3,
  "kernelspec": {
   "name": "python37464bitbasecondaf3fc408d9ea24502888acf57a6862a45",
   "display_name": "Python 3.7.4 64-bit ('base': conda)"
  }
 },
 "nbformat": 4,
 "nbformat_minor": 2
}